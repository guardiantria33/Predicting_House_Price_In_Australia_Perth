{
 "cells": [
  {
   "cell_type": "markdown",
   "metadata": {},
   "source": [
    "# 1. Perkenalan"
   ]
  },
  {
   "cell_type": "markdown",
   "metadata": {},
   "source": [
    "> Bab pengenalan diisi dengan identitas, gambaran besar dataset yang digunakan, dan objective yang ingin dicapai"
   ]
  },
  {
   "cell_type": "markdown",
   "metadata": {},
   "source": [
    "---\n",
    "`Nama` : Guardian Tri Anggoro\n",
    "\n",
    "`Batch` : 024-RMT\n",
    "\n",
    "`Dataset` : House Pricing Perth\n",
    "\n",
    "`Tujuan` : Tujuan utama proyek ini adalah mengembangkan model prediksi harga rumah yang dapat memberikan estimasi yang akurat berdasarkan berbagai fitur dan faktor yang memengaruhi harga properti. Dengan menggunakan model regression seperti linear reggresion, knn regressor, SVR (Support Vector Reggresor), DecisionTree Regressor, RandomForest Regressor, AdaBoost Regressor, Linear Regression,SGD Regressor\n",
    "\n",
    "---\n",
    "Latar Belakang :\n",
    "\n",
    "Dalam beberapa tahun terakhir, pasar properti telah menjadi salah satu sektor ekonomi yang paling dinamis. Permintaan akan rumah terus meningkat, sementara faktor-faktor seperti lokasi, fasilitas, dan kondisi pasar dapat mempengaruhi harga properti secara signifikan. Oleh karena itu, kemampuan untuk secara akurat memprediksi harga rumah menjadi krusial bagi pembeli, penjual, dan pemegang kepentingan lainnya di pasar properti.\n",
    "\n",
    "---\n",
    "Problem Statement : \n",
    "\n",
    "Perusahaan real estate AAA memiliki sejumlah properti di pasar yang berkembang pesat. Dalam upaya untuk meningkatkan efisiensi penjualan dan memberikan pengalaman yang lebih baik kepada pelanggan, perusahaan ingin mengembangkan model prediksi harga rumah. Model ini diharapkan dapat membantu agen real estate dan pembeli untuk mendapatkan perkiraan harga yang akurat dan realistis."
   ]
  },
  {
   "cell_type": "markdown",
   "metadata": {},
   "source": [
    "# 2. Import Libaries"
   ]
  },
  {
   "cell_type": "markdown",
   "metadata": {},
   "source": [
    "> Cell pertama pada notebook harus berisi dan hanya berisi semua library yang digunakan dalam project."
   ]
  },
  {
   "cell_type": "code",
   "execution_count": 1,
   "metadata": {},
   "outputs": [],
   "source": [
    "import pandas as pd\n",
    "import pandas as pd\n",
    "import numpy as np\n",
    "import seaborn as sns\n",
    "import matplotlib.pyplot as plt\n",
    "from scipy import stats\n",
    "from scipy.stats import kendalltau\n",
    "import pickle\n",
    "import plotly.express  as px \n",
    "import pickle\n",
    "\n",
    "from sklearn.model_selection import train_test_split\n",
    "from feature_engine.outliers import Winsorizer\n",
    "from scipy.stats import spearmanr\n",
    "from scipy.stats import chi2_contingency\n",
    "from sklearn.preprocessing import MinMaxScaler\n",
    "from statsmodels.stats.outliers_influence import variance_inflation_factor\n",
    "from sklearn.pipeline import Pipeline\n",
    "from sklearn.compose import ColumnTransformer\n",
    "\n",
    "from sklearn.neighbors import KNeighborsRegressor\n",
    "from sklearn.svm import SVR\n",
    "from sklearn.ensemble import  AdaBoostRegressor, RandomForestRegressor\n",
    "from sklearn.tree import DecisionTreeRegressor\n",
    "from sklearn.linear_model import LinearRegression\n",
    "\n",
    "\n",
    "from sklearn.model_selection import cross_validate\n",
    "from sklearn.model_selection import KFold\n",
    "from sklearn.model_selection import RandomizedSearchCV, GridSearchCV\n",
    "from sklearn.metrics import make_scorer, mean_absolute_error, mean_squared_error, mean_squared_log_error, r2_score, mean_absolute_percentage_error\n",
    "\n",
    "from sklearn.svm import SVC\n",
    "\n",
    "from sklearn.metrics import classification_report, confusion_matrix, ConfusionMatrixDisplay, f1_score, accuracy_score, precision_score, recall_score\n",
    "from sklearn.model_selection import cross_val_score\n",
    "\n",
    "from sklearn.linear_model import SGDRegressor\n",
    "from sklearn.datasets import make_regression\n",
    "from sklearn.metrics import mean_squared_error\n"
   ]
  },
  {
   "cell_type": "markdown",
   "metadata": {},
   "source": [
    "# 3. Data Loading"
   ]
  },
  {
   "cell_type": "markdown",
   "metadata": {},
   "source": [
    "> Bagian ini berisi proses penyiapan data sebelum dilakukan eksplorasi data lebih lanjut. Proses Data Loading dapat berupa memberi nama baru untuk setiap kolom, mengecek ukuran dataset, dll."
   ]
  },
  {
   "cell_type": "markdown",
   "metadata": {},
   "source": [
    "## Dataset Information"
   ]
  },
  {
   "cell_type": "markdown",
   "metadata": {},
   "source": [
    "***Dataset Information***\n",
    "\n",
    "- 'ADDRESS': menunjukkan alamat rumah di daerah perth.\n",
    "\n",
    "- 'SUBURB': Menunjukkan nama daerah pada pinggir kota.\n",
    "\n",
    "- 'PRICE': Menunjukkan harga rumah pada saat terakhir di beli.\n",
    "\n",
    "- 'BEDROOMS': Menunjukkan jumlah kamar dalam rumah.\n",
    "\n",
    "- 'BATHROOMS': Menunjukkan jumlah kamar mandi dalam rumah.\n",
    "\n",
    "- 'GARAGE': Menunjukkan jumlah garasi dalam rumah.\n",
    "\n",
    "- 'LAND_AREA': Menunjukkan Luas tanah dalam meter persegi.\n",
    "\n",
    "- 'FLOOR_AREA': menunjukkan Luas lantai dalam meter persegi.\n",
    "\n",
    "- 'BUILD_YEAR': menunjukkan Tahun rumah itu dibangun\n",
    "\n",
    "- 'CBD_DIST': Menunjukkan Jarak ke Kawasan Pusat Bisnis\n",
    "\n",
    "- 'NEAREST_STN': Menunjukkan Stasiun kereta terdekat.\n",
    "\n",
    "- 'NEAREST_STN_DIST\t': Menunjukkan Jarak ke stasiun kereta terdekat.\n",
    "\n",
    "- 'DATE_SOLD': Menunjukkan Tanggal properti terakhir dijual.\n",
    "\n",
    "- 'POSTCODE': Menunjukkan Kode pos rumah.\n",
    "\n",
    "- 'LATITUDE\t' : Lintang alamat \n",
    "\n",
    "- 'LONGITUDE' : Bujur alamat\n",
    "\n",
    "- 'NEAREST_SCH' : Menunjukkan Sekolah terdekat \n",
    "\n",
    "- 'NEAREST_SCH_DIST': Menunjukkan jarak Sekolah terderkat\n",
    "\n",
    "- 'NEAREST_SCH_RANK' : Menunjukkan ranking sekolah\n",
    "\n",
    "- Sumber Dataset : https://www.kaggle.com/datasets/syuzai/perth-house-prices"
   ]
  },
  {
   "cell_type": "code",
   "execution_count": 2,
   "metadata": {},
   "outputs": [
    {
     "data": {
      "text/html": [
       "<div>\n",
       "<style scoped>\n",
       "    .dataframe tbody tr th:only-of-type {\n",
       "        vertical-align: middle;\n",
       "    }\n",
       "\n",
       "    .dataframe tbody tr th {\n",
       "        vertical-align: top;\n",
       "    }\n",
       "\n",
       "    .dataframe thead th {\n",
       "        text-align: right;\n",
       "    }\n",
       "</style>\n",
       "<table border=\"1\" class=\"dataframe\">\n",
       "  <thead>\n",
       "    <tr style=\"text-align: right;\">\n",
       "      <th></th>\n",
       "      <th>ADDRESS</th>\n",
       "      <th>SUBURB</th>\n",
       "      <th>PRICE</th>\n",
       "      <th>BEDROOMS</th>\n",
       "      <th>BATHROOMS</th>\n",
       "      <th>GARAGE</th>\n",
       "      <th>LAND_AREA</th>\n",
       "      <th>FLOOR_AREA</th>\n",
       "      <th>BUILD_YEAR</th>\n",
       "      <th>CBD_DIST</th>\n",
       "      <th>NEAREST_STN</th>\n",
       "      <th>NEAREST_STN_DIST</th>\n",
       "      <th>DATE_SOLD</th>\n",
       "      <th>POSTCODE</th>\n",
       "      <th>LATITUDE</th>\n",
       "      <th>LONGITUDE</th>\n",
       "      <th>NEAREST_SCH</th>\n",
       "      <th>NEAREST_SCH_DIST</th>\n",
       "      <th>NEAREST_SCH_RANK</th>\n",
       "    </tr>\n",
       "  </thead>\n",
       "  <tbody>\n",
       "    <tr>\n",
       "      <th>0</th>\n",
       "      <td>1 Acorn Place</td>\n",
       "      <td>South Lake</td>\n",
       "      <td>565000</td>\n",
       "      <td>4</td>\n",
       "      <td>2</td>\n",
       "      <td>2.0</td>\n",
       "      <td>600</td>\n",
       "      <td>160</td>\n",
       "      <td>2003.0</td>\n",
       "      <td>18300</td>\n",
       "      <td>Cockburn Central Station</td>\n",
       "      <td>1800</td>\n",
       "      <td>09-2018\\r</td>\n",
       "      <td>6164</td>\n",
       "      <td>-32.115900</td>\n",
       "      <td>115.842450</td>\n",
       "      <td>LAKELAND SENIOR HIGH SCHOOL</td>\n",
       "      <td>0.828339</td>\n",
       "      <td>NaN</td>\n",
       "    </tr>\n",
       "    <tr>\n",
       "      <th>1</th>\n",
       "      <td>1 Addis Way</td>\n",
       "      <td>Wandi</td>\n",
       "      <td>365000</td>\n",
       "      <td>3</td>\n",
       "      <td>2</td>\n",
       "      <td>2.0</td>\n",
       "      <td>351</td>\n",
       "      <td>139</td>\n",
       "      <td>2013.0</td>\n",
       "      <td>26900</td>\n",
       "      <td>Kwinana Station</td>\n",
       "      <td>4900</td>\n",
       "      <td>02-2019\\r</td>\n",
       "      <td>6167</td>\n",
       "      <td>-32.193470</td>\n",
       "      <td>115.859554</td>\n",
       "      <td>ATWELL COLLEGE</td>\n",
       "      <td>5.524324</td>\n",
       "      <td>129.0</td>\n",
       "    </tr>\n",
       "    <tr>\n",
       "      <th>2</th>\n",
       "      <td>1 Ainsley Court</td>\n",
       "      <td>Camillo</td>\n",
       "      <td>287000</td>\n",
       "      <td>3</td>\n",
       "      <td>1</td>\n",
       "      <td>1.0</td>\n",
       "      <td>719</td>\n",
       "      <td>86</td>\n",
       "      <td>1979.0</td>\n",
       "      <td>22600</td>\n",
       "      <td>Challis Station</td>\n",
       "      <td>1900</td>\n",
       "      <td>06-2015\\r</td>\n",
       "      <td>6111</td>\n",
       "      <td>-32.120578</td>\n",
       "      <td>115.993579</td>\n",
       "      <td>KELMSCOTT SENIOR HIGH SCHOOL</td>\n",
       "      <td>1.649178</td>\n",
       "      <td>113.0</td>\n",
       "    </tr>\n",
       "    <tr>\n",
       "      <th>3</th>\n",
       "      <td>1 Albert Street</td>\n",
       "      <td>Bellevue</td>\n",
       "      <td>255000</td>\n",
       "      <td>2</td>\n",
       "      <td>1</td>\n",
       "      <td>2.0</td>\n",
       "      <td>651</td>\n",
       "      <td>59</td>\n",
       "      <td>1953.0</td>\n",
       "      <td>17900</td>\n",
       "      <td>Midland Station</td>\n",
       "      <td>3600</td>\n",
       "      <td>07-2018\\r</td>\n",
       "      <td>6056</td>\n",
       "      <td>-31.900547</td>\n",
       "      <td>116.038009</td>\n",
       "      <td>SWAN VIEW SENIOR HIGH SCHOOL</td>\n",
       "      <td>1.571401</td>\n",
       "      <td>NaN</td>\n",
       "    </tr>\n",
       "    <tr>\n",
       "      <th>4</th>\n",
       "      <td>1 Aman Place</td>\n",
       "      <td>Lockridge</td>\n",
       "      <td>325000</td>\n",
       "      <td>4</td>\n",
       "      <td>1</td>\n",
       "      <td>2.0</td>\n",
       "      <td>466</td>\n",
       "      <td>131</td>\n",
       "      <td>1998.0</td>\n",
       "      <td>11200</td>\n",
       "      <td>Bassendean Station</td>\n",
       "      <td>2000</td>\n",
       "      <td>11-2016\\r</td>\n",
       "      <td>6054</td>\n",
       "      <td>-31.885790</td>\n",
       "      <td>115.947780</td>\n",
       "      <td>KIARA COLLEGE</td>\n",
       "      <td>1.514922</td>\n",
       "      <td>NaN</td>\n",
       "    </tr>\n",
       "    <tr>\n",
       "      <th>5</th>\n",
       "      <td>1 Amethyst Crescent</td>\n",
       "      <td>Mount Richon</td>\n",
       "      <td>409000</td>\n",
       "      <td>4</td>\n",
       "      <td>2</td>\n",
       "      <td>1.0</td>\n",
       "      <td>759</td>\n",
       "      <td>118</td>\n",
       "      <td>1991.0</td>\n",
       "      <td>27300</td>\n",
       "      <td>Armadale Station</td>\n",
       "      <td>1000</td>\n",
       "      <td>03-2013\\r</td>\n",
       "      <td>6112</td>\n",
       "      <td>-32.153801</td>\n",
       "      <td>116.023658</td>\n",
       "      <td>ARMADALE SENIOR HIGH SCHOOL</td>\n",
       "      <td>1.227219</td>\n",
       "      <td>NaN</td>\n",
       "    </tr>\n",
       "    <tr>\n",
       "      <th>6</th>\n",
       "      <td>1 Ardara Lane</td>\n",
       "      <td>Hilbert</td>\n",
       "      <td>400000</td>\n",
       "      <td>3</td>\n",
       "      <td>2</td>\n",
       "      <td>2.0</td>\n",
       "      <td>386</td>\n",
       "      <td>132</td>\n",
       "      <td>2014.0</td>\n",
       "      <td>28200</td>\n",
       "      <td>Armadale Station</td>\n",
       "      <td>3700</td>\n",
       "      <td>05-2016\\r</td>\n",
       "      <td>6112</td>\n",
       "      <td>-32.179978</td>\n",
       "      <td>115.988647</td>\n",
       "      <td>DALE CHRISTIAN SCHOOL</td>\n",
       "      <td>2.485731</td>\n",
       "      <td>NaN</td>\n",
       "    </tr>\n",
       "    <tr>\n",
       "      <th>7</th>\n",
       "      <td>1 Arnside Bend</td>\n",
       "      <td>Waikiki</td>\n",
       "      <td>370000</td>\n",
       "      <td>4</td>\n",
       "      <td>2</td>\n",
       "      <td>2.0</td>\n",
       "      <td>468</td>\n",
       "      <td>158</td>\n",
       "      <td>2013.0</td>\n",
       "      <td>41700</td>\n",
       "      <td>Warnbro Station</td>\n",
       "      <td>1100</td>\n",
       "      <td>03-2019\\r</td>\n",
       "      <td>6169</td>\n",
       "      <td>-32.317662</td>\n",
       "      <td>115.761968</td>\n",
       "      <td>SOUTH COAST BAPTIST COLLEGE</td>\n",
       "      <td>0.491573</td>\n",
       "      <td>NaN</td>\n",
       "    </tr>\n",
       "    <tr>\n",
       "      <th>8</th>\n",
       "      <td>1 Arrochar Court</td>\n",
       "      <td>Hamersley</td>\n",
       "      <td>565000</td>\n",
       "      <td>4</td>\n",
       "      <td>2</td>\n",
       "      <td>3.0</td>\n",
       "      <td>875</td>\n",
       "      <td>168</td>\n",
       "      <td>1983.0</td>\n",
       "      <td>12100</td>\n",
       "      <td>Warwick Station</td>\n",
       "      <td>2500</td>\n",
       "      <td>06-2020\\r</td>\n",
       "      <td>6022</td>\n",
       "      <td>-31.847760</td>\n",
       "      <td>115.822700</td>\n",
       "      <td>WARWICK SENIOR HIGH SCHOOL</td>\n",
       "      <td>1.221928</td>\n",
       "      <td>NaN</td>\n",
       "    </tr>\n",
       "    <tr>\n",
       "      <th>9</th>\n",
       "      <td>1 Arundel Street</td>\n",
       "      <td>Bayswater</td>\n",
       "      <td>685000</td>\n",
       "      <td>3</td>\n",
       "      <td>2</td>\n",
       "      <td>8.0</td>\n",
       "      <td>552</td>\n",
       "      <td>126</td>\n",
       "      <td>1999.0</td>\n",
       "      <td>5900</td>\n",
       "      <td>Bayswater Station</td>\n",
       "      <td>508</td>\n",
       "      <td>10-2019\\r</td>\n",
       "      <td>6053</td>\n",
       "      <td>-31.917880</td>\n",
       "      <td>115.907050</td>\n",
       "      <td>CHISHOLM CATHOLIC COLLEGE</td>\n",
       "      <td>0.936243</td>\n",
       "      <td>29.0</td>\n",
       "    </tr>\n",
       "  </tbody>\n",
       "</table>\n",
       "</div>"
      ],
      "text/plain": [
       "               ADDRESS        SUBURB   PRICE  BEDROOMS  BATHROOMS  GARAGE  \\\n",
       "0        1 Acorn Place    South Lake  565000         4          2     2.0   \n",
       "1          1 Addis Way         Wandi  365000         3          2     2.0   \n",
       "2      1 Ainsley Court       Camillo  287000         3          1     1.0   \n",
       "3      1 Albert Street      Bellevue  255000         2          1     2.0   \n",
       "4         1 Aman Place     Lockridge  325000         4          1     2.0   \n",
       "5  1 Amethyst Crescent  Mount Richon  409000         4          2     1.0   \n",
       "6        1 Ardara Lane       Hilbert  400000         3          2     2.0   \n",
       "7       1 Arnside Bend       Waikiki  370000         4          2     2.0   \n",
       "8     1 Arrochar Court     Hamersley  565000         4          2     3.0   \n",
       "9     1 Arundel Street     Bayswater  685000         3          2     8.0   \n",
       "\n",
       "   LAND_AREA  FLOOR_AREA  BUILD_YEAR  CBD_DIST               NEAREST_STN  \\\n",
       "0        600         160      2003.0     18300  Cockburn Central Station   \n",
       "1        351         139      2013.0     26900           Kwinana Station   \n",
       "2        719          86      1979.0     22600           Challis Station   \n",
       "3        651          59      1953.0     17900           Midland Station   \n",
       "4        466         131      1998.0     11200        Bassendean Station   \n",
       "5        759         118      1991.0     27300          Armadale Station   \n",
       "6        386         132      2014.0     28200          Armadale Station   \n",
       "7        468         158      2013.0     41700           Warnbro Station   \n",
       "8        875         168      1983.0     12100           Warwick Station   \n",
       "9        552         126      1999.0      5900         Bayswater Station   \n",
       "\n",
       "   NEAREST_STN_DIST  DATE_SOLD  POSTCODE   LATITUDE   LONGITUDE  \\\n",
       "0              1800  09-2018\\r      6164 -32.115900  115.842450   \n",
       "1              4900  02-2019\\r      6167 -32.193470  115.859554   \n",
       "2              1900  06-2015\\r      6111 -32.120578  115.993579   \n",
       "3              3600  07-2018\\r      6056 -31.900547  116.038009   \n",
       "4              2000  11-2016\\r      6054 -31.885790  115.947780   \n",
       "5              1000  03-2013\\r      6112 -32.153801  116.023658   \n",
       "6              3700  05-2016\\r      6112 -32.179978  115.988647   \n",
       "7              1100  03-2019\\r      6169 -32.317662  115.761968   \n",
       "8              2500  06-2020\\r      6022 -31.847760  115.822700   \n",
       "9               508  10-2019\\r      6053 -31.917880  115.907050   \n",
       "\n",
       "                    NEAREST_SCH  NEAREST_SCH_DIST  NEAREST_SCH_RANK  \n",
       "0   LAKELAND SENIOR HIGH SCHOOL          0.828339               NaN  \n",
       "1                ATWELL COLLEGE          5.524324             129.0  \n",
       "2  KELMSCOTT SENIOR HIGH SCHOOL          1.649178             113.0  \n",
       "3  SWAN VIEW SENIOR HIGH SCHOOL          1.571401               NaN  \n",
       "4                 KIARA COLLEGE          1.514922               NaN  \n",
       "5   ARMADALE SENIOR HIGH SCHOOL          1.227219               NaN  \n",
       "6         DALE CHRISTIAN SCHOOL          2.485731               NaN  \n",
       "7   SOUTH COAST BAPTIST COLLEGE          0.491573               NaN  \n",
       "8    WARWICK SENIOR HIGH SCHOOL          1.221928               NaN  \n",
       "9     CHISHOLM CATHOLIC COLLEGE          0.936243              29.0  "
      ]
     },
     "execution_count": 2,
     "metadata": {},
     "output_type": "execute_result"
    }
   ],
   "source": [
    "# Load Dataset\n",
    "data = pd.read_csv('all_perth_310121.csv')\n",
    "\n",
    "# Duplicate Data\n",
    "dataduplicate = data.copy()\n",
    "\n",
    "# Menampilkan 10 data awal\n",
    "data.head(10)"
   ]
  },
  {
   "cell_type": "code",
   "execution_count": 3,
   "metadata": {},
   "outputs": [
    {
     "data": {
      "text/html": [
       "<div>\n",
       "<style scoped>\n",
       "    .dataframe tbody tr th:only-of-type {\n",
       "        vertical-align: middle;\n",
       "    }\n",
       "\n",
       "    .dataframe tbody tr th {\n",
       "        vertical-align: top;\n",
       "    }\n",
       "\n",
       "    .dataframe thead th {\n",
       "        text-align: right;\n",
       "    }\n",
       "</style>\n",
       "<table border=\"1\" class=\"dataframe\">\n",
       "  <thead>\n",
       "    <tr style=\"text-align: right;\">\n",
       "      <th></th>\n",
       "      <th>ADDRESS</th>\n",
       "      <th>SUBURB</th>\n",
       "      <th>PRICE</th>\n",
       "      <th>BEDROOMS</th>\n",
       "      <th>BATHROOMS</th>\n",
       "      <th>GARAGE</th>\n",
       "      <th>LAND_AREA</th>\n",
       "      <th>FLOOR_AREA</th>\n",
       "      <th>BUILD_YEAR</th>\n",
       "      <th>CBD_DIST</th>\n",
       "      <th>NEAREST_STN</th>\n",
       "      <th>NEAREST_STN_DIST</th>\n",
       "      <th>DATE_SOLD</th>\n",
       "      <th>POSTCODE</th>\n",
       "      <th>LATITUDE</th>\n",
       "      <th>LONGITUDE</th>\n",
       "      <th>NEAREST_SCH</th>\n",
       "      <th>NEAREST_SCH_DIST</th>\n",
       "      <th>NEAREST_SCH_RANK</th>\n",
       "    </tr>\n",
       "  </thead>\n",
       "  <tbody>\n",
       "    <tr>\n",
       "      <th>33646</th>\n",
       "      <td>9B North Street</td>\n",
       "      <td>Swanbourne</td>\n",
       "      <td>1700000</td>\n",
       "      <td>4</td>\n",
       "      <td>3</td>\n",
       "      <td>4.0</td>\n",
       "      <td>414</td>\n",
       "      <td>277</td>\n",
       "      <td>2009.0</td>\n",
       "      <td>9400</td>\n",
       "      <td>Grant Street Station</td>\n",
       "      <td>558</td>\n",
       "      <td>04-2017\\r</td>\n",
       "      <td>6010</td>\n",
       "      <td>-31.981771</td>\n",
       "      <td>115.765149</td>\n",
       "      <td>SCOTCH COLLEGE</td>\n",
       "      <td>0.762346</td>\n",
       "      <td>24.0</td>\n",
       "    </tr>\n",
       "    <tr>\n",
       "      <th>33647</th>\n",
       "      <td>9B Shalford Way</td>\n",
       "      <td>Girrawheen</td>\n",
       "      <td>245000</td>\n",
       "      <td>3</td>\n",
       "      <td>1</td>\n",
       "      <td>4.0</td>\n",
       "      <td>381</td>\n",
       "      <td>85</td>\n",
       "      <td>1974.0</td>\n",
       "      <td>12600</td>\n",
       "      <td>Warwick Station</td>\n",
       "      <td>4400</td>\n",
       "      <td>07-2018\\r</td>\n",
       "      <td>6064</td>\n",
       "      <td>-31.839680</td>\n",
       "      <td>115.842410</td>\n",
       "      <td>GIRRAWHEEN SENIOR HIGH SCHOOL</td>\n",
       "      <td>0.358494</td>\n",
       "      <td>NaN</td>\n",
       "    </tr>\n",
       "    <tr>\n",
       "      <th>33648</th>\n",
       "      <td>9B Teocote Crescent</td>\n",
       "      <td>Aubin Grove</td>\n",
       "      <td>423000</td>\n",
       "      <td>3</td>\n",
       "      <td>2</td>\n",
       "      <td>2.0</td>\n",
       "      <td>248</td>\n",
       "      <td>108</td>\n",
       "      <td>2011.0</td>\n",
       "      <td>24900</td>\n",
       "      <td>Cockburn Central Station</td>\n",
       "      <td>5700</td>\n",
       "      <td>05-2016\\r</td>\n",
       "      <td>6164</td>\n",
       "      <td>-32.176013</td>\n",
       "      <td>115.858357</td>\n",
       "      <td>ATWELL COLLEGE</td>\n",
       "      <td>3.607062</td>\n",
       "      <td>129.0</td>\n",
       "    </tr>\n",
       "    <tr>\n",
       "      <th>33649</th>\n",
       "      <td>9B Viveash Road</td>\n",
       "      <td>Middle Swan</td>\n",
       "      <td>467000</td>\n",
       "      <td>4</td>\n",
       "      <td>2</td>\n",
       "      <td>2.0</td>\n",
       "      <td>400</td>\n",
       "      <td>132</td>\n",
       "      <td>2014.0</td>\n",
       "      <td>17100</td>\n",
       "      <td>Midland Station</td>\n",
       "      <td>2500</td>\n",
       "      <td>04-2015\\r</td>\n",
       "      <td>6056</td>\n",
       "      <td>-31.872192</td>\n",
       "      <td>116.013543</td>\n",
       "      <td>LA SALLE COLLEGE</td>\n",
       "      <td>1.116806</td>\n",
       "      <td>53.0</td>\n",
       "    </tr>\n",
       "    <tr>\n",
       "      <th>33650</th>\n",
       "      <td>9b Wesley Street</td>\n",
       "      <td>South Fremantle</td>\n",
       "      <td>955000</td>\n",
       "      <td>3</td>\n",
       "      <td>2</td>\n",
       "      <td>1.0</td>\n",
       "      <td>200</td>\n",
       "      <td>127</td>\n",
       "      <td>1997.0</td>\n",
       "      <td>16000</td>\n",
       "      <td>Fremantle Station</td>\n",
       "      <td>1900</td>\n",
       "      <td>02-2019\\r</td>\n",
       "      <td>6162</td>\n",
       "      <td>-32.066410</td>\n",
       "      <td>115.756070</td>\n",
       "      <td>FREMANTLE COLLEGE</td>\n",
       "      <td>1.134956</td>\n",
       "      <td>128.0</td>\n",
       "    </tr>\n",
       "    <tr>\n",
       "      <th>33651</th>\n",
       "      <td>9C Gold Street</td>\n",
       "      <td>South Fremantle</td>\n",
       "      <td>1040000</td>\n",
       "      <td>4</td>\n",
       "      <td>3</td>\n",
       "      <td>2.0</td>\n",
       "      <td>292</td>\n",
       "      <td>245</td>\n",
       "      <td>2013.0</td>\n",
       "      <td>16100</td>\n",
       "      <td>Fremantle Station</td>\n",
       "      <td>1500</td>\n",
       "      <td>03-2016\\r</td>\n",
       "      <td>6162</td>\n",
       "      <td>-32.064580</td>\n",
       "      <td>115.751820</td>\n",
       "      <td>CHRISTIAN BROTHERS' COLLEGE</td>\n",
       "      <td>1.430350</td>\n",
       "      <td>49.0</td>\n",
       "    </tr>\n",
       "    <tr>\n",
       "      <th>33652</th>\n",
       "      <td>9C Pycombe Way</td>\n",
       "      <td>Westminster</td>\n",
       "      <td>410000</td>\n",
       "      <td>3</td>\n",
       "      <td>2</td>\n",
       "      <td>2.0</td>\n",
       "      <td>228</td>\n",
       "      <td>114</td>\n",
       "      <td>NaN</td>\n",
       "      <td>9600</td>\n",
       "      <td>Stirling Station</td>\n",
       "      <td>4600</td>\n",
       "      <td>02-2017\\r</td>\n",
       "      <td>6061</td>\n",
       "      <td>-31.867055</td>\n",
       "      <td>115.841403</td>\n",
       "      <td>JOHN SEPTIMUS ROE ANGLICAN COMMUNITY SCHOOL</td>\n",
       "      <td>1.679644</td>\n",
       "      <td>35.0</td>\n",
       "    </tr>\n",
       "    <tr>\n",
       "      <th>33653</th>\n",
       "      <td>9D Pycombe Way</td>\n",
       "      <td>Westminster</td>\n",
       "      <td>427000</td>\n",
       "      <td>3</td>\n",
       "      <td>2</td>\n",
       "      <td>2.0</td>\n",
       "      <td>261</td>\n",
       "      <td>112</td>\n",
       "      <td>NaN</td>\n",
       "      <td>9600</td>\n",
       "      <td>Stirling Station</td>\n",
       "      <td>4600</td>\n",
       "      <td>02-2017\\r</td>\n",
       "      <td>6061</td>\n",
       "      <td>-31.866890</td>\n",
       "      <td>115.841418</td>\n",
       "      <td>JOHN SEPTIMUS ROE ANGLICAN COMMUNITY SCHOOL</td>\n",
       "      <td>1.669159</td>\n",
       "      <td>35.0</td>\n",
       "    </tr>\n",
       "    <tr>\n",
       "      <th>33654</th>\n",
       "      <td>9D Shalford Way</td>\n",
       "      <td>Girrawheen</td>\n",
       "      <td>295000</td>\n",
       "      <td>3</td>\n",
       "      <td>1</td>\n",
       "      <td>2.0</td>\n",
       "      <td>457</td>\n",
       "      <td>85</td>\n",
       "      <td>1974.0</td>\n",
       "      <td>12600</td>\n",
       "      <td>Warwick Station</td>\n",
       "      <td>4400</td>\n",
       "      <td>10-2016\\r</td>\n",
       "      <td>6064</td>\n",
       "      <td>-31.839680</td>\n",
       "      <td>115.842410</td>\n",
       "      <td>GIRRAWHEEN SENIOR HIGH SCHOOL</td>\n",
       "      <td>0.358494</td>\n",
       "      <td>NaN</td>\n",
       "    </tr>\n",
       "    <tr>\n",
       "      <th>33655</th>\n",
       "      <td>9E Margaret Street</td>\n",
       "      <td>Midland</td>\n",
       "      <td>295000</td>\n",
       "      <td>3</td>\n",
       "      <td>1</td>\n",
       "      <td>2.0</td>\n",
       "      <td>296</td>\n",
       "      <td>95</td>\n",
       "      <td>NaN</td>\n",
       "      <td>16700</td>\n",
       "      <td>Midland Station</td>\n",
       "      <td>1700</td>\n",
       "      <td>05-2016\\r</td>\n",
       "      <td>6056</td>\n",
       "      <td>-31.882163</td>\n",
       "      <td>116.014755</td>\n",
       "      <td>LA SALLE COLLEGE</td>\n",
       "      <td>1.055564</td>\n",
       "      <td>53.0</td>\n",
       "    </tr>\n",
       "  </tbody>\n",
       "</table>\n",
       "</div>"
      ],
      "text/plain": [
       "                   ADDRESS           SUBURB    PRICE  BEDROOMS  BATHROOMS  \\\n",
       "33646      9B North Street       Swanbourne  1700000         4          3   \n",
       "33647      9B Shalford Way       Girrawheen   245000         3          1   \n",
       "33648  9B Teocote Crescent      Aubin Grove   423000         3          2   \n",
       "33649      9B Viveash Road      Middle Swan   467000         4          2   \n",
       "33650     9b Wesley Street  South Fremantle   955000         3          2   \n",
       "33651       9C Gold Street  South Fremantle  1040000         4          3   \n",
       "33652       9C Pycombe Way      Westminster   410000         3          2   \n",
       "33653       9D Pycombe Way      Westminster   427000         3          2   \n",
       "33654      9D Shalford Way       Girrawheen   295000         3          1   \n",
       "33655   9E Margaret Street          Midland   295000         3          1   \n",
       "\n",
       "       GARAGE  LAND_AREA  FLOOR_AREA  BUILD_YEAR  CBD_DIST  \\\n",
       "33646     4.0        414         277      2009.0      9400   \n",
       "33647     4.0        381          85      1974.0     12600   \n",
       "33648     2.0        248         108      2011.0     24900   \n",
       "33649     2.0        400         132      2014.0     17100   \n",
       "33650     1.0        200         127      1997.0     16000   \n",
       "33651     2.0        292         245      2013.0     16100   \n",
       "33652     2.0        228         114         NaN      9600   \n",
       "33653     2.0        261         112         NaN      9600   \n",
       "33654     2.0        457          85      1974.0     12600   \n",
       "33655     2.0        296          95         NaN     16700   \n",
       "\n",
       "                    NEAREST_STN  NEAREST_STN_DIST  DATE_SOLD  POSTCODE  \\\n",
       "33646      Grant Street Station               558  04-2017\\r      6010   \n",
       "33647           Warwick Station              4400  07-2018\\r      6064   \n",
       "33648  Cockburn Central Station              5700  05-2016\\r      6164   \n",
       "33649           Midland Station              2500  04-2015\\r      6056   \n",
       "33650         Fremantle Station              1900  02-2019\\r      6162   \n",
       "33651         Fremantle Station              1500  03-2016\\r      6162   \n",
       "33652          Stirling Station              4600  02-2017\\r      6061   \n",
       "33653          Stirling Station              4600  02-2017\\r      6061   \n",
       "33654           Warwick Station              4400  10-2016\\r      6064   \n",
       "33655           Midland Station              1700  05-2016\\r      6056   \n",
       "\n",
       "        LATITUDE   LONGITUDE                                  NEAREST_SCH  \\\n",
       "33646 -31.981771  115.765149                               SCOTCH COLLEGE   \n",
       "33647 -31.839680  115.842410                GIRRAWHEEN SENIOR HIGH SCHOOL   \n",
       "33648 -32.176013  115.858357                               ATWELL COLLEGE   \n",
       "33649 -31.872192  116.013543                             LA SALLE COLLEGE   \n",
       "33650 -32.066410  115.756070                            FREMANTLE COLLEGE   \n",
       "33651 -32.064580  115.751820                  CHRISTIAN BROTHERS' COLLEGE   \n",
       "33652 -31.867055  115.841403  JOHN SEPTIMUS ROE ANGLICAN COMMUNITY SCHOOL   \n",
       "33653 -31.866890  115.841418  JOHN SEPTIMUS ROE ANGLICAN COMMUNITY SCHOOL   \n",
       "33654 -31.839680  115.842410                GIRRAWHEEN SENIOR HIGH SCHOOL   \n",
       "33655 -31.882163  116.014755                             LA SALLE COLLEGE   \n",
       "\n",
       "       NEAREST_SCH_DIST  NEAREST_SCH_RANK  \n",
       "33646          0.762346              24.0  \n",
       "33647          0.358494               NaN  \n",
       "33648          3.607062             129.0  \n",
       "33649          1.116806              53.0  \n",
       "33650          1.134956             128.0  \n",
       "33651          1.430350              49.0  \n",
       "33652          1.679644              35.0  \n",
       "33653          1.669159              35.0  \n",
       "33654          0.358494               NaN  \n",
       "33655          1.055564              53.0  "
      ]
     },
     "execution_count": 3,
     "metadata": {},
     "output_type": "execute_result"
    }
   ],
   "source": [
    "# Menampilkan 10 data terakhir\n",
    "data.tail(10)"
   ]
  },
  {
   "cell_type": "markdown",
   "metadata": {},
   "source": [
    "## Data Summary"
   ]
  },
  {
   "cell_type": "code",
   "execution_count": 4,
   "metadata": {},
   "outputs": [
    {
     "name": "stdout",
     "output_type": "stream",
     "text": [
      "<class 'pandas.core.frame.DataFrame'>\n",
      "RangeIndex: 33656 entries, 0 to 33655\n",
      "Data columns (total 19 columns):\n",
      " #   Column            Non-Null Count  Dtype  \n",
      "---  ------            --------------  -----  \n",
      " 0   ADDRESS           33656 non-null  object \n",
      " 1   SUBURB            33656 non-null  object \n",
      " 2   PRICE             33656 non-null  int64  \n",
      " 3   BEDROOMS          33656 non-null  int64  \n",
      " 4   BATHROOMS         33656 non-null  int64  \n",
      " 5   GARAGE            31178 non-null  float64\n",
      " 6   LAND_AREA         33656 non-null  int64  \n",
      " 7   FLOOR_AREA        33656 non-null  int64  \n",
      " 8   BUILD_YEAR        30501 non-null  float64\n",
      " 9   CBD_DIST          33656 non-null  int64  \n",
      " 10  NEAREST_STN       33656 non-null  object \n",
      " 11  NEAREST_STN_DIST  33656 non-null  int64  \n",
      " 12  DATE_SOLD         33656 non-null  object \n",
      " 13  POSTCODE          33656 non-null  int64  \n",
      " 14  LATITUDE          33656 non-null  float64\n",
      " 15  LONGITUDE         33656 non-null  float64\n",
      " 16  NEAREST_SCH       33656 non-null  object \n",
      " 17  NEAREST_SCH_DIST  33656 non-null  float64\n",
      " 18  NEAREST_SCH_RANK  22704 non-null  float64\n",
      "dtypes: float64(6), int64(8), object(5)\n",
      "memory usage: 4.9+ MB\n"
     ]
    }
   ],
   "source": [
    "data.info()"
   ]
  },
  {
   "cell_type": "markdown",
   "metadata": {},
   "source": [
    "**INSIGHT :**\n",
    "-   Pada data info diatas dapat dijelaskan bahwa :\n",
    "    -   Data terdiri dari 19 column\n",
    "    -   Tiap Column pada DataFrame berisikan 33656 data\n",
    "    -   Memory Usage sebesar 4.9+ MB\n",
    "    -   Data type terdiri dari `object`, `float` dan `int`\n",
    "    -   Column `ADDRESS`, `SUBURB`, `NEAREST_STN`, `DATE_SOLD`, `NEAREST_SCH`,`NEAREST_SCH_RANK` merupakan column categorical\n",
    "    -   Column `PRICE`, `BEDROOMS`, `BATHROOMS`, `GARAGE`, `LAND_AREA`, `FLOOR_AREA`,`BUILD_YEAR`, `CBD_DIST`, `NEAREST_STN_DIST`, `LATITUDE`, `LONGITUDE`, `NEAREST_SCH_DIST` merupakan column numerical\n",
    "    "
   ]
  },
  {
   "cell_type": "markdown",
   "metadata": {},
   "source": [
    "## Data Describe"
   ]
  },
  {
   "cell_type": "code",
   "execution_count": 5,
   "metadata": {},
   "outputs": [
    {
     "data": {
      "text/html": [
       "<div>\n",
       "<style scoped>\n",
       "    .dataframe tbody tr th:only-of-type {\n",
       "        vertical-align: middle;\n",
       "    }\n",
       "\n",
       "    .dataframe tbody tr th {\n",
       "        vertical-align: top;\n",
       "    }\n",
       "\n",
       "    .dataframe thead th {\n",
       "        text-align: right;\n",
       "    }\n",
       "</style>\n",
       "<table border=\"1\" class=\"dataframe\">\n",
       "  <thead>\n",
       "    <tr style=\"text-align: right;\">\n",
       "      <th></th>\n",
       "      <th>count</th>\n",
       "      <th>mean</th>\n",
       "      <th>std</th>\n",
       "      <th>min</th>\n",
       "      <th>25%</th>\n",
       "      <th>50%</th>\n",
       "      <th>75%</th>\n",
       "      <th>max</th>\n",
       "    </tr>\n",
       "  </thead>\n",
       "  <tbody>\n",
       "    <tr>\n",
       "      <th>PRICE</th>\n",
       "      <td>33656.0</td>\n",
       "      <td>637072.005794</td>\n",
       "      <td>355825.632737</td>\n",
       "      <td>51000.000000</td>\n",
       "      <td>410000.000000</td>\n",
       "      <td>535500.000000</td>\n",
       "      <td>760000.000000</td>\n",
       "      <td>2.440000e+06</td>\n",
       "    </tr>\n",
       "    <tr>\n",
       "      <th>BEDROOMS</th>\n",
       "      <td>33656.0</td>\n",
       "      <td>3.659110</td>\n",
       "      <td>0.752038</td>\n",
       "      <td>1.000000</td>\n",
       "      <td>3.000000</td>\n",
       "      <td>4.000000</td>\n",
       "      <td>4.000000</td>\n",
       "      <td>1.000000e+01</td>\n",
       "    </tr>\n",
       "    <tr>\n",
       "      <th>BATHROOMS</th>\n",
       "      <td>33656.0</td>\n",
       "      <td>1.823063</td>\n",
       "      <td>0.587427</td>\n",
       "      <td>1.000000</td>\n",
       "      <td>1.000000</td>\n",
       "      <td>2.000000</td>\n",
       "      <td>2.000000</td>\n",
       "      <td>1.600000e+01</td>\n",
       "    </tr>\n",
       "    <tr>\n",
       "      <th>GARAGE</th>\n",
       "      <td>31178.0</td>\n",
       "      <td>2.199917</td>\n",
       "      <td>1.365225</td>\n",
       "      <td>1.000000</td>\n",
       "      <td>2.000000</td>\n",
       "      <td>2.000000</td>\n",
       "      <td>2.000000</td>\n",
       "      <td>9.900000e+01</td>\n",
       "    </tr>\n",
       "    <tr>\n",
       "      <th>LAND_AREA</th>\n",
       "      <td>33656.0</td>\n",
       "      <td>2740.644016</td>\n",
       "      <td>16693.513215</td>\n",
       "      <td>61.000000</td>\n",
       "      <td>503.000000</td>\n",
       "      <td>682.000000</td>\n",
       "      <td>838.000000</td>\n",
       "      <td>9.999990e+05</td>\n",
       "    </tr>\n",
       "    <tr>\n",
       "      <th>FLOOR_AREA</th>\n",
       "      <td>33656.0</td>\n",
       "      <td>183.501545</td>\n",
       "      <td>72.102982</td>\n",
       "      <td>1.000000</td>\n",
       "      <td>130.000000</td>\n",
       "      <td>172.000000</td>\n",
       "      <td>222.250000</td>\n",
       "      <td>8.700000e+02</td>\n",
       "    </tr>\n",
       "    <tr>\n",
       "      <th>BUILD_YEAR</th>\n",
       "      <td>30501.0</td>\n",
       "      <td>1989.706436</td>\n",
       "      <td>20.964330</td>\n",
       "      <td>1868.000000</td>\n",
       "      <td>1978.000000</td>\n",
       "      <td>1995.000000</td>\n",
       "      <td>2005.000000</td>\n",
       "      <td>2.017000e+03</td>\n",
       "    </tr>\n",
       "    <tr>\n",
       "      <th>CBD_DIST</th>\n",
       "      <td>33656.0</td>\n",
       "      <td>19777.374465</td>\n",
       "      <td>11364.415413</td>\n",
       "      <td>681.000000</td>\n",
       "      <td>11200.000000</td>\n",
       "      <td>17500.000000</td>\n",
       "      <td>26600.000000</td>\n",
       "      <td>5.980000e+04</td>\n",
       "    </tr>\n",
       "    <tr>\n",
       "      <th>NEAREST_STN_DIST</th>\n",
       "      <td>33656.0</td>\n",
       "      <td>4523.371494</td>\n",
       "      <td>4495.064024</td>\n",
       "      <td>46.000000</td>\n",
       "      <td>1800.000000</td>\n",
       "      <td>3200.000000</td>\n",
       "      <td>5300.000000</td>\n",
       "      <td>3.550000e+04</td>\n",
       "    </tr>\n",
       "    <tr>\n",
       "      <th>POSTCODE</th>\n",
       "      <td>33656.0</td>\n",
       "      <td>6089.420074</td>\n",
       "      <td>62.167921</td>\n",
       "      <td>6003.000000</td>\n",
       "      <td>6050.000000</td>\n",
       "      <td>6069.000000</td>\n",
       "      <td>6150.000000</td>\n",
       "      <td>6.558000e+03</td>\n",
       "    </tr>\n",
       "    <tr>\n",
       "      <th>LATITUDE</th>\n",
       "      <td>33656.0</td>\n",
       "      <td>-31.960664</td>\n",
       "      <td>0.177780</td>\n",
       "      <td>-32.472979</td>\n",
       "      <td>-32.068437</td>\n",
       "      <td>-31.933231</td>\n",
       "      <td>-31.843818</td>\n",
       "      <td>-3.145745e+01</td>\n",
       "    </tr>\n",
       "    <tr>\n",
       "      <th>LONGITUDE</th>\n",
       "      <td>33656.0</td>\n",
       "      <td>115.879265</td>\n",
       "      <td>0.118137</td>\n",
       "      <td>115.582730</td>\n",
       "      <td>115.789763</td>\n",
       "      <td>115.854198</td>\n",
       "      <td>115.970722</td>\n",
       "      <td>1.163432e+02</td>\n",
       "    </tr>\n",
       "    <tr>\n",
       "      <th>NEAREST_SCH_DIST</th>\n",
       "      <td>33656.0</td>\n",
       "      <td>1.815268</td>\n",
       "      <td>1.746000</td>\n",
       "      <td>0.070912</td>\n",
       "      <td>0.880568</td>\n",
       "      <td>1.345520</td>\n",
       "      <td>2.097225</td>\n",
       "      <td>2.325437e+01</td>\n",
       "    </tr>\n",
       "    <tr>\n",
       "      <th>NEAREST_SCH_RANK</th>\n",
       "      <td>22704.0</td>\n",
       "      <td>72.672569</td>\n",
       "      <td>40.639795</td>\n",
       "      <td>1.000000</td>\n",
       "      <td>39.000000</td>\n",
       "      <td>68.000000</td>\n",
       "      <td>105.000000</td>\n",
       "      <td>1.390000e+02</td>\n",
       "    </tr>\n",
       "  </tbody>\n",
       "</table>\n",
       "</div>"
      ],
      "text/plain": [
       "                    count           mean            std           min  \\\n",
       "PRICE             33656.0  637072.005794  355825.632737  51000.000000   \n",
       "BEDROOMS          33656.0       3.659110       0.752038      1.000000   \n",
       "BATHROOMS         33656.0       1.823063       0.587427      1.000000   \n",
       "GARAGE            31178.0       2.199917       1.365225      1.000000   \n",
       "LAND_AREA         33656.0    2740.644016   16693.513215     61.000000   \n",
       "FLOOR_AREA        33656.0     183.501545      72.102982      1.000000   \n",
       "BUILD_YEAR        30501.0    1989.706436      20.964330   1868.000000   \n",
       "CBD_DIST          33656.0   19777.374465   11364.415413    681.000000   \n",
       "NEAREST_STN_DIST  33656.0    4523.371494    4495.064024     46.000000   \n",
       "POSTCODE          33656.0    6089.420074      62.167921   6003.000000   \n",
       "LATITUDE          33656.0     -31.960664       0.177780    -32.472979   \n",
       "LONGITUDE         33656.0     115.879265       0.118137    115.582730   \n",
       "NEAREST_SCH_DIST  33656.0       1.815268       1.746000      0.070912   \n",
       "NEAREST_SCH_RANK  22704.0      72.672569      40.639795      1.000000   \n",
       "\n",
       "                            25%            50%            75%           max  \n",
       "PRICE             410000.000000  535500.000000  760000.000000  2.440000e+06  \n",
       "BEDROOMS               3.000000       4.000000       4.000000  1.000000e+01  \n",
       "BATHROOMS              1.000000       2.000000       2.000000  1.600000e+01  \n",
       "GARAGE                 2.000000       2.000000       2.000000  9.900000e+01  \n",
       "LAND_AREA            503.000000     682.000000     838.000000  9.999990e+05  \n",
       "FLOOR_AREA           130.000000     172.000000     222.250000  8.700000e+02  \n",
       "BUILD_YEAR          1978.000000    1995.000000    2005.000000  2.017000e+03  \n",
       "CBD_DIST           11200.000000   17500.000000   26600.000000  5.980000e+04  \n",
       "NEAREST_STN_DIST    1800.000000    3200.000000    5300.000000  3.550000e+04  \n",
       "POSTCODE            6050.000000    6069.000000    6150.000000  6.558000e+03  \n",
       "LATITUDE             -32.068437     -31.933231     -31.843818 -3.145745e+01  \n",
       "LONGITUDE            115.789763     115.854198     115.970722  1.163432e+02  \n",
       "NEAREST_SCH_DIST       0.880568       1.345520       2.097225  2.325437e+01  \n",
       "NEAREST_SCH_RANK      39.000000      68.000000     105.000000  1.390000e+02  "
      ]
     },
     "execution_count": 5,
     "metadata": {},
     "output_type": "execute_result"
    }
   ],
   "source": [
    "data.describe().T"
   ]
  },
  {
   "cell_type": "markdown",
   "metadata": {},
   "source": [
    "**INSIGHT :**\n",
    "-   Nilai minimum dan maximum terlihat dapat menjelaskan bahwa data diatas merupakan benar data numerical, bukan data binary atau ordinal\n",
    "-   Terlihat pada setiap column data numerical terdapat beberapa column yang memiliki nilai mean > median yang menandakan column tersebut memiliki distribusi skew. Column-Column tersebut adalah :\n",
    "    -   `PRICE`\n",
    "    -   `GARAGE`\n",
    "    -   `LAND_AREA`\n",
    "    -   `FLOOR_AREA`\n",
    "    -   `CBD_DIST`\n",
    "    -   `NEAREST_STN_DIST`\n",
    "    -   `POSTCODE`\n",
    "    -   `LATITUDE`\n",
    "    -   `LONGITUDE`\n",
    "    -   `NEAREST_SCH_DIST`\n",
    "    -   `NEAREST_SCH_RANK`\n",
    "-   Terlihat pada setiap column numerical juga terdapat beberapa column yang memiliki nilai mean < median yang menandakan column tersebut memiliki distribusi yang normal. Column-Column tersebut adalah :\n",
    "    -   `BEDROOMS`\n",
    "    -   `BATHROOMS`\n",
    "    -   `BUILD_YEAR`"
   ]
  },
  {
   "cell_type": "markdown",
   "metadata": {},
   "source": [
    "## Describe Column Categorical"
   ]
  },
  {
   "cell_type": "code",
   "execution_count": 6,
   "metadata": {},
   "outputs": [
    {
     "name": "stdout",
     "output_type": "stream",
     "text": [
      "Value counts of ADDRESS column\n",
      "123 Fairway            3\n",
      "68 Margaret Street     2\n",
      "20 Third Avenue        2\n",
      "5 William Street       2\n",
      "34 Halcyon Way         2\n",
      "                      ..\n",
      "20 Metroliner Drive    1\n",
      "20 Mentor Street       1\n",
      "20 Melvich Green       1\n",
      "20 Melrose Crescent    1\n",
      "9E Margaret Street     1\n",
      "Name: ADDRESS, Length: 33566, dtype: int64 \n",
      "\n",
      "Value counts of SUBURB column\n",
      "Bertram            231\n",
      "Iluka              212\n",
      "Bennett Springs    211\n",
      "Mindarie           209\n",
      "Carramar           208\n",
      "                  ... \n",
      "Munster              1\n",
      "Kwinana Beach        1\n",
      "Welshpool            1\n",
      "Wangara              1\n",
      "Naval Base           1\n",
      "Name: SUBURB, Length: 321, dtype: int64 \n",
      "\n",
      "Value counts of NEAREST_STN column\n",
      "Midland Station             4141\n",
      "Warwick Station             1696\n",
      "Cockburn Central Station    1640\n",
      "Armadale Station            1372\n",
      "Butler Station              1178\n",
      "                            ... \n",
      "East Perth Station            35\n",
      "Mosman Park Station           33\n",
      "McIver Station                23\n",
      "City West Station             16\n",
      "Esplanade Station              3\n",
      "Name: NEAREST_STN, Length: 68, dtype: int64 \n",
      "\n",
      "Value counts of DATE_SOLD column\n",
      "10-2020\\r    628\n",
      "11-2020\\r    579\n",
      "09-2020\\r    569\n",
      "07-2019\\r    548\n",
      "11-2018\\r    547\n",
      "            ... \n",
      "01-1997\\r      1\n",
      "04-1988\\r      1\n",
      "04-1995\\r      1\n",
      "06-1989\\r      1\n",
      "02-2000\\r      1\n",
      "Name: DATE_SOLD, Length: 350, dtype: int64 \n",
      "\n",
      "Value counts of NEAREST_SCH column\n",
      "SWAN VIEW SENIOR HIGH SCHOOL                       895\n",
      "KIARA COLLEGE                                      756\n",
      "ATWELL COLLEGE                                     696\n",
      "JOSEPH BANKS SECONDARY COLLEGE                     687\n",
      "SWAN VALLEY ANGLICAN COMMUNITY SCHOOL              567\n",
      "                                                  ... \n",
      "ST GEORGE'S ANGLICAN GRAMMAR SCHOOL                 15\n",
      "METHODIST LADIES' COLLEGE                           10\n",
      "MERCEDES COLLEGE                                     8\n",
      "FAIRBRIDGE COLLEGE                                   7\n",
      "SOUTH METROPOLITAN YOUTH LINK COMMUNITY COLLEGE      3\n",
      "Name: NEAREST_SCH, Length: 160, dtype: int64 \n",
      "\n"
     ]
    }
   ],
   "source": [
    "# Membuat kolom yang termasuk dalam kategori bernama 'categorical'\n",
    "categorical = data[['ADDRESS', 'SUBURB', 'NEAREST_STN', 'DATE_SOLD', 'NEAREST_SCH']]\n",
    "\n",
    "# Menampilkan value count category\n",
    "for i in categorical.columns:\n",
    "    print(f\"Value counts of {i} column\")\n",
    "    print(categorical[i].value_counts(), '\\n')"
   ]
  },
  {
   "cell_type": "markdown",
   "metadata": {},
   "source": [
    "# 4. Exploratory Data Analysis (EDA)"
   ]
  },
  {
   "cell_type": "markdown",
   "metadata": {},
   "source": [
    "> Bagian ini berisi eksplorasi data pada dataset diatas dengan menggunakan query, grouping, visualisasi sederhana, dan lain sebagainya."
   ]
  },
  {
   "cell_type": "markdown",
   "metadata": {},
   "source": [
    "### Melihat Distribusi Data Column Price"
   ]
  },
  {
   "cell_type": "code",
   "execution_count": 7,
   "metadata": {},
   "outputs": [
    {
     "data": {
      "image/png": "[encoded data removed]",
      "text/plain": [
       "<Figure size 800x600 with 1 Axes>"
      ]
     },
     "metadata": {},
     "output_type": "display_data"
    }
   ],
   "source": [
    "# Menampilkan distribusi Limit Balance\n",
    "plt.figure(figsize=(8, 6))\n",
    "sns.histplot(data['PRICE'], bins=30, kde=False)\n",
    "plt.xlabel('Price')\n",
    "plt.ylabel('Frequency')\n",
    "plt.title('Distribusi Price')\n",
    "plt.show()"
   ]
  },
  {
   "cell_type": "code",
   "execution_count": 8,
   "metadata": {},
   "outputs": [
    {
     "name": "stdout",
     "output_type": "stream",
     "text": [
      "Nilai titik tengah / Median berada pada 535500.0\n"
     ]
    },
    {
     "data": {
      "text/html": [
       "<div>\n",
       "<style scoped>\n",
       "    .dataframe tbody tr th:only-of-type {\n",
       "        vertical-align: middle;\n",
       "    }\n",
       "\n",
       "    .dataframe tbody tr th {\n",
       "        vertical-align: top;\n",
       "    }\n",
       "\n",
       "    .dataframe thead th {\n",
       "        text-align: right;\n",
       "    }\n",
       "</style>\n",
       "<table border=\"1\" class=\"dataframe\">\n",
       "  <thead>\n",
       "    <tr style=\"text-align: right;\">\n",
       "      <th></th>\n",
       "      <th>PRICE</th>\n",
       "    </tr>\n",
       "  </thead>\n",
       "  <tbody>\n",
       "    <tr>\n",
       "      <th>430000</th>\n",
       "      <td>361</td>\n",
       "    </tr>\n",
       "    <tr>\n",
       "      <th>400000</th>\n",
       "      <td>342</td>\n",
       "    </tr>\n",
       "    <tr>\n",
       "      <th>450000</th>\n",
       "      <td>339</td>\n",
       "    </tr>\n",
       "  </tbody>\n",
       "</table>\n",
       "</div>"
      ],
      "text/plain": [
       "        PRICE\n",
       "430000    361\n",
       "400000    342\n",
       "450000    339"
      ]
     },
     "execution_count": 8,
     "metadata": {},
     "output_type": "execute_result"
    }
   ],
   "source": [
    "# Melihat Median Limit Balance\n",
    "medianPrice = data['PRICE'].median()\n",
    "\n",
    "# Melihat Value Count\n",
    "ValueCountLB = data['PRICE'].value_counts()\n",
    "ValueCountLB_df = pd.DataFrame(ValueCountLB)\n",
    "\n",
    "print(f'Nilai titik tengah / Median berada pada {medianPrice}')\n",
    "ValueCountLB_df.head(3)"
   ]
  },
  {
   "cell_type": "markdown",
   "metadata": {},
   "source": [
    "**INSIGHT:**\n",
    "-   Pada histogram diatas, didapatkan bahwa column price memiliki distribusi data yang skew.\n",
    "-   Terlihat juga bahwa titik tengah harga rumah di kawasan perth australia berada pada harga 535500 AUD\n",
    "-   Sedangkan total jumlah harga rumah yang memiliki frekuensi terbanyak pada harga 430000 AUD sebanyak 361 unit"
   ]
  },
  {
   "cell_type": "markdown",
   "metadata": {},
   "source": [
    "### Melihat Perubahan Price Rumah Bedasarkan Tahun Pembuatan Rumah"
   ]
  },
  {
   "cell_type": "code",
   "execution_count": 9,
   "metadata": {},
   "outputs": [
    {
     "data": {
      "image/png": "[encoded data removed]",
      "text/plain": [
       "<Figure size 2000x600 with 1 Axes>"
      ]
     },
     "metadata": {},
     "output_type": "display_data"
    }
   ],
   "source": [
    "plt.figure(figsize=(20,6))\n",
    "fig = sns.lineplot(x=data['BUILD_YEAR'], y=data['PRICE'])"
   ]
  },
  {
   "cell_type": "markdown",
   "metadata": {},
   "source": [
    "**INSIGHT:**\n",
    "-   Terlihat pada line plot diatas bahwa harga rumah pada kawasan perth australia memiliki harga yang fluktuatif. Berdasarkan tahun pembuatan, harga rumah tertinggi dipegang oleh rumah yang di bangun pada tahun 1900an dan 1940an.\n",
    "-   Hal ini mengindikasi bahwa pada tahun 1900an dan 1940an terjadi peningkatan permintaan pada bidang property khususnya rumah. Namun jika dilihat ke beberapa tahun berikutnya, harga rumah bisa dibilang mengalami penurunan. Hal ini mengindikasi bahwa permintaan pada bidang property untuk rumah mulai menurun. Hal ini bisa didukung dengan kemajuan teknologi dan inspirasi dimana pada zaman sekarang sudah ada pengganti untuk property untuk rumah, yaitu apartement dimana harga apertemen bisa dibilang jauh lebih murah dibanding dengan membeli rumah."
   ]
  },
  {
   "cell_type": "markdown",
   "metadata": {},
   "source": [
    "### Melihat Persebaran Rumah Berdasarkan Jumlah Kamar dan Jumlah Kamar Mandi"
   ]
  },
  {
   "cell_type": "code",
   "execution_count": 10,
   "metadata": {},
   "outputs": [
    {
     "data": {
      "application/vnd.plotly.v1+json": {
       "config": {
        "plotlyServerURL": "https://plot.ly"
       },
       "data": [
        {
         "domain": {
          "x": [
           0,
           1
          ],
          "y": [
           0,
           1
          ]
         },
         "hovertemplate": "BEDROOMS=%{label}<br>Value=%{value}<extra></extra>",
         "labels": [
          4,
          3,
          5,
          2,
          6,
          1,
          7,
          8,
          9,
          10
         ],
         "legendgroup": "",
         "name": "",
         "showlegend": true,
         "textinfo": "percent+label",
         "textposition": "inside",
         "type": "pie",
         "values": [
          17635,
          11617,
          2476,
          1457,
          296,
          95,
          53,
          21,
          4,
          2
         ]
        }
       ],
       "layout": {
        "legend": {
         "title": {
          "text": "BEDROOMS"
         },
         "tracegroupgap": 0
        },
        "margin": {
         "b": 20,
         "l": 20,
         "r": 20,
         "t": 50
        },
        "piecolorway": [
         "rgb(141,211,199)",
         "rgb(255,255,179)",
         "rgb(190,186,218)",
         "rgb(251,128,114)",
         "rgb(128,177,211)",
         "rgb(253,180,98)",
         "rgb(179,222,105)",
         "rgb(252,205,229)",
         "rgb(217,217,217)",
         "rgb(188,128,189)",
         "rgb(204,235,197)",
         "rgb(255,237,111)"
        ],
        "template": {
         "data": {
          "bar": [
           {
            "error_x": {
             "color": "#2a3f5f"
            },
            "error_y": {
             "color": "#2a3f5f"
            },
            "marker": {
             "line": {
              "color": "#E5ECF6",
              "width": 0.5
             },
             "pattern": {
              "fillmode": "overlay",
              "size": 10,
              "solidity": 0.2
             }
            },
            "type": "bar"
           }
          ],
          "barpolar": [
           {
            "marker": {
             "line": {
              "color": "#E5ECF6",
              "width": 0.5
             },
             "pattern": {
              "fillmode": "overlay",
              "size": 10,
              "solidity": 0.2
             }
            },
            "type": "barpolar"
           }
          ],
          "carpet": [
           {
            "aaxis": {
             "endlinecolor": "#2a3f5f",
             "gridcolor": "white",
             "linecolor": "white",
             "minorgridcolor": "white",
             "startlinecolor": "#2a3f5f"
            },
            "baxis": {
             "endlinecolor": "#2a3f5f",
             "gridcolor": "white",
             "linecolor": "white",
             "minorgridcolor": "white",
             "startlinecolor": "#2a3f5f"
            },
            "type": "carpet"
           }
          ],
          "choropleth": [
           {
            "colorbar": {
             "outlinewidth": 0,
             "ticks": ""
            },
            "type": "choropleth"
           }
          ],
          "contour": [
           {
            "colorbar": {
             "outlinewidth": 0,
             "ticks": ""
            },
            "colorscale": [
             [
              0,
              "#0d0887"
             ],
             [
              0.1111111111111111,
              "#46039f"
             ],
             [
              0.2222222222222222,
              "#7201a8"
             ],
             [
              0.3333333333333333,
              "#9c179e"
             ],
             [
              0.4444444444444444,
              "#bd3786"
             ],
             [
              0.5555555555555556,
              "#d8576b"
             ],
             [
              0.6666666666666666,
              "#ed7953"
             ],
             [
              0.7777777777777778,
              "#fb9f3a"
             ],
             [
              0.8888888888888888,
              "#fdca26"
             ],
             [
              1,
              "#f0f921"
             ]
            ],
            "type": "contour"
           }
          ],
          "contourcarpet": [
           {
            "colorbar": {
             "outlinewidth": 0,
             "ticks": ""
            },
            "type": "contourcarpet"
           }
          ],
          "heatmap": [
           {
            "colorbar": {
             "outlinewidth": 0,
             "ticks": ""
            },
            "colorscale": [
             [
              0,
              "#0d0887"
             ],
             [
              0.1111111111111111,
              "#46039f"
             ],
             [
              0.2222222222222222,
              "#7201a8"
             ],
             [
              0.3333333333333333,
              "#9c179e"
             ],
             [
              0.4444444444444444,
              "#bd3786"
             ],
             [
              0.5555555555555556,
              "#d8576b"
             ],
             [
              0.6666666666666666,
              "#ed7953"
             ],
             [
              0.7777777777777778,
              "#fb9f3a"
             ],
             [
              0.8888888888888888,
              "#fdca26"
             ],
             [
              1,
              "#f0f921"
             ]
            ],
            "type": "heatmap"
           }
          ],
          "heatmapgl": [
           {
            "colorbar": {
             "outlinewidth": 0,
             "ticks": ""
            },
            "colorscale": [
             [
              0,
              "#0d0887"
             ],
             [
              0.1111111111111111,
              "#46039f"
             ],
             [
              0.2222222222222222,
              "#7201a8"
             ],
             [
              0.3333333333333333,
              "#9c179e"
             ],
             [
              0.4444444444444444,
              "#bd3786"
             ],
             [
              0.5555555555555556,
              "#d8576b"
             ],
             [
              0.6666666666666666,
              "#ed7953"
             ],
             [
              0.7777777777777778,
              "#fb9f3a"
             ],
             [
              0.8888888888888888,
              "#fdca26"
             ],
             [
              1,
              "#f0f921"
             ]
            ],
            "type": "heatmapgl"
           }
          ],
          "histogram": [
           {
            "marker": {
             "pattern": {
              "fillmode": "overlay",
              "size": 10,
              "solidity": 0.2
             }
            },
            "type": "histogram"
           }
          ],
          "histogram2d": [
           {
            "colorbar": {
             "outlinewidth": 0,
             "ticks": ""
            },
            "colorscale": [
             [
              0,
              "#0d0887"
             ],
             [
              0.1111111111111111,
              "#46039f"
             ],
             [
              0.2222222222222222,
              "#7201a8"
             ],
             [
              0.3333333333333333,
              "#9c179e"
             ],
             [
              0.4444444444444444,
              "#bd3786"
             ],
             [
              0.5555555555555556,
              "#d8576b"
             ],
             [
              0.6666666666666666,
              "#ed7953"
             ],
             [
              0.7777777777777778,
              "#fb9f3a"
             ],
             [
              0.8888888888888888,
              "#fdca26"
             ],
             [
              1,
              "#f0f921"
             ]
            ],
            "type": "histogram2d"
           }
          ],
          "histogram2dcontour": [
           {
            "colorbar": {
             "outlinewidth": 0,
             "ticks": ""
            },
            "colorscale": [
             [
              0,
              "#0d0887"
             ],
             [
              0.1111111111111111,
              "#46039f"
             ],
             [
              0.2222222222222222,
              "#7201a8"
             ],
             [
              0.3333333333333333,
              "#9c179e"
             ],
             [
              0.4444444444444444,
              "#bd3786"
             ],
             [
              0.5555555555555556,
              "#d8576b"
             ],
             [
              0.6666666666666666,
              "#ed7953"
             ],
             [
              0.7777777777777778,
              "#fb9f3a"
             ],
             [
              0.8888888888888888,
              "#fdca26"
             ],
             [
              1,
              "#f0f921"
             ]
            ],
            "type": "histogram2dcontour"
           }
          ],
          "mesh3d": [
           {
            "colorbar": {
             "outlinewidth": 0,
             "ticks": ""
            },
            "type": "mesh3d"
           }
          ],
          "parcoords": [
           {
            "line": {
             "colorbar": {
              "outlinewidth": 0,
              "ticks": ""
             }
            },
            "type": "parcoords"
           }
          ],
          "pie": [
           {
            "automargin": true,
            "type": "pie"
           }
          ],
          "scatter": [
           {
            "fillpattern": {
             "fillmode": "overlay",
             "size": 10,
             "solidity": 0.2
            },
            "type": "scatter"
           }
          ],
          "scatter3d": [
           {
            "line": {
             "colorbar": {
              "outlinewidth": 0,
              "ticks": ""
             }
            },
            "marker": {
             "colorbar": {
              "outlinewidth": 0,
              "ticks": ""
             }
            },
            "type": "scatter3d"
           }
          ],
          "scattercarpet": [
           {
            "marker": {
             "colorbar": {
              "outlinewidth": 0,
              "ticks": ""
             }
            },
            "type": "scattercarpet"
           }
          ],
          "scattergeo": [
           {
            "marker": {
             "colorbar": {
              "outlinewidth": 0,
              "ticks": ""
             }
            },
            "type": "scattergeo"
           }
          ],
          "scattergl": [
           {
            "marker": {
             "colorbar": {
              "outlinewidth": 0,
              "ticks": ""
             }
            },
            "type": "scattergl"
           }
          ],
          "scattermapbox": [
           {
            "marker": {
             "colorbar": {
              "outlinewidth": 0,
              "ticks": ""
             }
            },
            "type": "scattermapbox"
           }
          ],
          "scatterpolar": [
           {
            "marker": {
             "colorbar": {
              "outlinewidth": 0,
              "ticks": ""
             }
            },
            "type": "scatterpolar"
           }
          ],
          "scatterpolargl": [
           {
            "marker": {
             "colorbar": {
              "outlinewidth": 0,
              "ticks": ""
             }
            },
            "type": "scatterpolargl"
           }
          ],
          "scatterternary": [
           {
            "marker": {
             "colorbar": {
              "outlinewidth": 0,
              "ticks": ""
             }
            },
            "type": "scatterternary"
           }
          ],
          "surface": [
           {
            "colorbar": {
             "outlinewidth": 0,
             "ticks": ""
            },
            "colorscale": [
             [
              0,
              "#0d0887"
             ],
             [
              0.1111111111111111,
              "#46039f"
             ],
             [
              0.2222222222222222,
              "#7201a8"
             ],
             [
              0.3333333333333333,
              "#9c179e"
             ],
             [
              0.4444444444444444,
              "#bd3786"
             ],
             [
              0.5555555555555556,
              "#d8576b"
             ],
             [
              0.6666666666666666,
              "#ed7953"
             ],
             [
              0.7777777777777778,
              "#fb9f3a"
             ],
             [
              0.8888888888888888,
              "#fdca26"
             ],
             [
              1,
              "#f0f921"
             ]
            ],
            "type": "surface"
           }
          ],
          "table": [
           {
            "cells": {
             "fill": {
              "color": "#EBF0F8"
             },
             "line": {
              "color": "white"
             }
            },
            "header": {
             "fill": {
              "color": "#C8D4E3"
             },
             "line": {
              "color": "white"
             }
            },
            "type": "table"
           }
          ]
         },
         "layout": {
          "annotationdefaults": {
           "arrowcolor": "#2a3f5f",
           "arrowhead": 0,
           "arrowwidth": 1
          },
          "autotypenumbers": "strict",
          "coloraxis": {
           "colorbar": {
            "outlinewidth": 0,
            "ticks": ""
           }
          },
          "colorscale": {
           "diverging": [
            [
             0,
             "#8e0152"
            ],
            [
             0.1,
             "#c51b7d"
            ],
            [
             0.2,
             "#de77ae"
            ],
            [
             0.3,
             "#f1b6da"
            ],
            [
             0.4,
             "#fde0ef"
            ],
            [
             0.5,
             "#f7f7f7"
            ],
            [
             0.6,
             "#e6f5d0"
            ],
            [
             0.7,
             "#b8e186"
            ],
            [
             0.8,
             "#7fbc41"
            ],
            [
             0.9,
             "#4d9221"
            ],
            [
             1,
             "#276419"
            ]
           ],
           "sequential": [
            [
             0,
             "#0d0887"
            ],
            [
             0.1111111111111111,
             "#46039f"
            ],
            [
             0.2222222222222222,
             "#7201a8"
            ],
            [
             0.3333333333333333,
             "#9c179e"
            ],
            [
             0.4444444444444444,
             "#bd3786"
            ],
            [
             0.5555555555555556,
             "#d8576b"
            ],
            [
             0.6666666666666666,
             "#ed7953"
            ],
            [
             0.7777777777777778,
             "#fb9f3a"
            ],
            [
             0.8888888888888888,
             "#fdca26"
            ],
            [
             1,
             "#f0f921"
            ]
           ],
           "sequentialminus": [
            [
             0,
             "#0d0887"
            ],
            [
             0.1111111111111111,
             "#46039f"
            ],
            [
             0.2222222222222222,
             "#7201a8"
            ],
            [
             0.3333333333333333,
             "#9c179e"
            ],
            [
             0.4444444444444444,
             "#bd3786"
            ],
            [
             0.5555555555555556,
             "#d8576b"
            ],
            [
             0.6666666666666666,
             "#ed7953"
            ],
            [
             0.7777777777777778,
             "#fb9f3a"
            ],
            [
             0.8888888888888888,
             "#fdca26"
            ],
            [
             1,
             "#f0f921"
            ]
           ]
          },
          "colorway": [
           "#636efa",
           "#EF553B",
           "#00cc96",
           "#ab63fa",
           "#FFA15A",
           "#19d3f3",
           "#FF6692",
           "#B6E880",
           "#FF97FF",
           "#FECB52"
          ],
          "font": {
           "color": "#2a3f5f"
          },
          "geo": {
           "bgcolor": "white",
           "lakecolor": "white",
           "landcolor": "#E5ECF6",
           "showlakes": true,
           "showland": true,
           "subunitcolor": "white"
          },
          "hoverlabel": {
           "align": "left"
          },
          "hovermode": "closest",
          "mapbox": {
           "style": "light"
          },
          "paper_bgcolor": "white",
          "plot_bgcolor": "#E5ECF6",
          "polar": {
           "angularaxis": {
            "gridcolor": "white",
            "linecolor": "white",
            "ticks": ""
           },
           "bgcolor": "#E5ECF6",
           "radialaxis": {
            "gridcolor": "white",
            "linecolor": "white",
            "ticks": ""
           }
          },
          "scene": {
           "xaxis": {
            "backgroundcolor": "#E5ECF6",
            "gridcolor": "white",
            "gridwidth": 2,
            "linecolor": "white",
            "showbackground": true,
            "ticks": "",
            "zerolinecolor": "white"
           },
           "yaxis": {
            "backgroundcolor": "#E5ECF6",
            "gridcolor": "white",
            "gridwidth": 2,
            "linecolor": "white",
            "showbackground": true,
            "ticks": "",
            "zerolinecolor": "white"
           },
           "zaxis": {
            "backgroundcolor": "#E5ECF6",
            "gridcolor": "white",
            "gridwidth": 2,
            "linecolor": "white",
            "showbackground": true,
            "ticks": "",
            "zerolinecolor": "white"
           }
          },
          "shapedefaults": {
           "line": {
            "color": "#2a3f5f"
           }
          },
          "ternary": {
           "aaxis": {
            "gridcolor": "white",
            "linecolor": "white",
            "ticks": ""
           },
           "baxis": {
            "gridcolor": "white",
            "linecolor": "white",
            "ticks": ""
           },
           "bgcolor": "#E5ECF6",
           "caxis": {
            "gridcolor": "white",
            "linecolor": "white",
            "ticks": ""
           }
          },
          "title": {
           "x": 0.05
          },
          "xaxis": {
           "automargin": true,
           "gridcolor": "white",
           "linecolor": "white",
           "ticks": "",
           "title": {
            "standoff": 15
           },
           "zerolinecolor": "white",
           "zerolinewidth": 2
          },
          "yaxis": {
           "automargin": true,
           "gridcolor": "white",
           "linecolor": "white",
           "ticks": "",
           "title": {
            "standoff": 15
           },
           "zerolinecolor": "white",
           "zerolinewidth": 2
          }
         }
        },
        "title": {
         "font": {
          "size": 20
         },
         "text": "Persebaran Rumah berdasarkan Jumlah Kamar",
         "x": 0.5
        }
       }
      }
     },
     "metadata": {},
     "output_type": "display_data"
    }
   ],
   "source": [
    "# Menghitung jumlah kamar\n",
    "df3 = data['BEDROOMS'].value_counts().reset_index()\n",
    "df3.columns = ['BEDROOMS', 'Value']\n",
    "\n",
    "# Mengatur sequence warna\n",
    "colors = px.colors.qualitative.Set3\n",
    "\n",
    "# Membuat pie chart dengan pengaturan visual yang diperindah\n",
    "fig3 = px.pie(df3, \n",
    "              values='Value', \n",
    "              names='BEDROOMS', \n",
    "              color_discrete_sequence=colors,\n",
    "              title='Persebaran Rumah berdasarkan Jumlah Kamar')\n",
    "\n",
    "# Menambahkan layout yang lebih rapi\n",
    "fig3.update_traces(textposition='inside', textinfo='percent+label')\n",
    "fig3.update_layout(\n",
    "    margin=dict(l=20, r=20, t=50, b=20),\n",
    "    legend=dict(title='BEDROOMS'),\n",
    "    title_font=dict(size=20),\n",
    "    title_x=0.5\n",
    ")\n",
    "\n",
    "# Menampilkan pie chart\n",
    "fig3.show()"
   ]
  },
  {
   "cell_type": "markdown",
   "metadata": {},
   "source": [
    "**INSIGHT :**\n",
    "-   Dapat dilihat dari pie chart diatas, bahwa kebanyakan rumah pada kawasan perth memiliki jumlah kamar sebanyak 4 kamar dengan presentase 52.4%\n",
    "-   Diikuti dengan jumlah kamar sebanyak 3 kamar sebanyak 34.5%\n",
    "-   Hal ini mengindikasi bahwa kawasan pada rumah perth di isi dengan 3 - 4 orang yang bisa dibilang cocok bagi orang-orang yang baru membina rumah tangga yang terdiri dari ayah ibu dan anak.\n",
    "-   Selain itu hal ini juga mengindikasi bahwa perumahan pada kawasan perth diperuntukan bagi orang-orang yang ingin memiliki rumah yang tidak mau memiliki banyak kamar di dalam rumahnya."
   ]
  },
  {
   "cell_type": "code",
   "execution_count": 11,
   "metadata": {},
   "outputs": [
    {
     "data": {
      "application/vnd.plotly.v1+json": {
       "config": {
        "plotlyServerURL": "https://plot.ly"
       },
       "data": [
        {
         "domain": {
          "x": [
           0,
           1
          ],
          "y": [
           0,
           1
          ]
         },
         "hovertemplate": "BATHROOMS=%{label}<br>Value=%{value}<extra></extra>",
         "labels": [
          2,
          1,
          3,
          4,
          5,
          6,
          7,
          16
         ],
         "legendgroup": "",
         "name": "",
         "showlegend": true,
         "textinfo": "percent+label",
         "textposition": "inside",
         "type": "pie",
         "values": [
          22264,
          8839,
          2284,
          229,
          30,
          7,
          2,
          1
         ]
        }
       ],
       "layout": {
        "legend": {
         "title": {
          "text": "BATHROOMS"
         },
         "tracegroupgap": 0
        },
        "margin": {
         "b": 20,
         "l": 20,
         "r": 20,
         "t": 50
        },
        "piecolorway": [
         "rgb(141,211,199)",
         "rgb(255,255,179)",
         "rgb(190,186,218)",
         "rgb(251,128,114)",
         "rgb(128,177,211)",
         "rgb(253,180,98)",
         "rgb(179,222,105)",
         "rgb(252,205,229)",
         "rgb(217,217,217)",
         "rgb(188,128,189)",
         "rgb(204,235,197)",
         "rgb(255,237,111)"
        ],
        "template": {
         "data": {
          "bar": [
           {
            "error_x": {
             "color": "#2a3f5f"
            },
            "error_y": {
             "color": "#2a3f5f"
            },
            "marker": {
             "line": {
              "color": "#E5ECF6",
              "width": 0.5
             },
             "pattern": {
              "fillmode": "overlay",
              "size": 10,
              "solidity": 0.2
             }
            },
            "type": "bar"
           }
          ],
          "barpolar": [
           {
            "marker": {
             "line": {
              "color": "#E5ECF6",
              "width": 0.5
             },
             "pattern": {
              "fillmode": "overlay",
              "size": 10,
              "solidity": 0.2
             }
            },
            "type": "barpolar"
           }
          ],
          "carpet": [
           {
            "aaxis": {
             "endlinecolor": "#2a3f5f",
             "gridcolor": "white",
             "linecolor": "white",
             "minorgridcolor": "white",
             "startlinecolor": "#2a3f5f"
            },
            "baxis": {
             "endlinecolor": "#2a3f5f",
             "gridcolor": "white",
             "linecolor": "white",
             "minorgridcolor": "white",
             "startlinecolor": "#2a3f5f"
            },
            "type": "carpet"
           }
          ],
          "choropleth": [
           {
            "colorbar": {
             "outlinewidth": 0,
             "ticks": ""
            },
            "type": "choropleth"
           }
          ],
          "contour": [
           {
            "colorbar": {
             "outlinewidth": 0,
             "ticks": ""
            },
            "colorscale": [
             [
              0,
              "#0d0887"
             ],
             [
              0.1111111111111111,
              "#46039f"
             ],
             [
              0.2222222222222222,
              "#7201a8"
             ],
             [
              0.3333333333333333,
              "#9c179e"
             ],
             [
              0.4444444444444444,
              "#bd3786"
             ],
             [
              0.5555555555555556,
              "#d8576b"
             ],
             [
              0.6666666666666666,
              "#ed7953"
             ],
             [
              0.7777777777777778,
              "#fb9f3a"
             ],
             [
              0.8888888888888888,
              "#fdca26"
             ],
             [
              1,
              "#f0f921"
             ]
            ],
            "type": "contour"
           }
          ],
          "contourcarpet": [
           {
            "colorbar": {
             "outlinewidth": 0,
             "ticks": ""
            },
            "type": "contourcarpet"
           }
          ],
          "heatmap": [
           {
            "colorbar": {
             "outlinewidth": 0,
             "ticks": ""
            },
            "colorscale": [
             [
              0,
              "#0d0887"
             ],
             [
              0.1111111111111111,
              "#46039f"
             ],
             [
              0.2222222222222222,
              "#7201a8"
             ],
             [
              0.3333333333333333,
              "#9c179e"
             ],
             [
              0.4444444444444444,
              "#bd3786"
             ],
             [
              0.5555555555555556,
              "#d8576b"
             ],
             [
              0.6666666666666666,
              "#ed7953"
             ],
             [
              0.7777777777777778,
              "#fb9f3a"
             ],
             [
              0.8888888888888888,
              "#fdca26"
             ],
             [
              1,
              "#f0f921"
             ]
            ],
            "type": "heatmap"
           }
          ],
          "heatmapgl": [
           {
            "colorbar": {
             "outlinewidth": 0,
             "ticks": ""
            },
            "colorscale": [
             [
              0,
              "#0d0887"
             ],
             [
              0.1111111111111111,
              "#46039f"
             ],
             [
              0.2222222222222222,
              "#7201a8"
             ],
             [
              0.3333333333333333,
              "#9c179e"
             ],
             [
              0.4444444444444444,
              "#bd3786"
             ],
             [
              0.5555555555555556,
              "#d8576b"
             ],
             [
              0.6666666666666666,
              "#ed7953"
             ],
             [
              0.7777777777777778,
              "#fb9f3a"
             ],
             [
              0.8888888888888888,
              "#fdca26"
             ],
             [
              1,
              "#f0f921"
             ]
            ],
            "type": "heatmapgl"
           }
          ],
          "histogram": [
           {
            "marker": {
             "pattern": {
              "fillmode": "overlay",
              "size": 10,
              "solidity": 0.2
             }
            },
            "type": "histogram"
           }
          ],
          "histogram2d": [
           {
            "colorbar": {
             "outlinewidth": 0,
             "ticks": ""
            },
            "colorscale": [
             [
              0,
              "#0d0887"
             ],
             [
              0.1111111111111111,
              "#46039f"
             ],
             [
              0.2222222222222222,
              "#7201a8"
             ],
             [
              0.3333333333333333,
              "#9c179e"
             ],
             [
              0.4444444444444444,
              "#bd3786"
             ],
             [
              0.5555555555555556,
              "#d8576b"
             ],
             [
              0.6666666666666666,
              "#ed7953"
             ],
             [
              0.7777777777777778,
              "#fb9f3a"
             ],
             [
              0.8888888888888888,
              "#fdca26"
             ],
             [
              1,
              "#f0f921"
             ]
            ],
            "type": "histogram2d"
           }
          ],
          "histogram2dcontour": [
           {
            "colorbar": {
             "outlinewidth": 0,
             "ticks": ""
            },
            "colorscale": [
             [
              0,
              "#0d0887"
             ],
             [
              0.1111111111111111,
              "#46039f"
             ],
             [
              0.2222222222222222,
              "#7201a8"
             ],
             [
              0.3333333333333333,
              "#9c179e"
             ],
             [
              0.4444444444444444,
              "#bd3786"
             ],
             [
              0.5555555555555556,
              "#d8576b"
             ],
             [
              0.6666666666666666,
              "#ed7953"
             ],
             [
              0.7777777777777778,
              "#fb9f3a"
             ],
             [
              0.8888888888888888,
              "#fdca26"
             ],
             [
              1,
              "#f0f921"
             ]
            ],
            "type": "histogram2dcontour"
           }
          ],
          "mesh3d": [
           {
            "colorbar": {
             "outlinewidth": 0,
             "ticks": ""
            },
            "type": "mesh3d"
           }
          ],
          "parcoords": [
           {
            "line": {
             "colorbar": {
              "outlinewidth": 0,
              "ticks": ""
             }
            },
            "type": "parcoords"
           }
          ],
          "pie": [
           {
            "automargin": true,
            "type": "pie"
           }
          ],
          "scatter": [
           {
            "fillpattern": {
             "fillmode": "overlay",
             "size": 10,
             "solidity": 0.2
            },
            "type": "scatter"
           }
          ],
          "scatter3d": [
           {
            "line": {
             "colorbar": {
              "outlinewidth": 0,
              "ticks": ""
             }
            },
            "marker": {
             "colorbar": {
              "outlinewidth": 0,
              "ticks": ""
             }
            },
            "type": "scatter3d"
           }
          ],
          "scattercarpet": [
           {
            "marker": {
             "colorbar": {
              "outlinewidth": 0,
              "ticks": ""
             }
            },
            "type": "scattercarpet"
           }
          ],
          "scattergeo": [
           {
            "marker": {
             "colorbar": {
              "outlinewidth": 0,
              "ticks": ""
             }
            },
            "type": "scattergeo"
           }
          ],
          "scattergl": [
           {
            "marker": {
             "colorbar": {
              "outlinewidth": 0,
              "ticks": ""
             }
            },
            "type": "scattergl"
           }
          ],
          "scattermapbox": [
           {
            "marker": {
             "colorbar": {
              "outlinewidth": 0,
              "ticks": ""
             }
            },
            "type": "scattermapbox"
           }
          ],
          "scatterpolar": [
           {
            "marker": {
             "colorbar": {
              "outlinewidth": 0,
              "ticks": ""
             }
            },
            "type": "scatterpolar"
           }
          ],
          "scatterpolargl": [
           {
            "marker": {
             "colorbar": {
              "outlinewidth": 0,
              "ticks": ""
             }
            },
            "type": "scatterpolargl"
           }
          ],
          "scatterternary": [
           {
            "marker": {
             "colorbar": {
              "outlinewidth": 0,
              "ticks": ""
             }
            },
            "type": "scatterternary"
           }
          ],
          "surface": [
           {
            "colorbar": {
             "outlinewidth": 0,
             "ticks": ""
            },
            "colorscale": [
             [
              0,
              "#0d0887"
             ],
             [
              0.1111111111111111,
              "#46039f"
             ],
             [
              0.2222222222222222,
              "#7201a8"
             ],
             [
              0.3333333333333333,
              "#9c179e"
             ],
             [
              0.4444444444444444,
              "#bd3786"
             ],
             [
              0.5555555555555556,
              "#d8576b"
             ],
             [
              0.6666666666666666,
              "#ed7953"
             ],
             [
              0.7777777777777778,
              "#fb9f3a"
             ],
             [
              0.8888888888888888,
              "#fdca26"
             ],
             [
              1,
              "#f0f921"
             ]
            ],
            "type": "surface"
           }
          ],
          "table": [
           {
            "cells": {
             "fill": {
              "color": "#EBF0F8"
             },
             "line": {
              "color": "white"
             }
            },
            "header": {
             "fill": {
              "color": "#C8D4E3"
             },
             "line": {
              "color": "white"
             }
            },
            "type": "table"
           }
          ]
         },
         "layout": {
          "annotationdefaults": {
           "arrowcolor": "#2a3f5f",
           "arrowhead": 0,
           "arrowwidth": 1
          },
          "autotypenumbers": "strict",
          "coloraxis": {
           "colorbar": {
            "outlinewidth": 0,
            "ticks": ""
           }
          },
          "colorscale": {
           "diverging": [
            [
             0,
             "#8e0152"
            ],
            [
             0.1,
             "#c51b7d"
            ],
            [
             0.2,
             "#de77ae"
            ],
            [
             0.3,
             "#f1b6da"
            ],
            [
             0.4,
             "#fde0ef"
            ],
            [
             0.5,
             "#f7f7f7"
            ],
            [
             0.6,
             "#e6f5d0"
            ],
            [
             0.7,
             "#b8e186"
            ],
            [
             0.8,
             "#7fbc41"
            ],
            [
             0.9,
             "#4d9221"
            ],
            [
             1,
             "#276419"
            ]
           ],
           "sequential": [
            [
             0,
             "#0d0887"
            ],
            [
             0.1111111111111111,
             "#46039f"
            ],
            [
             0.2222222222222222,
             "#7201a8"
            ],
            [
             0.3333333333333333,
             "#9c179e"
            ],
            [
             0.4444444444444444,
             "#bd3786"
            ],
            [
             0.5555555555555556,
             "#d8576b"
            ],
            [
             0.6666666666666666,
             "#ed7953"
            ],
            [
             0.7777777777777778,
             "#fb9f3a"
            ],
            [
             0.8888888888888888,
             "#fdca26"
            ],
            [
             1,
             "#f0f921"
            ]
           ],
           "sequentialminus": [
            [
             0,
             "#0d0887"
            ],
            [
             0.1111111111111111,
             "#46039f"
            ],
            [
             0.2222222222222222,
             "#7201a8"
            ],
            [
             0.3333333333333333,
             "#9c179e"
            ],
            [
             0.4444444444444444,
             "#bd3786"
            ],
            [
             0.5555555555555556,
             "#d8576b"
            ],
            [
             0.6666666666666666,
             "#ed7953"
            ],
            [
             0.7777777777777778,
             "#fb9f3a"
            ],
            [
             0.8888888888888888,
             "#fdca26"
            ],
            [
             1,
             "#f0f921"
            ]
           ]
          },
          "colorway": [
           "#636efa",
           "#EF553B",
           "#00cc96",
           "#ab63fa",
           "#FFA15A",
           "#19d3f3",
           "#FF6692",
           "#B6E880",
           "#FF97FF",
           "#FECB52"
          ],
          "font": {
           "color": "#2a3f5f"
          },
          "geo": {
           "bgcolor": "white",
           "lakecolor": "white",
           "landcolor": "#E5ECF6",
           "showlakes": true,
           "showland": true,
           "subunitcolor": "white"
          },
          "hoverlabel": {
           "align": "left"
          },
          "hovermode": "closest",
          "mapbox": {
           "style": "light"
          },
          "paper_bgcolor": "white",
          "plot_bgcolor": "#E5ECF6",
          "polar": {
           "angularaxis": {
            "gridcolor": "white",
            "linecolor": "white",
            "ticks": ""
           },
           "bgcolor": "#E5ECF6",
           "radialaxis": {
            "gridcolor": "white",
            "linecolor": "white",
            "ticks": ""
           }
          },
          "scene": {
           "xaxis": {
            "backgroundcolor": "#E5ECF6",
            "gridcolor": "white",
            "gridwidth": 2,
            "linecolor": "white",
            "showbackground": true,
            "ticks": "",
            "zerolinecolor": "white"
           },
           "yaxis": {
            "backgroundcolor": "#E5ECF6",
            "gridcolor": "white",
            "gridwidth": 2,
            "linecolor": "white",
            "showbackground": true,
            "ticks": "",
            "zerolinecolor": "white"
           },
           "zaxis": {
            "backgroundcolor": "#E5ECF6",
            "gridcolor": "white",
            "gridwidth": 2,
            "linecolor": "white",
            "showbackground": true,
            "ticks": "",
            "zerolinecolor": "white"
           }
          },
          "shapedefaults": {
           "line": {
            "color": "#2a3f5f"
           }
          },
          "ternary": {
           "aaxis": {
            "gridcolor": "white",
            "linecolor": "white",
            "ticks": ""
           },
           "baxis": {
            "gridcolor": "white",
            "linecolor": "white",
            "ticks": ""
           },
           "bgcolor": "#E5ECF6",
           "caxis": {
            "gridcolor": "white",
            "linecolor": "white",
            "ticks": ""
           }
          },
          "title": {
           "x": 0.05
          },
          "xaxis": {
           "automargin": true,
           "gridcolor": "white",
           "linecolor": "white",
           "ticks": "",
           "title": {
            "standoff": 15
           },
           "zerolinecolor": "white",
           "zerolinewidth": 2
          },
          "yaxis": {
           "automargin": true,
           "gridcolor": "white",
           "linecolor": "white",
           "ticks": "",
           "title": {
            "standoff": 15
           },
           "zerolinecolor": "white",
           "zerolinewidth": 2
          }
         }
        },
        "title": {
         "font": {
          "size": 20
         },
         "text": "Persebaran Rumah berdasarkan Jumlah Kamar Mandi",
         "x": 0.5
        }
       }
      }
     },
     "metadata": {},
     "output_type": "display_data"
    }
   ],
   "source": [
    "# Menghitung jumlah kamar mandi\n",
    "df3 = data['BATHROOMS'].value_counts().reset_index()\n",
    "df3.columns = ['BATHROOMS', 'Value']\n",
    "\n",
    "# Mengatur sequence warna\n",
    "colors = px.colors.qualitative.Set3\n",
    "\n",
    "# Membuat pie chart dengan pengaturan visual yang diperindah\n",
    "fig3 = px.pie(df3, \n",
    "              values='Value', \n",
    "              names='BATHROOMS', \n",
    "              color_discrete_sequence=colors,\n",
    "              title='Persebaran Rumah berdasarkan Jumlah Kamar Mandi')\n",
    "\n",
    "# Menambahkan layout yang lebih rapi\n",
    "fig3.update_traces(textposition='inside', textinfo='percent+label')\n",
    "fig3.update_layout(\n",
    "    margin=dict(l=20, r=20, t=50, b=20),\n",
    "    legend=dict(title='BATHROOMS'),\n",
    "    title_font=dict(size=20),\n",
    "    title_x=0.5\n",
    ")\n",
    "\n",
    "# Menampilkan pie chart\n",
    "fig3.show()"
   ]
  },
  {
   "cell_type": "markdown",
   "metadata": {},
   "source": [
    "**INSIGHT :**\n",
    "-   Dapat dilihat dari pie chart diatas, bahwa kebanyakan rumah pada kawasan perth memiliki jumlah kamar mandi sebanyak 2 kamar mandi dengan presentase 66.2%\n",
    "-   Diikuti dengan jumlah kamar sebanyak 1 kamar sebanyak 26.3%\n",
    "-   Hal ini bisa dikatakan normal, dikarenakan memang tidak hanya di perth australia, bahkan di indonesia pun kebanyakan rumah hanya memiliki kamar mandi dengan jumlah 1-2 kamar mandi."
   ]
  },
  {
   "cell_type": "markdown",
   "metadata": {},
   "source": [
    "### Melihat 5 Kota Mana Saja Yang Memiliki Rata-Rata Harga Rumah Tertinggi"
   ]
  },
  {
   "cell_type": "code",
   "execution_count": 12,
   "metadata": {},
   "outputs": [
    {
     "data": {
      "text/html": [
       "<div>\n",
       "<style scoped>\n",
       "    .dataframe tbody tr th:only-of-type {\n",
       "        vertical-align: middle;\n",
       "    }\n",
       "\n",
       "    .dataframe tbody tr th {\n",
       "        vertical-align: top;\n",
       "    }\n",
       "\n",
       "    .dataframe thead th {\n",
       "        text-align: right;\n",
       "    }\n",
       "</style>\n",
       "<table border=\"1\" class=\"dataframe\">\n",
       "  <thead>\n",
       "    <tr style=\"text-align: right;\">\n",
       "      <th></th>\n",
       "      <th>SUBURB</th>\n",
       "      <th>mean_price</th>\n",
       "      <th>mean_cbd_dist</th>\n",
       "    </tr>\n",
       "  </thead>\n",
       "  <tbody>\n",
       "    <tr>\n",
       "      <th>83</th>\n",
       "      <td>Dalkeith</td>\n",
       "      <td>1.951092e+06</td>\n",
       "      <td>7454.794521</td>\n",
       "    </tr>\n",
       "    <tr>\n",
       "      <th>237</th>\n",
       "      <td>Peppermint Grove</td>\n",
       "      <td>1.793549e+06</td>\n",
       "      <td>10402.439024</td>\n",
       "    </tr>\n",
       "    <tr>\n",
       "      <th>67</th>\n",
       "      <td>City Beach</td>\n",
       "      <td>1.654765e+06</td>\n",
       "      <td>9414.102564</td>\n",
       "    </tr>\n",
       "    <tr>\n",
       "      <th>214</th>\n",
       "      <td>Nedlands</td>\n",
       "      <td>1.647442e+06</td>\n",
       "      <td>6021.153846</td>\n",
       "    </tr>\n",
       "    <tr>\n",
       "      <th>78</th>\n",
       "      <td>Cottesloe</td>\n",
       "      <td>1.646283e+06</td>\n",
       "      <td>10357.971014</td>\n",
       "    </tr>\n",
       "  </tbody>\n",
       "</table>\n",
       "</div>"
      ],
      "text/plain": [
       "               SUBURB    mean_price  mean_cbd_dist\n",
       "83           Dalkeith  1.951092e+06    7454.794521\n",
       "237  Peppermint Grove  1.793549e+06   10402.439024\n",
       "67         City Beach  1.654765e+06    9414.102564\n",
       "214          Nedlands  1.647442e+06    6021.153846\n",
       "78          Cottesloe  1.646283e+06   10357.971014"
      ]
     },
     "execution_count": 12,
     "metadata": {},
     "output_type": "execute_result"
    }
   ],
   "source": [
    "# Melihat top 5 harga rumah bersarakan suburb\n",
    "top5_city_price = (data\n",
    "            .groupby(['SUBURB'])\n",
    "            .agg(mean_price=('PRICE','mean'), mean_cbd_dist=('CBD_DIST','mean'))\n",
    "            .reset_index()\n",
    "            .sort_values('mean_price',ascending=False)\n",
    "            .head(5)\n",
    "            )\n",
    "top5_city_price"
   ]
  },
  {
   "cell_type": "code",
   "execution_count": 13,
   "metadata": {},
   "outputs": [
    {
     "data": {
      "text/plain": [
       "<Axes: xlabel='SUBURB', ylabel='mean_price'>"
      ]
     },
     "execution_count": 13,
     "metadata": {},
     "output_type": "execute_result"
    },
    {
     "data": {
      "image/png": "[encoded data removed]",
      "text/plain": [
       "<Figure size 800x600 with 1 Axes>"
      ]
     },
     "metadata": {},
     "output_type": "display_data"
    }
   ],
   "source": [
    "plt.figure(figsize=(8,6))\n",
    "top5_city_price['SUBURB'] = top5_city_price['SUBURB'].astype(str)\n",
    "sns.barplot(data=top5_city_price, x='SUBURB', y='mean_price')"
   ]
  },
  {
   "cell_type": "markdown",
   "metadata": {},
   "source": [
    "**INSIGHT :**\n",
    "-   Terlihat pada barchart diatas, bahwa kawasan pada perth yang memiliki rata-rata harga rumah termahal terdapat pada :\n",
    "    -   Daiketh dengan rata-rata harga rumah sebesar 1,951,092 AUD\n",
    "    -   Peppermint Grove dengan rata-rata harga rumah sebsar 1.793.549 AUD\n",
    "    -   City Beach dengan rata-rata harga rumah sebesar\t1,654,765 AUD\n",
    "    -   Nedlands dengan rata-rata harga rumah sebesar\t1,647,442 AUD\n",
    "    -   Cottesloe dengan rata-rata harga rumah sebesar\t1,646,283 AUD\n",
    "-   Hal ini mengindikasi bahwa rata-rata harga pada kawasan perth bisa dikatakan tidaklah murah. Sehingga hal ini bisa dijadikan strategi untuk pemilik property agar menargetkan calon pembeli yang memang benar-benar memiliki impian untuk tinggal di daerah perth."
   ]
  },
  {
   "cell_type": "markdown",
   "metadata": {},
   "source": [
    "### Melihat Hubungan Price Dengan Rata-Rata NEAREST_SCH_DIST"
   ]
  },
  {
   "cell_type": "code",
   "execution_count": 14,
   "metadata": {},
   "outputs": [
    {
     "data": {
      "text/html": [
       "<div>\n",
       "<style scoped>\n",
       "    .dataframe tbody tr th:only-of-type {\n",
       "        vertical-align: middle;\n",
       "    }\n",
       "\n",
       "    .dataframe tbody tr th {\n",
       "        vertical-align: top;\n",
       "    }\n",
       "\n",
       "    .dataframe thead th {\n",
       "        text-align: right;\n",
       "    }\n",
       "</style>\n",
       "<table border=\"1\" class=\"dataframe\">\n",
       "  <thead>\n",
       "    <tr style=\"text-align: right;\">\n",
       "      <th></th>\n",
       "      <th>SUBURB</th>\n",
       "      <th>mean_price</th>\n",
       "      <th>mean_nearest_sch_dist</th>\n",
       "    </tr>\n",
       "  </thead>\n",
       "  <tbody>\n",
       "    <tr>\n",
       "      <th>167</th>\n",
       "      <td>Kwinana Town Centre</td>\n",
       "      <td>1.855983e+05</td>\n",
       "      <td>0.465059</td>\n",
       "    </tr>\n",
       "    <tr>\n",
       "      <th>237</th>\n",
       "      <td>Peppermint Grove</td>\n",
       "      <td>1.793549e+06</td>\n",
       "      <td>0.472977</td>\n",
       "    </tr>\n",
       "    <tr>\n",
       "      <th>191</th>\n",
       "      <td>Merriwa</td>\n",
       "      <td>3.331893e+05</td>\n",
       "      <td>0.484518</td>\n",
       "    </tr>\n",
       "    <tr>\n",
       "      <th>172</th>\n",
       "      <td>Leederville</td>\n",
       "      <td>8.591136e+05</td>\n",
       "      <td>0.495988</td>\n",
       "    </tr>\n",
       "    <tr>\n",
       "      <th>170</th>\n",
       "      <td>Lathlain</td>\n",
       "      <td>7.269861e+05</td>\n",
       "      <td>0.572652</td>\n",
       "    </tr>\n",
       "  </tbody>\n",
       "</table>\n",
       "</div>"
      ],
      "text/plain": [
       "                  SUBURB    mean_price  mean_nearest_sch_dist\n",
       "167  Kwinana Town Centre  1.855983e+05               0.465059\n",
       "237     Peppermint Grove  1.793549e+06               0.472977\n",
       "191              Merriwa  3.331893e+05               0.484518\n",
       "172          Leederville  8.591136e+05               0.495988\n",
       "170             Lathlain  7.269861e+05               0.572652"
      ]
     },
     "execution_count": 14,
     "metadata": {},
     "output_type": "execute_result"
    }
   ],
   "source": [
    "# Melihat top data mean nearest sch dist berdasarkan harga dan suburb\n",
    "nearest_sch_price = (data\n",
    "            .groupby(['SUBURB'])\n",
    "            .agg(mean_price=('PRICE','mean'), mean_nearest_sch_dist=('NEAREST_SCH_DIST','mean'))\n",
    "            .reset_index()\n",
    "            .sort_values('mean_nearest_sch_dist',ascending=True))\n",
    "nearest_sch_price.head(5)"
   ]
  },
  {
   "cell_type": "code",
   "execution_count": 15,
   "metadata": {},
   "outputs": [
    {
     "data": {
      "image/png": "[encoded data removed]",
      "text/plain": [
       "<Figure size 640x480 with 1 Axes>"
      ]
     },
     "metadata": {},
     "output_type": "display_data"
    }
   ],
   "source": [
    "# Membuat scatter plot\n",
    "plt.scatter(x='mean_nearest_sch_dist', y='mean_price', data=nearest_sch_price, alpha=0.5)\n",
    "\n",
    "# Menambahkan label sumbu dan judul\n",
    "plt.xlabel('NEAREST_SCH_DIST')\n",
    "plt.ylabel('Harga Rumah')\n",
    "plt.title('Hubungan Price Dengan NEAREST_SCH_DIST')\n",
    "\n",
    "# Menampilkan plot\n",
    "plt.show()"
   ]
  },
  {
   "cell_type": "markdown",
   "metadata": {},
   "source": [
    "**INSIGHT :**\n",
    "-   Terlihat pada scatterplot diatas, bahwa jarak sekolah terdekat tidak selalu berpengaruh terhadap harga rumah. Dimana jika kita lihat pada tabel diatas, terdapat rumah-rumah yang memiliki harga yang bisa dibilang tinggi walaupun dekat dengan jarak sekolah. Hal ini memang bisa terjadi dikarenakan terdapat faktor-faktor lain yang bisa mempengaruhi harga rumah mulai dari luas lantai, jumlah kamar, jumlah kamar mandi, garasi, dll."
   ]
  },
  {
   "cell_type": "markdown",
   "metadata": {},
   "source": [
    "### Melihat Hubungan Price Dengan NEAREST_STN_DIST\t"
   ]
  },
  {
   "cell_type": "code",
   "execution_count": 16,
   "metadata": {},
   "outputs": [
    {
     "data": {
      "text/html": [
       "<div>\n",
       "<style scoped>\n",
       "    .dataframe tbody tr th:only-of-type {\n",
       "        vertical-align: middle;\n",
       "    }\n",
       "\n",
       "    .dataframe tbody tr th {\n",
       "        vertical-align: top;\n",
       "    }\n",
       "\n",
       "    .dataframe thead th {\n",
       "        text-align: right;\n",
       "    }\n",
       "</style>\n",
       "<table border=\"1\" class=\"dataframe\">\n",
       "  <thead>\n",
       "    <tr style=\"text-align: right;\">\n",
       "      <th></th>\n",
       "      <th>SUBURB</th>\n",
       "      <th>mean_price</th>\n",
       "      <th>mean_nearest_stn_dist</th>\n",
       "    </tr>\n",
       "  </thead>\n",
       "  <tbody>\n",
       "    <tr>\n",
       "      <th>313</th>\n",
       "      <td>Woodbridge</td>\n",
       "      <td>6.005476e+05</td>\n",
       "      <td>349.134454</td>\n",
       "    </tr>\n",
       "    <tr>\n",
       "      <th>300</th>\n",
       "      <td>Welshpool</td>\n",
       "      <td>4.650000e+05</td>\n",
       "      <td>467.000000</td>\n",
       "    </tr>\n",
       "    <tr>\n",
       "      <th>82</th>\n",
       "      <td>Daglish</td>\n",
       "      <td>1.044677e+06</td>\n",
       "      <td>468.525253</td>\n",
       "    </tr>\n",
       "    <tr>\n",
       "      <th>49</th>\n",
       "      <td>Burswood</td>\n",
       "      <td>9.752286e+05</td>\n",
       "      <td>473.285714</td>\n",
       "    </tr>\n",
       "    <tr>\n",
       "      <th>78</th>\n",
       "      <td>Cottesloe</td>\n",
       "      <td>1.646283e+06</td>\n",
       "      <td>502.942029</td>\n",
       "    </tr>\n",
       "  </tbody>\n",
       "</table>\n",
       "</div>"
      ],
      "text/plain": [
       "         SUBURB    mean_price  mean_nearest_stn_dist\n",
       "313  Woodbridge  6.005476e+05             349.134454\n",
       "300   Welshpool  4.650000e+05             467.000000\n",
       "82      Daglish  1.044677e+06             468.525253\n",
       "49     Burswood  9.752286e+05             473.285714\n",
       "78    Cottesloe  1.646283e+06             502.942029"
      ]
     },
     "execution_count": 16,
     "metadata": {},
     "output_type": "execute_result"
    }
   ],
   "source": [
    "# Melihat nearest stn dist berdasarkan harga dan suburb\n",
    "nearest_stn_price = (data\n",
    "            .groupby(['SUBURB'])\n",
    "            .agg(mean_price=('PRICE','mean'), mean_nearest_stn_dist=('NEAREST_STN_DIST','mean'))\n",
    "            .reset_index()\n",
    "            .sort_values('mean_nearest_stn_dist',ascending=True))\n",
    "nearest_stn_price.head(5)"
   ]
  },
  {
   "cell_type": "code",
   "execution_count": 17,
   "metadata": {},
   "outputs": [
    {
     "data": {
      "image/png": "[encoded data removed]",
      "text/plain": [
       "<Figure size 640x480 with 1 Axes>"
      ]
     },
     "metadata": {},
     "output_type": "display_data"
    }
   ],
   "source": [
    "# Membuat scatter plot\n",
    "plt.scatter(x='mean_nearest_stn_dist', y='mean_price', data=nearest_stn_price, alpha=0.5)\n",
    "\n",
    "# Menambahkan label sumbu dan judul\n",
    "plt.xlabel('Harga Rumah')\n",
    "plt.ylabel('NEAREST_STN_DIST')\n",
    "plt.title('Hubungan Price Dengan NEAREST_STN_DIST')\n",
    "\n",
    "# Menampilkan plot\n",
    "plt.show()"
   ]
  },
  {
   "cell_type": "markdown",
   "metadata": {},
   "source": [
    "**INSIGHT :**\n",
    "-   Terlihat pada scatterplot diatas, bahwa jarak stasiun terdekat tidak selalu berpengaruh terhadap harga rumah sama seperti dengan jarak sekolah. Dimana jika kita lihat pada tabel diatas, terdapat rumah-rumah yang memiliki harga yang bisa dibilang tinggi walaupun dekat dengan jarak statsiun. Hal ini memang bisa terjadi dikarenakan faktor dari stasiun itu sendiri, stasiun yang memiliki jurusan yang banyak atau sedikit atau stasiun yang biasanya dikujungi orang-orang atau tidak. Selain itu terdapat faktor-faktor lain yang bisa mempengaruhi harga rumah mulai dari luas lantai, jumlah kamar, jumlah kamar mandi, garasi, dll."
   ]
  },
  {
   "cell_type": "markdown",
   "metadata": {},
   "source": [
    "### Melihat Hubungan Price Dengan CBD_DIST\t"
   ]
  },
  {
   "cell_type": "code",
   "execution_count": 18,
   "metadata": {},
   "outputs": [
    {
     "data": {
      "text/html": [
       "<div>\n",
       "<style scoped>\n",
       "    .dataframe tbody tr th:only-of-type {\n",
       "        vertical-align: middle;\n",
       "    }\n",
       "\n",
       "    .dataframe tbody tr th {\n",
       "        vertical-align: top;\n",
       "    }\n",
       "\n",
       "    .dataframe thead th {\n",
       "        text-align: right;\n",
       "    }\n",
       "</style>\n",
       "<table border=\"1\" class=\"dataframe\">\n",
       "  <thead>\n",
       "    <tr style=\"text-align: right;\">\n",
       "      <th></th>\n",
       "      <th>SUBURB</th>\n",
       "      <th>mean_price</th>\n",
       "      <th>mean_cbd_dist</th>\n",
       "    </tr>\n",
       "  </thead>\n",
       "  <tbody>\n",
       "    <tr>\n",
       "      <th>223</th>\n",
       "      <td>Northbridge</td>\n",
       "      <td>721636.363636</td>\n",
       "      <td>1254.181818</td>\n",
       "    </tr>\n",
       "    <tr>\n",
       "      <th>93</th>\n",
       "      <td>East Perth</td>\n",
       "      <td>510181.818182</td>\n",
       "      <td>1590.909091</td>\n",
       "    </tr>\n",
       "    <tr>\n",
       "      <th>304</th>\n",
       "      <td>West Perth</td>\n",
       "      <td>681065.217391</td>\n",
       "      <td>1613.043478</td>\n",
       "    </tr>\n",
       "    <tr>\n",
       "      <th>128</th>\n",
       "      <td>Highgate</td>\n",
       "      <td>790883.026316</td>\n",
       "      <td>1776.315789</td>\n",
       "    </tr>\n",
       "    <tr>\n",
       "      <th>222</th>\n",
       "      <td>North Perth</td>\n",
       "      <td>849586.666667</td>\n",
       "      <td>2826.666667</td>\n",
       "    </tr>\n",
       "  </tbody>\n",
       "</table>\n",
       "</div>"
      ],
      "text/plain": [
       "          SUBURB     mean_price  mean_cbd_dist\n",
       "223  Northbridge  721636.363636    1254.181818\n",
       "93    East Perth  510181.818182    1590.909091\n",
       "304   West Perth  681065.217391    1613.043478\n",
       "128     Highgate  790883.026316    1776.315789\n",
       "222  North Perth  849586.666667    2826.666667"
      ]
     },
     "execution_count": 18,
     "metadata": {},
     "output_type": "execute_result"
    }
   ],
   "source": [
    "# Melihat rata-rata cbd dist berdasarkan harga dan sub urb\n",
    "cbd_dist_price = (data\n",
    "            .groupby(['SUBURB'])\n",
    "            .agg(mean_price=('PRICE','mean'), mean_cbd_dist=('CBD_DIST','mean'))\n",
    "            .reset_index()\n",
    "            .sort_values('mean_cbd_dist',ascending=True))\n",
    "cbd_dist_price.head(5)"
   ]
  },
  {
   "cell_type": "code",
   "execution_count": 19,
   "metadata": {},
   "outputs": [
    {
     "data": {
      "image/png": "[encoded data removed]",
      "text/plain": [
       "<Figure size 640x480 with 1 Axes>"
      ]
     },
     "metadata": {},
     "output_type": "display_data"
    }
   ],
   "source": [
    "# Membuat scatter plot\n",
    "plt.scatter(x='mean_cbd_dist', y='mean_price', data=cbd_dist_price, alpha=0.5)\n",
    "\n",
    "# Menambahkan label sumbu dan judul\n",
    "plt.xlabel('CBD_DIST')\n",
    "plt.ylabel('Harga Rumah')\n",
    "plt.title('Hubungan Price Dengan CBD_DIST')\n",
    "\n",
    "# Menampilkan plot\n",
    "plt.show()"
   ]
  },
  {
   "cell_type": "markdown",
   "metadata": {},
   "source": [
    "**INSIGHT :**\n",
    "-   Terlihat pada scatterplot diatas, bahwa jarak Kawasan Pusat Bisnis bisa dikatakan memiliki pengaruh, dimana semakin dekat rumah dengan kawasan bisnis maka harga rumah tersebut semakin tinggi. Selain itu, terdapat juga harga rumah yang tinggi walaupun jarak ke kawasan pusat bisnis tidak terlalu dekat. Hal ini bisa terjadi dikarenakan terdapat faktor-faktor lain yang mempengaruhi harga rumah tersebut. Seperti kawasannya, luas lantai rumah, jumlah kamar, jumlah kamar mandi, dan lain-lain."
   ]
  },
  {
   "cell_type": "markdown",
   "metadata": {},
   "source": [
    "# 5. Feature Engineering"
   ]
  },
  {
   "cell_type": "markdown",
   "metadata": {},
   "source": [
    "> Bagian ini berisi proses penyiapan data untuk proses pelatihan model, seperti transformasi data (normalisasi, encoding, dll.), dan proses-proses lain yang dibutuhkan."
   ]
  },
  {
   "cell_type": "markdown",
   "metadata": {},
   "source": [
    "## Data Editing"
   ]
  },
  {
   "cell_type": "code",
   "execution_count": 20,
   "metadata": {},
   "outputs": [],
   "source": [
    "# Duplicate Data\n",
    "dataduplicate = data.copy()\n",
    "\n",
    "# Melakukan drop pada column addres karena tidak ada hubungan dengan harga rumah\n",
    "dataduplicate.drop(['ADDRESS'],axis=1,inplace=True)\n",
    "\n",
    "# Melakukan drop pada column NEAREST_STN karena tidak ada hubungan dengan harga rumah\n",
    "dataduplicate.drop(['NEAREST_STN'],axis=1,inplace=True)\n",
    "\n",
    "# Melakukan drop pada column NEAREST_SCH karena tidak ada hubungan dengan harga rumah\n",
    "dataduplicate.drop(['NEAREST_SCH'],axis=1,inplace=True)\n",
    "\n",
    "# Melakukan drop pada column DATE_SOLD karena tidak ada hubungan dengan harga rumah\n",
    "dataduplicate.drop(['DATE_SOLD'],axis=1,inplace=True)"
   ]
  },
  {
   "cell_type": "markdown",
   "metadata": {},
   "source": [
    "## Mengecek Duplicate Data"
   ]
  },
  {
   "cell_type": "code",
   "execution_count": 21,
   "metadata": {},
   "outputs": [
    {
     "name": "stdout",
     "output_type": "stream",
     "text": [
      "Jumlah Data Duplicate 0\n"
     ]
    }
   ],
   "source": [
    "# Melakukan Checking Data Duplicate\n",
    "duplicate = dataduplicate.duplicated().sum()\n",
    "print(f'Jumlah Data Duplicate {duplicate}')"
   ]
  },
  {
   "cell_type": "markdown",
   "metadata": {},
   "source": [
    "## Membagi Data menjadi data Numerikal dan Kategorikal"
   ]
  },
  {
   "cell_type": "code",
   "execution_count": 22,
   "metadata": {},
   "outputs": [],
   "source": [
    "# Membuat variabel categorical\n",
    "categorical_data = dataduplicate[['SUBURB']]\n",
    "\n",
    "# Membuat Variabel Numerical\n",
    "numerical_data = dataduplicate[['PRICE', 'BEDROOMS','BATHROOMS','GARAGE','LAND_AREA', 'FLOOR_AREA', \"BUILD_YEAR\",'CBD_DIST','NEAREST_STN_DIST', 'POSTCODE', 'LATITUDE',\t\n",
    "                                'LONGITUDE', 'NEAREST_SCH_DIST', 'NEAREST_SCH_RANK']]"
   ]
  },
  {
   "cell_type": "markdown",
   "metadata": {},
   "source": [
    "## Cardinality Handling"
   ]
  },
  {
   "cell_type": "markdown",
   "metadata": {},
   "source": [
    "> Handling Cardinality Hanya dilakukan pada kolom Categorical"
   ]
  },
  {
   "cell_type": "code",
   "execution_count": 23,
   "metadata": {},
   "outputs": [
    {
     "name": "stdout",
     "output_type": "stream",
     "text": [
      "cardinality kolom SUBURB: 321\n"
     ]
    }
   ],
   "source": [
    "# Menghitung Cardinality pada data categorical\n",
    "for i in categorical_data.columns:\n",
    "    print(f'cardinality kolom {i}:', categorical_data[i].nunique())\n"
   ]
  },
  {
   "cell_type": "markdown",
   "metadata": {},
   "source": [
    "**INSIGHT :**\n",
    "-   Terdapat 321 unique values pada column SUBURB yang menunjukkan high cardinality. Sehingga perlu dilakukan Handling Cardinality.\n",
    "-   Saya akan membagi SUBURB pada data berdasarkan Local Goverment Area berdasarkan dari sumber dari Wikipedia List of Perth Suburbs (https://en.wikipedia.org/wiki/List_of_Perth_suburbs)"
   ]
  },
  {
   "cell_type": "code",
   "execution_count": 24,
   "metadata": {},
   "outputs": [
    {
     "data": {
      "text/plain": [
       "array(['South Lake', 'Wandi', 'Camillo', 'Bellevue', 'Lockridge',\n",
       "       'Mount Richon', 'Hilbert', 'Waikiki', 'Hamersley', 'Bayswater',\n",
       "       'Carmel', 'Butler', 'Balga', 'Hammond Park', 'Wattle Grove',\n",
       "       'Bull Creek', 'Bullsbrook', 'Maida Vale', 'Koongamia',\n",
       "       'Mount Nasura', 'Forrestdale', 'Atwell', 'Ashby', 'Woodbridge',\n",
       "       'Bicton', 'Singleton', 'South Guildford', 'Armadale', 'Kenwick',\n",
       "       'Hamilton Hill', 'Port Kennedy', 'Roleystone', 'Glen Forrest',\n",
       "       'Secret Harbour', 'Herne Hill', 'Gwelup', 'Harrisdale',\n",
       "       'North Fremantle', 'Quinns Rocks', 'Spearwood', 'Parkwood',\n",
       "       'Tapping', 'Thornlie', 'Baldivis', 'Kensington', 'Kiara', 'Menora',\n",
       "       'Southern River', 'Bibra Lake', 'Swanbourne', 'The Vines',\n",
       "       'Stratton', 'North Beach', 'Haynes', 'Madeley', 'Wembley Downs',\n",
       "       'Bentley', 'Manning', 'Warwick', 'Queens Park', 'Medina',\n",
       "       'Kalamunda', 'Merriwa', 'Aubin Grove', 'Karrinyup',\n",
       "       'Gooseberry Hill', 'Darch', 'Hillarys', 'Alexander Heights',\n",
       "       'St James', 'Bassendean', 'Ardross', 'Bedfordale', 'Success',\n",
       "       'Ballajura', 'Leda', 'Bateman', 'Eglinton', 'Orelia', 'Beckenham',\n",
       "       'Edgewater', 'Helena Valley', 'East Cannington', 'Marmion',\n",
       "       'Maddington', 'Mount Claremont', 'Greenwood', 'Beechboro',\n",
       "       'Wembley', 'Iluka', 'Mundaring', 'Salter Point', 'Mount Pleasant',\n",
       "       'Warnbro', 'Byford', 'Willagee', 'Bertram', 'Mullaloo',\n",
       "       'Woodlands', 'Wellard', 'Rossmoyne', 'Beaconsfield', 'Brentwood',\n",
       "       'Carine', 'Beldon', 'Hillman', 'Swan View', 'Bennett Springs',\n",
       "       'Claremont', 'Mount Hawthorn', 'Ferndale', 'Boya', 'Aveley',\n",
       "       'Midland', 'High Wycombe', 'Kinross', 'Guildford', 'North Coogee',\n",
       "       'Gnangara', 'Ascot', 'Osborne Park', 'Karragullen', 'Sinagra',\n",
       "       'Darlington', 'Redcliffe', 'Pearsall', 'Huntingdale', 'Dayton',\n",
       "       'Morley', 'Balcatta', 'Kwinana Town Centre', 'City Beach',\n",
       "       'Two Rocks', 'Kallaroo', 'Banksia Grove', 'Noranda', 'Yangebup',\n",
       "       'Mindarie', 'Calista', 'Marangaroo', 'Mount Helena', 'Duncraig',\n",
       "       'Kewdale', 'Shoalwater', 'Melville', 'Leeming', 'Walliston',\n",
       "       'Kardinya', 'Landsdale', 'Serpentine', 'Brookdale', 'Coolbellup',\n",
       "       'Jandakot', 'Darling Downs', 'Hilton', 'Parkerville', 'Stoneville',\n",
       "       'Coogee', 'Mirrabooka', 'Subiaco', 'Lesmurdie', 'Jane Brook',\n",
       "       'Mahogany Creek', 'Middle Swan', 'Forrestfield', 'South Fremantle',\n",
       "       'Rockingham', 'Dalkeith', 'Cannington', 'Seville Grove',\n",
       "       'Safety Bay', 'Mosman Park', 'Ocean Reef', 'Jolimont', 'Carramar',\n",
       "       'Viveash', 'Sawyers Valley', 'Connolly', 'Joondalup', 'Nedlands',\n",
       "       'Ridgewood', 'Myaree', 'Applecross', 'Midvale', 'Ashfield',\n",
       "       'Clarkson', 'Mardella', 'Burns Beach', 'Rivervale', 'Craigie',\n",
       "       'Langford', 'Hocking', 'Parmelia', 'Piara Waters', 'Baskerville',\n",
       "       'Cooloongup', 'Nollamara', 'Palmyra', 'Waterford', 'Currambine',\n",
       "       'Beeliar', 'Sorrento', 'Churchlands', 'Woodvale', 'Trigg',\n",
       "       'Stirling', 'Alkimos', 'Dianella', 'Bickley', 'Heathridge',\n",
       "       'Cockburn Central', 'Mundijong', 'Willetton', 'Westminster',\n",
       "       'Wilson', 'Brabham', 'Booragoon', 'Caversham', 'Samson',\n",
       "       'Ellenbrook', 'Wanneroo', 'Orange Grove', 'Padbury',\n",
       "       'White Gum Valley', 'Yokine', 'Cloverdale', 'Floreat',\n",
       "       'Canning Vale', 'Burswood', 'North Lake', 'Koondoola', 'Kingsley',\n",
       "       'Karawara', 'West Perth', 'Attadale', 'Crawley',\n",
       "       'East Victoria Park', 'Joondanna', 'Lynwood', 'Tuart Hill',\n",
       "       'South Perth', 'Greenmount', 'Highgate', 'Scarborough',\n",
       "       'Watermans Bay', 'Inglewood', 'Cottesloe', 'Maylands',\n",
       "       'East Fremantle', 'Leederville', 'Shelley', 'Daglish', 'Como',\n",
       "       'Mount Lawley', 'Glendalough', 'Riverton', 'Murdoch', 'Eden Hill',\n",
       "       'Girrawheen', 'Kelmscott', 'Doubleview', 'Champion Lakes',\n",
       "       'West Leederville', 'Coolbinia', 'Yanchep', 'Henley Brook',\n",
       "       'Peppermint Grove', 'Karnup', 'Hazelmere', 'Wooroloo',\n",
       "       'Alfred Cove', 'Bedford', 'Jarrahdale', 'Jindalee', 'Lathlain',\n",
       "       'Embleton', 'Martin', 'Oakford', 'Brigadoon', 'Winthrop',\n",
       "       'Fremantle', 'North Perth', 'Cardup', 'Gosnells', 'Gidgegannup',\n",
       "       'Shenton Park', 'Innaloo', \"O'Connor\", 'Pickering Brook', 'Whitby',\n",
       "       'Golden Bay', 'West Swan', 'Hovea', 'Northbridge', 'Millendon',\n",
       "       'Casuarina', 'Upper Swan', 'Mariginiup', 'Victoria Park',\n",
       "       'Oldbury', 'Chidlow', 'Carabooda', 'Belhus', 'Belmont',\n",
       "       'East Perth', 'Kwinana Beach', 'Keysbrook', 'Carlisle', 'Anketell',\n",
       "       'Banjup', 'Jandabup', 'Wungong', 'Wattleup', 'Hopeland',\n",
       "       'Neerabup', 'Treeby', 'Munster', 'Hope Valley', 'Welshpool',\n",
       "       'Wangara', 'Naval Base'], dtype=object)"
      ]
     },
     "execution_count": 24,
     "metadata": {},
     "output_type": "execute_result"
    }
   ],
   "source": [
    "dataduplicate['SUBURB'].unique()"
   ]
  },
  {
   "cell_type": "markdown",
   "metadata": {},
   "source": [
    "-   1 = `Armedale` : Armadale , Ashendon, Bedfordale ,Brookdale\t, Camillo, Champion Lakes, Forrestdale, Harrisdale, Haynes, Hilbert, Karragullen, Kelmscott, Mount Nasura, Mount Richon, Piara Waters, Roleystone, Seville Grove, Wungong\n",
    "-   2 = `Bassendean` : Eden Hill, Bassendean, Ashfield \n",
    "-   3 = `Bayswater`  : Bayswater, Bedford, Dianella, Embleton, Maylands, Morley, Noranda\n",
    "-   4 = `Belmont`    : Ascot, Belmont, Cloverdale, Kewdale, Perth Airport, Redcliffe, Rivervale \n",
    "-   5 = `Bunbury`    : Bunbury \n",
    "-   6 = `Busselton`  : Busselton \n",
    "-   7 = `Cambridge`  : City Beach, Daglish, Floreat, Wembley, West Leederville \n",
    "-   8 = `Canning`    : Bentley, Cannington, Canning Vale, East Cannington, Ferndale, Lynwood, Parkwood, Queens Park, Riverton, Rossmoyne, Shelley, Welshpool, Willetton, Wilson\n",
    "-   9 = `Claremont`  : Claremont, Swanbourne\n",
    "-   10 = `Cockburn`  : Atwell, Aubin Grove, Banjup, Beeliar, Bibra Lake, Coogee, Coolbellup, Hamilton Hill, Hammond Hill, Henderson, Jandakot, Munster, North Lake, South Lake, Spearwood, Success, Wattleup, Yangebup \n",
    "-   11 = `Cottesloe` : Cottesloe \n",
    "-   12 = `East Fremantle` : East Fremantle \n",
    "-   13 = `Fremantle` : Beaconsfield, Fremantle, Hilton, North Fremantle, O’Connor, Samson, South Fremantle, White Gum Valley \n",
    "-   14 = `Gosnells`  : Beckenham, Gosnells, Huntingdale, Kenwick, Langford, Maddington, Martin, Orange Grove, Southern River, Thornlie \n",
    "-   15 = `Joondalup` : Beldon, Burns Beach, Connolly, Craigie, Currambine, Duncraig, Edgewater, Greenwood, Heathridge, Hillarys, Iluka, Joondalup, Kallaroo, Kingsley, Kinross, Marmion, Mullaloo, Ocean Reef, Padbury, Sorrento, Warwick, Woodvale\n",
    "-   16 = `Kalamunda` : Bickley, Canning Mills, Carmel, Forrestfield, Gooseberry Hill, Hacketts Gully, High Wycombe, Kalamunda, Lesmurdie, Maida Vale, Paulls Valley, Pickering Brook, Piesse Brook, Walliston, Wattle Grove \n",
    "-   17 = `Kwinana`   : Anketell, Bertram, Calista, Casuarina, Hope Valley, Kwinana, Leda, Mandogalup, Medina, Orelia, Parmelia, Postans, The Spectacles, Naval Base, Wandi, Wellard \n",
    "-   18 = `Mandurah`  : Mandurah\n",
    "-   19 = `Melville`  : Alfred Cove, Applecross, Ardross, Attadale, Bateman, Bicton, Booragoon, Brentwood, Bull Creek, Kardinya, Leeming, Melville, Mt Pleasant, Murdoch, Myaree, Palmyra, Willagee, Winthrop \n",
    "-   20 = `Mosman Park` : Mosman Park \n",
    "-   21 = `Mundaring`   :Bailup, Beechina, Boya, Chidlow, Darlington, Glen Forrest, Gorrie, Greenmount, Helena Valley, Hovea, Mahogany Creek, Mt Helena, Mundaring, Parkerville, Sawyers Valley,Stoneville, Swan View, The Lakes, Wooroloo \n",
    "-   22 = `Murray`: Banksiadale, Barragup, Birchmont, Blythewood, Coolup, Dwellingup, Etmilyn, Fairbridge, Furnissdale, Holyoake, Inglehope, Keralup, Keysbrook, Marrinup, Meelon, Myara, Nambeelup, Nirimba, North Dandalup, North Yunderup, Oakley, Pinjarra, Point Grey, Ravenswood, Solus, South Yunderup, Stake Hill, Teesdale, West Coolup, West Pinjarra, Whittaker \n",
    "-   23 = `Nedlands` : Dalkeith, Karrakatta, Mt Claremont, Nedlands, Swanbourne\n",
    "-   24 = `Northam`  : Bakers Hill, Clackline, Northam, Spencers Brook, Wundowie\n",
    "-   25 = `Peppermint Grove` : Peppermint Grove \n",
    "-   26 = `Perth`    : East Perth, Kings Park, Northbridge, Perth City, West Perth \n",
    "-   27 = `Plantagenet` : Mount Barker, Kendenup, Narrikup, Rocky Gully, Porongurup\n",
    "-   28 = `Rockingham`   : Baldivis, Cooloongup, East Rockingham, Golden Bay, Hillman, Karnup, Peron, Port Kennedy, Rockingham, Safety Bay, Secret Harbour, Shoalwater, Singleton, Waikiki, Warnbro\n",
    "-   29 = `SerpentineJarrahdale`:Byford, Cardup, Darling Downs, Hopeland, Jarrahdale, Karrakup, Mardella, Mundijong, Oakbury, Oldbury, Serpentine, Whitby  \n",
    "-   30 = `South Perth` : Como, Karawara, Kensington, Manning, Salter Point, South Perth, Waterford \n",
    "-   31 = `Stirling` : Balcatta, Balga, Carine, Churchlands, Coolbinia, Dianella, Doubleview, Glendalough, Gwelup, Hamersley, Herdsman, Inglewood, Innaloo, Joondanna, Karrinyup, Menora, Mirrabooka, Mt Lawley, Nollamara, North Beach, Osborne Park, Scarborough, Stirling, Trigg, Tuart Hill, Watermans Bay, Wembley Downs,  Westminster, Woodlands, Yokine\n",
    "-   32 = `Subiaco` : Crawley, Daglish, Jolimont, Shenton Park, Subiaco\n",
    "-   33 = `Swan` : Aveley, Ballajura, Baskerville, Beechboro, Belhus, Bellevue, Bennett Springs, Brabham, Brigadoon, Bullsbrook , Caversham, Cullacabardee, Dayton, Ellenbrook, Gidgegannup, Guildford, Hazelmere, Henley Brook, Herne Hill, Jane Brook, Kiara, Koongamia, Lexia, Lockridge, Malaga, Melaleuca, Middle Swan, Midland, Midvale, Millendon, Noranda, Perth Airport, Red Hill, South Guildford, Stratton, The Vines, Upper Swan, Valley Ridge, Viveash ,West Swan, Whiteman, Woodbridge \n",
    "-   34 = `Victoria Park` : Burswood, Carlisle, East Victoria Park, Lathlain, St James, Victoria Park\n",
    "-   35 = `Vincent` : Highgate, Leederville, Mt Hawthorn, North Perth\n",
    "-   36 = `Wanneroo` : Alexander Heights, Alkimos, Ashby, Banksia Grove, Butler, Carabooda, Carramar, Clarkson, Darch, Eglinton, Girrawheen, Gnangara, Hocking, Jandabup, Jindalee, Koondoola, Landsdale, Madeley, Marangaroo, Mariginiup, Merriwa, Mindarie, Neerabup, Nowergup, Pearsall, Pinjar, Quinns Rocks, Ridgewood, Sinagra, Tamala Park, Tapping, Two Rocks, Wangara, Wanneroo, Yanchep "
   ]
  },
  {
   "cell_type": "code",
   "execution_count": 25,
   "metadata": {},
   "outputs": [
    {
     "name": "stderr",
     "output_type": "stream",
     "text": [
      "C:\\Users\\Guardian\\AppData\\Local\\Temp\\ipykernel_12060\\782081327.py:96: SettingWithCopyWarning:\n",
      "\n",
      "\n",
      "A value is trying to be set on a copy of a slice from a DataFrame.\n",
      "Try using .loc[row_indexer,col_indexer] = value instead\n",
      "\n",
      "See the caveats in the documentation: https://pandas.pydata.org/pandas-docs/stable/user_guide/indexing.html#returning-a-view-versus-a-copy\n",
      "\n"
     ]
    },
    {
     "data": {
      "text/html": [
       "<div>\n",
       "<style scoped>\n",
       "    .dataframe tbody tr th:only-of-type {\n",
       "        vertical-align: middle;\n",
       "    }\n",
       "\n",
       "    .dataframe tbody tr th {\n",
       "        vertical-align: top;\n",
       "    }\n",
       "\n",
       "    .dataframe thead th {\n",
       "        text-align: right;\n",
       "    }\n",
       "</style>\n",
       "<table border=\"1\" class=\"dataframe\">\n",
       "  <thead>\n",
       "    <tr style=\"text-align: right;\">\n",
       "      <th></th>\n",
       "      <th>SUBURB</th>\n",
       "      <th>AREA</th>\n",
       "    </tr>\n",
       "  </thead>\n",
       "  <tbody>\n",
       "    <tr>\n",
       "      <th>0</th>\n",
       "      <td>South Lake</td>\n",
       "      <td>10</td>\n",
       "    </tr>\n",
       "    <tr>\n",
       "      <th>1</th>\n",
       "      <td>Wandi</td>\n",
       "      <td>17</td>\n",
       "    </tr>\n",
       "    <tr>\n",
       "      <th>2</th>\n",
       "      <td>Camillo</td>\n",
       "      <td>1</td>\n",
       "    </tr>\n",
       "    <tr>\n",
       "      <th>3</th>\n",
       "      <td>Bellevue</td>\n",
       "      <td>33</td>\n",
       "    </tr>\n",
       "    <tr>\n",
       "      <th>4</th>\n",
       "      <td>Lockridge</td>\n",
       "      <td>33</td>\n",
       "    </tr>\n",
       "  </tbody>\n",
       "</table>\n",
       "</div>"
      ],
      "text/plain": [
       "       SUBURB  AREA\n",
       "0  South Lake    10\n",
       "1       Wandi    17\n",
       "2     Camillo     1\n",
       "3    Bellevue    33\n",
       "4   Lockridge    33"
      ]
     },
     "execution_count": 25,
     "metadata": {},
     "output_type": "execute_result"
    }
   ],
   "source": [
    "#membuat fungsi untuk mengubah nama kota ke area\n",
    "def klasifikasi_kota(kota):\n",
    "    if pd.isna(kota):\n",
    "        pass\n",
    "    elif kota in [\"Armadale\" , \"Ashendon\", \"Bedfordale\" ,'Brookdale', 'Camillo', 'Champion Lakes', 'Forrestdale', 'Harrisdale', 'Haynes', 'Hilbert', \n",
    "                  'Karragullen', 'Kelmscott', 'Mount Nasura', 'Mount Richon', 'Piara Waters', 'Roleystone', 'Seville Grove', 'Wungong']:\n",
    "        return 1\n",
    "    elif kota in ['Eden Hill', 'Bassendean', 'Ashfield']:\n",
    "        return 2\n",
    "    elif kota in ['Bayswater', 'Bedford', 'Dianella', 'Embleton', 'Maylands', 'Morley', 'Noranda']:\n",
    "        return 3\n",
    "    elif kota in ['Ascot', 'Belmont', 'Cloverdale','Kewdale', 'Perth Airport', 'Redcliffe', 'Rivervale']:\n",
    "        return 4\n",
    "    elif kota in ['Bunbury']:\n",
    "        return 5\n",
    "    elif kota in ['Busselton']:\n",
    "        return 6\n",
    "    elif kota in ['City Beach', 'Daglish', 'Floreat', 'Wembley', 'West Leederville']:\n",
    "        return 7\n",
    "    elif kota in ['Bentley', 'Cannington', 'Canning Vale', 'East Cannington', 'Ferndale', 'Lynwood', 'Parkwood', 'Queens Park', 'Riverton', \n",
    "                  'Rossmoyne', 'Shelley', 'Welshpool', 'Willetton', 'Wilson', 'Mount Claremont']:\n",
    "        return 8\n",
    "    elif kota in ['Claremont', 'Swanbourne']:\n",
    "        return 9\n",
    "    elif kota in ['Atwell', 'Aubin Grove', 'Banjup', 'Beeliar', 'Bibra Lake', 'Coogee', 'Coolbellup', 'Hamilton Hill', 'Hammond Hill', 'Henderson','Treeby', \n",
    "                  'Jandakot', 'Munster', 'North Lake','South Lake', 'Spearwood', 'Success','Wattleup', 'Yangebup', 'Hammond Park','North Coogee','Cockburn Central']:\n",
    "        return 10\n",
    "    elif kota in ['Cottesloe']:\n",
    "        return 11\n",
    "    elif kota in ['East Fremantle']:\n",
    "        return 12\n",
    "    elif kota in ['Beaconsfield', 'Fremantle', 'Hilton', 'North Fremantle', \"O'Connor\", 'Samson', 'South Fremantle', 'White Gum Valley']:\n",
    "        return 13\n",
    "    elif kota in ['Beckenham', 'Gosnells', 'Huntingdale', 'Kenwick', 'Langford', 'Maddington', 'Martin', 'Orange Grove', 'Southern River', 'Thornlie']:\n",
    "        return 14\n",
    "    elif kota in ['Beldon', 'Burns Beach', 'Connolly', 'Craigie', 'Currambine', 'Duncraig', 'Edgewater', 'Greenwood', 'Heathridge', 'Hillarys', 'Iluka', 'Joondalup', 'Kallaroo', \n",
    "                  'Kingsley', 'Kinross', 'Marmion', 'Mullaloo', 'Ocean Reef', 'Padbury', 'Sorrento', 'Warwick', 'Woodvale']:\n",
    "        return 15\n",
    "    elif kota in ['Bickley', 'Canning Mills', 'Carmel', 'Forrestfield', 'Gooseberry Hill', 'Hacketts Gully', 'High Wycombe', 'Kalamunda', 'Lesmurdie', 'Maida Vale', 'Paulls Valley', \n",
    "                  'Pickering Brook', 'Piesse Brook', 'Walliston', 'Wattle Grove']:\n",
    "        return 16\n",
    "    elif kota in ['Anketell', 'Bertram', 'Calista', 'Casuarina', 'Hope Valley', 'Kwinana', 'Leda', 'Mandogalup', 'Medina', 'Orelia', 'Parmelia', 'Postans', 'The Spectacles', 'Naval Base', \n",
    "                  'Wandi', 'Wellard','Kwinana Town Centre','Kwinana Beach']:\n",
    "        return 17\n",
    "    elif kota in ['Mandurah']:\n",
    "        return 18\n",
    "    elif kota in ['Alfred Cove', 'Applecross','Ardross', 'Attadale', 'Bateman', 'Bicton', 'Booragoon', 'Brentwood', 'Bull Creek', 'Kardinya', 'Leeming', 'Melville', 'Mt Pleasant', 'Murdoch', 'Myaree', \n",
    "                  'Palmyra','Willagee',' Winthrop','Mount Pleasant','Winthrop']:\n",
    "        return 19\n",
    "    elif kota in ['Mosman Park']:\n",
    "        return 20\n",
    "    elif kota in ['Bailup', 'Beechina', 'Boya', 'Chidlow', 'Darlington', 'Glen Forrest', 'Gorrie', 'Greenmount', 'Helena Valley', 'Hovea', 'Mahogany Creek', 'Mt Helena', 'Mundaring', \n",
    "                  'Parkerville', 'Sawyers Valley','Stoneville','Swan View', 'The Lakes', 'Wooroloo','Mount Helena']:\n",
    "        return 21\n",
    "    elif kota in ['Banksiadale', 'Barragup', 'Birchmont', 'Blythewood', 'Coolup', 'Dwellingup', 'Etmilyn', 'Fairbridge', 'Furnissdale', 'Holyoake', 'Inglehope', 'Keralup', 'Keysbrook', 'Marrinup', \n",
    "                  'Meelon', 'Myara', 'Nambeelup', 'Nirimba', 'North Dandalup', 'North Yunderup', 'Oakley', 'Pinjarra', 'Point Grey', 'Ravenswood', 'Solus', 'South Yunderup', \n",
    "                  'Stake Hill', 'Teesdale', 'West Coolup', 'West Pinjarra', 'Whittaker']:\n",
    "        return 22\n",
    "    elif kota in ['Dalkeith', 'Karrakatta', 'Mt Claremont', 'Nedlands', 'Swanbourne']:\n",
    "        return 23\n",
    "    elif kota in ['Bakers Hill', 'Clackline', 'Northam', 'Spencers Brook', 'Wundowie']:\n",
    "        return 24\n",
    "    elif kota in ['Peppermint Grove']:\n",
    "        return 25\n",
    "    elif kota in ['East Perth', 'Kings Park', 'Northbridge', 'Perth City', 'West Perth']:\n",
    "        return 26\n",
    "    elif kota in ['Mount Barker', 'Kendenup', 'Narrikup', 'Rocky Gully', 'Porongurup']:\n",
    "        return 27\n",
    "    elif kota in ['Baldivis', 'Cooloongup', 'East Rockingham', 'Golden Bay', 'Hillman', 'Karnup', 'Peron', 'Port Kennedy', 'Rockingham', 'Safety Bay', 'Secret Harbour', \n",
    "                  'Shoalwater', 'Singleton', 'Waikiki', 'Warnbro']:\n",
    "        return 28\n",
    "    elif kota in ['Byford', 'Cardup', 'Darling Downs', 'Hopeland', 'Jarrahdale', 'Karrakup', 'Mardella', 'Mundijong', 'Oakbury', 'Oldbury', 'Serpentine', 'Whitby','Oakford']:\n",
    "        return 29\n",
    "    elif kota in ['Como', 'Karawara', 'Kensington', 'Manning', 'Salter Point', 'South Perth', 'Waterford']:\n",
    "        return 30\n",
    "    elif kota in ['Balcatta', 'Balga', 'Carine', 'Churchlands', 'Coolbinia', 'Dianella', 'Doubleview', 'Glendalough', 'Gwelup', 'Hamersley', 'Herdsman', 'Inglewood', 'Innaloo', \n",
    "                  'Joondanna', 'Karrinyup', 'Menora', 'Mirrabooka', 'Mt Lawley', 'Nollamara', 'North Beach', 'Osborne Park', 'Scarborough', 'Stirling', 'Trigg', 'Tuart Hill', \n",
    "                  'Watermans Bay', 'Wembley Downs',  'Westminster', 'Woodlands', 'Yokine','Mount Lawley']:\n",
    "        return 31\n",
    "    elif kota in ['Crawley', 'Daglish', 'Jolimont', 'Shenton Park', 'Subiaco']:\n",
    "        return 32\n",
    "    elif kota in ['Aveley', 'Ballajura', 'Baskerville', 'Beechboro', 'Belhus', 'Bellevue', 'Bennett Springs', 'Brabham', 'Brigadoon', 'Bullsbrook' , 'Caversham', 'Cullacabardee', 'Dayton', 'Ellenbrook', \n",
    "                  'Gidgegannup', 'Guildford', 'Hazelmere', 'Henley Brook', 'Herne Hill', 'Jane Brook', 'Kiara', 'Koongamia', 'Lexia', 'Lockridge', 'Malaga', 'Melaleuca', 'Middle Swan', 'Midland', \n",
    "                  'Midvale', 'Millendon', 'Noranda', 'Perth Airport', 'Red Hill','South Guildford', 'Stratton', 'The Vines', 'Upper Swan', 'Valley Ridge', 'Viveash' ,'West Swan', 'Whiteman', 'Woodbridge']:\n",
    "        return 33\n",
    "    elif kota in ['Burswood', 'Carlisle', 'East Victoria Park', 'Lathlain', 'St James', 'Victoria Park']:\n",
    "        return 34\n",
    "    elif kota in ['Highgate', 'Leederville', 'Mt Hawthorn', 'North Perth']:\n",
    "        return 35\n",
    "    elif kota in ['Alexander Heights', 'Alkimos', 'Ashby', 'Banksia Grove', 'Butler', 'Carabooda', 'Carramar', 'Clarkson', 'Darch', 'Eglinton', 'Girrawheen', 'Gnangara', 'Hocking', 'Jandabup', 'Jindalee', \n",
    "                  'Koondoola', 'Landsdale', 'Madeley', 'Marangaroo', 'Mariginiup', 'Merriwa', 'Mindarie', 'Neerabup','Nowergup', 'Pearsall', 'Pinjar', 'Quinns Rocks', 'Ridgewood', 'Sinagra', 'Tamala Park', \n",
    "                  'Tapping', 'Two Rocks', 'Wangara', 'Wanneroo', 'Yanchep','Mount Hawthorn']:\n",
    "        return 36\n",
    "    \n",
    "#buat kolom baru area\n",
    "categorical_data['AREA'] = categorical_data['SUBURB'].apply(klasifikasi_kota)\n",
    "categorical_data.head(5)"
   ]
  },
  {
   "cell_type": "code",
   "execution_count": 26,
   "metadata": {},
   "outputs": [
    {
     "data": {
      "text/html": [
       "<div>\n",
       "<style scoped>\n",
       "    .dataframe tbody tr th:only-of-type {\n",
       "        vertical-align: middle;\n",
       "    }\n",
       "\n",
       "    .dataframe tbody tr th {\n",
       "        vertical-align: top;\n",
       "    }\n",
       "\n",
       "    .dataframe thead th {\n",
       "        text-align: right;\n",
       "    }\n",
       "</style>\n",
       "<table border=\"1\" class=\"dataframe\">\n",
       "  <thead>\n",
       "    <tr style=\"text-align: right;\">\n",
       "      <th></th>\n",
       "      <th>AREA</th>\n",
       "      <th>PRICE</th>\n",
       "      <th>BEDROOMS</th>\n",
       "      <th>BATHROOMS</th>\n",
       "      <th>GARAGE</th>\n",
       "      <th>LAND_AREA</th>\n",
       "      <th>FLOOR_AREA</th>\n",
       "      <th>BUILD_YEAR</th>\n",
       "      <th>CBD_DIST</th>\n",
       "      <th>NEAREST_STN_DIST</th>\n",
       "      <th>POSTCODE</th>\n",
       "      <th>LATITUDE</th>\n",
       "      <th>LONGITUDE</th>\n",
       "      <th>NEAREST_SCH_DIST</th>\n",
       "      <th>NEAREST_SCH_RANK</th>\n",
       "    </tr>\n",
       "  </thead>\n",
       "  <tbody>\n",
       "    <tr>\n",
       "      <th>0</th>\n",
       "      <td>10</td>\n",
       "      <td>565000</td>\n",
       "      <td>4</td>\n",
       "      <td>2</td>\n",
       "      <td>2.0</td>\n",
       "      <td>600</td>\n",
       "      <td>160</td>\n",
       "      <td>2003.0</td>\n",
       "      <td>18300</td>\n",
       "      <td>1800</td>\n",
       "      <td>6164</td>\n",
       "      <td>-32.115900</td>\n",
       "      <td>115.842450</td>\n",
       "      <td>0.828339</td>\n",
       "      <td>NaN</td>\n",
       "    </tr>\n",
       "    <tr>\n",
       "      <th>1</th>\n",
       "      <td>17</td>\n",
       "      <td>365000</td>\n",
       "      <td>3</td>\n",
       "      <td>2</td>\n",
       "      <td>2.0</td>\n",
       "      <td>351</td>\n",
       "      <td>139</td>\n",
       "      <td>2013.0</td>\n",
       "      <td>26900</td>\n",
       "      <td>4900</td>\n",
       "      <td>6167</td>\n",
       "      <td>-32.193470</td>\n",
       "      <td>115.859554</td>\n",
       "      <td>5.524324</td>\n",
       "      <td>129.0</td>\n",
       "    </tr>\n",
       "    <tr>\n",
       "      <th>2</th>\n",
       "      <td>1</td>\n",
       "      <td>287000</td>\n",
       "      <td>3</td>\n",
       "      <td>1</td>\n",
       "      <td>1.0</td>\n",
       "      <td>719</td>\n",
       "      <td>86</td>\n",
       "      <td>1979.0</td>\n",
       "      <td>22600</td>\n",
       "      <td>1900</td>\n",
       "      <td>6111</td>\n",
       "      <td>-32.120578</td>\n",
       "      <td>115.993579</td>\n",
       "      <td>1.649178</td>\n",
       "      <td>113.0</td>\n",
       "    </tr>\n",
       "    <tr>\n",
       "      <th>3</th>\n",
       "      <td>33</td>\n",
       "      <td>255000</td>\n",
       "      <td>2</td>\n",
       "      <td>1</td>\n",
       "      <td>2.0</td>\n",
       "      <td>651</td>\n",
       "      <td>59</td>\n",
       "      <td>1953.0</td>\n",
       "      <td>17900</td>\n",
       "      <td>3600</td>\n",
       "      <td>6056</td>\n",
       "      <td>-31.900547</td>\n",
       "      <td>116.038009</td>\n",
       "      <td>1.571401</td>\n",
       "      <td>NaN</td>\n",
       "    </tr>\n",
       "    <tr>\n",
       "      <th>4</th>\n",
       "      <td>33</td>\n",
       "      <td>325000</td>\n",
       "      <td>4</td>\n",
       "      <td>1</td>\n",
       "      <td>2.0</td>\n",
       "      <td>466</td>\n",
       "      <td>131</td>\n",
       "      <td>1998.0</td>\n",
       "      <td>11200</td>\n",
       "      <td>2000</td>\n",
       "      <td>6054</td>\n",
       "      <td>-31.885790</td>\n",
       "      <td>115.947780</td>\n",
       "      <td>1.514922</td>\n",
       "      <td>NaN</td>\n",
       "    </tr>\n",
       "  </tbody>\n",
       "</table>\n",
       "</div>"
      ],
      "text/plain": [
       "   AREA   PRICE  BEDROOMS  BATHROOMS  GARAGE  LAND_AREA  FLOOR_AREA  \\\n",
       "0    10  565000         4          2     2.0        600         160   \n",
       "1    17  365000         3          2     2.0        351         139   \n",
       "2     1  287000         3          1     1.0        719          86   \n",
       "3    33  255000         2          1     2.0        651          59   \n",
       "4    33  325000         4          1     2.0        466         131   \n",
       "\n",
       "   BUILD_YEAR  CBD_DIST  NEAREST_STN_DIST  POSTCODE   LATITUDE   LONGITUDE  \\\n",
       "0      2003.0     18300              1800      6164 -32.115900  115.842450   \n",
       "1      2013.0     26900              4900      6167 -32.193470  115.859554   \n",
       "2      1979.0     22600              1900      6111 -32.120578  115.993579   \n",
       "3      1953.0     17900              3600      6056 -31.900547  116.038009   \n",
       "4      1998.0     11200              2000      6054 -31.885790  115.947780   \n",
       "\n",
       "   NEAREST_SCH_DIST  NEAREST_SCH_RANK  \n",
       "0          0.828339               NaN  \n",
       "1          5.524324             129.0  \n",
       "2          1.649178             113.0  \n",
       "3          1.571401               NaN  \n",
       "4          1.514922               NaN  "
      ]
     },
     "execution_count": 26,
     "metadata": {},
     "output_type": "execute_result"
    }
   ],
   "source": [
    "# Melakukan Concate Data terhadap categorical dan numerical\n",
    "dataduplicate = pd.concat([categorical_data,numerical_data], axis=1)\n",
    "\n",
    "# Melakukan drop column pada SUBURB karena posisinya sudah diganti oleh AREA\n",
    "dataduplicate.drop(['SUBURB'],axis=1,inplace=True)\n",
    "dataduplicate.head(5)"
   ]
  },
  {
   "cell_type": "markdown",
   "metadata": {},
   "source": [
    "## Check And Handling Missing Value"
   ]
  },
  {
   "cell_type": "markdown",
   "metadata": {},
   "source": [
    "### Check Missing Value"
   ]
  },
  {
   "cell_type": "code",
   "execution_count": 27,
   "metadata": {},
   "outputs": [
    {
     "data": {
      "text/plain": [
       "AREA                    0\n",
       "PRICE                   0\n",
       "BEDROOMS                0\n",
       "BATHROOMS               0\n",
       "GARAGE               2478\n",
       "LAND_AREA               0\n",
       "FLOOR_AREA              0\n",
       "BUILD_YEAR           3155\n",
       "CBD_DIST                0\n",
       "NEAREST_STN_DIST        0\n",
       "POSTCODE                0\n",
       "LATITUDE                0\n",
       "LONGITUDE               0\n",
       "NEAREST_SCH_DIST        0\n",
       "NEAREST_SCH_RANK    10952\n",
       "dtype: int64"
      ]
     },
     "execution_count": 27,
     "metadata": {},
     "output_type": "execute_result"
    }
   ],
   "source": [
    "# Check apakah ada missing value di dataduplicate\n",
    "dataduplicate.isnull().sum()"
   ]
  },
  {
   "cell_type": "markdown",
   "metadata": {},
   "source": [
    "**INSIGHT :**\n",
    "-   Pada data `duplicate` terdapat column yang miliki missing value yaitu :\n",
    "    -   `Garage` sebesar 2478 missing value\n",
    "    -   `Build_Year` sebesar 3155 missing value\n",
    "    -   `Nearest_SCH_RANK` sebesar 10952 missing value"
   ]
  },
  {
   "cell_type": "code",
   "execution_count": 28,
   "metadata": {},
   "outputs": [
    {
     "name": "stdout",
     "output_type": "stream",
     "text": [
      "----------------------------------------\n",
      " Percentage of missing data: \n",
      "\n",
      "GARAGE               7.362948\n",
      "BUILD_YEAR           9.374536\n",
      "NEAREST_SCH_RANK    32.541970\n",
      "dtype: float64\n"
     ]
    }
   ],
   "source": [
    "# Melihat persentasi missing value terhadap data\n",
    "dataduplicate.isnull().sum()\n",
    "print('----------------------------------------\\n Percentage of missing data: \\n')\n",
    "print((dataduplicate[['GARAGE', 'BUILD_YEAR','NEAREST_SCH_RANK']].isnull().sum()/33655)*100)"
   ]
  },
  {
   "cell_type": "markdown",
   "metadata": {},
   "source": [
    "**INSIGHT :**\n",
    "-   Kemungkinan Missing value bersifat `Missing Completely at Random (MCAR)`, karena tidak terlihat hubungan antara variabel yang hilang dengan variabel lainnya."
   ]
  },
  {
   "cell_type": "markdown",
   "metadata": {},
   "source": [
    "### Handling Missing Value"
   ]
  },
  {
   "cell_type": "markdown",
   "metadata": {},
   "source": [
    "#### Column Garage"
   ]
  },
  {
   "cell_type": "code",
   "execution_count": 29,
   "metadata": {},
   "outputs": [
    {
     "data": {
      "text/html": [
       "<div>\n",
       "<style scoped>\n",
       "    .dataframe tbody tr th:only-of-type {\n",
       "        vertical-align: middle;\n",
       "    }\n",
       "\n",
       "    .dataframe tbody tr th {\n",
       "        vertical-align: top;\n",
       "    }\n",
       "\n",
       "    .dataframe thead th {\n",
       "        text-align: right;\n",
       "    }\n",
       "</style>\n",
       "<table border=\"1\" class=\"dataframe\">\n",
       "  <thead>\n",
       "    <tr style=\"text-align: right;\">\n",
       "      <th></th>\n",
       "      <th>AREA</th>\n",
       "      <th>PRICE</th>\n",
       "      <th>BEDROOMS</th>\n",
       "      <th>BATHROOMS</th>\n",
       "      <th>GARAGE</th>\n",
       "      <th>LAND_AREA</th>\n",
       "      <th>FLOOR_AREA</th>\n",
       "      <th>BUILD_YEAR</th>\n",
       "      <th>CBD_DIST</th>\n",
       "      <th>NEAREST_STN_DIST</th>\n",
       "      <th>POSTCODE</th>\n",
       "      <th>LATITUDE</th>\n",
       "      <th>LONGITUDE</th>\n",
       "      <th>NEAREST_SCH_DIST</th>\n",
       "      <th>NEAREST_SCH_RANK</th>\n",
       "    </tr>\n",
       "  </thead>\n",
       "  <tbody>\n",
       "    <tr>\n",
       "      <th>58</th>\n",
       "      <td>1</td>\n",
       "      <td>177000</td>\n",
       "      <td>3</td>\n",
       "      <td>1</td>\n",
       "      <td>NaN</td>\n",
       "      <td>412</td>\n",
       "      <td>150</td>\n",
       "      <td>2015.0</td>\n",
       "      <td>26200</td>\n",
       "      <td>2400</td>\n",
       "      <td>6112</td>\n",
       "      <td>-32.159374</td>\n",
       "      <td>115.988082</td>\n",
       "      <td>1.003240</td>\n",
       "      <td>NaN</td>\n",
       "    </tr>\n",
       "    <tr>\n",
       "      <th>66</th>\n",
       "      <td>16</td>\n",
       "      <td>605000</td>\n",
       "      <td>2</td>\n",
       "      <td>1</td>\n",
       "      <td>NaN</td>\n",
       "      <td>2578</td>\n",
       "      <td>180</td>\n",
       "      <td>1977.0</td>\n",
       "      <td>18200</td>\n",
       "      <td>9200</td>\n",
       "      <td>6076</td>\n",
       "      <td>-31.987050</td>\n",
       "      <td>116.047690</td>\n",
       "      <td>1.142802</td>\n",
       "      <td>99.0</td>\n",
       "    </tr>\n",
       "    <tr>\n",
       "      <th>81</th>\n",
       "      <td>33</td>\n",
       "      <td>392500</td>\n",
       "      <td>4</td>\n",
       "      <td>2</td>\n",
       "      <td>NaN</td>\n",
       "      <td>532</td>\n",
       "      <td>185</td>\n",
       "      <td>NaN</td>\n",
       "      <td>12300</td>\n",
       "      <td>7800</td>\n",
       "      <td>6066</td>\n",
       "      <td>-31.848738</td>\n",
       "      <td>115.904503</td>\n",
       "      <td>1.136161</td>\n",
       "      <td>133.0</td>\n",
       "    </tr>\n",
       "    <tr>\n",
       "      <th>125</th>\n",
       "      <td>19</td>\n",
       "      <td>599900</td>\n",
       "      <td>3</td>\n",
       "      <td>1</td>\n",
       "      <td>NaN</td>\n",
       "      <td>807</td>\n",
       "      <td>126</td>\n",
       "      <td>1968.0</td>\n",
       "      <td>10600</td>\n",
       "      <td>888</td>\n",
       "      <td>6150</td>\n",
       "      <td>-32.046400</td>\n",
       "      <td>115.844770</td>\n",
       "      <td>1.191641</td>\n",
       "      <td>28.0</td>\n",
       "    </tr>\n",
       "    <tr>\n",
       "      <th>135</th>\n",
       "      <td>15</td>\n",
       "      <td>400000</td>\n",
       "      <td>3</td>\n",
       "      <td>1</td>\n",
       "      <td>NaN</td>\n",
       "      <td>683</td>\n",
       "      <td>86</td>\n",
       "      <td>1978.0</td>\n",
       "      <td>22300</td>\n",
       "      <td>2100</td>\n",
       "      <td>6027</td>\n",
       "      <td>-31.771750</td>\n",
       "      <td>115.756300</td>\n",
       "      <td>0.667724</td>\n",
       "      <td>102.0</td>\n",
       "    </tr>\n",
       "    <tr>\n",
       "      <th>...</th>\n",
       "      <td>...</td>\n",
       "      <td>...</td>\n",
       "      <td>...</td>\n",
       "      <td>...</td>\n",
       "      <td>...</td>\n",
       "      <td>...</td>\n",
       "      <td>...</td>\n",
       "      <td>...</td>\n",
       "      <td>...</td>\n",
       "      <td>...</td>\n",
       "      <td>...</td>\n",
       "      <td>...</td>\n",
       "      <td>...</td>\n",
       "      <td>...</td>\n",
       "      <td>...</td>\n",
       "    </tr>\n",
       "    <tr>\n",
       "      <th>33558</th>\n",
       "      <td>13</td>\n",
       "      <td>755000</td>\n",
       "      <td>3</td>\n",
       "      <td>2</td>\n",
       "      <td>NaN</td>\n",
       "      <td>612</td>\n",
       "      <td>112</td>\n",
       "      <td>1900.0</td>\n",
       "      <td>15300</td>\n",
       "      <td>1900</td>\n",
       "      <td>6160</td>\n",
       "      <td>-32.062127</td>\n",
       "      <td>115.761187</td>\n",
       "      <td>0.907582</td>\n",
       "      <td>128.0</td>\n",
       "    </tr>\n",
       "    <tr>\n",
       "      <th>33566</th>\n",
       "      <td>36</td>\n",
       "      <td>290000</td>\n",
       "      <td>2</td>\n",
       "      <td>2</td>\n",
       "      <td>NaN</td>\n",
       "      <td>220</td>\n",
       "      <td>109</td>\n",
       "      <td>2014.0</td>\n",
       "      <td>28700</td>\n",
       "      <td>5800</td>\n",
       "      <td>6031</td>\n",
       "      <td>-31.700113</td>\n",
       "      <td>115.798718</td>\n",
       "      <td>0.257212</td>\n",
       "      <td>92.0</td>\n",
       "    </tr>\n",
       "    <tr>\n",
       "      <th>33568</th>\n",
       "      <td>14</td>\n",
       "      <td>279000</td>\n",
       "      <td>4</td>\n",
       "      <td>1</td>\n",
       "      <td>NaN</td>\n",
       "      <td>603</td>\n",
       "      <td>225</td>\n",
       "      <td>2015.0</td>\n",
       "      <td>19900</td>\n",
       "      <td>1200</td>\n",
       "      <td>6110</td>\n",
       "      <td>-32.073115</td>\n",
       "      <td>116.013322</td>\n",
       "      <td>0.650258</td>\n",
       "      <td>122.0</td>\n",
       "    </tr>\n",
       "    <tr>\n",
       "      <th>33582</th>\n",
       "      <td>33</td>\n",
       "      <td>610000</td>\n",
       "      <td>4</td>\n",
       "      <td>2</td>\n",
       "      <td>NaN</td>\n",
       "      <td>2500</td>\n",
       "      <td>210</td>\n",
       "      <td>1985.0</td>\n",
       "      <td>22500</td>\n",
       "      <td>9800</td>\n",
       "      <td>6056</td>\n",
       "      <td>-31.805850</td>\n",
       "      <td>116.020490</td>\n",
       "      <td>3.550914</td>\n",
       "      <td>53.0</td>\n",
       "    </tr>\n",
       "    <tr>\n",
       "      <th>33621</th>\n",
       "      <td>15</td>\n",
       "      <td>375000</td>\n",
       "      <td>3</td>\n",
       "      <td>2</td>\n",
       "      <td>NaN</td>\n",
       "      <td>448</td>\n",
       "      <td>122</td>\n",
       "      <td>1992.0</td>\n",
       "      <td>25600</td>\n",
       "      <td>1900</td>\n",
       "      <td>6028</td>\n",
       "      <td>-31.741890</td>\n",
       "      <td>115.748020</td>\n",
       "      <td>1.359426</td>\n",
       "      <td>80.0</td>\n",
       "    </tr>\n",
       "  </tbody>\n",
       "</table>\n",
       "<p>2478 rows × 15 columns</p>\n",
       "</div>"
      ],
      "text/plain": [
       "       AREA   PRICE  BEDROOMS  BATHROOMS  GARAGE  LAND_AREA  FLOOR_AREA  \\\n",
       "58        1  177000         3          1     NaN        412         150   \n",
       "66       16  605000         2          1     NaN       2578         180   \n",
       "81       33  392500         4          2     NaN        532         185   \n",
       "125      19  599900         3          1     NaN        807         126   \n",
       "135      15  400000         3          1     NaN        683          86   \n",
       "...     ...     ...       ...        ...     ...        ...         ...   \n",
       "33558    13  755000         3          2     NaN        612         112   \n",
       "33566    36  290000         2          2     NaN        220         109   \n",
       "33568    14  279000         4          1     NaN        603         225   \n",
       "33582    33  610000         4          2     NaN       2500         210   \n",
       "33621    15  375000         3          2     NaN        448         122   \n",
       "\n",
       "       BUILD_YEAR  CBD_DIST  NEAREST_STN_DIST  POSTCODE   LATITUDE  \\\n",
       "58         2015.0     26200              2400      6112 -32.159374   \n",
       "66         1977.0     18200              9200      6076 -31.987050   \n",
       "81            NaN     12300              7800      6066 -31.848738   \n",
       "125        1968.0     10600               888      6150 -32.046400   \n",
       "135        1978.0     22300              2100      6027 -31.771750   \n",
       "...           ...       ...               ...       ...        ...   \n",
       "33558      1900.0     15300              1900      6160 -32.062127   \n",
       "33566      2014.0     28700              5800      6031 -31.700113   \n",
       "33568      2015.0     19900              1200      6110 -32.073115   \n",
       "33582      1985.0     22500              9800      6056 -31.805850   \n",
       "33621      1992.0     25600              1900      6028 -31.741890   \n",
       "\n",
       "        LONGITUDE  NEAREST_SCH_DIST  NEAREST_SCH_RANK  \n",
       "58     115.988082          1.003240               NaN  \n",
       "66     116.047690          1.142802              99.0  \n",
       "81     115.904503          1.136161             133.0  \n",
       "125    115.844770          1.191641              28.0  \n",
       "135    115.756300          0.667724             102.0  \n",
       "...           ...               ...               ...  \n",
       "33558  115.761187          0.907582             128.0  \n",
       "33566  115.798718          0.257212              92.0  \n",
       "33568  116.013322          0.650258             122.0  \n",
       "33582  116.020490          3.550914              53.0  \n",
       "33621  115.748020          1.359426              80.0  \n",
       "\n",
       "[2478 rows x 15 columns]"
      ]
     },
     "execution_count": 29,
     "metadata": {},
     "output_type": "execute_result"
    }
   ],
   "source": [
    "# Mencari index missing value garage\n",
    "GARAGE_miss = pd.isnull(dataduplicate[\"GARAGE\"])\n",
    "dataduplicate[GARAGE_miss]"
   ]
  },
  {
   "cell_type": "markdown",
   "metadata": {},
   "source": [
    "**INSIGHT :**\n",
    "-   Untuk mengisi fitur Garage, nampaknya tidak ada kolom yang berhubungan dengan fitur ini dan membantu kita memperkirakan nilai untuk catatan yang hilang. Sepertinya nilai-nilai tersebut hilang secara acak, dan kita bisa menggunakan median untuk menggantikan nilai-nilai NaN karena distribusi pembayaran minimum bersifat skewed , oleh karena itu median memberikan estimasi yang lebih baik untuk kecenderungan pusat fitur ini."
   ]
  },
  {
   "cell_type": "markdown",
   "metadata": {},
   "source": [
    "#### Column Build Year"
   ]
  },
  {
   "cell_type": "code",
   "execution_count": 30,
   "metadata": {},
   "outputs": [
    {
     "data": {
      "text/html": [
       "<div>\n",
       "<style scoped>\n",
       "    .dataframe tbody tr th:only-of-type {\n",
       "        vertical-align: middle;\n",
       "    }\n",
       "\n",
       "    .dataframe tbody tr th {\n",
       "        vertical-align: top;\n",
       "    }\n",
       "\n",
       "    .dataframe thead th {\n",
       "        text-align: right;\n",
       "    }\n",
       "</style>\n",
       "<table border=\"1\" class=\"dataframe\">\n",
       "  <thead>\n",
       "    <tr style=\"text-align: right;\">\n",
       "      <th></th>\n",
       "      <th>AREA</th>\n",
       "      <th>PRICE</th>\n",
       "      <th>BEDROOMS</th>\n",
       "      <th>BATHROOMS</th>\n",
       "      <th>GARAGE</th>\n",
       "      <th>LAND_AREA</th>\n",
       "      <th>FLOOR_AREA</th>\n",
       "      <th>BUILD_YEAR</th>\n",
       "      <th>CBD_DIST</th>\n",
       "      <th>NEAREST_STN_DIST</th>\n",
       "      <th>POSTCODE</th>\n",
       "      <th>LATITUDE</th>\n",
       "      <th>LONGITUDE</th>\n",
       "      <th>NEAREST_SCH_DIST</th>\n",
       "      <th>NEAREST_SCH_RANK</th>\n",
       "    </tr>\n",
       "  </thead>\n",
       "  <tbody>\n",
       "    <tr>\n",
       "      <th>27</th>\n",
       "      <td>33</td>\n",
       "      <td>347500</td>\n",
       "      <td>3</td>\n",
       "      <td>1</td>\n",
       "      <td>3.0</td>\n",
       "      <td>452</td>\n",
       "      <td>88</td>\n",
       "      <td>NaN</td>\n",
       "      <td>13100</td>\n",
       "      <td>1400</td>\n",
       "      <td>6055</td>\n",
       "      <td>-31.906980</td>\n",
       "      <td>115.986980</td>\n",
       "      <td>1.517811</td>\n",
       "      <td>52.0</td>\n",
       "    </tr>\n",
       "    <tr>\n",
       "      <th>33</th>\n",
       "      <td>1</td>\n",
       "      <td>795000</td>\n",
       "      <td>4</td>\n",
       "      <td>3</td>\n",
       "      <td>6.0</td>\n",
       "      <td>2095</td>\n",
       "      <td>254</td>\n",
       "      <td>NaN</td>\n",
       "      <td>27300</td>\n",
       "      <td>5800</td>\n",
       "      <td>6111</td>\n",
       "      <td>-32.115357</td>\n",
       "      <td>116.074862</td>\n",
       "      <td>6.049554</td>\n",
       "      <td>113.0</td>\n",
       "    </tr>\n",
       "    <tr>\n",
       "      <th>63</th>\n",
       "      <td>15</td>\n",
       "      <td>650000</td>\n",
       "      <td>4</td>\n",
       "      <td>2</td>\n",
       "      <td>1.0</td>\n",
       "      <td>715</td>\n",
       "      <td>170</td>\n",
       "      <td>NaN</td>\n",
       "      <td>13900</td>\n",
       "      <td>627</td>\n",
       "      <td>6024</td>\n",
       "      <td>-31.839080</td>\n",
       "      <td>115.796470</td>\n",
       "      <td>1.500366</td>\n",
       "      <td>86.0</td>\n",
       "    </tr>\n",
       "    <tr>\n",
       "      <th>81</th>\n",
       "      <td>33</td>\n",
       "      <td>392500</td>\n",
       "      <td>4</td>\n",
       "      <td>2</td>\n",
       "      <td>NaN</td>\n",
       "      <td>532</td>\n",
       "      <td>185</td>\n",
       "      <td>NaN</td>\n",
       "      <td>12300</td>\n",
       "      <td>7800</td>\n",
       "      <td>6066</td>\n",
       "      <td>-31.848738</td>\n",
       "      <td>115.904503</td>\n",
       "      <td>1.136161</td>\n",
       "      <td>133.0</td>\n",
       "    </tr>\n",
       "    <tr>\n",
       "      <th>82</th>\n",
       "      <td>33</td>\n",
       "      <td>900000</td>\n",
       "      <td>4</td>\n",
       "      <td>2</td>\n",
       "      <td>2.0</td>\n",
       "      <td>454</td>\n",
       "      <td>263</td>\n",
       "      <td>NaN</td>\n",
       "      <td>14700</td>\n",
       "      <td>343</td>\n",
       "      <td>6056</td>\n",
       "      <td>-31.893400</td>\n",
       "      <td>115.998000</td>\n",
       "      <td>0.831019</td>\n",
       "      <td>NaN</td>\n",
       "    </tr>\n",
       "    <tr>\n",
       "      <th>...</th>\n",
       "      <td>...</td>\n",
       "      <td>...</td>\n",
       "      <td>...</td>\n",
       "      <td>...</td>\n",
       "      <td>...</td>\n",
       "      <td>...</td>\n",
       "      <td>...</td>\n",
       "      <td>...</td>\n",
       "      <td>...</td>\n",
       "      <td>...</td>\n",
       "      <td>...</td>\n",
       "      <td>...</td>\n",
       "      <td>...</td>\n",
       "      <td>...</td>\n",
       "      <td>...</td>\n",
       "    </tr>\n",
       "    <tr>\n",
       "      <th>33630</th>\n",
       "      <td>31</td>\n",
       "      <td>990000</td>\n",
       "      <td>4</td>\n",
       "      <td>2</td>\n",
       "      <td>2.0</td>\n",
       "      <td>327</td>\n",
       "      <td>311</td>\n",
       "      <td>NaN</td>\n",
       "      <td>9100</td>\n",
       "      <td>1900</td>\n",
       "      <td>6018</td>\n",
       "      <td>-31.899212</td>\n",
       "      <td>115.785637</td>\n",
       "      <td>0.761199</td>\n",
       "      <td>NaN</td>\n",
       "    </tr>\n",
       "    <tr>\n",
       "      <th>33641</th>\n",
       "      <td>34</td>\n",
       "      <td>495000</td>\n",
       "      <td>5</td>\n",
       "      <td>1</td>\n",
       "      <td>1.0</td>\n",
       "      <td>971</td>\n",
       "      <td>130</td>\n",
       "      <td>NaN</td>\n",
       "      <td>6900</td>\n",
       "      <td>1100</td>\n",
       "      <td>6102</td>\n",
       "      <td>-31.995070</td>\n",
       "      <td>115.911720</td>\n",
       "      <td>2.078063</td>\n",
       "      <td>93.0</td>\n",
       "    </tr>\n",
       "    <tr>\n",
       "      <th>33652</th>\n",
       "      <td>31</td>\n",
       "      <td>410000</td>\n",
       "      <td>3</td>\n",
       "      <td>2</td>\n",
       "      <td>2.0</td>\n",
       "      <td>228</td>\n",
       "      <td>114</td>\n",
       "      <td>NaN</td>\n",
       "      <td>9600</td>\n",
       "      <td>4600</td>\n",
       "      <td>6061</td>\n",
       "      <td>-31.867055</td>\n",
       "      <td>115.841403</td>\n",
       "      <td>1.679644</td>\n",
       "      <td>35.0</td>\n",
       "    </tr>\n",
       "    <tr>\n",
       "      <th>33653</th>\n",
       "      <td>31</td>\n",
       "      <td>427000</td>\n",
       "      <td>3</td>\n",
       "      <td>2</td>\n",
       "      <td>2.0</td>\n",
       "      <td>261</td>\n",
       "      <td>112</td>\n",
       "      <td>NaN</td>\n",
       "      <td>9600</td>\n",
       "      <td>4600</td>\n",
       "      <td>6061</td>\n",
       "      <td>-31.866890</td>\n",
       "      <td>115.841418</td>\n",
       "      <td>1.669159</td>\n",
       "      <td>35.0</td>\n",
       "    </tr>\n",
       "    <tr>\n",
       "      <th>33655</th>\n",
       "      <td>33</td>\n",
       "      <td>295000</td>\n",
       "      <td>3</td>\n",
       "      <td>1</td>\n",
       "      <td>2.0</td>\n",
       "      <td>296</td>\n",
       "      <td>95</td>\n",
       "      <td>NaN</td>\n",
       "      <td>16700</td>\n",
       "      <td>1700</td>\n",
       "      <td>6056</td>\n",
       "      <td>-31.882163</td>\n",
       "      <td>116.014755</td>\n",
       "      <td>1.055564</td>\n",
       "      <td>53.0</td>\n",
       "    </tr>\n",
       "  </tbody>\n",
       "</table>\n",
       "<p>3155 rows × 15 columns</p>\n",
       "</div>"
      ],
      "text/plain": [
       "       AREA   PRICE  BEDROOMS  BATHROOMS  GARAGE  LAND_AREA  FLOOR_AREA  \\\n",
       "27       33  347500         3          1     3.0        452          88   \n",
       "33        1  795000         4          3     6.0       2095         254   \n",
       "63       15  650000         4          2     1.0        715         170   \n",
       "81       33  392500         4          2     NaN        532         185   \n",
       "82       33  900000         4          2     2.0        454         263   \n",
       "...     ...     ...       ...        ...     ...        ...         ...   \n",
       "33630    31  990000         4          2     2.0        327         311   \n",
       "33641    34  495000         5          1     1.0        971         130   \n",
       "33652    31  410000         3          2     2.0        228         114   \n",
       "33653    31  427000         3          2     2.0        261         112   \n",
       "33655    33  295000         3          1     2.0        296          95   \n",
       "\n",
       "       BUILD_YEAR  CBD_DIST  NEAREST_STN_DIST  POSTCODE   LATITUDE  \\\n",
       "27            NaN     13100              1400      6055 -31.906980   \n",
       "33            NaN     27300              5800      6111 -32.115357   \n",
       "63            NaN     13900               627      6024 -31.839080   \n",
       "81            NaN     12300              7800      6066 -31.848738   \n",
       "82            NaN     14700               343      6056 -31.893400   \n",
       "...           ...       ...               ...       ...        ...   \n",
       "33630         NaN      9100              1900      6018 -31.899212   \n",
       "33641         NaN      6900              1100      6102 -31.995070   \n",
       "33652         NaN      9600              4600      6061 -31.867055   \n",
       "33653         NaN      9600              4600      6061 -31.866890   \n",
       "33655         NaN     16700              1700      6056 -31.882163   \n",
       "\n",
       "        LONGITUDE  NEAREST_SCH_DIST  NEAREST_SCH_RANK  \n",
       "27     115.986980          1.517811              52.0  \n",
       "33     116.074862          6.049554             113.0  \n",
       "63     115.796470          1.500366              86.0  \n",
       "81     115.904503          1.136161             133.0  \n",
       "82     115.998000          0.831019               NaN  \n",
       "...           ...               ...               ...  \n",
       "33630  115.785637          0.761199               NaN  \n",
       "33641  115.911720          2.078063              93.0  \n",
       "33652  115.841403          1.679644              35.0  \n",
       "33653  115.841418          1.669159              35.0  \n",
       "33655  116.014755          1.055564              53.0  \n",
       "\n",
       "[3155 rows x 15 columns]"
      ]
     },
     "execution_count": 30,
     "metadata": {},
     "output_type": "execute_result"
    }
   ],
   "source": [
    "# Mencari index missing value Build Year\n",
    "BUILD_YEAR_miss = pd.isnull(dataduplicate[\"BUILD_YEAR\"])\n",
    "dataduplicate[BUILD_YEAR_miss]"
   ]
  },
  {
   "cell_type": "markdown",
   "metadata": {},
   "source": [
    "**INSIGHT :**\n",
    "-   Untuk mengisi fitur Garage, nampaknya tidak ada kolom yang berhubungan dengan fitur ini dan membantu kita memperkirakan nilai untuk catatan yang hilang. Sepertinya nilai-nilai tersebut hilang secara acak, dan kita bisa menggunakan median untuk menggantikan nilai-nilai NaN karena distribusi pembayaran minimum bersifat skewed , oleh karena itu median memberikan estimasi yang lebih baik untuk kecenderungan pusat fitur ini."
   ]
  },
  {
   "cell_type": "markdown",
   "metadata": {},
   "source": [
    "#### Column Nearest Sch Rank"
   ]
  },
  {
   "cell_type": "code",
   "execution_count": 31,
   "metadata": {},
   "outputs": [
    {
     "data": {
      "text/html": [
       "<div>\n",
       "<style scoped>\n",
       "    .dataframe tbody tr th:only-of-type {\n",
       "        vertical-align: middle;\n",
       "    }\n",
       "\n",
       "    .dataframe tbody tr th {\n",
       "        vertical-align: top;\n",
       "    }\n",
       "\n",
       "    .dataframe thead th {\n",
       "        text-align: right;\n",
       "    }\n",
       "</style>\n",
       "<table border=\"1\" class=\"dataframe\">\n",
       "  <thead>\n",
       "    <tr style=\"text-align: right;\">\n",
       "      <th></th>\n",
       "      <th>AREA</th>\n",
       "      <th>PRICE</th>\n",
       "      <th>BEDROOMS</th>\n",
       "      <th>BATHROOMS</th>\n",
       "      <th>GARAGE</th>\n",
       "      <th>LAND_AREA</th>\n",
       "      <th>FLOOR_AREA</th>\n",
       "      <th>BUILD_YEAR</th>\n",
       "      <th>CBD_DIST</th>\n",
       "      <th>NEAREST_STN_DIST</th>\n",
       "      <th>POSTCODE</th>\n",
       "      <th>LATITUDE</th>\n",
       "      <th>LONGITUDE</th>\n",
       "      <th>NEAREST_SCH_DIST</th>\n",
       "      <th>NEAREST_SCH_RANK</th>\n",
       "    </tr>\n",
       "  </thead>\n",
       "  <tbody>\n",
       "    <tr>\n",
       "      <th>0</th>\n",
       "      <td>10</td>\n",
       "      <td>565000</td>\n",
       "      <td>4</td>\n",
       "      <td>2</td>\n",
       "      <td>2.0</td>\n",
       "      <td>600</td>\n",
       "      <td>160</td>\n",
       "      <td>2003.0</td>\n",
       "      <td>18300</td>\n",
       "      <td>1800</td>\n",
       "      <td>6164</td>\n",
       "      <td>-32.115900</td>\n",
       "      <td>115.842450</td>\n",
       "      <td>0.828339</td>\n",
       "      <td>NaN</td>\n",
       "    </tr>\n",
       "    <tr>\n",
       "      <th>3</th>\n",
       "      <td>33</td>\n",
       "      <td>255000</td>\n",
       "      <td>2</td>\n",
       "      <td>1</td>\n",
       "      <td>2.0</td>\n",
       "      <td>651</td>\n",
       "      <td>59</td>\n",
       "      <td>1953.0</td>\n",
       "      <td>17900</td>\n",
       "      <td>3600</td>\n",
       "      <td>6056</td>\n",
       "      <td>-31.900547</td>\n",
       "      <td>116.038009</td>\n",
       "      <td>1.571401</td>\n",
       "      <td>NaN</td>\n",
       "    </tr>\n",
       "    <tr>\n",
       "      <th>4</th>\n",
       "      <td>33</td>\n",
       "      <td>325000</td>\n",
       "      <td>4</td>\n",
       "      <td>1</td>\n",
       "      <td>2.0</td>\n",
       "      <td>466</td>\n",
       "      <td>131</td>\n",
       "      <td>1998.0</td>\n",
       "      <td>11200</td>\n",
       "      <td>2000</td>\n",
       "      <td>6054</td>\n",
       "      <td>-31.885790</td>\n",
       "      <td>115.947780</td>\n",
       "      <td>1.514922</td>\n",
       "      <td>NaN</td>\n",
       "    </tr>\n",
       "    <tr>\n",
       "      <th>5</th>\n",
       "      <td>1</td>\n",
       "      <td>409000</td>\n",
       "      <td>4</td>\n",
       "      <td>2</td>\n",
       "      <td>1.0</td>\n",
       "      <td>759</td>\n",
       "      <td>118</td>\n",
       "      <td>1991.0</td>\n",
       "      <td>27300</td>\n",
       "      <td>1000</td>\n",
       "      <td>6112</td>\n",
       "      <td>-32.153801</td>\n",
       "      <td>116.023658</td>\n",
       "      <td>1.227219</td>\n",
       "      <td>NaN</td>\n",
       "    </tr>\n",
       "    <tr>\n",
       "      <th>6</th>\n",
       "      <td>1</td>\n",
       "      <td>400000</td>\n",
       "      <td>3</td>\n",
       "      <td>2</td>\n",
       "      <td>2.0</td>\n",
       "      <td>386</td>\n",
       "      <td>132</td>\n",
       "      <td>2014.0</td>\n",
       "      <td>28200</td>\n",
       "      <td>3700</td>\n",
       "      <td>6112</td>\n",
       "      <td>-32.179978</td>\n",
       "      <td>115.988647</td>\n",
       "      <td>2.485731</td>\n",
       "      <td>NaN</td>\n",
       "    </tr>\n",
       "    <tr>\n",
       "      <th>...</th>\n",
       "      <td>...</td>\n",
       "      <td>...</td>\n",
       "      <td>...</td>\n",
       "      <td>...</td>\n",
       "      <td>...</td>\n",
       "      <td>...</td>\n",
       "      <td>...</td>\n",
       "      <td>...</td>\n",
       "      <td>...</td>\n",
       "      <td>...</td>\n",
       "      <td>...</td>\n",
       "      <td>...</td>\n",
       "      <td>...</td>\n",
       "      <td>...</td>\n",
       "      <td>...</td>\n",
       "    </tr>\n",
       "    <tr>\n",
       "      <th>33629</th>\n",
       "      <td>36</td>\n",
       "      <td>422500</td>\n",
       "      <td>4</td>\n",
       "      <td>2</td>\n",
       "      <td>2.0</td>\n",
       "      <td>724</td>\n",
       "      <td>140</td>\n",
       "      <td>2005.0</td>\n",
       "      <td>19100</td>\n",
       "      <td>3800</td>\n",
       "      <td>6065</td>\n",
       "      <td>-31.784276</td>\n",
       "      <td>115.818178</td>\n",
       "      <td>0.475902</td>\n",
       "      <td>NaN</td>\n",
       "    </tr>\n",
       "    <tr>\n",
       "      <th>33630</th>\n",
       "      <td>31</td>\n",
       "      <td>990000</td>\n",
       "      <td>4</td>\n",
       "      <td>2</td>\n",
       "      <td>2.0</td>\n",
       "      <td>327</td>\n",
       "      <td>311</td>\n",
       "      <td>NaN</td>\n",
       "      <td>9100</td>\n",
       "      <td>1900</td>\n",
       "      <td>6018</td>\n",
       "      <td>-31.899212</td>\n",
       "      <td>115.785637</td>\n",
       "      <td>0.761199</td>\n",
       "      <td>NaN</td>\n",
       "    </tr>\n",
       "    <tr>\n",
       "      <th>33642</th>\n",
       "      <td>14</td>\n",
       "      <td>240000</td>\n",
       "      <td>3</td>\n",
       "      <td>1</td>\n",
       "      <td>1.0</td>\n",
       "      <td>480</td>\n",
       "      <td>112</td>\n",
       "      <td>1978.0</td>\n",
       "      <td>16800</td>\n",
       "      <td>917</td>\n",
       "      <td>6109</td>\n",
       "      <td>-32.051950</td>\n",
       "      <td>115.991790</td>\n",
       "      <td>0.958426</td>\n",
       "      <td>NaN</td>\n",
       "    </tr>\n",
       "    <tr>\n",
       "      <th>33647</th>\n",
       "      <td>36</td>\n",
       "      <td>245000</td>\n",
       "      <td>3</td>\n",
       "      <td>1</td>\n",
       "      <td>4.0</td>\n",
       "      <td>381</td>\n",
       "      <td>85</td>\n",
       "      <td>1974.0</td>\n",
       "      <td>12600</td>\n",
       "      <td>4400</td>\n",
       "      <td>6064</td>\n",
       "      <td>-31.839680</td>\n",
       "      <td>115.842410</td>\n",
       "      <td>0.358494</td>\n",
       "      <td>NaN</td>\n",
       "    </tr>\n",
       "    <tr>\n",
       "      <th>33654</th>\n",
       "      <td>36</td>\n",
       "      <td>295000</td>\n",
       "      <td>3</td>\n",
       "      <td>1</td>\n",
       "      <td>2.0</td>\n",
       "      <td>457</td>\n",
       "      <td>85</td>\n",
       "      <td>1974.0</td>\n",
       "      <td>12600</td>\n",
       "      <td>4400</td>\n",
       "      <td>6064</td>\n",
       "      <td>-31.839680</td>\n",
       "      <td>115.842410</td>\n",
       "      <td>0.358494</td>\n",
       "      <td>NaN</td>\n",
       "    </tr>\n",
       "  </tbody>\n",
       "</table>\n",
       "<p>10952 rows × 15 columns</p>\n",
       "</div>"
      ],
      "text/plain": [
       "       AREA   PRICE  BEDROOMS  BATHROOMS  GARAGE  LAND_AREA  FLOOR_AREA  \\\n",
       "0        10  565000         4          2     2.0        600         160   \n",
       "3        33  255000         2          1     2.0        651          59   \n",
       "4        33  325000         4          1     2.0        466         131   \n",
       "5         1  409000         4          2     1.0        759         118   \n",
       "6         1  400000         3          2     2.0        386         132   \n",
       "...     ...     ...       ...        ...     ...        ...         ...   \n",
       "33629    36  422500         4          2     2.0        724         140   \n",
       "33630    31  990000         4          2     2.0        327         311   \n",
       "33642    14  240000         3          1     1.0        480         112   \n",
       "33647    36  245000         3          1     4.0        381          85   \n",
       "33654    36  295000         3          1     2.0        457          85   \n",
       "\n",
       "       BUILD_YEAR  CBD_DIST  NEAREST_STN_DIST  POSTCODE   LATITUDE  \\\n",
       "0          2003.0     18300              1800      6164 -32.115900   \n",
       "3          1953.0     17900              3600      6056 -31.900547   \n",
       "4          1998.0     11200              2000      6054 -31.885790   \n",
       "5          1991.0     27300              1000      6112 -32.153801   \n",
       "6          2014.0     28200              3700      6112 -32.179978   \n",
       "...           ...       ...               ...       ...        ...   \n",
       "33629      2005.0     19100              3800      6065 -31.784276   \n",
       "33630         NaN      9100              1900      6018 -31.899212   \n",
       "33642      1978.0     16800               917      6109 -32.051950   \n",
       "33647      1974.0     12600              4400      6064 -31.839680   \n",
       "33654      1974.0     12600              4400      6064 -31.839680   \n",
       "\n",
       "        LONGITUDE  NEAREST_SCH_DIST  NEAREST_SCH_RANK  \n",
       "0      115.842450          0.828339               NaN  \n",
       "3      116.038009          1.571401               NaN  \n",
       "4      115.947780          1.514922               NaN  \n",
       "5      116.023658          1.227219               NaN  \n",
       "6      115.988647          2.485731               NaN  \n",
       "...           ...               ...               ...  \n",
       "33629  115.818178          0.475902               NaN  \n",
       "33630  115.785637          0.761199               NaN  \n",
       "33642  115.991790          0.958426               NaN  \n",
       "33647  115.842410          0.358494               NaN  \n",
       "33654  115.842410          0.358494               NaN  \n",
       "\n",
       "[10952 rows x 15 columns]"
      ]
     },
     "execution_count": 31,
     "metadata": {},
     "output_type": "execute_result"
    }
   ],
   "source": [
    "# Mencari index missing value Nearest Sch Rank\n",
    "NEAREST_SCH_RANK_miss = pd.isnull(dataduplicate[\"NEAREST_SCH_RANK\"])\n",
    "dataduplicate[NEAREST_SCH_RANK_miss]"
   ]
  },
  {
   "cell_type": "markdown",
   "metadata": {},
   "source": [
    "**INSIGHT :**\n",
    "-   Untuk mengisi fitur Nearest Sch Rank, nampaknya tidak ada kolom yang berhubungan dengan fitur ini dan membantu kita memperkirakan nilai untuk catatan yang hilang. Sepertinya nilai-nilai tersebut hilang secara acak, dan kita bisa menggunakan mean untuk menggantikan nilai-nilai NaN karena distribusi pembayaran minimum bersifat gaussian , oleh karena itu mean memberikan estimasi yang lebih baik untuk kecenderungan pusat fitur ini."
   ]
  },
  {
   "cell_type": "markdown",
   "metadata": {},
   "source": [
    "#### Imputasi Missing Value"
   ]
  },
  {
   "cell_type": "code",
   "execution_count": 32,
   "metadata": {},
   "outputs": [
    {
     "data": {
      "text/plain": [
       "AREA                0\n",
       "PRICE               0\n",
       "BEDROOMS            0\n",
       "BATHROOMS           0\n",
       "GARAGE              0\n",
       "LAND_AREA           0\n",
       "FLOOR_AREA          0\n",
       "BUILD_YEAR          0\n",
       "CBD_DIST            0\n",
       "NEAREST_STN_DIST    0\n",
       "POSTCODE            0\n",
       "LATITUDE            0\n",
       "LONGITUDE           0\n",
       "NEAREST_SCH_DIST    0\n",
       "NEAREST_SCH_RANK    0\n",
       "dtype: int64"
      ]
     },
     "execution_count": 32,
     "metadata": {},
     "output_type": "execute_result"
    }
   ],
   "source": [
    "# Imputasi missing value kolom 'GARAGE' dengan nilai median\n",
    "dataduplicate['GARAGE'].fillna(dataduplicate['GARAGE'].median(), inplace=True)\n",
    "\n",
    "# Imputasi missing value kolom 'BUILD_YEAR' dengan nilai median\n",
    "dataduplicate['BUILD_YEAR'].fillna(dataduplicate['BUILD_YEAR'].median(), inplace=True)\n",
    "\n",
    "# Imputasi missing value kolom 'NEAREST_SCH_RANK' dengan nilai median\n",
    "dataduplicate['NEAREST_SCH_RANK'].fillna(dataduplicate['NEAREST_SCH_RANK'].mean(), inplace=True)\n",
    "\n",
    "# Check apakah masih ada missing value di data duplicate\n",
    "dataduplicate.isnull().sum()"
   ]
  },
  {
   "cell_type": "markdown",
   "metadata": {},
   "source": [
    "## Melakukan Split Data"
   ]
  },
  {
   "cell_type": "code",
   "execution_count": 33,
   "metadata": {},
   "outputs": [],
   "source": [
    "#membagi data hasil pemilihan feature kedalam X(feature) dan y(target)\n",
    "X = dataduplicate.drop(['PRICE'], axis=1)\n",
    "y = dataduplicate['PRICE']"
   ]
  },
  {
   "cell_type": "code",
   "execution_count": 34,
   "metadata": {},
   "outputs": [
    {
     "name": "stdout",
     "output_type": "stream",
     "text": [
      "Train size (26924, 14)\n",
      "Test size (6732, 14)\n"
     ]
    },
    {
     "data": {
      "text/html": [
       "<div>\n",
       "<style scoped>\n",
       "    .dataframe tbody tr th:only-of-type {\n",
       "        vertical-align: middle;\n",
       "    }\n",
       "\n",
       "    .dataframe tbody tr th {\n",
       "        vertical-align: top;\n",
       "    }\n",
       "\n",
       "    .dataframe thead th {\n",
       "        text-align: right;\n",
       "    }\n",
       "</style>\n",
       "<table border=\"1\" class=\"dataframe\">\n",
       "  <thead>\n",
       "    <tr style=\"text-align: right;\">\n",
       "      <th></th>\n",
       "      <th>AREA</th>\n",
       "      <th>BEDROOMS</th>\n",
       "      <th>BATHROOMS</th>\n",
       "      <th>GARAGE</th>\n",
       "      <th>LAND_AREA</th>\n",
       "      <th>FLOOR_AREA</th>\n",
       "      <th>BUILD_YEAR</th>\n",
       "      <th>CBD_DIST</th>\n",
       "      <th>NEAREST_STN_DIST</th>\n",
       "      <th>POSTCODE</th>\n",
       "      <th>LATITUDE</th>\n",
       "      <th>LONGITUDE</th>\n",
       "      <th>NEAREST_SCH_DIST</th>\n",
       "      <th>NEAREST_SCH_RANK</th>\n",
       "    </tr>\n",
       "  </thead>\n",
       "  <tbody>\n",
       "    <tr>\n",
       "      <th>24255</th>\n",
       "      <td>21</td>\n",
       "      <td>3</td>\n",
       "      <td>2</td>\n",
       "      <td>2.0</td>\n",
       "      <td>2001</td>\n",
       "      <td>122</td>\n",
       "      <td>2001.0</td>\n",
       "      <td>34100</td>\n",
       "      <td>19600</td>\n",
       "      <td>6082</td>\n",
       "      <td>-31.866960</td>\n",
       "      <td>116.205830</td>\n",
       "      <td>1.556246</td>\n",
       "      <td>105.000000</td>\n",
       "    </tr>\n",
       "    <tr>\n",
       "      <th>9506</th>\n",
       "      <td>36</td>\n",
       "      <td>4</td>\n",
       "      <td>2</td>\n",
       "      <td>4.0</td>\n",
       "      <td>619</td>\n",
       "      <td>205</td>\n",
       "      <td>2006.0</td>\n",
       "      <td>16300</td>\n",
       "      <td>5000</td>\n",
       "      <td>6065</td>\n",
       "      <td>-31.807020</td>\n",
       "      <td>115.833860</td>\n",
       "      <td>0.606679</td>\n",
       "      <td>50.000000</td>\n",
       "    </tr>\n",
       "    <tr>\n",
       "      <th>10712</th>\n",
       "      <td>21</td>\n",
       "      <td>3</td>\n",
       "      <td>1</td>\n",
       "      <td>2.0</td>\n",
       "      <td>1214</td>\n",
       "      <td>107</td>\n",
       "      <td>1936.0</td>\n",
       "      <td>39800</td>\n",
       "      <td>25300</td>\n",
       "      <td>6556</td>\n",
       "      <td>-31.860540</td>\n",
       "      <td>116.265830</td>\n",
       "      <td>4.571753</td>\n",
       "      <td>105.000000</td>\n",
       "    </tr>\n",
       "    <tr>\n",
       "      <th>31370</th>\n",
       "      <td>19</td>\n",
       "      <td>4</td>\n",
       "      <td>2</td>\n",
       "      <td>2.0</td>\n",
       "      <td>769</td>\n",
       "      <td>180</td>\n",
       "      <td>1978.0</td>\n",
       "      <td>12600</td>\n",
       "      <td>3200</td>\n",
       "      <td>6163</td>\n",
       "      <td>-32.060130</td>\n",
       "      <td>115.817260</td>\n",
       "      <td>1.523769</td>\n",
       "      <td>72.672569</td>\n",
       "    </tr>\n",
       "    <tr>\n",
       "      <th>24716</th>\n",
       "      <td>1</td>\n",
       "      <td>4</td>\n",
       "      <td>2</td>\n",
       "      <td>6.0</td>\n",
       "      <td>2688</td>\n",
       "      <td>291</td>\n",
       "      <td>1984.0</td>\n",
       "      <td>26200</td>\n",
       "      <td>1800</td>\n",
       "      <td>6112</td>\n",
       "      <td>-32.138684</td>\n",
       "      <td>116.029077</td>\n",
       "      <td>2.003305</td>\n",
       "      <td>72.672569</td>\n",
       "    </tr>\n",
       "  </tbody>\n",
       "</table>\n",
       "</div>"
      ],
      "text/plain": [
       "       AREA  BEDROOMS  BATHROOMS  GARAGE  LAND_AREA  FLOOR_AREA  BUILD_YEAR  \\\n",
       "24255    21         3          2     2.0       2001         122      2001.0   \n",
       "9506     36         4          2     4.0        619         205      2006.0   \n",
       "10712    21         3          1     2.0       1214         107      1936.0   \n",
       "31370    19         4          2     2.0        769         180      1978.0   \n",
       "24716     1         4          2     6.0       2688         291      1984.0   \n",
       "\n",
       "       CBD_DIST  NEAREST_STN_DIST  POSTCODE   LATITUDE   LONGITUDE  \\\n",
       "24255     34100             19600      6082 -31.866960  116.205830   \n",
       "9506      16300              5000      6065 -31.807020  115.833860   \n",
       "10712     39800             25300      6556 -31.860540  116.265830   \n",
       "31370     12600              3200      6163 -32.060130  115.817260   \n",
       "24716     26200              1800      6112 -32.138684  116.029077   \n",
       "\n",
       "       NEAREST_SCH_DIST  NEAREST_SCH_RANK  \n",
       "24255          1.556246        105.000000  \n",
       "9506           0.606679         50.000000  \n",
       "10712          4.571753        105.000000  \n",
       "31370          1.523769         72.672569  \n",
       "24716          2.003305         72.672569  "
      ]
     },
     "execution_count": 34,
     "metadata": {},
     "output_type": "execute_result"
    }
   ],
   "source": [
    "# Splitting between Train and Test\n",
    "X_train, X_test, y_train, y_test = train_test_split(X, y, test_size=0.2, random_state=20)\n",
    "\n",
    "print('Train size', X_train.shape)\n",
    "print('Test size', X_test.shape)\n",
    "X_train.head()"
   ]
  },
  {
   "cell_type": "markdown",
   "metadata": {},
   "source": [
    "## Melakukan Check dan Handling Outlier"
   ]
  },
  {
   "cell_type": "markdown",
   "metadata": {},
   "source": [
    "### Melakukan Checking Outlier"
   ]
  },
  {
   "cell_type": "code",
   "execution_count": 35,
   "metadata": {},
   "outputs": [
    {
     "data": {
      "text/plain": [
       "AREA                -0.240285\n",
       "BEDROOMS             0.230618\n",
       "BATHROOMS            0.944266\n",
       "GARAGE              18.544762\n",
       "LAND_AREA           33.382058\n",
       "FLOOR_AREA           1.394794\n",
       "BUILD_YEAR          -1.515013\n",
       "CBD_DIST             0.884421\n",
       "NEAREST_STN_DIST     2.454389\n",
       "POSTCODE             2.120937\n",
       "LATITUDE            -0.372182\n",
       "LONGITUDE            0.640627\n",
       "NEAREST_SCH_DIST     3.779675\n",
       "NEAREST_SCH_RANK     0.044271\n",
       "dtype: float64"
      ]
     },
     "execution_count": 35,
     "metadata": {},
     "output_type": "execute_result"
    }
   ],
   "source": [
    "# Melihat skewness data\n",
    "X_train.skew()"
   ]
  },
  {
   "cell_type": "code",
   "execution_count": 36,
   "metadata": {},
   "outputs": [
    {
     "name": "stdout",
     "output_type": "stream",
     "text": [
      "Kolom Numerik yang termasuk dalam skewed adalah ['BATHROOMS', 'GARAGE', 'LAND_AREA', 'FLOOR_AREA', 'BUILD_YEAR', 'CBD_DIST', 'NEAREST_STN_DIST', 'POSTCODE', 'LONGITUDE', 'NEAREST_SCH_DIST']\n",
      "Kolom Numerik yang termasuk dalam normal adalah ['AREA', 'BEDROOMS', 'LATITUDE', 'NEAREST_SCH_RANK']\n"
     ]
    }
   ],
   "source": [
    "# Untuk menampung kolom yang masuk dalam skewness normal\n",
    "normal = [] \n",
    "# Untuk menampung kolom yang masuk dalam skewness skewed \n",
    "skewed = []  \n",
    "\n",
    "# Menggunakan for loop untuk mencari kolom mana yang skewed atau normal\n",
    "for column in X_train:  \n",
    "    skewness = X_train[column].skew()\n",
    "    if skewness < -0.5 or skewness > 0.5:  # syarat\n",
    "        skewed.append(column)  # masuk ke variabel penampung skewed\n",
    "    elif skewness >= -0.5 or skewness <= 0.5:  # syarat\n",
    "        normal.append(column)  # masuk ke variabel penampung normal\n",
    "\n",
    "print(f'Kolom Numerik yang termasuk dalam skewed adalah {skewed}')\n",
    "print(f'Kolom Numerik yang termasuk dalam normal adalah {normal}')"
   ]
  },
  {
   "cell_type": "code",
   "execution_count": 37,
   "metadata": {},
   "outputs": [
    {
     "name": "stdout",
     "output_type": "stream",
     "text": [
      "Jumlah outlier dalam kolom AREA: 0 outlier\n",
      "Jumlah outlier dalam kolom BEDROOMS: 376 outlier\n",
      "Jumlah outlier dalam kolom BATHROOMS: 213 outlier\n",
      "Jumlah outlier dalam kolom GARAGE: 277 outlier\n",
      "Jumlah outlier dalam kolom LAND_AREA: 141 outlier\n",
      "Jumlah outlier dalam kolom FLOOR_AREA: 341 outlier\n",
      "Jumlah outlier dalam kolom BUILD_YEAR: 505 outlier\n",
      "Jumlah outlier dalam kolom CBD_DIST: 241 outlier\n",
      "Jumlah outlier dalam kolom NEAREST_STN_DIST: 708 outlier\n",
      "Jumlah outlier dalam kolom POSTCODE: 132 outlier\n",
      "Jumlah outlier dalam kolom LATITUDE: 0 outlier\n",
      "Jumlah outlier dalam kolom LONGITUDE: 144 outlier\n",
      "Jumlah outlier dalam kolom NEAREST_SCH_DIST: 597 outlier\n",
      "Jumlah outlier dalam kolom NEAREST_SCH_RANK: 0 outlier\n"
     ]
    }
   ],
   "source": [
    "threshold = 3\n",
    "\n",
    "outlier_counts = {}\n",
    "\n",
    "for col in X_train.columns:\n",
    "    data_skew = X_train[col]\n",
    "    mean = np.mean(data_skew)\n",
    "    std_dev = np.std(data_skew)\n",
    "\n",
    "    upper_bound = mean + threshold * std_dev\n",
    "    lower_bound = mean - threshold * std_dev\n",
    "\n",
    "    outliers = np.where((data_skew > upper_bound) | (data_skew < lower_bound))\n",
    "    \n",
    "    outlier_counts[col] = len(outliers[0])\n",
    "\n",
    "for col, count in outlier_counts.items():\n",
    "    print(f\"Jumlah outlier dalam kolom {col}: {count} outlier\")"
   ]
  },
  {
   "cell_type": "code",
   "execution_count": 38,
   "metadata": {},
   "outputs": [
    {
     "name": "stdout",
     "output_type": "stream",
     "text": [
      "Percentage of outliers in column AREA: 0.00%\n",
      "Percentage of outliers in column BEDROOMS: 1.40%\n",
      "Percentage of outliers in column BATHROOMS: 0.79%\n",
      "Percentage of outliers in column GARAGE: 1.03%\n",
      "Percentage of outliers in column LAND_AREA: 0.52%\n",
      "Percentage of outliers in column FLOOR_AREA: 1.27%\n",
      "Percentage of outliers in column BUILD_YEAR: 1.88%\n",
      "Percentage of outliers in column CBD_DIST: 0.90%\n",
      "Percentage of outliers in column NEAREST_STN_DIST: 2.63%\n",
      "Percentage of outliers in column POSTCODE: 0.49%\n",
      "Percentage of outliers in column LATITUDE: 0.00%\n",
      "Percentage of outliers in column LONGITUDE: 0.53%\n",
      "Percentage of outliers in column NEAREST_SCH_DIST: 2.22%\n",
      "Percentage of outliers in column NEAREST_SCH_RANK: 0.00%\n"
     ]
    }
   ],
   "source": [
    "# Set the threshold for identifying outliers\n",
    "threshold = 3\n",
    "\n",
    "# Initialize a dictionary to store outlier percentages for each numerical column\n",
    "outlier_percentages = {}\n",
    "\n",
    "# Iterate through each column in X_train_num\n",
    "for col in X_train.columns:\n",
    "    data_skew = X_train[col]\n",
    "    mean = np.mean(data_skew)\n",
    "    std_dev = np.std(data_skew)\n",
    "\n",
    "    upper_bound = mean + threshold * std_dev\n",
    "    lower_bound = mean - threshold * std_dev\n",
    "\n",
    "    # Identify outliers based on the threshold\n",
    "    outliers = np.where((data_skew > upper_bound) | (data_skew < lower_bound))\n",
    "    \n",
    "    # Calculate the percentage of outliers\n",
    "    total_data_points = len(data_skew)\n",
    "    percentage = (len(outliers[0]) / total_data_points) * 100\n",
    "    \n",
    "    # Store the percentage of outliers in the dictionary\n",
    "    outlier_percentages[col] = percentage\n",
    "\n",
    "# Print the percentage of outliers for each column\n",
    "for col, percentage in outlier_percentages.items():\n",
    "    print(f\"Percentage of outliers in column {col}: {percentage:.2f}%\")"
   ]
  },
  {
   "cell_type": "code",
   "execution_count": 39,
   "metadata": {},
   "outputs": [
    {
     "name": "stderr",
     "output_type": "stream",
     "text": [
      "C:\\Users\\Guardian\\AppData\\Local\\Temp\\ipykernel_12060\\3632518659.py:6: MatplotlibDeprecationWarning:\n",
      "\n",
      "Auto-removal of overlapping axes is deprecated since 3.6 and will be removed two minor releases later; explicitly call ax.remove() as needed.\n",
      "\n"
     ]
    },
    {
     "data": {
      "image/png": "[encoded data removed]",
      "text/plain": [
       "<Figure size 1500x1500 with 14 Axes>"
      ]
     },
     "metadata": {},
     "output_type": "display_data"
    }
   ],
   "source": [
    "# Melihat Boxplot seebelum dilakukan handling outlier\n",
    "plt.subplots(figsize=(15, 15))\n",
    "plt.subplots_adjust(left=0.1, bottom=0.1, right=0.9, top=0.9, wspace=0.4, hspace=0.8)\n",
    "\n",
    "for i, column in enumerate(X_train.columns, 1):\n",
    "    ax = plt.subplot(7, 3, i)\n",
    "    sns.boxplot(X_train[column], color='skyblue')\n",
    "    \n",
    "    # Mengatur nama pada sumbu x (x-axis label)\n",
    "    ax.set_xticklabels([column], rotation=0)  # Menggunakan nama kolom sebagai label sumbu x\n",
    "\n",
    "plt.show()"
   ]
  },
  {
   "cell_type": "markdown",
   "metadata": {},
   "source": [
    "**INSIGHT:**\n",
    "-   Pada grafik bloxplot diatas didapatkan bahwa column yang memiliki outlier yang ditandai dengan titik-titik hitam pada batas atas dan batas bawah pada boxplot :\n",
    "    -   'BEDROOMS' \n",
    "    -   'BATHROOMS'\n",
    "    -   'GARAGE'\n",
    "    -   'LAND_AREA'\n",
    "    -   'FLOOR_AREA'\n",
    "    -   'BUILD_YEAR'\n",
    "    -   'CBD_DIST'\n",
    "    -   'NEAREST_STN_DIST'\n",
    "    -   'CASH_ADVANCE_TRX'\n",
    "    -   'POSTCODE'\n",
    "    -   'LATITUDE'\n",
    "    -   'LONGITUDE'\n",
    "    -   'NEAREST_SCH_DIST'\n",
    "-   Dan column yang tidak memiliki outlier adalah :\n",
    "    -   'AREA'\n",
    "    -   'NEAREST_SCH_RANK'\n",
    "-   Selain itu dapat dijelaskan bahwa data yang memiliki distribusi normal adalah 'AREA', 'BEDROOMS', 'LATITUDE', 'NEAREST_SCH_RANK'. Sedangkan sisa column lainnya memiliki distribusi data yang skew. Hal ini dibuktikan dengan melihat nilai skew dari masing-masing column. Jika hasil skew > 0.05 maka data memiliki distribusi yang skew. Sebaliknya jika hasil skew < 0.05 maka data memiliki distribusi yang normal.\n",
    "-   Untuk melakukan Handling Outlier, saya akan melakukan metode capping dengan Gaussian bagi data berdistribusi normal dan IQR bagi data berdistribusi skew pada pipeline"
   ]
  },
  {
   "cell_type": "markdown",
   "metadata": {},
   "source": [
    "## Feature Selection"
   ]
  },
  {
   "cell_type": "markdown",
   "metadata": {},
   "source": [
    "### Membagi Categorical dan Numerical Data Pada X_train"
   ]
  },
  {
   "cell_type": "code",
   "execution_count": 40,
   "metadata": {},
   "outputs": [],
   "source": [
    "# Membuat categorical data pada x train \n",
    "categorical_X_train = X_train[['AREA','POSTCODE','NEAREST_SCH_RANK']]\n",
    "\n",
    "# Membuat numerical data pada x train \n",
    "numerical_X_train = X_train[['BEDROOMS','BATHROOMS','GARAGE','LAND_AREA', 'FLOOR_AREA', \"BUILD_YEAR\",'CBD_DIST','NEAREST_STN_DIST','LATITUDE',\t\n",
    "                                'LONGITUDE', 'NEAREST_SCH_DIST']]\n",
    "\n",
    "# Membuat dataframe pada y train untuk dijadikan target\n",
    "target_variable_df=pd.DataFrame(y_train)"
   ]
  },
  {
   "cell_type": "markdown",
   "metadata": {},
   "source": [
    "### Melihat Korelasi Numeric dengan Numeric Dengan Spearman"
   ]
  },
  {
   "cell_type": "markdown",
   "metadata": {},
   "source": [
    "**NOTES :**\n",
    "\n",
    "-    Korelasi Spearman adalah metode statistik yang digunakan untuk mengukur kekuatan dan arah hubungan antara dua variabel acak. Metode ini adalah salah satu teknik analisis korelasi non-parametrik yang mengukur hubungan monotonic (tak tentu arah) antara variabel-variabel tersebut.\n",
    "\n",
    "-   Koefisien korelasi Spearman berkisar dari -1 hingga 1:\n",
    "    -   Jika nilai korelasi = 1. Menunjukkan hubungan positif sempurna antara variabel feature dengan variabel target. Ketika variabel feature meningkat, variabel target juga meningkat secara linear.\n",
    "    -   Jika nilai korelasi = -1. Menunjukkan hubungan negatif sempurna antara variabel feature dengan variabel target. Ketika variabel feature meningkat, variabel target menurun secara linear.\n",
    "    -   Jika nilai korelasi mendekati = 0. Menunjukkan bahwa tidak ada korelasi atau hubungan yang lemah antara variabel feature dengan variabel target."
   ]
  },
  {
   "cell_type": "code",
   "execution_count": 41,
   "metadata": {},
   "outputs": [
    {
     "name": "stdout",
     "output_type": "stream",
     "text": [
      "Spearman Test antara 'PRICE' dan 'BEDROOMS':\n",
      "Spearman Value: 0.29293864248703205\n",
      "P-value: 0.0\n",
      "Terdapat Pengaruh Signifikan antara BEDROOMS dengan PRICE\n",
      "----------------------------------------------------------------------------------------------------\n",
      "Spearman Test antara 'PRICE' dan 'BATHROOMS':\n",
      "Spearman Value: 0.3792971744104542\n",
      "P-value: 0.0\n",
      "Terdapat Pengaruh Signifikan antara BATHROOMS dengan PRICE\n",
      "----------------------------------------------------------------------------------------------------\n",
      "Spearman Test antara 'PRICE' dan 'GARAGE':\n",
      "Spearman Value: 0.2429961326722822\n",
      "P-value: 0.0\n",
      "Terdapat Pengaruh Signifikan antara GARAGE dengan PRICE\n",
      "----------------------------------------------------------------------------------------------------\n",
      "Spearman Test antara 'PRICE' dan 'LAND_AREA':\n",
      "Spearman Value: 0.14767278484008084\n",
      "P-value: 4.170954550032344e-131\n",
      "Terdapat Pengaruh Signifikan antara LAND_AREA dengan PRICE\n",
      "----------------------------------------------------------------------------------------------------\n",
      "Spearman Test antara 'PRICE' dan 'FLOOR_AREA':\n",
      "Spearman Value: 0.5763652858111311\n",
      "P-value: 0.0\n",
      "Terdapat Pengaruh Signifikan antara FLOOR_AREA dengan PRICE\n",
      "----------------------------------------------------------------------------------------------------\n",
      "Spearman Test antara 'PRICE' dan 'BUILD_YEAR':\n",
      "Spearman Value: -0.05195043675611524\n",
      "P-value: 1.4676688350789753e-17\n",
      "Terdapat Pengaruh Signifikan antara BUILD_YEAR dengan PRICE\n",
      "----------------------------------------------------------------------------------------------------\n",
      "Spearman Test antara 'PRICE' dan 'CBD_DIST':\n",
      "Spearman Value: -0.39302018495513186\n",
      "P-value: 0.0\n",
      "Terdapat Pengaruh Signifikan antara CBD_DIST dengan PRICE\n",
      "----------------------------------------------------------------------------------------------------\n",
      "Spearman Test antara 'PRICE' dan 'NEAREST_STN_DIST':\n",
      "Spearman Value: -0.06251097521164697\n",
      "P-value: 9.955217583496197e-25\n",
      "Terdapat Pengaruh Signifikan antara NEAREST_STN_DIST dengan PRICE\n",
      "----------------------------------------------------------------------------------------------------\n",
      "Spearman Test antara 'PRICE' dan 'LATITUDE':\n",
      "Spearman Value: 0.04328871840219885\n",
      "P-value: 1.1941522061876145e-12\n",
      "Terdapat Pengaruh Signifikan antara LATITUDE dengan PRICE\n",
      "----------------------------------------------------------------------------------------------------\n",
      "Spearman Test antara 'PRICE' dan 'LONGITUDE':\n",
      "Spearman Value: -0.1557328666145632\n",
      "P-value: 9.201957323061708e-146\n",
      "Terdapat Pengaruh Signifikan antara LONGITUDE dengan PRICE\n",
      "----------------------------------------------------------------------------------------------------\n",
      "Spearman Test antara 'PRICE' dan 'NEAREST_SCH_DIST':\n",
      "Spearman Value: 0.005704649445669111\n",
      "P-value: 0.34926622614667013\n",
      "Tidak ada pengaruh yang signifikan\n",
      "----------------------------------------------------------------------------------------------------\n"
     ]
    }
   ],
   "source": [
    "# Tentukan variabel target kategorikal default payment\n",
    "target_variable = 'PRICE'\n",
    "\n",
    "# Loop untuk menguji pointbiserial untuk setiap variabel numerical kecuali variabel target\n",
    "for column in numerical_X_train.columns:\n",
    "    if column != target_variable :\n",
    "        # Membuat tabel kontingensi antara variabel target dan variabel saat ini\n",
    "        korelasi, p_value = spearmanr(target_variable_df[target_variable], numerical_X_train[column])\n",
    "        \n",
    "        # Menampilkan hasil uji chi-square\n",
    "        print(f\"Spearman Test antara '{target_variable}' dan '{column}':\")\n",
    "        print(\"Spearman Value:\", korelasi)\n",
    "        print(\"P-value:\", p_value)\n",
    "\n",
    "        alpha = 0.05\n",
    "        if p_value < alpha:\n",
    "            print(f'Terdapat Pengaruh Signifikan antara {column} dengan {target_variable}')\n",
    "        else :\n",
    "            print(f'Tidak ada pengaruh yang signifikan')\n",
    "        \n",
    "        print(\"--\"*50)\n"
   ]
  },
  {
   "cell_type": "markdown",
   "metadata": {},
   "source": [
    "**INSIGHT :**\n",
    "\n",
    "-   Pada nilai korelasi spearman terlihat pada nilai P-Value = 0.00 dibawah dari alpha 0.05 Sehingga dapat dikatakan secara statistik bahwa nilai feature memiliki pengaruh terhadap price. Feature-Feature tersebut adalah :\n",
    "    -   BEDROOMS\t\n",
    "    -   BATHROOMS\t\n",
    "    -   GARAGE\t\n",
    "    -   LAND_AREA\t\n",
    "    -   FLOOR_AREA\t\n",
    "    -   CBD_DIST\t\n",
    "    -   NEAREST_STN_DIST\t\n",
    "    -   POSTCODE\t\n",
    "    -   LATITUDE\t\n",
    "    -   LONGITUDE\t\t\n",
    "-   Pada nilai korelasi spearman terlihat pada nilai P-Value yang lebih dari alpha 0.05 Sehingga dapat dikatakan secara statistik bahwa nilai feature tidak memiliki pengaruh terhadap price. Feature tersebut adalah :\n",
    "    -   NEAREST_SCH_DIST\n",
    "-   Walaupun nilai korelasi spearman, bisa dikatakan kecil tetapi p-value secara statistik membuktikan bahwa adanya pengaruh secara statistik. Sehingga saya akan memakai column-column selain NEAREST_SCH_DIST sebagai feature."
   ]
  },
  {
   "cell_type": "markdown",
   "metadata": {},
   "source": [
    "### Melihat Korelasi Categorical dengan Numeric Dengan Chi-square"
   ]
  },
  {
   "cell_type": "markdown",
   "metadata": {},
   "source": [
    "**NOTES :**\n",
    "\n",
    "-   Chi-square adalah sebuah uji statistik yang digunakan untuk menentukan apakah ada hubungan signifikan antara dua variabel kategori pada data yang diberikan. \n",
    "\n",
    "-   P-value dalam uji Chi-square adalah ukuran statistik yang memberitahu seberapa signifikan hasil uji tersebut. \n",
    "\n",
    "    -   P-Value < Alpha (Tingkat Signifikansi): Jika nilai P-Value lebih kecil dari tingkat signifikansi yang ditetapkan (saya menggunakan 0,05), maka hasil uji dianggap signifikan secara statistik.Sehingga adanya pengaruh antara variabel dependen dengan variabel independen\n",
    "    \n",
    "    -   P-Value > Alpha (Tingkat Signifikansi): Jika nilai P-Value lebih besar dari tingkat signifikansi yang ditetapkan (saya menggunakan 0,05), maka hasil uji dianggap tidak signifikan secara statistik. Sehingga tidak adanya pengaruh antara variabel dependen dengan variabel independen"
   ]
  },
  {
   "cell_type": "code",
   "execution_count": 42,
   "metadata": {},
   "outputs": [
    {
     "name": "stdout",
     "output_type": "stream",
     "text": [
      "Chi-Square Test antara 'PRICE' dan 'AREA':\n",
      "P-value: 0.0\n",
      "Terdapat Pengaruh Signifikan anatara AREA dengan PRICE\n",
      "----------------------------------------------------------------------------------------------------\n",
      "Chi-Square Test antara 'PRICE' dan 'POSTCODE':\n",
      "P-value: 0.0\n",
      "Terdapat Pengaruh Signifikan anatara POSTCODE dengan PRICE\n",
      "----------------------------------------------------------------------------------------------------\n",
      "Chi-Square Test antara 'PRICE' dan 'NEAREST_SCH_RANK':\n",
      "P-value: 0.0\n",
      "Terdapat Pengaruh Signifikan anatara NEAREST_SCH_RANK dengan PRICE\n",
      "----------------------------------------------------------------------------------------------------\n"
     ]
    }
   ],
   "source": [
    "# Tentukan variabel target kategorikal default payment\n",
    "target_variable = 'PRICE'\n",
    "\n",
    "# Loop untuk menguji chi-square untuk setiap variabel kategorikal kecuali variabel target\n",
    "for column in categorical_X_train.columns:\n",
    "    if column != target_variable :\n",
    "        # Membuat tabel kontingensi antara variabel target dan variabel saat ini\n",
    "        contingency_table = pd.crosstab(target_variable_df[target_variable], categorical_X_train[column])\n",
    "        \n",
    "        # Melakukan uji chi-square\n",
    "        chi2, p, _, _ = chi2_contingency(contingency_table)\n",
    "        \n",
    "        # Menampilkan hasil uji chi-square\n",
    "        print(f\"Chi-Square Test antara '{target_variable}' dan '{column}':\")\n",
    "        print(\"P-value:\", p)\n",
    "\n",
    "        alpha = 0.05\n",
    "        if p < alpha:\n",
    "            print(f'Terdapat Pengaruh Signifikan anatara {column} dengan {target_variable}')\n",
    "        else :\n",
    "            print(f'Tidak ada pengaruh yang signifikan')\n",
    "        print(\"--\"*50)"
   ]
  },
  {
   "cell_type": "markdown",
   "metadata": {},
   "source": [
    "**INSIGHT :**\n",
    "\n",
    "-   Pada nilai korelasi chi-square terlihat pada nilai P-Value = 0.00 dibawah dari alpha 0.05 Sehingga dapat dikatakan secara statistik bahwa nilai feature memiliki pengaruh terhadap price. Feature-Feature tersebut adalah :\n",
    "    -   AREA\t\n",
    "    -   POSTCODE\t\n",
    "    -   Nearest_SCH_RANK\n",
    "-   p-value secara statistik membuktikan bahwa adanya pengaruh anatara variabel feature dengan variabel target. Sehingga saya akan memakai column AREA DAN POSTCODE sebagai feature."
   ]
  },
  {
   "cell_type": "markdown",
   "metadata": {},
   "source": [
    "### Kesimpulan Feature Selection"
   ]
  },
  {
   "cell_type": "markdown",
   "metadata": {},
   "source": [
    "-   Kolom yang akan digunakan menjadi feature adalah :\n",
    "    -   BEDROOMS\t\n",
    "    -   BATHROOMS\t\n",
    "    -   GARAGE\t\n",
    "    -   LAND_AREA\t\n",
    "    -   FLOOR_AREA\t\n",
    "    -   CBD_DIST\t\n",
    "    -   NEAREST_STN_DIST\t\n",
    "    -   POSTCODE\t\n",
    "    -   LATITUDE\t\n",
    "    -   LONGITUDE\t\t\n",
    "    -   NEAREST_SCH_RANK\n",
    "    -   AREA\n",
    "    -   POSTCODE"
   ]
  },
  {
   "cell_type": "markdown",
   "metadata": {},
   "source": [
    "### Mempersiapkan Data Sesuai Feature Selection"
   ]
  },
  {
   "cell_type": "code",
   "execution_count": 43,
   "metadata": {},
   "outputs": [
    {
     "name": "stderr",
     "output_type": "stream",
     "text": [
      "C:\\Users\\Guardian\\AppData\\Local\\Temp\\ipykernel_12060\\3681548869.py:8: SettingWithCopyWarning:\n",
      "\n",
      "\n",
      "A value is trying to be set on a copy of a slice from a DataFrame.\n",
      "Try using .loc[row_indexer,col_indexer] = value instead\n",
      "\n",
      "See the caveats in the documentation: https://pandas.pydata.org/pandas-docs/stable/user_guide/indexing.html#returning-a-view-versus-a-copy\n",
      "\n",
      "C:\\Users\\Guardian\\AppData\\Local\\Temp\\ipykernel_12060\\3681548869.py:9: SettingWithCopyWarning:\n",
      "\n",
      "\n",
      "A value is trying to be set on a copy of a slice from a DataFrame.\n",
      "Try using .loc[row_indexer,col_indexer] = value instead\n",
      "\n",
      "See the caveats in the documentation: https://pandas.pydata.org/pandas-docs/stable/user_guide/indexing.html#returning-a-view-versus-a-copy\n",
      "\n",
      "C:\\Users\\Guardian\\AppData\\Local\\Temp\\ipykernel_12060\\3681548869.py:12: SettingWithCopyWarning:\n",
      "\n",
      "\n",
      "A value is trying to be set on a copy of a slice from a DataFrame.\n",
      "Try using .loc[row_indexer,col_indexer] = value instead\n",
      "\n",
      "See the caveats in the documentation: https://pandas.pydata.org/pandas-docs/stable/user_guide/indexing.html#returning-a-view-versus-a-copy\n",
      "\n",
      "C:\\Users\\Guardian\\AppData\\Local\\Temp\\ipykernel_12060\\3681548869.py:13: SettingWithCopyWarning:\n",
      "\n",
      "\n",
      "A value is trying to be set on a copy of a slice from a DataFrame.\n",
      "Try using .loc[row_indexer,col_indexer] = value instead\n",
      "\n",
      "See the caveats in the documentation: https://pandas.pydata.org/pandas-docs/stable/user_guide/indexing.html#returning-a-view-versus-a-copy\n",
      "\n"
     ]
    },
    {
     "data": {
      "text/html": [
       "<div>\n",
       "<style scoped>\n",
       "    .dataframe tbody tr th:only-of-type {\n",
       "        vertical-align: middle;\n",
       "    }\n",
       "\n",
       "    .dataframe tbody tr th {\n",
       "        vertical-align: top;\n",
       "    }\n",
       "\n",
       "    .dataframe thead th {\n",
       "        text-align: right;\n",
       "    }\n",
       "</style>\n",
       "<table border=\"1\" class=\"dataframe\">\n",
       "  <thead>\n",
       "    <tr style=\"text-align: right;\">\n",
       "      <th></th>\n",
       "      <th>AREA</th>\n",
       "      <th>POSTCODE</th>\n",
       "      <th>BEDROOMS</th>\n",
       "      <th>BATHROOMS</th>\n",
       "      <th>GARAGE</th>\n",
       "      <th>LAND_AREA</th>\n",
       "      <th>FLOOR_AREA</th>\n",
       "      <th>BUILD_YEAR</th>\n",
       "      <th>CBD_DIST</th>\n",
       "      <th>NEAREST_STN_DIST</th>\n",
       "      <th>LATITUDE</th>\n",
       "      <th>LONGITUDE</th>\n",
       "      <th>NEAREST_SCH_RANK</th>\n",
       "    </tr>\n",
       "  </thead>\n",
       "  <tbody>\n",
       "    <tr>\n",
       "      <th>24255</th>\n",
       "      <td>21</td>\n",
       "      <td>6082</td>\n",
       "      <td>3</td>\n",
       "      <td>2</td>\n",
       "      <td>2</td>\n",
       "      <td>2001</td>\n",
       "      <td>122</td>\n",
       "      <td>2001.0</td>\n",
       "      <td>34100</td>\n",
       "      <td>19600</td>\n",
       "      <td>-31.866960</td>\n",
       "      <td>116.205830</td>\n",
       "      <td>105</td>\n",
       "    </tr>\n",
       "    <tr>\n",
       "      <th>9506</th>\n",
       "      <td>36</td>\n",
       "      <td>6065</td>\n",
       "      <td>4</td>\n",
       "      <td>2</td>\n",
       "      <td>4</td>\n",
       "      <td>619</td>\n",
       "      <td>205</td>\n",
       "      <td>2006.0</td>\n",
       "      <td>16300</td>\n",
       "      <td>5000</td>\n",
       "      <td>-31.807020</td>\n",
       "      <td>115.833860</td>\n",
       "      <td>50</td>\n",
       "    </tr>\n",
       "    <tr>\n",
       "      <th>10712</th>\n",
       "      <td>21</td>\n",
       "      <td>6556</td>\n",
       "      <td>3</td>\n",
       "      <td>1</td>\n",
       "      <td>2</td>\n",
       "      <td>1214</td>\n",
       "      <td>107</td>\n",
       "      <td>1936.0</td>\n",
       "      <td>39800</td>\n",
       "      <td>25300</td>\n",
       "      <td>-31.860540</td>\n",
       "      <td>116.265830</td>\n",
       "      <td>105</td>\n",
       "    </tr>\n",
       "    <tr>\n",
       "      <th>31370</th>\n",
       "      <td>19</td>\n",
       "      <td>6163</td>\n",
       "      <td>4</td>\n",
       "      <td>2</td>\n",
       "      <td>2</td>\n",
       "      <td>769</td>\n",
       "      <td>180</td>\n",
       "      <td>1978.0</td>\n",
       "      <td>12600</td>\n",
       "      <td>3200</td>\n",
       "      <td>-32.060130</td>\n",
       "      <td>115.817260</td>\n",
       "      <td>72</td>\n",
       "    </tr>\n",
       "    <tr>\n",
       "      <th>24716</th>\n",
       "      <td>1</td>\n",
       "      <td>6112</td>\n",
       "      <td>4</td>\n",
       "      <td>2</td>\n",
       "      <td>6</td>\n",
       "      <td>2688</td>\n",
       "      <td>291</td>\n",
       "      <td>1984.0</td>\n",
       "      <td>26200</td>\n",
       "      <td>1800</td>\n",
       "      <td>-32.138684</td>\n",
       "      <td>116.029077</td>\n",
       "      <td>72</td>\n",
       "    </tr>\n",
       "  </tbody>\n",
       "</table>\n",
       "</div>"
      ],
      "text/plain": [
       "       AREA  POSTCODE  BEDROOMS  BATHROOMS  GARAGE  LAND_AREA  FLOOR_AREA  \\\n",
       "24255    21      6082         3          2       2       2001         122   \n",
       "9506     36      6065         4          2       4        619         205   \n",
       "10712    21      6556         3          1       2       1214         107   \n",
       "31370    19      6163         4          2       2        769         180   \n",
       "24716     1      6112         4          2       6       2688         291   \n",
       "\n",
       "       BUILD_YEAR  CBD_DIST  NEAREST_STN_DIST   LATITUDE   LONGITUDE  \\\n",
       "24255      2001.0     34100             19600 -31.866960  116.205830   \n",
       "9506       2006.0     16300              5000 -31.807020  115.833860   \n",
       "10712      1936.0     39800             25300 -31.860540  116.265830   \n",
       "31370      1978.0     12600              3200 -32.060130  115.817260   \n",
       "24716      1984.0     26200              1800 -32.138684  116.029077   \n",
       "\n",
       "       NEAREST_SCH_RANK  \n",
       "24255               105  \n",
       "9506                 50  \n",
       "10712               105  \n",
       "31370                72  \n",
       "24716                72  "
      ]
     },
     "execution_count": 43,
     "metadata": {},
     "output_type": "execute_result"
    }
   ],
   "source": [
    "# Mempersiapkan data yang sudah terseleksi\n",
    "X_train_selected = X_train[['AREA','POSTCODE','BEDROOMS','BATHROOMS','GARAGE','LAND_AREA', 'FLOOR_AREA', \"BUILD_YEAR\",'CBD_DIST','NEAREST_STN_DIST','LATITUDE',\t\n",
    "                                'LONGITUDE', 'NEAREST_SCH_RANK']]\n",
    "X_test_selected = X_test[['AREA','POSTCODE','BEDROOMS','BATHROOMS','GARAGE','LAND_AREA', 'FLOOR_AREA', \"BUILD_YEAR\",'CBD_DIST','NEAREST_STN_DIST','LATITUDE',\t\n",
    "                                'LONGITUDE', 'NEAREST_SCH_RANK']]\n",
    "\n",
    "# Menghapus Nilai Desimal Pada Garage \n",
    "X_train_selected['GARAGE'] = X_train_selected['GARAGE'].astype(int)\n",
    "X_test_selected['GARAGE'] = X_test_selected['GARAGE'].astype(int)\n",
    "\n",
    "# Menghapus Nilai Desimal Pada Nearest Sch Rank\n",
    "X_train_selected['NEAREST_SCH_RANK'] = X_train_selected['NEAREST_SCH_RANK'].astype(int)\n",
    "X_test_selected['NEAREST_SCH_RANK'] = X_test_selected['NEAREST_SCH_RANK'].astype(int)\n",
    "\n",
    "X_train_selected.head(5)\n"
   ]
  },
  {
   "cell_type": "markdown",
   "metadata": {},
   "source": [
    "### Melakukan Check Variance Inflation Factor(VIF)"
   ]
  },
  {
   "cell_type": "markdown",
   "metadata": {},
   "source": [
    "**NOTES :**\n",
    "\n",
    "-   Variance Inflation Factor (VIF) adalah ukuran yang digunakan dalam analisis untuk mengevaluasi sejauh mana variabilitas suatu variabel independen dapat dijelaskan oleh variabel independen lain dalam model. VIF digunakan untuk mendeteksi multikolinearitas yaitu kondisi dimana dua atau lebih variabel independen dalam model regresi berkorelasi tinggi satu sama lain.\n",
    "\n",
    "-   Jika VIF = 1: Tidak ada multikolinearitas. Variabel tidak berkorelasi dengan variabel independen lainnya.\n",
    "-   Jika VIF > 1 dan < 5: Multikolinearitas sedang. Variabel memiliki tingkat korelasi yang cukup tinggi dengan variabel independen lainnya.\n",
    "-   Jika VIF ≥ 5: Multikolinearitas tinggi. Variabel berkorelasi sangat tinggi dengan variabel independen lainnya. Nilai VIF yang tinggi (biasanya lebih dari 10) adalah tanda bahwa variabel tersebut memiliki masalah multikolinearitas serius dan harus diperhatikan"
   ]
  },
  {
   "cell_type": "code",
   "execution_count": 44,
   "metadata": {},
   "outputs": [
    {
     "data": {
      "text/html": [
       "<div>\n",
       "<style scoped>\n",
       "    .dataframe tbody tr th:only-of-type {\n",
       "        vertical-align: middle;\n",
       "    }\n",
       "\n",
       "    .dataframe tbody tr th {\n",
       "        vertical-align: top;\n",
       "    }\n",
       "\n",
       "    .dataframe thead th {\n",
       "        text-align: right;\n",
       "    }\n",
       "</style>\n",
       "<table border=\"1\" class=\"dataframe\">\n",
       "  <thead>\n",
       "    <tr style=\"text-align: right;\">\n",
       "      <th></th>\n",
       "      <th>variables</th>\n",
       "      <th>VIF</th>\n",
       "    </tr>\n",
       "  </thead>\n",
       "  <tbody>\n",
       "    <tr>\n",
       "      <th>0</th>\n",
       "      <td>AREA</td>\n",
       "      <td>5.9</td>\n",
       "    </tr>\n",
       "    <tr>\n",
       "      <th>1</th>\n",
       "      <td>POSTCODE</td>\n",
       "      <td>18305.5</td>\n",
       "    </tr>\n",
       "    <tr>\n",
       "      <th>2</th>\n",
       "      <td>BEDROOMS</td>\n",
       "      <td>41.3</td>\n",
       "    </tr>\n",
       "    <tr>\n",
       "      <th>3</th>\n",
       "      <td>BATHROOMS</td>\n",
       "      <td>19.1</td>\n",
       "    </tr>\n",
       "    <tr>\n",
       "      <th>4</th>\n",
       "      <td>GARAGE</td>\n",
       "      <td>3.8</td>\n",
       "    </tr>\n",
       "    <tr>\n",
       "      <th>5</th>\n",
       "      <td>LAND_AREA</td>\n",
       "      <td>1.1</td>\n",
       "    </tr>\n",
       "    <tr>\n",
       "      <th>6</th>\n",
       "      <td>FLOOR_AREA</td>\n",
       "      <td>12.6</td>\n",
       "    </tr>\n",
       "    <tr>\n",
       "      <th>7</th>\n",
       "      <td>BUILD_YEAR</td>\n",
       "      <td>12091.0</td>\n",
       "    </tr>\n",
       "    <tr>\n",
       "      <th>8</th>\n",
       "      <td>CBD_DIST</td>\n",
       "      <td>6.7</td>\n",
       "    </tr>\n",
       "    <tr>\n",
       "      <th>9</th>\n",
       "      <td>NEAREST_STN_DIST</td>\n",
       "      <td>3.1</td>\n",
       "    </tr>\n",
       "    <tr>\n",
       "      <th>10</th>\n",
       "      <td>LATITUDE</td>\n",
       "      <td>68196.3</td>\n",
       "    </tr>\n",
       "    <tr>\n",
       "      <th>11</th>\n",
       "      <td>LONGITUDE</td>\n",
       "      <td>60615.5</td>\n",
       "    </tr>\n",
       "    <tr>\n",
       "      <th>12</th>\n",
       "      <td>NEAREST_SCH_RANK</td>\n",
       "      <td>6.6</td>\n",
       "    </tr>\n",
       "  </tbody>\n",
       "</table>\n",
       "</div>"
      ],
      "text/plain": [
       "           variables      VIF\n",
       "0               AREA      5.9\n",
       "1           POSTCODE  18305.5\n",
       "2           BEDROOMS     41.3\n",
       "3          BATHROOMS     19.1\n",
       "4             GARAGE      3.8\n",
       "5          LAND_AREA      1.1\n",
       "6         FLOOR_AREA     12.6\n",
       "7         BUILD_YEAR  12091.0\n",
       "8           CBD_DIST      6.7\n",
       "9   NEAREST_STN_DIST      3.1\n",
       "10          LATITUDE  68196.3\n",
       "11         LONGITUDE  60615.5\n",
       "12  NEAREST_SCH_RANK      6.6"
      ]
     },
     "execution_count": 44,
     "metadata": {},
     "output_type": "execute_result"
    }
   ],
   "source": [
    "# Membuat fungsi untuk menghitung Variance Inflation Factor\n",
    "def calc_vif(X):\n",
    "    vif = pd.DataFrame()\n",
    "    vif[\"variables\"] = X.columns\n",
    "    vif[\"VIF\"] = [variance_inflation_factor(X.values, i) for i in range(X.shape[1])]\n",
    "    vif[\"VIF\"] = vif[\"VIF\"].round(1)\n",
    "    return(vif)\n",
    "\n",
    "# Define kolom yang dibutuhkan\n",
    "data_VIF = X_train_selected\n",
    "\n",
    "\n",
    "# Check Multicolinearity in X\n",
    "calc_vif(data_VIF)"
   ]
  },
  {
   "cell_type": "markdown",
   "metadata": {},
   "source": [
    "**INSIGHT :**\n",
    "-   Didapatkan bahwa nilai VIF > 5 didapatkan oleh mayoritas variabel diatas. Sehingga hal ini mengindikasi bahwa multikolinearitas variabel-variabel terhadap variabel feature lainnya tinggi. Sehingga saya akan memutuskan untuk tidak mengikut sertakan variabel yang memiliki nilai VIF yang sangat tinggi dalam data feature. dan kembali mengecek nilai VIF kembali."
   ]
  },
  {
   "cell_type": "code",
   "execution_count": 45,
   "metadata": {},
   "outputs": [
    {
     "data": {
      "text/html": [
       "<div>\n",
       "<style scoped>\n",
       "    .dataframe tbody tr th:only-of-type {\n",
       "        vertical-align: middle;\n",
       "    }\n",
       "\n",
       "    .dataframe tbody tr th {\n",
       "        vertical-align: top;\n",
       "    }\n",
       "\n",
       "    .dataframe thead th {\n",
       "        text-align: right;\n",
       "    }\n",
       "</style>\n",
       "<table border=\"1\" class=\"dataframe\">\n",
       "  <thead>\n",
       "    <tr style=\"text-align: right;\">\n",
       "      <th></th>\n",
       "      <th>variables</th>\n",
       "      <th>VIF</th>\n",
       "    </tr>\n",
       "  </thead>\n",
       "  <tbody>\n",
       "    <tr>\n",
       "      <th>0</th>\n",
       "      <td>AREA</td>\n",
       "      <td>3.9</td>\n",
       "    </tr>\n",
       "    <tr>\n",
       "      <th>1</th>\n",
       "      <td>NEAREST_STN_DIST</td>\n",
       "      <td>2.7</td>\n",
       "    </tr>\n",
       "    <tr>\n",
       "      <th>2</th>\n",
       "      <td>CBD_DIST</td>\n",
       "      <td>4.4</td>\n",
       "    </tr>\n",
       "    <tr>\n",
       "      <th>3</th>\n",
       "      <td>FLOOR_AREA</td>\n",
       "      <td>3.9</td>\n",
       "    </tr>\n",
       "    <tr>\n",
       "      <th>4</th>\n",
       "      <td>LAND_AREA</td>\n",
       "      <td>1.1</td>\n",
       "    </tr>\n",
       "  </tbody>\n",
       "</table>\n",
       "</div>"
      ],
      "text/plain": [
       "          variables  VIF\n",
       "0              AREA  3.9\n",
       "1  NEAREST_STN_DIST  2.7\n",
       "2          CBD_DIST  4.4\n",
       "3        FLOOR_AREA  3.9\n",
       "4         LAND_AREA  1.1"
      ]
     },
     "execution_count": 45,
     "metadata": {},
     "output_type": "execute_result"
    }
   ],
   "source": [
    "# Menghitung nilai VIF tanpa pay_5\n",
    "data_VIF2 = X_train_selected[['AREA','NEAREST_STN_DIST','CBD_DIST','FLOOR_AREA','LAND_AREA']]\n",
    "calc_vif(data_VIF2)"
   ]
  },
  {
   "cell_type": "markdown",
   "metadata": {},
   "source": [
    "**INSIGHT :**\n",
    "-   Didapatkan pada nilai VIF daiatas tidak ada variabel yang memiliki nilai VIF > 5. Sehingga hal ini menunjukkan multikolinearitas pada tiap feature rendah.\n",
    "-   Saya tetap memasukan FLOOR_AREA dikarenakan, saya melakukan pembulatan kebelakang dimana 5.03 menjadi 5.0 Selain itu pertimbangan saya juga pada nilai korelasi spearman FLOOR_AREA merupakan terbesar dibanding feature-feature lain."
   ]
  },
  {
   "cell_type": "code",
   "execution_count": 46,
   "metadata": {},
   "outputs": [],
   "source": [
    "# Memilih feature yang digunakan kembali\n",
    "X_train = X_train_selected[['AREA','NEAREST_STN_DIST','CBD_DIST','FLOOR_AREA','LAND_AREA']]\n",
    "X_test = X_test_selected[['AREA','NEAREST_STN_DIST','CBD_DIST','FLOOR_AREA','LAND_AREA']]"
   ]
  },
  {
   "cell_type": "markdown",
   "metadata": {},
   "source": [
    "## Membuat Pipeline untuk Preprocessing"
   ]
  },
  {
   "cell_type": "markdown",
   "metadata": {},
   "source": [
    "> Pipeline preprocessing berguna untuk menyatukan semua proses pada preprocessing menjadi 1. Pipeline memastikan bahwa setiap langkah preprocessing hanya diterapkan pada data pelatihan dan validasi secara terpisah, mengurangi risiko kebocoran data (data leakage)."
   ]
  },
  {
   "cell_type": "markdown",
   "metadata": {},
   "source": [
    "### Memasukan langkah-langkah yang akan digunakan pada preprocessing menggunakan `pipeline`."
   ]
  },
  {
   "cell_type": "code",
   "execution_count": 47,
   "metadata": {},
   "outputs": [],
   "source": [
    "# define kolom numerik yang akan di proses pada numerik features\n",
    "numeric_features = ['NEAREST_STN_DIST','CBD_DIST','FLOOR_AREA','LAND_AREA']\n",
    "\n",
    "# membuat numeric transformer pipeline\n",
    "# membuat numeric transformer pipeline\n",
    "numeric_transformer = Pipeline(steps=[('winsorizer iqr', Winsorizer(capping_method='iqr', tail='both', fold=3, variables=['NEAREST_STN_DIST','CBD_DIST','FLOOR_AREA','LAND_AREA'])), \n",
    "                                      ('scaler', MinMaxScaler())])\n",
    "\n",
    "# Define categorical features\n",
    "categorical_features = ['AREA']\n",
    "\n",
    "# ordinal transformer pipeline\n",
    "categorical_transformer = Pipeline([('passthrough', None)])"
   ]
  },
  {
   "cell_type": "markdown",
   "metadata": {},
   "source": [
    "### Menyatukan semua transformer menjadi column transformer dan dimasukan ke variabel bernama preprocessor"
   ]
  },
  {
   "cell_type": "code",
   "execution_count": 48,
   "metadata": {},
   "outputs": [
    {
     "data": {
      "text/html": [
       "<style>#sk-container-id-1 {color: black;background-color: white;}#sk-container-id-1 pre{padding: 0;}#sk-container-id-1 div.sk-toggleable {background-color: white;}#sk-container-id-1 label.sk-toggleable__label {cursor: pointer;display: block;width: 100%;margin-bottom: 0;padding: 0.3em;box-sizing: border-box;text-align: center;}#sk-container-id-1 label.sk-toggleable__label-arrow:before {content: \"▸\";float: left;margin-right: 0.25em;color: #696969;}#sk-container-id-1 label.sk-toggleable__label-arrow:hover:before {color: black;}#sk-container-id-1 div.sk-estimator:hover label.sk-toggleable__label-arrow:before {color: black;}#sk-container-id-1 div.sk-toggleable__content {max-height: 0;max-width: 0;overflow: hidden;text-align: left;background-color: #f0f8ff;}#sk-container-id-1 div.sk-toggleable__content pre {margin: 0.2em;color: black;border-radius: 0.25em;background-color: #f0f8ff;}#sk-container-id-1 input.sk-toggleable__control:checked~div.sk-toggleable__content {max-height: 200px;max-width: 100%;overflow: auto;}#sk-container-id-1 input.sk-toggleable__control:checked~label.sk-toggleable__label-arrow:before {content: \"▾\";}#sk-container-id-1 div.sk-estimator input.sk-toggleable__control:checked~label.sk-toggleable__label {background-color: #d4ebff;}#sk-container-id-1 div.sk-label input.sk-toggleable__control:checked~label.sk-toggleable__label {background-color: #d4ebff;}#sk-container-id-1 input.sk-hidden--visually {border: 0;clip: rect(1px 1px 1px 1px);clip: rect(1px, 1px, 1px, 1px);height: 1px;margin: -1px;overflow: hidden;padding: 0;position: absolute;width: 1px;}#sk-container-id-1 div.sk-estimator {font-family: monospace;background-color: #f0f8ff;border: 1px dotted black;border-radius: 0.25em;box-sizing: border-box;margin-bottom: 0.5em;}#sk-container-id-1 div.sk-estimator:hover {background-color: #d4ebff;}#sk-container-id-1 div.sk-parallel-item::after {content: \"\";width: 100%;border-bottom: 1px solid gray;flex-grow: 1;}#sk-container-id-1 div.sk-label:hover label.sk-toggleable__label {background-color: #d4ebff;}#sk-container-id-1 div.sk-serial::before {content: \"\";position: absolute;border-left: 1px solid gray;box-sizing: border-box;top: 0;bottom: 0;left: 50%;z-index: 0;}#sk-container-id-1 div.sk-serial {display: flex;flex-direction: column;align-items: center;background-color: white;padding-right: 0.2em;padding-left: 0.2em;position: relative;}#sk-container-id-1 div.sk-item {position: relative;z-index: 1;}#sk-container-id-1 div.sk-parallel {display: flex;align-items: stretch;justify-content: center;background-color: white;position: relative;}#sk-container-id-1 div.sk-item::before, #sk-container-id-1 div.sk-parallel-item::before {content: \"\";position: absolute;border-left: 1px solid gray;box-sizing: border-box;top: 0;bottom: 0;left: 50%;z-index: -1;}#sk-container-id-1 div.sk-parallel-item {display: flex;flex-direction: column;z-index: 1;position: relative;background-color: white;}#sk-container-id-1 div.sk-parallel-item:first-child::after {align-self: flex-end;width: 50%;}#sk-container-id-1 div.sk-parallel-item:last-child::after {align-self: flex-start;width: 50%;}#sk-container-id-1 div.sk-parallel-item:only-child::after {width: 0;}#sk-container-id-1 div.sk-dashed-wrapped {border: 1px dashed gray;margin: 0 0.4em 0.5em 0.4em;box-sizing: border-box;padding-bottom: 0.4em;background-color: white;}#sk-container-id-1 div.sk-label label {font-family: monospace;font-weight: bold;display: inline-block;line-height: 1.2em;}#sk-container-id-1 div.sk-label-container {text-align: center;}#sk-container-id-1 div.sk-container {/* jupyter's `normalize.less` sets `[hidden] { display: none; }` but bootstrap.min.css set `[hidden] { display: none !important; }` so we also need the `!important` here to be able to override the default hidden behavior on the sphinx rendered scikit-learn.org. See: https://github.com/scikit-learn/scikit-learn/issues/21755 */display: inline-block !important;position: relative;}#sk-container-id-1 div.sk-text-repr-fallback {display: none;}</style><div id=\"sk-container-id-1\" class=\"sk-top-container\"><div class=\"sk-text-repr-fallback\"><pre>ColumnTransformer(transformers=[(&#x27;Numerical&#x27;,\n",
       "                                 Pipeline(steps=[(&#x27;winsorizer iqr&#x27;,\n",
       "                                                  Winsorizer(capping_method=&#x27;iqr&#x27;,\n",
       "                                                             tail=&#x27;both&#x27;,\n",
       "                                                             variables=[&#x27;NEAREST_STN_DIST&#x27;,\n",
       "                                                                        &#x27;CBD_DIST&#x27;,\n",
       "                                                                        &#x27;FLOOR_AREA&#x27;,\n",
       "                                                                        &#x27;LAND_AREA&#x27;])),\n",
       "                                                 (&#x27;scaler&#x27;, MinMaxScaler())]),\n",
       "                                 [&#x27;NEAREST_STN_DIST&#x27;, &#x27;CBD_DIST&#x27;, &#x27;FLOOR_AREA&#x27;,\n",
       "                                  &#x27;LAND_AREA&#x27;]),\n",
       "                                (&#x27;Categorical&#x27;, &#x27;passthrough&#x27;, [&#x27;AREA&#x27;])])</pre><b>In a Jupyter environment, please rerun this cell to show the HTML representation or trust the notebook. <br />On GitHub, the HTML representation is unable to render, please try loading this page with nbviewer.org.</b></div><div class=\"sk-container\" hidden><div class=\"sk-item sk-dashed-wrapped\"><div class=\"sk-label-container\"><div class=\"sk-label sk-toggleable\"><input class=\"sk-toggleable__control sk-hidden--visually\" id=\"sk-estimator-id-1\" type=\"checkbox\" ><label for=\"sk-estimator-id-1\" class=\"sk-toggleable__label sk-toggleable__label-arrow\">ColumnTransformer</label><div class=\"sk-toggleable__content\"><pre>ColumnTransformer(transformers=[(&#x27;Numerical&#x27;,\n",
       "                                 Pipeline(steps=[(&#x27;winsorizer iqr&#x27;,\n",
       "                                                  Winsorizer(capping_method=&#x27;iqr&#x27;,\n",
       "                                                             tail=&#x27;both&#x27;,\n",
       "                                                             variables=[&#x27;NEAREST_STN_DIST&#x27;,\n",
       "                                                                        &#x27;CBD_DIST&#x27;,\n",
       "                                                                        &#x27;FLOOR_AREA&#x27;,\n",
       "                                                                        &#x27;LAND_AREA&#x27;])),\n",
       "                                                 (&#x27;scaler&#x27;, MinMaxScaler())]),\n",
       "                                 [&#x27;NEAREST_STN_DIST&#x27;, &#x27;CBD_DIST&#x27;, &#x27;FLOOR_AREA&#x27;,\n",
       "                                  &#x27;LAND_AREA&#x27;]),\n",
       "                                (&#x27;Categorical&#x27;, &#x27;passthrough&#x27;, [&#x27;AREA&#x27;])])</pre></div></div></div><div class=\"sk-parallel\"><div class=\"sk-parallel-item\"><div class=\"sk-item\"><div class=\"sk-label-container\"><div class=\"sk-label sk-toggleable\"><input class=\"sk-toggleable__control sk-hidden--visually\" id=\"sk-estimator-id-2\" type=\"checkbox\" ><label for=\"sk-estimator-id-2\" class=\"sk-toggleable__label sk-toggleable__label-arrow\">Numerical</label><div class=\"sk-toggleable__content\"><pre>[&#x27;NEAREST_STN_DIST&#x27;, &#x27;CBD_DIST&#x27;, &#x27;FLOOR_AREA&#x27;, &#x27;LAND_AREA&#x27;]</pre></div></div></div><div class=\"sk-serial\"><div class=\"sk-item\"><div class=\"sk-serial\"><div class=\"sk-item\"><div class=\"sk-estimator sk-toggleable\"><input class=\"sk-toggleable__control sk-hidden--visually\" id=\"sk-estimator-id-3\" type=\"checkbox\" ><label for=\"sk-estimator-id-3\" class=\"sk-toggleable__label sk-toggleable__label-arrow\">Winsorizer</label><div class=\"sk-toggleable__content\"><pre>Winsorizer(capping_method=&#x27;iqr&#x27;, tail=&#x27;both&#x27;,\n",
       "           variables=[&#x27;NEAREST_STN_DIST&#x27;, &#x27;CBD_DIST&#x27;, &#x27;FLOOR_AREA&#x27;,\n",
       "                      &#x27;LAND_AREA&#x27;])</pre></div></div></div><div class=\"sk-item\"><div class=\"sk-estimator sk-toggleable\"><input class=\"sk-toggleable__control sk-hidden--visually\" id=\"sk-estimator-id-4\" type=\"checkbox\" ><label for=\"sk-estimator-id-4\" class=\"sk-toggleable__label sk-toggleable__label-arrow\">MinMaxScaler</label><div class=\"sk-toggleable__content\"><pre>MinMaxScaler()</pre></div></div></div></div></div></div></div></div><div class=\"sk-parallel-item\"><div class=\"sk-item\"><div class=\"sk-label-container\"><div class=\"sk-label sk-toggleable\"><input class=\"sk-toggleable__control sk-hidden--visually\" id=\"sk-estimator-id-5\" type=\"checkbox\" ><label for=\"sk-estimator-id-5\" class=\"sk-toggleable__label sk-toggleable__label-arrow\">Categorical</label><div class=\"sk-toggleable__content\"><pre>[&#x27;AREA&#x27;]</pre></div></div></div><div class=\"sk-serial\"><div class=\"sk-item\"><div class=\"sk-estimator sk-toggleable\"><input class=\"sk-toggleable__control sk-hidden--visually\" id=\"sk-estimator-id-6\" type=\"checkbox\" ><label for=\"sk-estimator-id-6\" class=\"sk-toggleable__label sk-toggleable__label-arrow\">passthrough</label><div class=\"sk-toggleable__content\"><pre>passthrough</pre></div></div></div></div></div></div></div></div></div></div>"
      ],
      "text/plain": [
       "ColumnTransformer(transformers=[('Numerical',\n",
       "                                 Pipeline(steps=[('winsorizer iqr',\n",
       "                                                  Winsorizer(capping_method='iqr',\n",
       "                                                             tail='both',\n",
       "                                                             variables=['NEAREST_STN_DIST',\n",
       "                                                                        'CBD_DIST',\n",
       "                                                                        'FLOOR_AREA',\n",
       "                                                                        'LAND_AREA'])),\n",
       "                                                 ('scaler', MinMaxScaler())]),\n",
       "                                 ['NEAREST_STN_DIST', 'CBD_DIST', 'FLOOR_AREA',\n",
       "                                  'LAND_AREA']),\n",
       "                                ('Categorical', 'passthrough', ['AREA'])])"
      ]
     },
     "execution_count": 48,
     "metadata": {},
     "output_type": "execute_result"
    }
   ],
   "source": [
    "#ColumnTransformer for preprocessing\n",
    "preprocessor = ColumnTransformer([\n",
    "        ('Numerical', numeric_transformer, numeric_features),\n",
    "        ('Categorical', 'passthrough', categorical_features)\n",
    "    ])\n",
    "\n",
    "preprocessor"
   ]
  },
  {
   "cell_type": "markdown",
   "metadata": {},
   "source": [
    "Berhasil untuk membuat pipeline Column Transformer untuk preprocessing, Prosesnya adalah untuk data numerikal akan dilakukan hadling outlier dimana data-data numerical berdistribusi skew jika dilihat dari nilai skew pada check outlier, sehingga akan dilakukan hadling dengan metode capping menggunakan iqr setelah itu akan dilakukan scaling menggunakan MinMaxScaler. Untuk Kolom Kategorikal tidak ada proses encoding karena data nya sudah berbentuk angka."
   ]
  },
  {
   "cell_type": "markdown",
   "metadata": {},
   "source": [
    "# 6. Model Definition"
   ]
  },
  {
   "cell_type": "markdown",
   "metadata": {},
   "source": [
    "> Bagian ini berisi cell untuk mendefinisikan model. Jelaskan alasan menggunakan suatu algoritma/model, hyperparameter yang dipakai, jenis penggunaan metrics yang dipakai, dan hal lain yang terkait dengan model."
   ]
  },
  {
   "cell_type": "markdown",
   "metadata": {},
   "source": [
    "Pada tahap kali ini saya akan menggunakan 7 model:\n",
    "\n",
    "- KNN Regressor\n",
    "\n",
    "    -   KNN Regressor adalah salah satu algoritma pembelajaran mesin yang digunakan untuk regresi. Dalam regresi, KNN digunakan untuk memprediksi nilai kontinu berdasarkan nilai-nilai dari neighbor terdekatnya dalam ruang fitur.\n",
    "\n",
    "    -   Paramater Default :\n",
    "\n",
    "        -   n_neighbors : 5\n",
    "\n",
    "        -   algorithm : 5\n",
    "\n",
    "        -   leaf_size : 30\n",
    "\n",
    "        -   p : 2\n",
    "    \n",
    "- SVR (Support Vector Reggresor)\n",
    "\n",
    "    -   Support Vector Regressor (SVR) adalah algoritma pembelajaran mesin yang digunakan untuk regresi. Tujuannya adalah untuk memprediksi nilai kontinu berdasarkan data train yang diberikan. SVR mencoba membangun sebuah hyperplane yang memiliki margin sebesar mungkin dan pada saat yang sama meminimalkan kesalahan prediksi.\n",
    "\n",
    "    -   Paramater Default :\n",
    "\n",
    "        -   kernel : rbf\n",
    "\n",
    "        -   C (parameter penalty) : 1.0. \n",
    "\n",
    "        -   degree : 3\n",
    "\n",
    "        -   gamma: auto\n",
    "\n",
    "- DecisionTree Regressor\n",
    "\n",
    "    -   Decision Tree Regressor adalah algoritma pembelajaran mesin yang digunakan untuk regresi. Tujuannya adalah membangun pohon keputusan dari data train, di mana setiap node dalam pohon mewakili suatu tes pada fitur (atribut) dan setiap cabang dari node mewakili hasil dari tes tersebut.\n",
    "\n",
    "    -   Paramater Default :\n",
    "\n",
    "        -   criterion: : mse\n",
    "\n",
    "        -   splitter : best\n",
    "\n",
    "        -   max_depth : none\n",
    "\n",
    "        -   min_samples_split: 2\n",
    "\n",
    "        -   min_samples_leaf : 1\n",
    "\n",
    "- RandomForest Regressor\n",
    "\n",
    "    -   Random Forest Regressor adalah algoritma pembelajaran mesin yang menggunakan ensambel dari Decision Trees untuk regresi. Algoritma ini membangun beberapa pohon keputusan selama pelatihan dan menggabungkan hasil prediksi dari pohon-pohon tersebut untuk memprediksi nilai kontinu.\n",
    "\n",
    "    -   Paramater Default :\n",
    "\n",
    "        -   n_estimators: : 100\n",
    "\n",
    "        -   max_depth : 2\n",
    "\n",
    "        -   min_samples_split : 2\n",
    "\n",
    "        -   min_samples_leaf: 1\n",
    "        \n",
    "        -   bootstrap : True\n",
    "\n",
    "- AdaBoost Regressor\n",
    "\n",
    "    -   AdaBoost Regressor adalah algoritma pembelajaran mesin yang menggunakan ensambel (ensemble) dari model lemah untuk regresi. Algoritma ini bekerja dengan cara memberikan bobot lebih kepada sampel data yang sulit diprediksi oleh model sebelumnya, sehingga fokus pada meningkatkan akurasi pada sampel-sampel yang sulit diprediksi.\n",
    "\n",
    "    -   Paramater Default :\n",
    "\n",
    "        -   base_estimator : None\n",
    "\n",
    "        -   n_estimators : 50\n",
    "\n",
    "        -   learning_rate : 1\n",
    "\n",
    "- Linear Regression\n",
    "\n",
    "    -   Linear Regression adalah salah satu algoritma pembelajaran mesin yang digunakan untuk regresi. Tujuannya adalah untuk memodelkan hubungan linier antara variabel feature dan variabel. Dalam  linear reggresion mencoba menemukan garis lurus terbaik yang menggambarkan hubungan antara variabel input dan variabel target.\n",
    "\n",
    "    -   Paramater Default :\n",
    "\n",
    "        -   fit_intercept : True\n",
    "\n",
    "        -   normalize : False\n",
    "\n",
    "- SGD Regressor\n",
    "\n",
    "    -   SGD Regressor (Stochastic Gradient Descent Regressor) adalah algoritma pembelajaran mesin yang digunakan untuk regresi. Algoritma ini adalah varian dari regresi linier yang menggunakan metode optimisasi Stochastic Gradient Descent (SGD) untuk menemukan model regresi yang optimal. SGD Regressor cocok dalam menangani dataset yang besar karena mengoptimalkan fungsi tujuannya menggunakan subset kecil dari data pada setiap langkah iterasi.\n",
    "\n",
    "    -   Paramater Default :\n",
    "\n",
    "        -   penalty : l2\n",
    "\n",
    "        -   alpha :  0.0001\n",
    "\n",
    "        -   max_iter : 1000\n",
    "\n",
    "        -   l1_ratio : 0.15\n"
   ]
  },
  {
   "cell_type": "markdown",
   "metadata": {},
   "source": [
    "### Membuat pipeline untuk masing-masing model"
   ]
  },
  {
   "cell_type": "code",
   "execution_count": 49,
   "metadata": {},
   "outputs": [],
   "source": [
    "#pipeline untuk linear regression\n",
    "pipe_linreg = Pipeline([('transormer', preprocessor),\n",
    "                        ('regressor', LinearRegression())])\n",
    "\n",
    "#pipeline untuk KNN\n",
    "pipe_knn = Pipeline([('transormer', preprocessor),\n",
    "                     ('regressor', KNeighborsRegressor())])\n",
    "\n",
    "#pipeline untuk decision tree regressor\n",
    "pipe_dtr = Pipeline([('transormer', preprocessor),\n",
    "                     ('regressor', DecisionTreeRegressor())])\n",
    "\n",
    "#pipeline untuk adaboost regressor\n",
    "pipe_abr = Pipeline([('transormer', preprocessor),\n",
    "                     ('regressor', AdaBoostRegressor())])\n",
    "\n",
    "#pipeline untuk random forest regressor\n",
    "pipe_rfr = Pipeline([('transormer', preprocessor),\n",
    "                     ('regressor', RandomForestRegressor())])\n",
    "\n",
    "#pipeline untuk support vectore regressor\n",
    "pipe_svr = Pipeline([('transormer', preprocessor),\n",
    "                     ('regressor', SVR())])\n",
    "\n",
    "#pipeline untuk SGD Regressor\n",
    "pipe_sgd = Pipeline([('transormer', preprocessor),\n",
    "                     ('regressor', SGDRegressor())])"
   ]
  },
  {
   "cell_type": "code",
   "execution_count": 50,
   "metadata": {},
   "outputs": [
    {
     "data": {
      "text/html": [
       "<style>#sk-container-id-2 {color: black;background-color: white;}#sk-container-id-2 pre{padding: 0;}#sk-container-id-2 div.sk-toggleable {background-color: white;}#sk-container-id-2 label.sk-toggleable__label {cursor: pointer;display: block;width: 100%;margin-bottom: 0;padding: 0.3em;box-sizing: border-box;text-align: center;}#sk-container-id-2 label.sk-toggleable__label-arrow:before {content: \"▸\";float: left;margin-right: 0.25em;color: #696969;}#sk-container-id-2 label.sk-toggleable__label-arrow:hover:before {color: black;}#sk-container-id-2 div.sk-estimator:hover label.sk-toggleable__label-arrow:before {color: black;}#sk-container-id-2 div.sk-toggleable__content {max-height: 0;max-width: 0;overflow: hidden;text-align: left;background-color: #f0f8ff;}#sk-container-id-2 div.sk-toggleable__content pre {margin: 0.2em;color: black;border-radius: 0.25em;background-color: #f0f8ff;}#sk-container-id-2 input.sk-toggleable__control:checked~div.sk-toggleable__content {max-height: 200px;max-width: 100%;overflow: auto;}#sk-container-id-2 input.sk-toggleable__control:checked~label.sk-toggleable__label-arrow:before {content: \"▾\";}#sk-container-id-2 div.sk-estimator input.sk-toggleable__control:checked~label.sk-toggleable__label {background-color: #d4ebff;}#sk-container-id-2 div.sk-label input.sk-toggleable__control:checked~label.sk-toggleable__label {background-color: #d4ebff;}#sk-container-id-2 input.sk-hidden--visually {border: 0;clip: rect(1px 1px 1px 1px);clip: rect(1px, 1px, 1px, 1px);height: 1px;margin: -1px;overflow: hidden;padding: 0;position: absolute;width: 1px;}#sk-container-id-2 div.sk-estimator {font-family: monospace;background-color: #f0f8ff;border: 1px dotted black;border-radius: 0.25em;box-sizing: border-box;margin-bottom: 0.5em;}#sk-container-id-2 div.sk-estimator:hover {background-color: #d4ebff;}#sk-container-id-2 div.sk-parallel-item::after {content: \"\";width: 100%;border-bottom: 1px solid gray;flex-grow: 1;}#sk-container-id-2 div.sk-label:hover label.sk-toggleable__label {background-color: #d4ebff;}#sk-container-id-2 div.sk-serial::before {content: \"\";position: absolute;border-left: 1px solid gray;box-sizing: border-box;top: 0;bottom: 0;left: 50%;z-index: 0;}#sk-container-id-2 div.sk-serial {display: flex;flex-direction: column;align-items: center;background-color: white;padding-right: 0.2em;padding-left: 0.2em;position: relative;}#sk-container-id-2 div.sk-item {position: relative;z-index: 1;}#sk-container-id-2 div.sk-parallel {display: flex;align-items: stretch;justify-content: center;background-color: white;position: relative;}#sk-container-id-2 div.sk-item::before, #sk-container-id-2 div.sk-parallel-item::before {content: \"\";position: absolute;border-left: 1px solid gray;box-sizing: border-box;top: 0;bottom: 0;left: 50%;z-index: -1;}#sk-container-id-2 div.sk-parallel-item {display: flex;flex-direction: column;z-index: 1;position: relative;background-color: white;}#sk-container-id-2 div.sk-parallel-item:first-child::after {align-self: flex-end;width: 50%;}#sk-container-id-2 div.sk-parallel-item:last-child::after {align-self: flex-start;width: 50%;}#sk-container-id-2 div.sk-parallel-item:only-child::after {width: 0;}#sk-container-id-2 div.sk-dashed-wrapped {border: 1px dashed gray;margin: 0 0.4em 0.5em 0.4em;box-sizing: border-box;padding-bottom: 0.4em;background-color: white;}#sk-container-id-2 div.sk-label label {font-family: monospace;font-weight: bold;display: inline-block;line-height: 1.2em;}#sk-container-id-2 div.sk-label-container {text-align: center;}#sk-container-id-2 div.sk-container {/* jupyter's `normalize.less` sets `[hidden] { display: none; }` but bootstrap.min.css set `[hidden] { display: none !important; }` so we also need the `!important` here to be able to override the default hidden behavior on the sphinx rendered scikit-learn.org. See: https://github.com/scikit-learn/scikit-learn/issues/21755 */display: inline-block !important;position: relative;}#sk-container-id-2 div.sk-text-repr-fallback {display: none;}</style><div id=\"sk-container-id-2\" class=\"sk-top-container\"><div class=\"sk-text-repr-fallback\"><pre>Pipeline(steps=[(&#x27;transormer&#x27;,\n",
       "                 ColumnTransformer(transformers=[(&#x27;Numerical&#x27;,\n",
       "                                                  Pipeline(steps=[(&#x27;winsorizer &#x27;\n",
       "                                                                   &#x27;iqr&#x27;,\n",
       "                                                                   Winsorizer(capping_method=&#x27;iqr&#x27;,\n",
       "                                                                              tail=&#x27;both&#x27;,\n",
       "                                                                              variables=[&#x27;NEAREST_STN_DIST&#x27;,\n",
       "                                                                                         &#x27;CBD_DIST&#x27;,\n",
       "                                                                                         &#x27;FLOOR_AREA&#x27;,\n",
       "                                                                                         &#x27;LAND_AREA&#x27;])),\n",
       "                                                                  (&#x27;scaler&#x27;,\n",
       "                                                                   MinMaxScaler())]),\n",
       "                                                  [&#x27;NEAREST_STN_DIST&#x27;,\n",
       "                                                   &#x27;CBD_DIST&#x27;, &#x27;FLOOR_AREA&#x27;,\n",
       "                                                   &#x27;LAND_AREA&#x27;]),\n",
       "                                                 (&#x27;Categorical&#x27;, &#x27;passthrough&#x27;,\n",
       "                                                  [&#x27;AREA&#x27;])])),\n",
       "                (&#x27;regressor&#x27;, LinearRegression())])</pre><b>In a Jupyter environment, please rerun this cell to show the HTML representation or trust the notebook. <br />On GitHub, the HTML representation is unable to render, please try loading this page with nbviewer.org.</b></div><div class=\"sk-container\" hidden><div class=\"sk-item sk-dashed-wrapped\"><div class=\"sk-label-container\"><div class=\"sk-label sk-toggleable\"><input class=\"sk-toggleable__control sk-hidden--visually\" id=\"sk-estimator-id-7\" type=\"checkbox\" ><label for=\"sk-estimator-id-7\" class=\"sk-toggleable__label sk-toggleable__label-arrow\">Pipeline</label><div class=\"sk-toggleable__content\"><pre>Pipeline(steps=[(&#x27;transormer&#x27;,\n",
       "                 ColumnTransformer(transformers=[(&#x27;Numerical&#x27;,\n",
       "                                                  Pipeline(steps=[(&#x27;winsorizer &#x27;\n",
       "                                                                   &#x27;iqr&#x27;,\n",
       "                                                                   Winsorizer(capping_method=&#x27;iqr&#x27;,\n",
       "                                                                              tail=&#x27;both&#x27;,\n",
       "                                                                              variables=[&#x27;NEAREST_STN_DIST&#x27;,\n",
       "                                                                                         &#x27;CBD_DIST&#x27;,\n",
       "                                                                                         &#x27;FLOOR_AREA&#x27;,\n",
       "                                                                                         &#x27;LAND_AREA&#x27;])),\n",
       "                                                                  (&#x27;scaler&#x27;,\n",
       "                                                                   MinMaxScaler())]),\n",
       "                                                  [&#x27;NEAREST_STN_DIST&#x27;,\n",
       "                                                   &#x27;CBD_DIST&#x27;, &#x27;FLOOR_AREA&#x27;,\n",
       "                                                   &#x27;LAND_AREA&#x27;]),\n",
       "                                                 (&#x27;Categorical&#x27;, &#x27;passthrough&#x27;,\n",
       "                                                  [&#x27;AREA&#x27;])])),\n",
       "                (&#x27;regressor&#x27;, LinearRegression())])</pre></div></div></div><div class=\"sk-serial\"><div class=\"sk-item sk-dashed-wrapped\"><div class=\"sk-label-container\"><div class=\"sk-label sk-toggleable\"><input class=\"sk-toggleable__control sk-hidden--visually\" id=\"sk-estimator-id-8\" type=\"checkbox\" ><label for=\"sk-estimator-id-8\" class=\"sk-toggleable__label sk-toggleable__label-arrow\">transormer: ColumnTransformer</label><div class=\"sk-toggleable__content\"><pre>ColumnTransformer(transformers=[(&#x27;Numerical&#x27;,\n",
       "                                 Pipeline(steps=[(&#x27;winsorizer iqr&#x27;,\n",
       "                                                  Winsorizer(capping_method=&#x27;iqr&#x27;,\n",
       "                                                             tail=&#x27;both&#x27;,\n",
       "                                                             variables=[&#x27;NEAREST_STN_DIST&#x27;,\n",
       "                                                                        &#x27;CBD_DIST&#x27;,\n",
       "                                                                        &#x27;FLOOR_AREA&#x27;,\n",
       "                                                                        &#x27;LAND_AREA&#x27;])),\n",
       "                                                 (&#x27;scaler&#x27;, MinMaxScaler())]),\n",
       "                                 [&#x27;NEAREST_STN_DIST&#x27;, &#x27;CBD_DIST&#x27;, &#x27;FLOOR_AREA&#x27;,\n",
       "                                  &#x27;LAND_AREA&#x27;]),\n",
       "                                (&#x27;Categorical&#x27;, &#x27;passthrough&#x27;, [&#x27;AREA&#x27;])])</pre></div></div></div><div class=\"sk-parallel\"><div class=\"sk-parallel-item\"><div class=\"sk-item\"><div class=\"sk-label-container\"><div class=\"sk-label sk-toggleable\"><input class=\"sk-toggleable__control sk-hidden--visually\" id=\"sk-estimator-id-9\" type=\"checkbox\" ><label for=\"sk-estimator-id-9\" class=\"sk-toggleable__label sk-toggleable__label-arrow\">Numerical</label><div class=\"sk-toggleable__content\"><pre>[&#x27;NEAREST_STN_DIST&#x27;, &#x27;CBD_DIST&#x27;, &#x27;FLOOR_AREA&#x27;, &#x27;LAND_AREA&#x27;]</pre></div></div></div><div class=\"sk-serial\"><div class=\"sk-item\"><div class=\"sk-serial\"><div class=\"sk-item\"><div class=\"sk-estimator sk-toggleable\"><input class=\"sk-toggleable__control sk-hidden--visually\" id=\"sk-estimator-id-10\" type=\"checkbox\" ><label for=\"sk-estimator-id-10\" class=\"sk-toggleable__label sk-toggleable__label-arrow\">Winsorizer</label><div class=\"sk-toggleable__content\"><pre>Winsorizer(capping_method=&#x27;iqr&#x27;, tail=&#x27;both&#x27;,\n",
       "           variables=[&#x27;NEAREST_STN_DIST&#x27;, &#x27;CBD_DIST&#x27;, &#x27;FLOOR_AREA&#x27;,\n",
       "                      &#x27;LAND_AREA&#x27;])</pre></div></div></div><div class=\"sk-item\"><div class=\"sk-estimator sk-toggleable\"><input class=\"sk-toggleable__control sk-hidden--visually\" id=\"sk-estimator-id-11\" type=\"checkbox\" ><label for=\"sk-estimator-id-11\" class=\"sk-toggleable__label sk-toggleable__label-arrow\">MinMaxScaler</label><div class=\"sk-toggleable__content\"><pre>MinMaxScaler()</pre></div></div></div></div></div></div></div></div><div class=\"sk-parallel-item\"><div class=\"sk-item\"><div class=\"sk-label-container\"><div class=\"sk-label sk-toggleable\"><input class=\"sk-toggleable__control sk-hidden--visually\" id=\"sk-estimator-id-12\" type=\"checkbox\" ><label for=\"sk-estimator-id-12\" class=\"sk-toggleable__label sk-toggleable__label-arrow\">Categorical</label><div class=\"sk-toggleable__content\"><pre>[&#x27;AREA&#x27;]</pre></div></div></div><div class=\"sk-serial\"><div class=\"sk-item\"><div class=\"sk-estimator sk-toggleable\"><input class=\"sk-toggleable__control sk-hidden--visually\" id=\"sk-estimator-id-13\" type=\"checkbox\" ><label for=\"sk-estimator-id-13\" class=\"sk-toggleable__label sk-toggleable__label-arrow\">passthrough</label><div class=\"sk-toggleable__content\"><pre>passthrough</pre></div></div></div></div></div></div></div></div><div class=\"sk-item\"><div class=\"sk-estimator sk-toggleable\"><input class=\"sk-toggleable__control sk-hidden--visually\" id=\"sk-estimator-id-14\" type=\"checkbox\" ><label for=\"sk-estimator-id-14\" class=\"sk-toggleable__label sk-toggleable__label-arrow\">LinearRegression</label><div class=\"sk-toggleable__content\"><pre>LinearRegression()</pre></div></div></div></div></div></div></div>"
      ],
      "text/plain": [
       "Pipeline(steps=[('transormer',\n",
       "                 ColumnTransformer(transformers=[('Numerical',\n",
       "                                                  Pipeline(steps=[('winsorizer '\n",
       "                                                                   'iqr',\n",
       "                                                                   Winsorizer(capping_method='iqr',\n",
       "                                                                              tail='both',\n",
       "                                                                              variables=['NEAREST_STN_DIST',\n",
       "                                                                                         'CBD_DIST',\n",
       "                                                                                         'FLOOR_AREA',\n",
       "                                                                                         'LAND_AREA'])),\n",
       "                                                                  ('scaler',\n",
       "                                                                   MinMaxScaler())]),\n",
       "                                                  ['NEAREST_STN_DIST',\n",
       "                                                   'CBD_DIST', 'FLOOR_AREA',\n",
       "                                                   'LAND_AREA']),\n",
       "                                                 ('Categorical', 'passthrough',\n",
       "                                                  ['AREA'])])),\n",
       "                ('regressor', LinearRegression())])"
      ]
     },
     "execution_count": 50,
     "metadata": {},
     "output_type": "execute_result"
    }
   ],
   "source": [
    "# Melihat pipeline untuk linear regression\n",
    "pipe_linreg"
   ]
  },
  {
   "cell_type": "code",
   "execution_count": 51,
   "metadata": {},
   "outputs": [
    {
     "data": {
      "text/html": [
       "<style>#sk-container-id-3 {color: black;background-color: white;}#sk-container-id-3 pre{padding: 0;}#sk-container-id-3 div.sk-toggleable {background-color: white;}#sk-container-id-3 label.sk-toggleable__label {cursor: pointer;display: block;width: 100%;margin-bottom: 0;padding: 0.3em;box-sizing: border-box;text-align: center;}#sk-container-id-3 label.sk-toggleable__label-arrow:before {content: \"▸\";float: left;margin-right: 0.25em;color: #696969;}#sk-container-id-3 label.sk-toggleable__label-arrow:hover:before {color: black;}#sk-container-id-3 div.sk-estimator:hover label.sk-toggleable__label-arrow:before {color: black;}#sk-container-id-3 div.sk-toggleable__content {max-height: 0;max-width: 0;overflow: hidden;text-align: left;background-color: #f0f8ff;}#sk-container-id-3 div.sk-toggleable__content pre {margin: 0.2em;color: black;border-radius: 0.25em;background-color: #f0f8ff;}#sk-container-id-3 input.sk-toggleable__control:checked~div.sk-toggleable__content {max-height: 200px;max-width: 100%;overflow: auto;}#sk-container-id-3 input.sk-toggleable__control:checked~label.sk-toggleable__label-arrow:before {content: \"▾\";}#sk-container-id-3 div.sk-estimator input.sk-toggleable__control:checked~label.sk-toggleable__label {background-color: #d4ebff;}#sk-container-id-3 div.sk-label input.sk-toggleable__control:checked~label.sk-toggleable__label {background-color: #d4ebff;}#sk-container-id-3 input.sk-hidden--visually {border: 0;clip: rect(1px 1px 1px 1px);clip: rect(1px, 1px, 1px, 1px);height: 1px;margin: -1px;overflow: hidden;padding: 0;position: absolute;width: 1px;}#sk-container-id-3 div.sk-estimator {font-family: monospace;background-color: #f0f8ff;border: 1px dotted black;border-radius: 0.25em;box-sizing: border-box;margin-bottom: 0.5em;}#sk-container-id-3 div.sk-estimator:hover {background-color: #d4ebff;}#sk-container-id-3 div.sk-parallel-item::after {content: \"\";width: 100%;border-bottom: 1px solid gray;flex-grow: 1;}#sk-container-id-3 div.sk-label:hover label.sk-toggleable__label {background-color: #d4ebff;}#sk-container-id-3 div.sk-serial::before {content: \"\";position: absolute;border-left: 1px solid gray;box-sizing: border-box;top: 0;bottom: 0;left: 50%;z-index: 0;}#sk-container-id-3 div.sk-serial {display: flex;flex-direction: column;align-items: center;background-color: white;padding-right: 0.2em;padding-left: 0.2em;position: relative;}#sk-container-id-3 div.sk-item {position: relative;z-index: 1;}#sk-container-id-3 div.sk-parallel {display: flex;align-items: stretch;justify-content: center;background-color: white;position: relative;}#sk-container-id-3 div.sk-item::before, #sk-container-id-3 div.sk-parallel-item::before {content: \"\";position: absolute;border-left: 1px solid gray;box-sizing: border-box;top: 0;bottom: 0;left: 50%;z-index: -1;}#sk-container-id-3 div.sk-parallel-item {display: flex;flex-direction: column;z-index: 1;position: relative;background-color: white;}#sk-container-id-3 div.sk-parallel-item:first-child::after {align-self: flex-end;width: 50%;}#sk-container-id-3 div.sk-parallel-item:last-child::after {align-self: flex-start;width: 50%;}#sk-container-id-3 div.sk-parallel-item:only-child::after {width: 0;}#sk-container-id-3 div.sk-dashed-wrapped {border: 1px dashed gray;margin: 0 0.4em 0.5em 0.4em;box-sizing: border-box;padding-bottom: 0.4em;background-color: white;}#sk-container-id-3 div.sk-label label {font-family: monospace;font-weight: bold;display: inline-block;line-height: 1.2em;}#sk-container-id-3 div.sk-label-container {text-align: center;}#sk-container-id-3 div.sk-container {/* jupyter's `normalize.less` sets `[hidden] { display: none; }` but bootstrap.min.css set `[hidden] { display: none !important; }` so we also need the `!important` here to be able to override the default hidden behavior on the sphinx rendered scikit-learn.org. See: https://github.com/scikit-learn/scikit-learn/issues/21755 */display: inline-block !important;position: relative;}#sk-container-id-3 div.sk-text-repr-fallback {display: none;}</style><div id=\"sk-container-id-3\" class=\"sk-top-container\"><div class=\"sk-text-repr-fallback\"><pre>Pipeline(steps=[(&#x27;transormer&#x27;,\n",
       "                 ColumnTransformer(transformers=[(&#x27;Numerical&#x27;,\n",
       "                                                  Pipeline(steps=[(&#x27;winsorizer &#x27;\n",
       "                                                                   &#x27;iqr&#x27;,\n",
       "                                                                   Winsorizer(capping_method=&#x27;iqr&#x27;,\n",
       "                                                                              tail=&#x27;both&#x27;,\n",
       "                                                                              variables=[&#x27;NEAREST_STN_DIST&#x27;,\n",
       "                                                                                         &#x27;CBD_DIST&#x27;,\n",
       "                                                                                         &#x27;FLOOR_AREA&#x27;,\n",
       "                                                                                         &#x27;LAND_AREA&#x27;])),\n",
       "                                                                  (&#x27;scaler&#x27;,\n",
       "                                                                   MinMaxScaler())]),\n",
       "                                                  [&#x27;NEAREST_STN_DIST&#x27;,\n",
       "                                                   &#x27;CBD_DIST&#x27;, &#x27;FLOOR_AREA&#x27;,\n",
       "                                                   &#x27;LAND_AREA&#x27;]),\n",
       "                                                 (&#x27;Categorical&#x27;, &#x27;passthrough&#x27;,\n",
       "                                                  [&#x27;AREA&#x27;])])),\n",
       "                (&#x27;regressor&#x27;, KNeighborsRegressor())])</pre><b>In a Jupyter environment, please rerun this cell to show the HTML representation or trust the notebook. <br />On GitHub, the HTML representation is unable to render, please try loading this page with nbviewer.org.</b></div><div class=\"sk-container\" hidden><div class=\"sk-item sk-dashed-wrapped\"><div class=\"sk-label-container\"><div class=\"sk-label sk-toggleable\"><input class=\"sk-toggleable__control sk-hidden--visually\" id=\"sk-estimator-id-15\" type=\"checkbox\" ><label for=\"sk-estimator-id-15\" class=\"sk-toggleable__label sk-toggleable__label-arrow\">Pipeline</label><div class=\"sk-toggleable__content\"><pre>Pipeline(steps=[(&#x27;transormer&#x27;,\n",
       "                 ColumnTransformer(transformers=[(&#x27;Numerical&#x27;,\n",
       "                                                  Pipeline(steps=[(&#x27;winsorizer &#x27;\n",
       "                                                                   &#x27;iqr&#x27;,\n",
       "                                                                   Winsorizer(capping_method=&#x27;iqr&#x27;,\n",
       "                                                                              tail=&#x27;both&#x27;,\n",
       "                                                                              variables=[&#x27;NEAREST_STN_DIST&#x27;,\n",
       "                                                                                         &#x27;CBD_DIST&#x27;,\n",
       "                                                                                         &#x27;FLOOR_AREA&#x27;,\n",
       "                                                                                         &#x27;LAND_AREA&#x27;])),\n",
       "                                                                  (&#x27;scaler&#x27;,\n",
       "                                                                   MinMaxScaler())]),\n",
       "                                                  [&#x27;NEAREST_STN_DIST&#x27;,\n",
       "                                                   &#x27;CBD_DIST&#x27;, &#x27;FLOOR_AREA&#x27;,\n",
       "                                                   &#x27;LAND_AREA&#x27;]),\n",
       "                                                 (&#x27;Categorical&#x27;, &#x27;passthrough&#x27;,\n",
       "                                                  [&#x27;AREA&#x27;])])),\n",
       "                (&#x27;regressor&#x27;, KNeighborsRegressor())])</pre></div></div></div><div class=\"sk-serial\"><div class=\"sk-item sk-dashed-wrapped\"><div class=\"sk-label-container\"><div class=\"sk-label sk-toggleable\"><input class=\"sk-toggleable__control sk-hidden--visually\" id=\"sk-estimator-id-16\" type=\"checkbox\" ><label for=\"sk-estimator-id-16\" class=\"sk-toggleable__label sk-toggleable__label-arrow\">transormer: ColumnTransformer</label><div class=\"sk-toggleable__content\"><pre>ColumnTransformer(transformers=[(&#x27;Numerical&#x27;,\n",
       "                                 Pipeline(steps=[(&#x27;winsorizer iqr&#x27;,\n",
       "                                                  Winsorizer(capping_method=&#x27;iqr&#x27;,\n",
       "                                                             tail=&#x27;both&#x27;,\n",
       "                                                             variables=[&#x27;NEAREST_STN_DIST&#x27;,\n",
       "                                                                        &#x27;CBD_DIST&#x27;,\n",
       "                                                                        &#x27;FLOOR_AREA&#x27;,\n",
       "                                                                        &#x27;LAND_AREA&#x27;])),\n",
       "                                                 (&#x27;scaler&#x27;, MinMaxScaler())]),\n",
       "                                 [&#x27;NEAREST_STN_DIST&#x27;, &#x27;CBD_DIST&#x27;, &#x27;FLOOR_AREA&#x27;,\n",
       "                                  &#x27;LAND_AREA&#x27;]),\n",
       "                                (&#x27;Categorical&#x27;, &#x27;passthrough&#x27;, [&#x27;AREA&#x27;])])</pre></div></div></div><div class=\"sk-parallel\"><div class=\"sk-parallel-item\"><div class=\"sk-item\"><div class=\"sk-label-container\"><div class=\"sk-label sk-toggleable\"><input class=\"sk-toggleable__control sk-hidden--visually\" id=\"sk-estimator-id-17\" type=\"checkbox\" ><label for=\"sk-estimator-id-17\" class=\"sk-toggleable__label sk-toggleable__label-arrow\">Numerical</label><div class=\"sk-toggleable__content\"><pre>[&#x27;NEAREST_STN_DIST&#x27;, &#x27;CBD_DIST&#x27;, &#x27;FLOOR_AREA&#x27;, &#x27;LAND_AREA&#x27;]</pre></div></div></div><div class=\"sk-serial\"><div class=\"sk-item\"><div class=\"sk-serial\"><div class=\"sk-item\"><div class=\"sk-estimator sk-toggleable\"><input class=\"sk-toggleable__control sk-hidden--visually\" id=\"sk-estimator-id-18\" type=\"checkbox\" ><label for=\"sk-estimator-id-18\" class=\"sk-toggleable__label sk-toggleable__label-arrow\">Winsorizer</label><div class=\"sk-toggleable__content\"><pre>Winsorizer(capping_method=&#x27;iqr&#x27;, tail=&#x27;both&#x27;,\n",
       "           variables=[&#x27;NEAREST_STN_DIST&#x27;, &#x27;CBD_DIST&#x27;, &#x27;FLOOR_AREA&#x27;,\n",
       "                      &#x27;LAND_AREA&#x27;])</pre></div></div></div><div class=\"sk-item\"><div class=\"sk-estimator sk-toggleable\"><input class=\"sk-toggleable__control sk-hidden--visually\" id=\"sk-estimator-id-19\" type=\"checkbox\" ><label for=\"sk-estimator-id-19\" class=\"sk-toggleable__label sk-toggleable__label-arrow\">MinMaxScaler</label><div class=\"sk-toggleable__content\"><pre>MinMaxScaler()</pre></div></div></div></div></div></div></div></div><div class=\"sk-parallel-item\"><div class=\"sk-item\"><div class=\"sk-label-container\"><div class=\"sk-label sk-toggleable\"><input class=\"sk-toggleable__control sk-hidden--visually\" id=\"sk-estimator-id-20\" type=\"checkbox\" ><label for=\"sk-estimator-id-20\" class=\"sk-toggleable__label sk-toggleable__label-arrow\">Categorical</label><div class=\"sk-toggleable__content\"><pre>[&#x27;AREA&#x27;]</pre></div></div></div><div class=\"sk-serial\"><div class=\"sk-item\"><div class=\"sk-estimator sk-toggleable\"><input class=\"sk-toggleable__control sk-hidden--visually\" id=\"sk-estimator-id-21\" type=\"checkbox\" ><label for=\"sk-estimator-id-21\" class=\"sk-toggleable__label sk-toggleable__label-arrow\">passthrough</label><div class=\"sk-toggleable__content\"><pre>passthrough</pre></div></div></div></div></div></div></div></div><div class=\"sk-item\"><div class=\"sk-estimator sk-toggleable\"><input class=\"sk-toggleable__control sk-hidden--visually\" id=\"sk-estimator-id-22\" type=\"checkbox\" ><label for=\"sk-estimator-id-22\" class=\"sk-toggleable__label sk-toggleable__label-arrow\">KNeighborsRegressor</label><div class=\"sk-toggleable__content\"><pre>KNeighborsRegressor()</pre></div></div></div></div></div></div></div>"
      ],
      "text/plain": [
       "Pipeline(steps=[('transormer',\n",
       "                 ColumnTransformer(transformers=[('Numerical',\n",
       "                                                  Pipeline(steps=[('winsorizer '\n",
       "                                                                   'iqr',\n",
       "                                                                   Winsorizer(capping_method='iqr',\n",
       "                                                                              tail='both',\n",
       "                                                                              variables=['NEAREST_STN_DIST',\n",
       "                                                                                         'CBD_DIST',\n",
       "                                                                                         'FLOOR_AREA',\n",
       "                                                                                         'LAND_AREA'])),\n",
       "                                                                  ('scaler',\n",
       "                                                                   MinMaxScaler())]),\n",
       "                                                  ['NEAREST_STN_DIST',\n",
       "                                                   'CBD_DIST', 'FLOOR_AREA',\n",
       "                                                   'LAND_AREA']),\n",
       "                                                 ('Categorical', 'passthrough',\n",
       "                                                  ['AREA'])])),\n",
       "                ('regressor', KNeighborsRegressor())])"
      ]
     },
     "execution_count": 51,
     "metadata": {},
     "output_type": "execute_result"
    }
   ],
   "source": [
    "# Melihat pipeline untuk KNN\n",
    "pipe_knn"
   ]
  },
  {
   "cell_type": "markdown",
   "metadata": {},
   "source": [
    "# 7. Model Training"
   ]
  },
  {
   "cell_type": "markdown",
   "metadata": {},
   "source": [
    "> Cell pada bagian ini hanya berisi code untuk melatih model dan output yang dihasilkan. Lakukan beberapa kali proses training dengan hyperparameter yang berbeda untuk melihat hasil yang didapatkan. Analisis dan narasikan hasil ini pada bagian Model Evaluation."
   ]
  },
  {
   "cell_type": "markdown",
   "metadata": {},
   "source": [
    "## Base Model Evaluation"
   ]
  },
  {
   "cell_type": "markdown",
   "metadata": {},
   "source": [
    "### Linear Reggresion"
   ]
  },
  {
   "cell_type": "code",
   "execution_count": 52,
   "metadata": {},
   "outputs": [
    {
     "name": "stdout",
     "output_type": "stream",
     "text": [
      "MAE - Train set: 180355.87344638165\n",
      "MAE - Test set: 182480.30045523943\n",
      "------------------------------------------------------------------------------------------------------------------------------------------------------\n",
      "R-squared - Train set: 0.4508348043824689\n",
      "R-squared - Test set: 0.45905374939924715\n",
      "------------------------------------------------------------------------------------------------------------------------------------------------------\n",
      "RMSE - Train set: 262471.206975348\n",
      "RMSE - Test set: 266458.59246918134\n",
      "------------------------------------------------------------------------------------------------------------------------------------------------------\n",
      "MSE - Train Set 68891134491.09596\n",
      "MSE - Test Set 71000181500.65727\n"
     ]
    }
   ],
   "source": [
    "pipe_linreg.fit(X_train,y_train)\n",
    "\n",
    "# Menghitung prediksi untuk data latih dan data uji\n",
    "y_train_linreg = pipe_linreg.predict(X_train)\n",
    "y_test_linreg = pipe_linreg.predict(X_test)\n",
    "\n",
    "# Menghitung MAE (Mean Absolute Error)\n",
    "mae_train = mean_absolute_error(y_train, y_train_linreg)\n",
    "mae_test = mean_absolute_error(y_test, y_test_linreg)\n",
    "\n",
    "# Menghitung R-squared (R2)\n",
    "r2_train = r2_score(y_train, y_train_linreg)\n",
    "r2_test = r2_score(y_test, y_test_linreg)\n",
    "\n",
    "# Menghitung RMSE (Root Mean Squared Error)\n",
    "rmse_train = np.sqrt(mean_squared_error(y_train, y_train_linreg))\n",
    "rmse_test = np.sqrt(mean_squared_error(y_test, y_test_linreg))\n",
    "\n",
    "# Menampilkan hasil\n",
    "print('MAE - Train set:', mae_train)\n",
    "print('MAE - Test set:', mae_test)\n",
    "print('---'*50)\n",
    "print('R-squared - Train set:', r2_train)\n",
    "print('R-squared - Test set:', r2_test)\n",
    "print('---'*50)\n",
    "print('RMSE - Train set:', rmse_train)\n",
    "print('RMSE - Test set:', rmse_test)\n",
    "print('---'*50)\n",
    "print(\"MSE - Train Set\",mean_squared_error(y_train,y_train_linreg))\n",
    "print(\"MSE - Test Set\",mean_squared_error(y_test,y_test_linreg))"
   ]
  },
  {
   "cell_type": "markdown",
   "metadata": {},
   "source": [
    "**INSIGHT:**\n",
    "-   Mean Absolute Error (MAE):\n",
    "\n",
    "    -   Pada MAE pada data train adalah sekitar 180,355.87, yang berarti rata-rata kesalahan prediksi model pada data train adalah sekitar 180,355.87 AUD dalam satuan mata uang yang digunakan.\n",
    "\n",
    "    -   Pada MAE pada data test adalah sekitar 182,480.30, yang berarti rata-rata kesalahan prediksi model pada data test adalah sekitar 182,480.30 AUD\n",
    "\n",
    "    -   Dalam hal ini, MAE mengindikasikan bahwa prediksi harga rumah memiliki rata-rata kesalahan sekitar 180,000 AUD hingga 182,000 AUD dari nilai sebenarnya.\n",
    "\n",
    "-   Coefficient of Determination (R-squared):\n",
    "\n",
    "    -   R-squared pada data train adalah sekitar 0.45, yang berarti sekitar 45% variabilitas dalam harga rumah pada data train dapat dijelaskan oleh fitur-fitur yang digunakan dalam model\n",
    "\n",
    "    -   R-squared pada data test adalah sekitar 0.46, yang berarti sekitar 46% variabilitas dalam harga rumah pada data test dapat dijelaskan oleh model.\n",
    "\n",
    "    -   R-squared memberikan gambaran tentang sejauh mana model dapat menjelaskan variasi dalam data. Dalam kasus ini, sekitar 45-46% variasi dalam harga rumah dapat dijelaskan oleh fitur-fitur yang digunakan dalam model.\n",
    "\n",
    "-   Root Mean Squared Error (RMSE):\n",
    "\n",
    "    -   RMSE pada data train adalah sekitar 262,471.21, yang berarti prediksi harga rumah memiliki rata-rata kesalahan sekitar 262,471.21 AUD dari nilai sebenarnya pada data train.\n",
    "\n",
    "    -   RMSE pada data test adalah sekitar 266,458.59, yang berarti prediksi harga rumah memiliki rata-rata kesalahan sekitar 266,458.59 AUD dari nilai sebenarnya pada data test.\n",
    "\n",
    "    -   RMSE memberikan gambaran tentang seberapa dekat prediksi model dengan nilai sebenarnya. Dalam kasus ini, prediksi harga rumah memiliki kesalahan rata-rata sekitar 262,000 AUD hingga 266,000 AUD dari nilai sebenarnya.\n",
    "\n",
    "-   Mean Squared Error (MSE):\n",
    "\n",
    "    -   MSE pada data train adalah sekitar 68,891,134,491.10, yang berarti rata-rata dari kuadrat kesalahan prediksi pada data train.\n",
    "\n",
    "    -   MSE pada data test adalah sekitar 71,000,181,500.66, yang berarti rata-rata dari kuadrat kesalahan prediksi pada data test.\n",
    "    \n",
    "    -   MSE memberikan informasi serupa dengan RMSE, tetapi dalam bentuk nilai kuadrat dari unit asal data. Semakin kecil nilai MSE, semakin baik performa model."
   ]
  },
  {
   "cell_type": "markdown",
   "metadata": {},
   "source": [
    "### KNN "
   ]
  },
  {
   "cell_type": "code",
   "execution_count": 53,
   "metadata": {},
   "outputs": [
    {
     "name": "stdout",
     "output_type": "stream",
     "text": [
      "MAE - Train set: 91413.62007131185\n",
      "MAE - Test set: 113773.82739156269\n",
      "------------------------------------------------------------------------------------------------------------------------------------------------------\n",
      "R-squared - Train set: 0.8163286146383127\n",
      "R-squared - Test set: 0.7281715098832098\n",
      "------------------------------------------------------------------------------------------------------------------------------------------------------\n",
      "RMSE - Train set: 151792.71069725603\n",
      "RMSE - Test set: 188886.16903633662\n",
      "------------------------------------------------------------------------------------------------------------------------------------------------------\n",
      "MSE - Train Set 23041027020.820866\n",
      "MSE - Test Set 35677984853.22353\n"
     ]
    }
   ],
   "source": [
    "pipe_knn.fit(X_train,y_train)\n",
    "\n",
    "# Menghitung prediksi untuk data latih dan data uji\n",
    "y_train_knn = pipe_knn.predict(X_train)\n",
    "y_test_knn = pipe_knn.predict(X_test)\n",
    "\n",
    "# Menghitung MAE (Mean Absolute Error)\n",
    "mae_train = mean_absolute_error(y_train, y_train_knn)\n",
    "mae_test = mean_absolute_error(y_test, y_test_knn)\n",
    "\n",
    "# Menghitung R-squared (R2)\n",
    "r2_train = r2_score(y_train, y_train_knn)\n",
    "r2_test = r2_score(y_test, y_test_knn)\n",
    "\n",
    "# Menghitung RMSE (Root Mean Squared Error)\n",
    "rmse_train = np.sqrt(mean_squared_error(y_train, y_train_knn))\n",
    "rmse_test = np.sqrt(mean_squared_error(y_test, y_test_knn))\n",
    "\n",
    "# Menampilkan hasil\n",
    "print('MAE - Train set:', mae_train)\n",
    "print('MAE - Test set:', mae_test)\n",
    "print('---'*50)\n",
    "print('R-squared - Train set:', r2_train)\n",
    "print('R-squared - Test set:', r2_test)\n",
    "print('---'*50)\n",
    "print('RMSE - Train set:', rmse_train)\n",
    "print('RMSE - Test set:', rmse_test)\n",
    "print('---'*50)\n",
    "print(\"MSE - Train Set\",mean_squared_error(y_train,y_train_knn))\n",
    "print(\"MSE - Test Set\",mean_squared_error(y_test,y_test_knn))"
   ]
  },
  {
   "cell_type": "markdown",
   "metadata": {},
   "source": [
    "**INSIGHT:**\n",
    "-   Mean Absolute Error (MAE):\n",
    "\n",
    "    -   Pada MAE pada data train adalah sekitar 91,413.62, yang berarti rata-rata kesalahan prediksi model pada data train adalah sekitar 91,413.62 AUD dalam satuan mata uang yang digunakan.\n",
    "\n",
    "    -   Pada MAE pada data test adalah sekitar 113,773.82, yang berarti rata-rata kesalahan prediksi model pada data test adalah sekitar 113,773.82 AUD\n",
    "\n",
    "    -   Dalam hal ini, MAE mengindikasikan bahwa prediksi harga rumah memiliki rata-rata kesalahan sekitar 91,000 AUD hingga 113,000 AUD dari nilai sebenarnya.\n",
    "\n",
    "-   Coefficient of Determination (R-squared):\n",
    "\n",
    "    -   R-squared pada data train adalah sekitar 0.81, yang berarti sekitar 81% variabilitas dalam harga rumah pada data train dapat dijelaskan oleh fitur-fitur yang digunakan dalam model\n",
    "\n",
    "    -   R-squared pada data test adalah sekitar 0.72, yang berarti sekitar 72% variabilitas dalam harga rumah pada data test dapat dijelaskan oleh model.\n",
    "\n",
    "    -   R-squared memberikan gambaran tentang sejauh mana model dapat menjelaskan variasi dalam data. Dalam kasus ini, sekitar 45-46% variasi dalam harga rumah dapat dijelaskan oleh fitur-fitur yang digunakan dalam model.\n",
    "\n",
    "-   Root Mean Squared Error (RMSE):\n",
    "\n",
    "    -   RMSE pada data train adalah sekitar 151,792.71, yang berarti prediksi harga rumah memiliki rata-rata kesalahan sekitar 151,792.71 AUD dari nilai sebenarnya pada data train.\n",
    "\n",
    "    -   RMSE pada data test adalah sekitar 188,886.16, yang berarti prediksi harga rumah memiliki rata-rata kesalahan sekitar 188,886.16 AUD dari nilai sebenarnya pada data test.\n",
    "\n",
    "    -   RMSE memberikan gambaran tentang seberapa dekat prediksi model dengan nilai sebenarnya. Dalam kasus ini, prediksi harga rumah memiliki kesalahan rata-rata sekitar 151,000 AUD hingga 266,000 AUD dari nilai sebenarnya.\n",
    "\n",
    "-   Mean Squared Error (MSE):\n",
    "\n",
    "    -   MSE pada data train adalah sekitar 23,041,027,020.82, yang berarti rata-rata dari kuadrat kesalahan prediksi pada data train.\n",
    "\n",
    "    -   MSE pada data test adalah sekitar 35,677,984,853.22, yang berarti rata-rata dari kuadrat kesalahan prediksi pada data test.\n",
    "    \n",
    "    -   MSE memberikan informasi serupa dengan RMSE, tetapi dalam bentuk nilai kuadrat dari unit asal data. Semakin kecil nilai MSE, semakin baik performa model."
   ]
  },
  {
   "cell_type": "markdown",
   "metadata": {},
   "source": [
    "### Decission Tree"
   ]
  },
  {
   "cell_type": "code",
   "execution_count": 54,
   "metadata": {},
   "outputs": [
    {
     "name": "stdout",
     "output_type": "stream",
     "text": [
      "MAE - Train set: 133.63066409151685\n",
      "MAE - Test set: 149187.59350861557\n",
      "------------------------------------------------------------------------------------------------------------------------------------------------------\n",
      "R-squared - Train set: 0.9999194664993272\n",
      "R-squared - Test set: 0.5292479413919475\n",
      "------------------------------------------------------------------------------------------------------------------------------------------------------\n",
      "RMSE - Train set: 3178.4724728861293\n",
      "RMSE - Test set: 248570.04212542725\n",
      "------------------------------------------------------------------------------------------------------------------------------------------------------\n",
      "MSE - Train Set 10102687.260894865\n",
      "MSE - Test Set 61787065842.23667\n"
     ]
    }
   ],
   "source": [
    "pipe_dtr.fit(X_train,y_train)\n",
    "\n",
    "# Menghitung prediksi untuk data latih dan data uji\n",
    "y_train_dtr = pipe_dtr.predict(X_train)\n",
    "y_test_dtr = pipe_dtr.predict(X_test)\n",
    "\n",
    "# Menghitung MAE (Mean Absolute Error)\n",
    "mae_train = mean_absolute_error(y_train, y_train_dtr)\n",
    "mae_test = mean_absolute_error(y_test, y_test_dtr)\n",
    "\n",
    "# Menghitung R-squared (R2)\n",
    "r2_train = r2_score(y_train, y_train_dtr)\n",
    "r2_test = r2_score(y_test, y_test_dtr)\n",
    "\n",
    "# Menghitung RMSE (Root Mean Squared Error)\n",
    "rmse_train = np.sqrt(mean_squared_error(y_train, y_train_dtr))\n",
    "rmse_test = np.sqrt(mean_squared_error(y_test, y_test_dtr))\n",
    "\n",
    "# Menampilkan hasil\n",
    "print('MAE - Train set:', mae_train)\n",
    "print('MAE - Test set:', mae_test)\n",
    "print('---'*50)\n",
    "print('R-squared - Train set:', r2_train)\n",
    "print('R-squared - Test set:', r2_test)\n",
    "print('---'*50)\n",
    "print('RMSE - Train set:', rmse_train)\n",
    "print('RMSE - Test set:', rmse_test)\n",
    "print('---'*50)\n",
    "print(\"MSE - Train Set\",mean_squared_error(y_train,y_train_dtr))\n",
    "print(\"MSE - Test Set\",mean_squared_error(y_test,y_test_dtr))"
   ]
  },
  {
   "cell_type": "markdown",
   "metadata": {},
   "source": [
    "**INSIGHT:**\n",
    "-   Mean Absolute Error (MAE):\n",
    "\n",
    "    -   Pada MAE pada data train adalah sekitar 133.63, yang berarti rata-rata kesalahan prediksi model pada data train adalah sekitar 133.63 AUD dalam satuan mata uang yang digunakan.\n",
    "\n",
    "    -   Pada MAE pada data test adalah sekitar 149.400.93, yang berarti rata-rata kesalahan prediksi model pada data test adalah sekitar 149.400.93 AUD\n",
    "\n",
    "    -   Dalam hal ini, MAE mengindikasikan bahwa prediksi harga rumah memiliki rata-rata kesalahan sekitar 133 AUD hingga 149,000 AUD dari nilai sebenarnya.\n",
    "\n",
    "-   Coefficient of Determination (R-squared):\n",
    "\n",
    "    -   R-squared pada data train adalah sekitar 0.99, yang berarti sekitar 99% variabilitas dalam harga rumah pada data train dapat dijelaskan oleh fitur-fitur yang digunakan dalam model\n",
    "\n",
    "    -   R-squared pada data test adalah sekitar 0.52, yang berarti sekitar 52% variabilitas dalam harga rumah pada data test dapat dijelaskan oleh model.\n",
    "\n",
    "    -   R-squared memberikan gambaran tentang sejauh mana model dapat menjelaskan variasi dalam data. Dalam kasus ini, sekitar 52-99% variasi dalam harga rumah dapat dijelaskan oleh fitur-fitur yang digunakan dalam model.\n",
    "\n",
    "-   Root Mean Squared Error (RMSE):\n",
    "\n",
    "    -   RMSE pada data train adalah sekitar 3178, yang berarti prediksi harga rumah memiliki rata-rata kesalahan sekitar 3178 AUD dari nilai sebenarnya pada data train.\n",
    "\n",
    "    -   RMSE pada data test adalah sekitar 248.739.06, yang berarti prediksi harga rumah memiliki rata-rata kesalahan sekitar 248.739.06 AUD dari nilai sebenarnya pada data test.\n",
    "\n",
    "    -   RMSE memberikan gambaran tentang seberapa dekat prediksi model dengan nilai sebenarnya. Dalam kasus ini, prediksi harga rumah memiliki kesalahan rata-rata sekitar 3178 AUD hingga 249.739 AUD dari nilai sebenarnya.\n",
    "\n",
    "-   Mean Squared Error (MSE):\n",
    "\n",
    "    -   MSE pada data train adalah sekitar 10.102.687.26, yang berarti rata-rata dari kuadrat kesalahan prediksi pada data train.\n",
    "\n",
    "    -   MSE pada data test adalah sekitar 61.871.120.551.81, yang berarti rata-rata dari kuadrat kesalahan prediksi pada data test.\n",
    "    \n",
    "    -   MSE memberikan informasi serupa dengan RMSE, tetapi dalam bentuk nilai kuadrat dari unit asal data. Semakin kecil nilai MSE, semakin baik performa model."
   ]
  },
  {
   "cell_type": "markdown",
   "metadata": {},
   "source": [
    "### ADA Boost Regressor"
   ]
  },
  {
   "cell_type": "code",
   "execution_count": 55,
   "metadata": {},
   "outputs": [
    {
     "name": "stdout",
     "output_type": "stream",
     "text": [
      "MAE - Train set: 240286.8902654452\n",
      "MAE - Test set: 243040.6070424223\n",
      "------------------------------------------------------------------------------------------------------------------------------------------------------\n",
      "R-squared - Train set: 0.280616993416547\n",
      "R-squared - Test set: 0.28683958102801954\n",
      "------------------------------------------------------------------------------------------------------------------------------------------------------\n",
      "RMSE - Train set: 300407.14166592713\n",
      "RMSE - Test set: 305947.062470687\n",
      "------------------------------------------------------------------------------------------------------------------------------------------------------\n",
      "MSE - Train Set 90244450763.89243\n",
      "MSE - Test Set 93603605034.44244\n"
     ]
    }
   ],
   "source": [
    "pipe_abr.fit(X_train,y_train)\n",
    "\n",
    "# Menghitung prediksi untuk data latih dan data uji\n",
    "y_train_abr = pipe_abr.predict(X_train)\n",
    "y_test_abr = pipe_abr.predict(X_test)\n",
    "\n",
    "# Menghitung MAE (Mean Absolute Error)\n",
    "mae_train = mean_absolute_error(y_train, y_train_abr)\n",
    "mae_test = mean_absolute_error(y_test, y_test_abr)\n",
    "\n",
    "# Menghitung R-squared (R2)\n",
    "r2_train = r2_score(y_train, y_train_abr)\n",
    "r2_test = r2_score(y_test, y_test_abr)\n",
    "\n",
    "# Menghitung RMSE (Root Mean Squared Error)\n",
    "rmse_train = np.sqrt(mean_squared_error(y_train, y_train_abr))\n",
    "rmse_test = np.sqrt(mean_squared_error(y_test, y_test_abr))\n",
    "\n",
    "# Menampilkan hasil\n",
    "print('MAE - Train set:', mae_train)\n",
    "print('MAE - Test set:', mae_test)\n",
    "print('---'*50)\n",
    "print('R-squared - Train set:', r2_train)\n",
    "print('R-squared - Test set:', r2_test)\n",
    "print('---'*50)\n",
    "print('RMSE - Train set:', rmse_train)\n",
    "print('RMSE - Test set:', rmse_test)\n",
    "print('---'*50)\n",
    "print(\"MSE - Train Set\",mean_squared_error(y_train,y_train_abr))\n",
    "print(\"MSE - Test Set\",mean_squared_error(y_test,y_test_abr))"
   ]
  },
  {
   "cell_type": "markdown",
   "metadata": {},
   "source": [
    "**INSIGHT:**\n",
    "-   Mean Absolute Error (MAE):\n",
    "\n",
    "    -   Pada MAE pada data train adalah sekitar 228.612.07, yang berarti rata-rata kesalahan prediksi model pada data train adalah sekitar 228.612.07 AUD dalam satuan mata uang yang digunakan.\n",
    "\n",
    "    -   Pada MAE pada data test adalah sekitar 230.923.94, yang berarti rata-rata kesalahan prediksi model pada data test adalah sekitar 230.923.94 AUD\n",
    "\n",
    "    -   Dalam hal ini, MAE mengindikasikan bahwa prediksi harga rumah memiliki rata-rata kesalahan sekitar 228,000 AUD hingga 230,000 AUD dari nilai sebenarnya.\n",
    "\n",
    "-   Coefficient of Determination (R-squared):\n",
    "\n",
    "    -   R-squared pada data train adalah sekitar 0.33, yang berarti sekitar 33% variabilitas dalam harga rumah pada data train dapat dijelaskan oleh fitur-fitur yang digunakan dalam model\n",
    "\n",
    "    -   R-squared pada data test adalah sekitar 0.34, yang berarti sekitar 34% variabilitas dalam harga rumah pada data test dapat dijelaskan oleh model.\n",
    "\n",
    "    -   R-squared memberikan gambaran tentang sejauh mana model dapat menjelaskan variasi dalam data. Dalam kasus ini, sekitar 33-34% variasi dalam harga rumah dapat dijelaskan oleh fitur-fitur yang digunakan dalam model.\n",
    "\n",
    "-   Root Mean Squared Error (RMSE):\n",
    "\n",
    "    -   RMSE pada data train adalah sekitar 287.832.75, yang berarti prediksi harga rumah memiliki rata-rata kesalahan sekitar 287.832.75 AUD dari nilai sebenarnya pada data train.\n",
    "\n",
    "    -   RMSE pada data test adalah sekitar 293.035.14, yang berarti prediksi harga rumah memiliki rata-rata kesalahan sekitar 293.035.14 AUD dari nilai sebenarnya pada data test.\n",
    "\n",
    "    -   RMSE memberikan gambaran tentang seberapa dekat prediksi model dengan nilai sebenarnya. Dalam kasus ini, prediksi harga rumah memiliki kesalahan rata-rata sekitar 287.000 AUD hingga 293.000 AUD dari nilai sebenarnya.\n",
    "\n",
    "-   Mean Squared Error (MSE):\n",
    "\n",
    "    -   MSE pada data train adalah sekitar 82.847.696.504.28, yang berarti rata-rata dari kuadrat kesalahan prediksi pada data train.\n",
    "\n",
    "    -   MSE pada data test adalah sekitar 85.869.596.679.64, yang berarti rata-rata dari kuadrat kesalahan prediksi pada data test.\n",
    "    \n",
    "    -   MSE memberikan informasi serupa dengan RMSE, tetapi dalam bentuk nilai kuadrat dari unit asal data. Semakin kecil nilai MSE, semakin baik performa model."
   ]
  },
  {
   "cell_type": "markdown",
   "metadata": {},
   "source": [
    "### Random Forest Regressor"
   ]
  },
  {
   "cell_type": "code",
   "execution_count": 56,
   "metadata": {},
   "outputs": [
    {
     "name": "stdout",
     "output_type": "stream",
     "text": [
      "MAE - Train set: 40278.04194710774\n",
      "MAE - Test set: 109472.3774456835\n",
      "------------------------------------------------------------------------------------------------------------------------------------------------------\n",
      "R-squared - Train set: 0.9639943419634044\n",
      "R-squared - Test set: 0.7548756601406775\n",
      "------------------------------------------------------------------------------------------------------------------------------------------------------\n",
      "RMSE - Train set: 67207.15974591243\n",
      "RMSE - Test set: 179368.38197415858\n",
      "------------------------------------------------------------------------------------------------------------------------------------------------------\n",
      "MSE - Train Set 4516802321.112593\n",
      "MSE - Test Set 32173016452.027653\n"
     ]
    }
   ],
   "source": [
    "pipe_rfr.fit(X_train,y_train)\n",
    "\n",
    "# Menghitung prediksi untuk data latih dan data uji\n",
    "y_train_rfr = pipe_rfr.predict(X_train)\n",
    "y_test_rfr = pipe_rfr.predict(X_test)\n",
    "\n",
    "# Menghitung MAE (Mean Absolute Error)\n",
    "mae_train = mean_absolute_error(y_train, y_train_rfr)\n",
    "mae_test = mean_absolute_error(y_test, y_test_rfr)\n",
    "\n",
    "# Menghitung R-squared (R2)\n",
    "r2_train = r2_score(y_train, y_train_rfr)\n",
    "r2_test = r2_score(y_test, y_test_rfr)\n",
    "\n",
    "# Menghitung RMSE (Root Mean Squared Error)\n",
    "rmse_train = np.sqrt(mean_squared_error(y_train, y_train_rfr))\n",
    "rmse_test = np.sqrt(mean_squared_error(y_test, y_test_rfr))\n",
    "\n",
    "# Menampilkan hasil\n",
    "print('MAE - Train set:', mae_train)\n",
    "print('MAE - Test set:', mae_test)\n",
    "print('---'*50)\n",
    "print('R-squared - Train set:', r2_train)\n",
    "print('R-squared - Test set:', r2_test)\n",
    "print('---'*50)\n",
    "print('RMSE - Train set:', rmse_train)\n",
    "print('RMSE - Test set:', rmse_test)\n",
    "print('---'*50)\n",
    "print(\"MSE - Train Set\",mean_squared_error(y_train,y_train_rfr))\n",
    "print(\"MSE - Test Set\",mean_squared_error(y_test,y_test_rfr))"
   ]
  },
  {
   "cell_type": "markdown",
   "metadata": {},
   "source": [
    "**INSIGHT:**\n",
    "-   Mean Absolute Error (MAE):\n",
    "\n",
    "    -   Pada MAE pada data train adalah sekitar 40.208.60, yang berarti rata-rata kesalahan prediksi model pada data train adalah sekitar 40.208.60 AUD dalam satuan mata uang yang digunakan.\n",
    "\n",
    "    -   Pada MAE pada data test adalah sekitar 109.127.34, yang berarti rata-rata kesalahan prediksi model pada data test adalah sekitar 109.127.34 AUD\n",
    "\n",
    "    -   Dalam hal ini, MAE mengindikasikan bahwa prediksi harga rumah memiliki rata-rata kesalahan sekitar 40.000 AUD hingga 109.000 AUD dari nilai sebenarnya.\n",
    "\n",
    "-   Coefficient of Determination (R-squared):\n",
    "\n",
    "    -   R-squared pada data train adalah sekitar 0.96, yang berarti sekitar 96% variabilitas dalam harga rumah pada data pelatihan dapat dijelaskan oleh fitur-fitur yang digunakan dalam model\n",
    "\n",
    "    -   R-squared pada data test adalah sekitar 0.75, yang berarti sekitar 75% variabilitas dalam harga rumah pada data uji dapat dijelaskan oleh model.\n",
    "\n",
    "    -   R-squared memberikan gambaran tentang sejauh mana model dapat menjelaskan variasi dalam data. Dalam kasus ini, sekitar 75-96% variasi dalam harga rumah dapat dijelaskan oleh fitur-fitur yang digunakan dalam model.\n",
    "\n",
    "-   Root Mean Squared Error (RMSE):\n",
    "\n",
    "    -   RMSE pada data train adalah sekitar 287.832.75, yang berarti prediksi harga rumah memiliki rata-rata kesalahan sekitar 287.832.75 AUD dari nilai sebenarnya pada data train.\n",
    "\n",
    "    -   RMSE pada data test adalah sekitar 293.035.14, yang berarti prediksi harga rumah memiliki rata-rata kesalahan sekitar 293.035.14 AUD dari nilai sebenarnya pada data test.\n",
    "\n",
    "    -   RMSE memberikan gambaran tentang seberapa dekat prediksi model dengan nilai sebenarnya. Dalam kasus ini, prediksi harga rumah memiliki kesalahan rata-rata sekitar 287.000 AUD hingga 293.000 AUD dari nilai sebenarnya.\n",
    "\n",
    "-   Mean Squared Error (MSE):\n",
    "\n",
    "    -   MSE pada data train adalah sekitar 4.497.492.695.59, yang berarti rata-rata dari kuadrat kesalahan prediksi pada data train.\n",
    "\n",
    "    -   MSE pada data test adalah sekitar 31.990.140.943.81, yang berarti rata-rata dari kuadrat kesalahan prediksi pada data test.\n",
    "    \n",
    "    -   MSE memberikan informasi serupa dengan RMSE, tetapi dalam bentuk nilai kuadrat dari unit asal data. Semakin kecil nilai MSE, semakin baik performa model."
   ]
  },
  {
   "cell_type": "markdown",
   "metadata": {},
   "source": [
    "### SVR"
   ]
  },
  {
   "cell_type": "code",
   "execution_count": 57,
   "metadata": {},
   "outputs": [
    {
     "name": "stdout",
     "output_type": "stream",
     "text": [
      "MAE - Train set: 242169.6677157456\n",
      "MAE - Test set: 246496.25271552094\n",
      "------------------------------------------------------------------------------------------------------------------------------------------------------\n",
      "R-squared - Train set: -0.07745209014950705\n",
      "R-squared - Test set: -0.07423748998782798\n",
      "------------------------------------------------------------------------------------------------------------------------------------------------------\n",
      "RMSE - Train set: 367645.4112787171\n",
      "RMSE - Test set: 375493.8465873165\n",
      "------------------------------------------------------------------------------------------------------------------------------------------------------\n",
      "MSE - Train Set 135163148434.29706\n",
      "MSE - Test Set 140995628824.93918\n"
     ]
    }
   ],
   "source": [
    "pipe_svr.fit(X_train,y_train)\n",
    "\n",
    "# Menghitung prediksi untuk data latih dan data uji\n",
    "y_train_svr = pipe_svr.predict(X_train)\n",
    "y_test_svr = pipe_svr.predict(X_test)\n",
    "\n",
    "# Menghitung MAE (Mean Absolute Error)\n",
    "mae_train = mean_absolute_error(y_train, y_train_svr)\n",
    "mae_test = mean_absolute_error(y_test, y_test_svr)\n",
    "\n",
    "# Menghitung R-squared (R2)\n",
    "r2_train = r2_score(y_train, y_train_svr)\n",
    "r2_test = r2_score(y_test, y_test_svr)\n",
    "\n",
    "# Menghitung RMSE (Root Mean Squared Error)\n",
    "rmse_train = np.sqrt(mean_squared_error(y_train, y_train_svr))\n",
    "rmse_test = np.sqrt(mean_squared_error(y_test, y_test_svr))\n",
    "\n",
    "# Menampilkan hasil\n",
    "print('MAE - Train set:', mae_train)\n",
    "print('MAE - Test set:', mae_test)\n",
    "print('---'*50)\n",
    "print('R-squared - Train set:', r2_train)\n",
    "print('R-squared - Test set:', r2_test)\n",
    "print('---'*50)\n",
    "print('RMSE - Train set:', rmse_train)\n",
    "print('RMSE - Test set:', rmse_test)\n",
    "print('---'*50)\n",
    "print(\"MSE - Train Set\",mean_squared_error(y_train,y_train_svr))\n",
    "print(\"MSE - Test Set\",mean_squared_error(y_test,y_test_svr))"
   ]
  },
  {
   "cell_type": "markdown",
   "metadata": {},
   "source": [
    "**INSIGHT:**\n",
    "-   Mean Absolute Error (MAE):\n",
    "\n",
    "    -   Pada MAE pada data train adalah sekitar 242.169.66, yang berarti rata-rata kesalahan prediksi model pada data train adalah sekitar 242.169.66 AUD dalam satuan mata uang yang digunakan.\n",
    "\n",
    "    -   Pada MAE pada data test adalah sekitar 246.496.25, yang berarti rata-rata kesalahan prediksi model pada data test adalah sekitar 246.496.25 AUD\n",
    "\n",
    "    -   Dalam hal ini, MAE mengindikasikan bahwa prediksi harga rumah memiliki rata-rata kesalahan sekitar 242.000 AUD hingga 246.000 AUD dari nilai sebenarnya.\n",
    "\n",
    "-   Coefficient of Determination (R-squared):\n",
    "\n",
    "    -   R-squared pada data train adalah sekitar -0.07, yang berarti model tidak dapat menjelaskan variabilitas dalam harga rumah pada data train oleh fitur-fitur yang digunakan dalam model\n",
    "\n",
    "    -   R-squared pada data test adalah sekitar -0.07, yang berarti model tidak dapat menjelaskan variabilitas dalam harga rumah pada data test oleh fitur-fitur yang digunakan dalam model.\n",
    "\n",
    "    -   R-squared memberikan gambaran tentang sejauh mana model dapat menjelaskan variasi dalam data. Dalam kasus ini, r-squared belum dapat menjelaskan variabilitas dalam harga rumah pada data train maupun data test\n",
    "\n",
    "-   Root Mean Squared Error (RMSE):\n",
    "\n",
    "    -   RMSE pada data train adalah sekitar 367.645.41, yang berarti prediksi harga rumah memiliki rata-rata kesalahan sekitar 367.645.41 AUD dari nilai sebenarnya pada data train.\n",
    "\n",
    "    -   RMSE pada data test adalah sekitar 375.493.84, yang berarti prediksi harga rumah memiliki rata-rata kesalahan sekitar 375.493.84 AUD dari nilai sebenarnya pada data test.\n",
    "\n",
    "    -   RMSE memberikan gambaran tentang seberapa dekat prediksi model dengan nilai sebenarnya. Dalam kasus ini, prediksi harga rumah memiliki kesalahan rata-rata sekitar 367.000 AUD hingga 375.000 AUD dari nilai sebenarnya.\n",
    "\n",
    "-   Mean Squared Error (MSE):\n",
    "\n",
    "    -   MSE pada data pelatihan adalah sekitar 135.163.148.434.29, yang berarti rata-rata dari kuadrat kesalahan prediksi pada data pelatihan.\n",
    "\n",
    "    -   MSE pada data uji adalah sekitar 140.995.628.824.93, yang berarti rata-rata dari kuadrat kesalahan prediksi pada data uji.\n",
    "    \n",
    "    -   MSE memberikan informasi serupa dengan RMSE, tetapi dalam bentuk nilai kuadrat dari unit asal data. Semakin kecil nilai MSE, semakin baik performa model."
   ]
  },
  {
   "cell_type": "markdown",
   "metadata": {},
   "source": [
    "### SGD Regressor"
   ]
  },
  {
   "cell_type": "code",
   "execution_count": 58,
   "metadata": {},
   "outputs": [
    {
     "name": "stdout",
     "output_type": "stream",
     "text": [
      "MAE - Train set: 180911.65760061814\n",
      "MAE - Test set: 182667.31967192248\n",
      "------------------------------------------------------------------------------------------------------------------------------------------------------\n",
      "R-squared - Train set: 0.414554571654014\n",
      "R-squared - Test set: 0.42193966532767013\n",
      "------------------------------------------------------------------------------------------------------------------------------------------------------\n",
      "RMSE - Train set: 271002.548673765\n",
      "RMSE - Test set: 275447.76762859634\n",
      "------------------------------------------------------------------------------------------------------------------------------------------------------\n",
      "MSE - Train Set 73442381387.67635\n",
      "MSE - Test Set 75871472691.57721\n"
     ]
    }
   ],
   "source": [
    "pipe_sgd.fit(X_train,y_train)\n",
    "\n",
    "# Menghitung prediksi untuk data latih dan data uji\n",
    "y_train_sgd = pipe_sgd.predict(X_train)\n",
    "y_test_sgd = pipe_sgd.predict(X_test)\n",
    "\n",
    "# Menghitung MAE (Mean Absolute Error)\n",
    "mae_train = mean_absolute_error(y_train, y_train_sgd)\n",
    "mae_test = mean_absolute_error(y_test, y_test_sgd)\n",
    "\n",
    "# Menghitung R-squared (R2)\n",
    "r2_train = r2_score(y_train, y_train_sgd)\n",
    "r2_test = r2_score(y_test, y_test_sgd)\n",
    "\n",
    "# Menghitung RMSE (Root Mean Squared Error)\n",
    "rmse_train = np.sqrt(mean_squared_error(y_train, y_train_sgd))\n",
    "rmse_test = np.sqrt(mean_squared_error(y_test, y_test_sgd))\n",
    "\n",
    "# Menampilkan hasil\n",
    "print('MAE - Train set:', mae_train)\n",
    "print('MAE - Test set:', mae_test)\n",
    "print('---'*50)\n",
    "print('R-squared - Train set:', r2_train)\n",
    "print('R-squared - Test set:', r2_test)\n",
    "print('---'*50)\n",
    "print('RMSE - Train set:', rmse_train)\n",
    "print('RMSE - Test set:', rmse_test)\n",
    "print('---'*50)\n",
    "print(\"MSE - Train Set\",mean_squared_error(y_train,y_train_sgd))\n",
    "print(\"MSE - Test Set\",mean_squared_error(y_test,y_test_sgd))"
   ]
  },
  {
   "cell_type": "markdown",
   "metadata": {},
   "source": [
    "**INSIGHT:**\n",
    "-   Mean Absolute Error (MAE):\n",
    "\n",
    "    -   Pada MAE pada data train adalah sekitar 178.161.41, yang berarti rata-rata kesalahan prediksi model pada data train adalah sekitar 178.161.41 AUD dalam satuan mata uang yang digunakan.\n",
    "\n",
    "    -   Pada MAE pada data test adalah sekitar 179.915.12, yang berarti rata-rata kesalahan prediksi model pada data test adalah sekitar 179.915.12 AUD\n",
    "\n",
    "    -   Dalam hal ini, MAE mengindikasikan bahwa prediksi harga rumah memiliki rata-rata kesalahan sekitar 178.000 AUD hingga 179.000 AUD dari nilai sebenarnya.\n",
    "\n",
    "-   Coefficient of Determination (R-squared):\n",
    "\n",
    "    -   R-squared pada data train adalah sekitar 0.44, yang berarti sekitar 44% variabilitas dalam harga rumah pada data pelatihan dapat dijelaskan oleh fitur-fitur yang digunakan dalam model\n",
    "\n",
    "    -   R-squared pada data test adalah sekitar 0.44, yang berarti sekitar 44% variabilitas dalam harga rumah pada data uji dapat dijelaskan oleh model.\n",
    "\n",
    "    -   R-squared memberikan gambaran tentang sejauh mana model dapat menjelaskan variasi dalam data. Dalam kasus ini, sekitar 75-96% variasi dalam harga rumah dapat dijelaskan oleh fitur-fitur yang digunakan dalam model.\n",
    "\n",
    "-   Root Mean Squared Error (RMSE):\n",
    "\n",
    "    -   RMSE pada data train adalah sekitar 264.975.58, yang berarti prediksi harga rumah memiliki rata-rata kesalahan sekitar 264.975.58 AUD dari nilai sebenarnya pada data train.\n",
    "\n",
    "    -   RMSE pada data test adalah sekitar 269.236.34, yang berarti prediksi harga rumah memiliki rata-rata kesalahan sekitar 269.236.34 AUD dari nilai sebenarnya pada data test.\n",
    "\n",
    "    -   RMSE memberikan gambaran tentang seberapa dekat prediksi model dengan nilai sebenarnya. Dalam kasus ini, prediksi harga rumah memiliki kesalahan rata-rata sekitar 264.000 AUD hingga 269.000 AUD dari nilai sebenarnya.\n",
    "\n",
    "-   Mean Squared Error (MSE):\n",
    "\n",
    "    -   MSE pada data pelatihan adalah sekitar 70.212.063.023.72, yang berarti rata-rata dari kuadrat kesalahan prediksi pada data pelatihan.\n",
    "\n",
    "    -   MSE pada data uji adalah sekitar 72.488.209.222.18, yang berarti rata-rata dari kuadrat kesalahan prediksi pada data uji.\n",
    "    \n",
    "    -   MSE memberikan informasi serupa dengan RMSE, tetapi dalam bentuk nilai kuadrat dari unit asal data. Semakin kecil nilai MSE, semakin baik performa model."
   ]
  },
  {
   "cell_type": "markdown",
   "metadata": {},
   "source": [
    "# 8. Model Evaluations"
   ]
  },
  {
   "cell_type": "markdown",
   "metadata": {},
   "source": [
    "> Pada bagian ini, dilakukan evaluasi model yang harus menunjukkan bagaimana performa model berdasarkan metrics yang dipilih. Hal ini harus dibuktikan dengan visualisasi tren performa dan/atau tingkat kesalahan model. Lakukan analisis terkait dengan hasil pada model dan tuliskan hasil analisisnya."
   ]
  },
  {
   "cell_type": "markdown",
   "metadata": {},
   "source": [
    "## Cross Validation"
   ]
  },
  {
   "cell_type": "markdown",
   "metadata": {},
   "source": [
    "> Cross-validation adalah teknik evaluasi performa model machine learning dengan cara membagi dataset menjadi subset-subset yang lebih kecil, yang disebut fold, dan menguji model pada beberapa kombinasi subset pelatihan dan pengujian. Tujuan dari cross-validation adalah untuk mendapatkan estimasi performa model yang lebih stabil"
   ]
  },
  {
   "cell_type": "markdown",
   "metadata": {},
   "source": [
    "### Cross Validation Linear Regression"
   ]
  },
  {
   "cell_type": "code",
   "execution_count": 59,
   "metadata": {},
   "outputs": [
    {
     "name": "stdout",
     "output_type": "stream",
     "text": [
      "----Cross Validation Linear Regression ---- \n",
      "r2 Score - All - Cross Validation  :  [0.45867736 0.45755563 0.45528606 0.44096928 0.43978071]\n",
      "r2 Score - Mean - Cross Validation :  0.4504538074151351\n",
      "r2 Score - Std - Cross Validation  :  0.008310051673869423\n",
      "r2 Score - Range of Test-Set       :  0.44214375574126563 - 0.4587638590890045\n"
     ]
    }
   ],
   "source": [
    "r2_train_cross_val_linreg = cross_val_score(pipe_linreg,\n",
    "                                        X_train,\n",
    "                                        y_train,\n",
    "                                        cv=5,\n",
    "                                        scoring=\"r2\")\n",
    "\n",
    "print('----Cross Validation Linear Regression ---- ')\n",
    "print('r2 Score - All - Cross Validation  : ', r2_train_cross_val_linreg)\n",
    "print('r2 Score - Mean - Cross Validation : ', r2_train_cross_val_linreg.mean())\n",
    "print('r2 Score - Std - Cross Validation  : ', r2_train_cross_val_linreg.std())\n",
    "print('r2 Score - Range of Test-Set       : ', (r2_train_cross_val_linreg.mean()-r2_train_cross_val_linreg.std()) , '-', (r2_train_cross_val_linreg.mean()+r2_train_cross_val_linreg.std()))"
   ]
  },
  {
   "cell_type": "markdown",
   "metadata": {},
   "source": [
    "**INSIGHT**\n",
    "-   R-squared Score (R2) pada Cross-Validation:\n",
    "\n",
    "    -   R-squared score pada setiap lipatan cross-validation adalah: [0.45867736 0.45755563 0.45528606 0.44096928 0.43978071]\n",
    "\n",
    "    -   R-squared score menunjukkan sejauh mana variabilitas data dapat dijelaskan oleh model. Nilai R-squared berkisar antara 0 (model tidak menjelaskan variabilitas sama sekali) hingga 1 (model menjelaskan semua variabilitas data).\n",
    "\n",
    "-   Rata-rata R-squared Score pada Cross-Validation:\n",
    "\n",
    "    -   Rata-rata dari R-squared score pada cross-validation adalah: 0.42247230212432374\n",
    "\n",
    "    -   Rata-rata ini mencerminkan sejauh mana model secara keseluruhan dapat menjelaskan variabilitas dalam data. Dalam hal ini, rata-rata R-squared adalah sekitar 0.42, yang menunjukkan bahwa sekitar 42% variabilitas dalam data dapat dijelaskan oleh model.\n",
    "\n",
    "-   Standar Deviasi R-squared Score pada Cross-Validation:\n",
    "\n",
    "    -   Standar deviasi dari R-squared score pada cross-validation adalah: 0.02507716532114571\n",
    "\n",
    "    -   Standar deviasi mengukur seberapa bervariasi nilai-nilai R-squared di antara lipatan-lipatan cross-validation. Semakin kecil nilai standar deviasi, semakin konsisten performa model pada lipatan-lipatan cross-validation.\n",
    "\n",
    "-   Rentang (Range) R-squared Score pada Data Uji:\n",
    "\n",
    "    -   R-squared score pada data uji memiliki rentang dari 0.397395136803178 hingga 0.4475494674454695.\n",
    "    \n",
    "    -   Rentang ini menunjukkan variasi performa model pada data uji yang berbeda-beda. Nilai terendah (0.397) dan nilai tertinggi (0.448) dari R-squared score memberikan gambaran tentang sejauh mana model dapat menjelaskan variabilitas dalam dataset yang berbeda. Semakin kecil rentangnya, semakin stabil performa model pada berbagai subset data uji."
   ]
  },
  {
   "cell_type": "markdown",
   "metadata": {},
   "source": [
    "### Cross Validation KNN"
   ]
  },
  {
   "cell_type": "code",
   "execution_count": 60,
   "metadata": {},
   "outputs": [
    {
     "name": "stdout",
     "output_type": "stream",
     "text": [
      "----Cross Validation KNN ---- \n",
      "r2 Score - All - Cross Validation  :  [0.7229013  0.70668649 0.72609866 0.70798649 0.71347304]\n",
      "r2 Score - Mean - Cross Validation :  0.7154291970726139\n",
      "r2 Score - Std - Cross Validation  :  0.007814412916177757\n",
      "r2 Score - Range of Test-Set       :  0.7076147841564361 - 0.7232436099887917\n"
     ]
    }
   ],
   "source": [
    "r2_train_cross_val_knn = cross_val_score(pipe_knn,\n",
    "                                        X_train,\n",
    "                                        y_train,\n",
    "                                        cv=5,\n",
    "                                        scoring=\"r2\")\n",
    "\n",
    "print('----Cross Validation KNN ---- ')\n",
    "print('r2 Score - All - Cross Validation  : ', r2_train_cross_val_knn)\n",
    "print('r2 Score - Mean - Cross Validation : ', r2_train_cross_val_knn.mean())\n",
    "print('r2 Score - Std - Cross Validation  : ', r2_train_cross_val_knn.std())\n",
    "print('r2 Score - Range of Test-Set       : ', (r2_train_cross_val_knn.mean()-r2_train_cross_val_knn.std()) , '-', (r2_train_cross_val_knn.mean()+r2_train_cross_val_knn.std()))"
   ]
  },
  {
   "cell_type": "markdown",
   "metadata": {},
   "source": [
    "**INSIGHT**\n",
    "-   R-squared Score (R2) pada Cross-Validation:\n",
    "\n",
    "    -   R-squared score pada setiap lipatan cross-validation adalah: [0.7229013  0.70668649 0.72609866 0.70798649 0.71347304]\n",
    "\n",
    "    -   R-squared score menunjukkan sejauh mana variabilitas data dapat dijelaskan oleh model. Nilai R-squared berkisar antara 0 (model tidak menjelaskan variabilitas sama sekali) hingga 1 (model menjelaskan semua variabilitas data).\n",
    "\n",
    "-   Rata-rata R-squared Score pada Cross-Validation:\n",
    "\n",
    "    -   Rata-rata dari R-squared score pada cross-validation adalah: 0.7154291970726139\n",
    "\n",
    "    -   Rata-rata ini mencerminkan sejauh mana model secara keseluruhan dapat menjelaskan variabilitas dalam data. Dalam hal ini, rata-rata R-squared adalah sekitar 0.71, yang menunjukkan bahwa sekitar 71% variabilitas dalam data dapat dijelaskan oleh model.\n",
    "\n",
    "-   Standar Deviasi R-squared Score pada Cross-Validation:\n",
    "\n",
    "    -   Standar deviasi dari R-squared score pada cross-validation adalah: 0.007814412916177757\n",
    "\n",
    "    -   Standar deviasi mengukur seberapa bervariasi nilai-nilai R-squared di antara lipatan-lipatan cross-validation. Semakin kecil nilai standar deviasi, semakin konsisten performa model pada lipatan-lipatan cross-validation.\n",
    "\n",
    "-   Rentang (Range) R-squared Score pada Data Uji:\n",
    "\n",
    "    -   R-squared score pada data uji memiliki rentang dari 0.7076147841564361 hingga 0.7232436099887917.\n",
    "    \n",
    "    -   Rentang ini menunjukkan variasi performa model pada data uji yang berbeda-beda. Nilai terendah (0.707) dan nilai tertinggi (0.723) dari R-squared score memberikan gambaran tentang sejauh mana model dapat menjelaskan variabilitas dalam dataset yang berbeda. Semakin kecil rentangnya, semakin stabil performa model pada berbagai subset data uji."
   ]
  },
  {
   "cell_type": "markdown",
   "metadata": {},
   "source": [
    "### Cross Validation Decission Tree"
   ]
  },
  {
   "cell_type": "code",
   "execution_count": 61,
   "metadata": {},
   "outputs": [
    {
     "name": "stdout",
     "output_type": "stream",
     "text": [
      "----Cross Validation Decission Tree ---- \n",
      "r2 Score - All - Cross Validation  :  [0.48271118 0.49845379 0.51608604 0.51084184 0.51490804]\n",
      "r2 Score - Mean - Cross Validation :  0.5046001742769626\n",
      "r2 Score - Std - Cross Validation  :  0.012601917211848857\n",
      "r2 Score - Range of Test-Set       :  0.49199825706511374 - 0.5172020914888115\n"
     ]
    }
   ],
   "source": [
    "r2_train_cross_val_dtr = cross_val_score(pipe_dtr,\n",
    "                                        X_train,\n",
    "                                        y_train,\n",
    "                                        cv=5,\n",
    "                                        scoring=\"r2\")\n",
    "\n",
    "print('----Cross Validation Decission Tree ---- ')\n",
    "print('r2 Score - All - Cross Validation  : ', r2_train_cross_val_dtr)\n",
    "print('r2 Score - Mean - Cross Validation : ', r2_train_cross_val_dtr.mean())\n",
    "print('r2 Score - Std - Cross Validation  : ', r2_train_cross_val_dtr.std())\n",
    "print('r2 Score - Range of Test-Set       : ', (r2_train_cross_val_dtr.mean()-r2_train_cross_val_dtr.std()) , '-', (r2_train_cross_val_dtr.mean()+r2_train_cross_val_dtr.std()))"
   ]
  },
  {
   "cell_type": "markdown",
   "metadata": {},
   "source": [
    "**INSIGHT**\n",
    "-   R-squared Score (R2) pada Cross-Validation:\n",
    "\n",
    "    -   R-squared score pada setiap lipatan cross-validation adalah: [0.48574568 0.48547307 0.50521316 0.5215048  0.52072707]\n",
    "\n",
    "    -   R-squared score menunjukkan sejauh mana variabilitas data dapat dijelaskan oleh model. Nilai R-squared berkisar antara 0 (model tidak menjelaskan variabilitas sama sekali) hingga 1 (model menjelaskan semua variabilitas data).\n",
    "\n",
    "-   Rata-rata R-squared Score pada Cross-Validation:\n",
    "\n",
    "    -   Rata-rata dari R-squared score pada cross-validation adalah: 0.5037327569805756\n",
    "\n",
    "    -   Rata-rata ini mencerminkan sejauh mana model secara keseluruhan dapat menjelaskan variabilitas dalam data. Dalam hal ini, rata-rata R-squared adalah sekitar 0.50, yang menunjukkan bahwa sekitar 50% variabilitas dalam data dapat dijelaskan oleh model.\n",
    "\n",
    "-   Standar Deviasi R-squared Score pada Cross-Validation:\n",
    "\n",
    "    -   Standar deviasi dari R-squared score pada cross-validation adalah: 0.015898396806054975\n",
    "\n",
    "    -   Standar deviasi mengukur seberapa bervariasi nilai-nilai R-squared di antara lipatan-lipatan cross-validation. Semakin kecil nilai standar deviasi, semakin konsisten performa model pada lipatan-lipatan cross-validation.\n",
    "\n",
    "-   Rentang (Range) R-squared Score pada Data Uji:\n",
    "\n",
    "    -   R-squared score pada data uji memiliki rentang dari 0.48783436017452064 hingga 0.5196311537866306.\n",
    "    \n",
    "    -   Rentang ini menunjukkan variasi performa model pada data uji yang berbeda-beda. Nilai terendah (0.487) dan nilai tertinggi (0.51) dari R-squared score memberikan gambaran tentang sejauh mana model dapat menjelaskan variabilitas dalam dataset yang berbeda. Semakin kecil rentangnya, semakin stabil performa model pada berbagai subset data uji."
   ]
  },
  {
   "cell_type": "markdown",
   "metadata": {},
   "source": [
    "### Cross Validation Ada Boost Regressor"
   ]
  },
  {
   "cell_type": "code",
   "execution_count": 62,
   "metadata": {},
   "outputs": [
    {
     "name": "stdout",
     "output_type": "stream",
     "text": [
      "----Cross Validation Ada Boost Regressor ---- \n",
      "r2 Score - All - Cross Validation  :  [0.37891776 0.27941609 0.24172397 0.22617079 0.42930314]\n",
      "r2 Score - Mean - Cross Validation :  0.3111063497308602\n",
      "r2 Score - Std - Cross Validation  :  0.07949981607975709\n",
      "r2 Score - Range of Test-Set       :  0.23160653365110312 - 0.3906061658106173\n"
     ]
    }
   ],
   "source": [
    "r2_train_cross_val_abr = cross_val_score(pipe_abr,\n",
    "                                        X_train,\n",
    "                                        y_train,\n",
    "                                        cv=5,\n",
    "                                        scoring=\"r2\")\n",
    "\n",
    "print('----Cross Validation Ada Boost Regressor ---- ')\n",
    "print('r2 Score - All - Cross Validation  : ', r2_train_cross_val_abr)\n",
    "print('r2 Score - Mean - Cross Validation : ', r2_train_cross_val_abr.mean())\n",
    "print('r2 Score - Std - Cross Validation  : ', r2_train_cross_val_abr.std())\n",
    "print('r2 Score - Range of Test-Set       : ', (r2_train_cross_val_abr.mean()-r2_train_cross_val_abr.std()) , '-', (r2_train_cross_val_abr.mean()+r2_train_cross_val_abr.std()))"
   ]
  },
  {
   "cell_type": "markdown",
   "metadata": {},
   "source": [
    "**INSIGHT**\n",
    "-   R-squared Score (R2) pada Cross-Validation:\n",
    "\n",
    "    -   R-squared score pada setiap lipatan cross-validation adalah: [0.36797814 0.27689034 0.46124509 0.2089608  0.32446347]\n",
    "\n",
    "    -   R-squared score menunjukkan sejauh mana variabilitas data dapat dijelaskan oleh model. Nilai R-squared berkisar antara 0 (model tidak menjelaskan variabilitas sama sekali) hingga 1 (model menjelaskan semua variabilitas data).\n",
    "\n",
    "-   Rata-rata R-squared Score pada Cross-Validation:\n",
    "\n",
    "    -   Rata-rata dari R-squared score pada cross-validation adalah: 0.3279075687978456\n",
    "\n",
    "    -   Rata-rata ini mencerminkan sejauh mana model secara keseluruhan dapat menjelaskan variabilitas dalam data. Dalam hal ini, rata-rata R-squared adalah sekitar 0.32, yang menunjukkan bahwa sekitar 32% variabilitas dalam data dapat dijelaskan oleh model.\n",
    "\n",
    "-   Standar Deviasi R-squared Score pada Cross-Validation:\n",
    "\n",
    "    -   Standar deviasi dari R-squared score pada cross-validation adalah: 0.08502646295580052\n",
    "\n",
    "    -   Standar deviasi mengukur seberapa bervariasi nilai-nilai R-squared di antara lipatan-lipatan cross-validation. Semakin kecil nilai standar deviasi, semakin konsisten performa model pada lipatan-lipatan cross-validation.\n",
    "\n",
    "-   Rentang (Range) R-squared Score pada Data Uji:\n",
    "\n",
    "    -   R-squared score pada data uji memiliki rentang dari 0.2428811058420451 hingga 0.4129340317536461.\n",
    "    \n",
    "    -   Rentang ini menunjukkan variasi performa model pada data uji yang berbeda-beda. Nilai terendah (0.242) dan nilai tertinggi (0.412) dari R-squared score memberikan gambaran tentang sejauh mana model dapat menjelaskan variabilitas dalam dataset yang berbeda. Semakin kecil rentangnya, semakin stabil performa model pada berbagai subset data uji."
   ]
  },
  {
   "cell_type": "markdown",
   "metadata": {},
   "source": [
    "### Cross Validation Random Forest Reggresion"
   ]
  },
  {
   "cell_type": "code",
   "execution_count": 63,
   "metadata": {},
   "outputs": [
    {
     "name": "stdout",
     "output_type": "stream",
     "text": [
      "----Cross Validation Random Forest Regressor ---- \n",
      "r2 Score - All - Cross Validation  :  [0.75126655 0.72464156 0.73617286 0.72463486 0.73394273]\n",
      "r2 Score - Mean - Cross Validation :  0.7341317122596225\n",
      "r2 Score - Std - Cross Validation  :  0.009778119228783686\n",
      "r2 Score - Range of Test-Set       :  0.7243535930308388 - 0.7439098314884062\n"
     ]
    }
   ],
   "source": [
    "r2_train_cross_val_rfr = cross_val_score(pipe_rfr,\n",
    "                                        X_train,\n",
    "                                        y_train,\n",
    "                                        cv=5,\n",
    "                                        scoring=\"r2\")\n",
    "\n",
    "print('----Cross Validation Random Forest Regressor ---- ')\n",
    "print('r2 Score - All - Cross Validation  : ', r2_train_cross_val_rfr)\n",
    "print('r2 Score - Mean - Cross Validation : ', r2_train_cross_val_rfr.mean())\n",
    "print('r2 Score - Std - Cross Validation  : ', r2_train_cross_val_rfr.std())\n",
    "print('r2 Score - Range of Test-Set       : ', (r2_train_cross_val_rfr.mean()-r2_train_cross_val_rfr.std()) , '-', (r2_train_cross_val_rfr.mean()+r2_train_cross_val_rfr.std()))"
   ]
  },
  {
   "cell_type": "markdown",
   "metadata": {},
   "source": [
    "**INSIGHT**\n",
    "-   R-squared Score (R2) pada Cross-Validation:\n",
    "\n",
    "    -   R-squared score pada setiap lipatan cross-validation adalah: [0.74760101 0.72431278 0.73940597 0.72638881 0.73555813]\n",
    "\n",
    "    -   R-squared score menunjukkan sejauh mana variabilitas data dapat dijelaskan oleh model. Nilai R-squared berkisar antara 0 (model tidak menjelaskan variabilitas sama sekali) hingga 1 (model menjelaskan semua variabilitas data).\n",
    "\n",
    "-   Rata-rata R-squared Score pada Cross-Validation:\n",
    "\n",
    "    -   Rata-rata dari R-squared score pada cross-validation adalah: 0.7346533423322151\n",
    "\n",
    "    -   Rata-rata ini mencerminkan sejauh mana model secara keseluruhan dapat menjelaskan variabilitas dalam data. Dalam hal ini, rata-rata R-squared adalah sekitar 0.73, yang menunjukkan bahwa sekitar 73% variabilitas dalam data dapat dijelaskan oleh model.\n",
    "\n",
    "-   Standar Deviasi R-squared Score pada Cross-Validation:\n",
    "\n",
    "    -   Standar deviasi dari R-squared score pada cross-validation adalah: 0.008558948885829077\n",
    "\n",
    "    -   Standar deviasi mengukur seberapa bervariasi nilai-nilai R-squared di antara lipatan-lipatan cross-validation. Semakin kecil nilai standar deviasi, semakin konsisten performa model pada lipatan-lipatan cross-validation.\n",
    "\n",
    "-   Rentang (Range) R-squared Score pada Data Uji:\n",
    "\n",
    "    -   R-squared score pada data uji memiliki rentang dari 0.726094393446386 hingga 0.7432122912180442.\n",
    "    \n",
    "    -   Rentang ini menunjukkan variasi performa model pada data uji yang berbeda-beda. Nilai terendah (0.72) dan nilai tertinggi (0.74) dari R-squared score memberikan gambaran tentang sejauh mana model dapat menjelaskan variabilitas dalam dataset yang berbeda. Semakin kecil rentangnya, semakin stabil performa model pada berbagai subset data uji."
   ]
  },
  {
   "cell_type": "markdown",
   "metadata": {},
   "source": [
    "### Cross Validation SVR"
   ]
  },
  {
   "cell_type": "code",
   "execution_count": 64,
   "metadata": {},
   "outputs": [
    {
     "name": "stdout",
     "output_type": "stream",
     "text": [
      "----Cross Validation SVR ---- \n",
      "r2 Score - All - Cross Validation  :  [-0.09109133 -0.06195266 -0.07693742 -0.07633314 -0.08915959]\n",
      "r2 Score - Mean - Cross Validation :  -0.07909482759752673\n",
      "r2 Score - Std - Cross Validation  :  0.010500960172070072\n",
      "r2 Score - Range of Test-Set       :  -0.0895957877695968 - -0.06859386742545666\n"
     ]
    }
   ],
   "source": [
    "r2_train_cross_val_svr = cross_val_score(pipe_svr,\n",
    "                                        X_train,\n",
    "                                        y_train,\n",
    "                                        cv=5,\n",
    "                                        scoring=\"r2\")\n",
    "\n",
    "print('----Cross Validation SVR ---- ')\n",
    "print('r2 Score - All - Cross Validation  : ', r2_train_cross_val_svr)\n",
    "print('r2 Score - Mean - Cross Validation : ', r2_train_cross_val_svr.mean())\n",
    "print('r2 Score - Std - Cross Validation  : ', r2_train_cross_val_svr.std())\n",
    "print('r2 Score - Range of Test-Set       : ', (r2_train_cross_val_svr.mean()-r2_train_cross_val_svr.std()) , '-', (r2_train_cross_val_svr.mean()+r2_train_cross_val_svr.std()))"
   ]
  },
  {
   "cell_type": "markdown",
   "metadata": {},
   "source": [
    "**INSIGHT**\n",
    "-   R-squared Score (R2) pada Cross-Validation:\n",
    "\n",
    "    -   R-squared score pada setiap lipatan cross-validation adalah: [-0.09109133 -0.06195266 -0.07693742 -0.07633314 -0.08915959]\n",
    "\n",
    "    -   R-squared score menunjukkan sejauh mana variabilitas data dapat dijelaskan oleh model. Nilai R-squared berkisar antara 0 (model tidak menjelaskan variabilitas sama sekali) hingga 1 (model menjelaskan semua variabilitas data).\n",
    "\n",
    "-   Rata-rata R-squared Score pada Cross-Validation:\n",
    "\n",
    "    -   Rata-rata dari R-squared score pada cross-validation adalah: -0.07909482759752673\n",
    "\n",
    "    -   Rata-rata ini mencerminkan sejauh mana model secara keseluruhan dapat menjelaskan variabilitas dalam data. Dalam hal ini, rata-rata R-squared adalah sekitar -0.07, yang menunjukkan bahwa sekitar 42% variabilitas dalam data dapat dijelaskan oleh model.\n",
    "\n",
    "-   Standar Deviasi R-squared Score pada Cross-Validation:\n",
    "\n",
    "    -   Standar deviasi dari R-squared score pada cross-validation adalah: 0.010500960172070072\n",
    "\n",
    "    -   Standar deviasi mengukur seberapa bervariasi nilai-nilai R-squared di antara lipatan-lipatan cross-validation. Semakin kecil nilai standar deviasi, semakin konsisten performa model pada lipatan-lipatan cross-validation.\n",
    "\n",
    "-   Rentang (Range) R-squared Score pada Data Uji:\n",
    "\n",
    "    -   R-squared score pada data uji memiliki rentang dari -0.0895957877695968 hingga -0.06859386742545666.\n",
    "    \n",
    "    -   Rentang ini menunjukkan variasi performa model pada data uji yang berbeda-beda. Nilai terendah (-0.08) dan nilai tertinggi (-0.06) dari R-squared score memberikan gambaran tentang sejauh mana model dapat menjelaskan variabilitas dalam dataset yang berbeda. Semakin kecil rentangnya, semakin stabil performa model pada berbagai subset data uji."
   ]
  },
  {
   "cell_type": "markdown",
   "metadata": {},
   "source": [
    "### Cross Validation SGD Regressor"
   ]
  },
  {
   "cell_type": "code",
   "execution_count": 65,
   "metadata": {},
   "outputs": [
    {
     "name": "stdout",
     "output_type": "stream",
     "text": [
      "----Cross Validation SGD Regressor ---- \n",
      "r2 Score - All - Cross Validation  :  [0.18634571 0.44536649 0.4276983  0.36519443 0.41689091]\n",
      "r2 Score - Mean - Cross Validation :  0.36829916997470746\n",
      "r2 Score - Std - Cross Validation  :  0.09481085004554378\n",
      "r2 Score - Range of Test-Set       :  0.27348831992916367 - 0.46311002002025126\n"
     ]
    }
   ],
   "source": [
    "r2_train_cross_val_sgd = cross_val_score(pipe_sgd,\n",
    "                                        X_train,\n",
    "                                        y_train,\n",
    "                                        cv=5,\n",
    "                                        scoring=\"r2\")\n",
    "\n",
    "print('----Cross Validation SGD Regressor ---- ')\n",
    "print('r2 Score - All - Cross Validation  : ', r2_train_cross_val_sgd)\n",
    "print('r2 Score - Mean - Cross Validation : ', r2_train_cross_val_sgd.mean())\n",
    "print('r2 Score - Std - Cross Validation  : ', r2_train_cross_val_sgd.std())\n",
    "print('r2 Score - Range of Test-Set       : ', (r2_train_cross_val_sgd.mean()-r2_train_cross_val_sgd.std()) , '-', (r2_train_cross_val_sgd.mean()+r2_train_cross_val_sgd.std()))"
   ]
  },
  {
   "cell_type": "markdown",
   "metadata": {},
   "source": [
    "**INSIGHT**\n",
    "-   R-squared Score (R2) pada Cross-Validation:\n",
    "\n",
    "    -   R-squared score pada setiap lipatan cross-validation adalah: [0.41155201 0.45289269 0.4351113  0.37972446 0.43308105]\n",
    "\n",
    "    -   R-squared score menunjukkan sejauh mana variabilitas data dapat dijelaskan oleh model. Nilai R-squared berkisar antara 0 (model tidak menjelaskan variabilitas sama sekali) hingga 1 (model menjelaskan semua variabilitas data).\n",
    "\n",
    "-   Rata-rata R-squared Score pada Cross-Validation:\n",
    "\n",
    "    -   Rata-rata dari R-squared score pada cross-validation adalah: 0.42247230212432374\n",
    "\n",
    "    -   Rata-rata ini mencerminkan sejauh mana model secara keseluruhan dapat menjelaskan variabilitas dalam data. Dalam hal ini, rata-rata R-squared adalah sekitar 0.42, yang menunjukkan bahwa sekitar 42% variabilitas dalam data dapat dijelaskan oleh model.\n",
    "\n",
    "-   Standar Deviasi R-squared Score pada Cross-Validation:\n",
    "\n",
    "    -   Standar deviasi dari R-squared score pada cross-validation adalah: 0.02507716532114571\n",
    "\n",
    "    -   Standar deviasi mengukur seberapa bervariasi nilai-nilai R-squared di antara lipatan-lipatan cross-validation. Semakin kecil nilai standar deviasi, semakin konsisten performa model pada lipatan-lipatan cross-validation.\n",
    "\n",
    "-   Rentang (Range) R-squared Score pada Data Uji:\n",
    "\n",
    "    -   R-squared score pada data uji memiliki rentang dari 0.397395136803178 hingga 0.4475494674454695.\n",
    "    \n",
    "    -   Rentang ini menunjukkan variasi performa model pada data uji yang berbeda-beda. Nilai terendah (0.39) dan nilai tertinggi (0.44) dari R-squared score memberikan gambaran tentang sejauh mana model dapat menjelaskan variabilitas dalam dataset yang berbeda. Semakin kecil rentangnya, semakin stabil performa model pada berbagai subset data uji."
   ]
  },
  {
   "cell_type": "markdown",
   "metadata": {},
   "source": [
    "### Kesimpulan Cross Validation"
   ]
  },
  {
   "cell_type": "markdown",
   "metadata": {},
   "source": [
    "**INSIGHT**\n",
    "\n",
    "-   Setelah dilihat dari rata-rata r2 Score dan standar deviasinya, saya memutuskan model paling baik yang tersedia untuk digunakan dalam model adalah Menggunakan Random Forest Regressor.\n",
    "Random Forest Regressor memiliki rata-rata r2 score sebesar 73% dari 5 jenis pembagian data. Dan memiliki standar deviasi sebesar 0.008 dimana hal ini bisa dikatakan cukup kecil sehingga bisa dikatan bahwa performa untuk model random forest reggresor memiliki performa yang konsisten.\n",
    "\n"
   ]
  },
  {
   "cell_type": "markdown",
   "metadata": {},
   "source": [
    "## Hyperparameter Tunning"
   ]
  },
  {
   "cell_type": "code",
   "execution_count": 66,
   "metadata": {},
   "outputs": [],
   "source": [
    "#memasukan parameter apa saja yang akan dilakukan tunning\n",
    "parameter_rfr = {\n",
    "    'regressor__n_estimators': [100,150,200,250,300], # Parameter regularisasi\n",
    "    'regressor__max_depth': [None, 1, 2, 3],\n",
    "    'regressor__min_samples_split': [2, 3]  \n",
    "    }\n",
    "\n",
    "kf=KFold(n_splits=5,shuffle=True,random_state=42)\n",
    "\n",
    "#mencari parameter terbaik dari SGD regressor, dan memasukan parameter yang sudah dibuat sebelumnya\n",
    "model_rfr = GridSearchCV(pipe_rfr, parameter_rfr, cv=kf, verbose=1)"
   ]
  },
  {
   "cell_type": "code",
   "execution_count": 67,
   "metadata": {},
   "outputs": [
    {
     "name": "stdout",
     "output_type": "stream",
     "text": [
      "Fitting 5 folds for each of 40 candidates, totalling 200 fits\n"
     ]
    },
    {
     "data": {
      "text/html": [
       "<style>#sk-container-id-4 {color: black;background-color: white;}#sk-container-id-4 pre{padding: 0;}#sk-container-id-4 div.sk-toggleable {background-color: white;}#sk-container-id-4 label.sk-toggleable__label {cursor: pointer;display: block;width: 100%;margin-bottom: 0;padding: 0.3em;box-sizing: border-box;text-align: center;}#sk-container-id-4 label.sk-toggleable__label-arrow:before {content: \"▸\";float: left;margin-right: 0.25em;color: #696969;}#sk-container-id-4 label.sk-toggleable__label-arrow:hover:before {color: black;}#sk-container-id-4 div.sk-estimator:hover label.sk-toggleable__label-arrow:before {color: black;}#sk-container-id-4 div.sk-toggleable__content {max-height: 0;max-width: 0;overflow: hidden;text-align: left;background-color: #f0f8ff;}#sk-container-id-4 div.sk-toggleable__content pre {margin: 0.2em;color: black;border-radius: 0.25em;background-color: #f0f8ff;}#sk-container-id-4 input.sk-toggleable__control:checked~div.sk-toggleable__content {max-height: 200px;max-width: 100%;overflow: auto;}#sk-container-id-4 input.sk-toggleable__control:checked~label.sk-toggleable__label-arrow:before {content: \"▾\";}#sk-container-id-4 div.sk-estimator input.sk-toggleable__control:checked~label.sk-toggleable__label {background-color: #d4ebff;}#sk-container-id-4 div.sk-label input.sk-toggleable__control:checked~label.sk-toggleable__label {background-color: #d4ebff;}#sk-container-id-4 input.sk-hidden--visually {border: 0;clip: rect(1px 1px 1px 1px);clip: rect(1px, 1px, 1px, 1px);height: 1px;margin: -1px;overflow: hidden;padding: 0;position: absolute;width: 1px;}#sk-container-id-4 div.sk-estimator {font-family: monospace;background-color: #f0f8ff;border: 1px dotted black;border-radius: 0.25em;box-sizing: border-box;margin-bottom: 0.5em;}#sk-container-id-4 div.sk-estimator:hover {background-color: #d4ebff;}#sk-container-id-4 div.sk-parallel-item::after {content: \"\";width: 100%;border-bottom: 1px solid gray;flex-grow: 1;}#sk-container-id-4 div.sk-label:hover label.sk-toggleable__label {background-color: #d4ebff;}#sk-container-id-4 div.sk-serial::before {content: \"\";position: absolute;border-left: 1px solid gray;box-sizing: border-box;top: 0;bottom: 0;left: 50%;z-index: 0;}#sk-container-id-4 div.sk-serial {display: flex;flex-direction: column;align-items: center;background-color: white;padding-right: 0.2em;padding-left: 0.2em;position: relative;}#sk-container-id-4 div.sk-item {position: relative;z-index: 1;}#sk-container-id-4 div.sk-parallel {display: flex;align-items: stretch;justify-content: center;background-color: white;position: relative;}#sk-container-id-4 div.sk-item::before, #sk-container-id-4 div.sk-parallel-item::before {content: \"\";position: absolute;border-left: 1px solid gray;box-sizing: border-box;top: 0;bottom: 0;left: 50%;z-index: -1;}#sk-container-id-4 div.sk-parallel-item {display: flex;flex-direction: column;z-index: 1;position: relative;background-color: white;}#sk-container-id-4 div.sk-parallel-item:first-child::after {align-self: flex-end;width: 50%;}#sk-container-id-4 div.sk-parallel-item:last-child::after {align-self: flex-start;width: 50%;}#sk-container-id-4 div.sk-parallel-item:only-child::after {width: 0;}#sk-container-id-4 div.sk-dashed-wrapped {border: 1px dashed gray;margin: 0 0.4em 0.5em 0.4em;box-sizing: border-box;padding-bottom: 0.4em;background-color: white;}#sk-container-id-4 div.sk-label label {font-family: monospace;font-weight: bold;display: inline-block;line-height: 1.2em;}#sk-container-id-4 div.sk-label-container {text-align: center;}#sk-container-id-4 div.sk-container {/* jupyter's `normalize.less` sets `[hidden] { display: none; }` but bootstrap.min.css set `[hidden] { display: none !important; }` so we also need the `!important` here to be able to override the default hidden behavior on the sphinx rendered scikit-learn.org. See: https://github.com/scikit-learn/scikit-learn/issues/21755 */display: inline-block !important;position: relative;}#sk-container-id-4 div.sk-text-repr-fallback {display: none;}</style><div id=\"sk-container-id-4\" class=\"sk-top-container\"><div class=\"sk-text-repr-fallback\"><pre>GridSearchCV(cv=KFold(n_splits=5, random_state=42, shuffle=True),\n",
       "             estimator=Pipeline(steps=[(&#x27;transormer&#x27;,\n",
       "                                        ColumnTransformer(transformers=[(&#x27;Numerical&#x27;,\n",
       "                                                                         Pipeline(steps=[(&#x27;winsorizer &#x27;\n",
       "                                                                                          &#x27;iqr&#x27;,\n",
       "                                                                                          Winsorizer(capping_method=&#x27;iqr&#x27;,\n",
       "                                                                                                     tail=&#x27;both&#x27;,\n",
       "                                                                                                     variables=[&#x27;NEAREST_STN_DIST&#x27;,\n",
       "                                                                                                                &#x27;CBD_DIST&#x27;,\n",
       "                                                                                                                &#x27;FLOOR_AREA&#x27;,\n",
       "                                                                                                                &#x27;LAND_AREA&#x27;])),\n",
       "                                                                                         (&#x27;scaler&#x27;,\n",
       "                                                                                          MinMaxScaler())]),\n",
       "                                                                         [&#x27;NEAREST_STN_DIST&#x27;,\n",
       "                                                                          &#x27;CBD_DIST&#x27;,\n",
       "                                                                          &#x27;FLOOR_AREA&#x27;,\n",
       "                                                                          &#x27;LAND_AREA&#x27;]),\n",
       "                                                                        (&#x27;Categorical&#x27;,\n",
       "                                                                         &#x27;passthrough&#x27;,\n",
       "                                                                         [&#x27;AREA&#x27;])])),\n",
       "                                       (&#x27;regressor&#x27;, RandomForestRegressor())]),\n",
       "             param_grid={&#x27;regressor__max_depth&#x27;: [None, 1, 2, 3],\n",
       "                         &#x27;regressor__min_samples_split&#x27;: [2, 3],\n",
       "                         &#x27;regressor__n_estimators&#x27;: [100, 150, 200, 250, 300]},\n",
       "             verbose=1)</pre><b>In a Jupyter environment, please rerun this cell to show the HTML representation or trust the notebook. <br />On GitHub, the HTML representation is unable to render, please try loading this page with nbviewer.org.</b></div><div class=\"sk-container\" hidden><div class=\"sk-item sk-dashed-wrapped\"><div class=\"sk-label-container\"><div class=\"sk-label sk-toggleable\"><input class=\"sk-toggleable__control sk-hidden--visually\" id=\"sk-estimator-id-23\" type=\"checkbox\" ><label for=\"sk-estimator-id-23\" class=\"sk-toggleable__label sk-toggleable__label-arrow\">GridSearchCV</label><div class=\"sk-toggleable__content\"><pre>GridSearchCV(cv=KFold(n_splits=5, random_state=42, shuffle=True),\n",
       "             estimator=Pipeline(steps=[(&#x27;transormer&#x27;,\n",
       "                                        ColumnTransformer(transformers=[(&#x27;Numerical&#x27;,\n",
       "                                                                         Pipeline(steps=[(&#x27;winsorizer &#x27;\n",
       "                                                                                          &#x27;iqr&#x27;,\n",
       "                                                                                          Winsorizer(capping_method=&#x27;iqr&#x27;,\n",
       "                                                                                                     tail=&#x27;both&#x27;,\n",
       "                                                                                                     variables=[&#x27;NEAREST_STN_DIST&#x27;,\n",
       "                                                                                                                &#x27;CBD_DIST&#x27;,\n",
       "                                                                                                                &#x27;FLOOR_AREA&#x27;,\n",
       "                                                                                                                &#x27;LAND_AREA&#x27;])),\n",
       "                                                                                         (&#x27;scaler&#x27;,\n",
       "                                                                                          MinMaxScaler())]),\n",
       "                                                                         [&#x27;NEAREST_STN_DIST&#x27;,\n",
       "                                                                          &#x27;CBD_DIST&#x27;,\n",
       "                                                                          &#x27;FLOOR_AREA&#x27;,\n",
       "                                                                          &#x27;LAND_AREA&#x27;]),\n",
       "                                                                        (&#x27;Categorical&#x27;,\n",
       "                                                                         &#x27;passthrough&#x27;,\n",
       "                                                                         [&#x27;AREA&#x27;])])),\n",
       "                                       (&#x27;regressor&#x27;, RandomForestRegressor())]),\n",
       "             param_grid={&#x27;regressor__max_depth&#x27;: [None, 1, 2, 3],\n",
       "                         &#x27;regressor__min_samples_split&#x27;: [2, 3],\n",
       "                         &#x27;regressor__n_estimators&#x27;: [100, 150, 200, 250, 300]},\n",
       "             verbose=1)</pre></div></div></div><div class=\"sk-parallel\"><div class=\"sk-parallel-item\"><div class=\"sk-item\"><div class=\"sk-label-container\"><div class=\"sk-label sk-toggleable\"><input class=\"sk-toggleable__control sk-hidden--visually\" id=\"sk-estimator-id-24\" type=\"checkbox\" ><label for=\"sk-estimator-id-24\" class=\"sk-toggleable__label sk-toggleable__label-arrow\">estimator: Pipeline</label><div class=\"sk-toggleable__content\"><pre>Pipeline(steps=[(&#x27;transormer&#x27;,\n",
       "                 ColumnTransformer(transformers=[(&#x27;Numerical&#x27;,\n",
       "                                                  Pipeline(steps=[(&#x27;winsorizer &#x27;\n",
       "                                                                   &#x27;iqr&#x27;,\n",
       "                                                                   Winsorizer(capping_method=&#x27;iqr&#x27;,\n",
       "                                                                              tail=&#x27;both&#x27;,\n",
       "                                                                              variables=[&#x27;NEAREST_STN_DIST&#x27;,\n",
       "                                                                                         &#x27;CBD_DIST&#x27;,\n",
       "                                                                                         &#x27;FLOOR_AREA&#x27;,\n",
       "                                                                                         &#x27;LAND_AREA&#x27;])),\n",
       "                                                                  (&#x27;scaler&#x27;,\n",
       "                                                                   MinMaxScaler())]),\n",
       "                                                  [&#x27;NEAREST_STN_DIST&#x27;,\n",
       "                                                   &#x27;CBD_DIST&#x27;, &#x27;FLOOR_AREA&#x27;,\n",
       "                                                   &#x27;LAND_AREA&#x27;]),\n",
       "                                                 (&#x27;Categorical&#x27;, &#x27;passthrough&#x27;,\n",
       "                                                  [&#x27;AREA&#x27;])])),\n",
       "                (&#x27;regressor&#x27;, RandomForestRegressor())])</pre></div></div></div><div class=\"sk-serial\"><div class=\"sk-item\"><div class=\"sk-serial\"><div class=\"sk-item sk-dashed-wrapped\"><div class=\"sk-label-container\"><div class=\"sk-label sk-toggleable\"><input class=\"sk-toggleable__control sk-hidden--visually\" id=\"sk-estimator-id-25\" type=\"checkbox\" ><label for=\"sk-estimator-id-25\" class=\"sk-toggleable__label sk-toggleable__label-arrow\">transormer: ColumnTransformer</label><div class=\"sk-toggleable__content\"><pre>ColumnTransformer(transformers=[(&#x27;Numerical&#x27;,\n",
       "                                 Pipeline(steps=[(&#x27;winsorizer iqr&#x27;,\n",
       "                                                  Winsorizer(capping_method=&#x27;iqr&#x27;,\n",
       "                                                             tail=&#x27;both&#x27;,\n",
       "                                                             variables=[&#x27;NEAREST_STN_DIST&#x27;,\n",
       "                                                                        &#x27;CBD_DIST&#x27;,\n",
       "                                                                        &#x27;FLOOR_AREA&#x27;,\n",
       "                                                                        &#x27;LAND_AREA&#x27;])),\n",
       "                                                 (&#x27;scaler&#x27;, MinMaxScaler())]),\n",
       "                                 [&#x27;NEAREST_STN_DIST&#x27;, &#x27;CBD_DIST&#x27;, &#x27;FLOOR_AREA&#x27;,\n",
       "                                  &#x27;LAND_AREA&#x27;]),\n",
       "                                (&#x27;Categorical&#x27;, &#x27;passthrough&#x27;, [&#x27;AREA&#x27;])])</pre></div></div></div><div class=\"sk-parallel\"><div class=\"sk-parallel-item\"><div class=\"sk-item\"><div class=\"sk-label-container\"><div class=\"sk-label sk-toggleable\"><input class=\"sk-toggleable__control sk-hidden--visually\" id=\"sk-estimator-id-26\" type=\"checkbox\" ><label for=\"sk-estimator-id-26\" class=\"sk-toggleable__label sk-toggleable__label-arrow\">Numerical</label><div class=\"sk-toggleable__content\"><pre>[&#x27;NEAREST_STN_DIST&#x27;, &#x27;CBD_DIST&#x27;, &#x27;FLOOR_AREA&#x27;, &#x27;LAND_AREA&#x27;]</pre></div></div></div><div class=\"sk-serial\"><div class=\"sk-item\"><div class=\"sk-serial\"><div class=\"sk-item\"><div class=\"sk-estimator sk-toggleable\"><input class=\"sk-toggleable__control sk-hidden--visually\" id=\"sk-estimator-id-27\" type=\"checkbox\" ><label for=\"sk-estimator-id-27\" class=\"sk-toggleable__label sk-toggleable__label-arrow\">Winsorizer</label><div class=\"sk-toggleable__content\"><pre>Winsorizer(capping_method=&#x27;iqr&#x27;, tail=&#x27;both&#x27;,\n",
       "           variables=[&#x27;NEAREST_STN_DIST&#x27;, &#x27;CBD_DIST&#x27;, &#x27;FLOOR_AREA&#x27;,\n",
       "                      &#x27;LAND_AREA&#x27;])</pre></div></div></div><div class=\"sk-item\"><div class=\"sk-estimator sk-toggleable\"><input class=\"sk-toggleable__control sk-hidden--visually\" id=\"sk-estimator-id-28\" type=\"checkbox\" ><label for=\"sk-estimator-id-28\" class=\"sk-toggleable__label sk-toggleable__label-arrow\">MinMaxScaler</label><div class=\"sk-toggleable__content\"><pre>MinMaxScaler()</pre></div></div></div></div></div></div></div></div><div class=\"sk-parallel-item\"><div class=\"sk-item\"><div class=\"sk-label-container\"><div class=\"sk-label sk-toggleable\"><input class=\"sk-toggleable__control sk-hidden--visually\" id=\"sk-estimator-id-29\" type=\"checkbox\" ><label for=\"sk-estimator-id-29\" class=\"sk-toggleable__label sk-toggleable__label-arrow\">Categorical</label><div class=\"sk-toggleable__content\"><pre>[&#x27;AREA&#x27;]</pre></div></div></div><div class=\"sk-serial\"><div class=\"sk-item\"><div class=\"sk-estimator sk-toggleable\"><input class=\"sk-toggleable__control sk-hidden--visually\" id=\"sk-estimator-id-30\" type=\"checkbox\" ><label for=\"sk-estimator-id-30\" class=\"sk-toggleable__label sk-toggleable__label-arrow\">passthrough</label><div class=\"sk-toggleable__content\"><pre>passthrough</pre></div></div></div></div></div></div></div></div><div class=\"sk-item\"><div class=\"sk-estimator sk-toggleable\"><input class=\"sk-toggleable__control sk-hidden--visually\" id=\"sk-estimator-id-31\" type=\"checkbox\" ><label for=\"sk-estimator-id-31\" class=\"sk-toggleable__label sk-toggleable__label-arrow\">RandomForestRegressor</label><div class=\"sk-toggleable__content\"><pre>RandomForestRegressor()</pre></div></div></div></div></div></div></div></div></div></div></div></div>"
      ],
      "text/plain": [
       "GridSearchCV(cv=KFold(n_splits=5, random_state=42, shuffle=True),\n",
       "             estimator=Pipeline(steps=[('transormer',\n",
       "                                        ColumnTransformer(transformers=[('Numerical',\n",
       "                                                                         Pipeline(steps=[('winsorizer '\n",
       "                                                                                          'iqr',\n",
       "                                                                                          Winsorizer(capping_method='iqr',\n",
       "                                                                                                     tail='both',\n",
       "                                                                                                     variables=['NEAREST_STN_DIST',\n",
       "                                                                                                                'CBD_DIST',\n",
       "                                                                                                                'FLOOR_AREA',\n",
       "                                                                                                                'LAND_AREA'])),\n",
       "                                                                                         ('scaler',\n",
       "                                                                                          MinMaxScaler())]),\n",
       "                                                                         ['NEAREST_STN_DIST',\n",
       "                                                                          'CBD_DIST',\n",
       "                                                                          'FLOOR_AREA',\n",
       "                                                                          'LAND_AREA']),\n",
       "                                                                        ('Categorical',\n",
       "                                                                         'passthrough',\n",
       "                                                                         ['AREA'])])),\n",
       "                                       ('regressor', RandomForestRegressor())]),\n",
       "             param_grid={'regressor__max_depth': [None, 1, 2, 3],\n",
       "                         'regressor__min_samples_split': [2, 3],\n",
       "                         'regressor__n_estimators': [100, 150, 200, 250, 300]},\n",
       "             verbose=1)"
      ]
     },
     "execution_count": 67,
     "metadata": {},
     "output_type": "execute_result"
    }
   ],
   "source": [
    "model_rfr.fit(X_train,y_train)"
   ]
  },
  {
   "cell_type": "code",
   "execution_count": 68,
   "metadata": {},
   "outputs": [
    {
     "name": "stdout",
     "output_type": "stream",
     "text": [
      "Nilai mean dari hasil pencarian hyperparameter adalah: 0.7406\n",
      "Nilai standar deviasi dari hasil pencarian hyperparameter adalah: 0.0110\n"
     ]
    }
   ],
   "source": [
    "# Melihat mean dan standard deviasi dari hyperparamter tuning random search\n",
    "mean_score = model_rfr.best_score_\n",
    "std_score = model_rfr.cv_results_['std_test_score'][model_rfr.best_index_]\n",
    "\n",
    "print(f\"Nilai mean dari hasil pencarian hyperparameter adalah: {mean_score:.4f}\")\n",
    "print(f\"Nilai standar deviasi dari hasil pencarian hyperparameter adalah: {std_score:.4f}\")"
   ]
  },
  {
   "cell_type": "markdown",
   "metadata": {},
   "source": [
    "**INSIGHT :**\n",
    "-   Jika melihat hasil mean dan std dari test score hypertunning, dapat dikatakan bahwa mean > standar deviasi. Hal ini berarti menunjukkan  bahwa nilai-nilai dalam model memiliki distribusi yang cukup tersebar dan bervariasi. "
   ]
  },
  {
   "cell_type": "code",
   "execution_count": 69,
   "metadata": {},
   "outputs": [
    {
     "name": "stdout",
     "output_type": "stream",
     "text": [
      "Parameter Terbaik: {'regressor__max_depth': None, 'regressor__min_samples_split': 3, 'regressor__n_estimators': 300}\n"
     ]
    }
   ],
   "source": [
    "print(\"Parameter Terbaik:\", model_rfr.best_params_)"
   ]
  },
  {
   "cell_type": "markdown",
   "metadata": {},
   "source": [
    "**INSIGHT:**\n",
    "- Nilai n_estimators terbaik adalah 300\n",
    "- min_samples_split terbaik adalah 3\n",
    "- max_depth terbaik adalah None"
   ]
  },
  {
   "cell_type": "markdown",
   "metadata": {},
   "source": [
    "## Train Data dengan Model Terbaik"
   ]
  },
  {
   "cell_type": "code",
   "execution_count": 70,
   "metadata": {},
   "outputs": [
    {
     "name": "stdout",
     "output_type": "stream",
     "text": [
      "MAE - Train set: 42544.50668126005\n",
      "MAE - Test set: 108451.28403980855\n",
      "------------------------------------------------------------------------------------------------------------------------------------------------------\n",
      "R-squared - Train set: 0.95899407692656\n",
      "R-squared - Test set: 0.7595074762758598\n",
      "------------------------------------------------------------------------------------------------------------------------------------------------------\n",
      "RMSE - Train set: 71722.17679225959\n",
      "RMSE - Test set: 177665.6470474523\n",
      "------------------------------------------------------------------------------------------------------------------------------------------------------\n",
      "MSE - Train Set 5144070643.82014\n",
      "MSE - Test Set 31565082140.7899\n"
     ]
    }
   ],
   "source": [
    "# Membuat variabel baru model_rfr_best untuk menyimpan hasil parameter terbaik\n",
    "model_rfr_best = model_rfr.best_estimator_\n",
    "\n",
    "# Menggunakan model Random Forest Reggresion terbaik untuk membuat prediksi\n",
    "y_train_pred = model_rfr_best.predict(X_train)\n",
    "y_test_pred = model_rfr_best.predict(X_test)\n",
    "\n",
    "# Menghitung MAE (Mean Absolute Error)\n",
    "mae_train = mean_absolute_error(y_train, y_train_pred)\n",
    "mae_test = mean_absolute_error(y_test, y_test_pred)\n",
    "\n",
    "# Menghitung R-squared (R2)\n",
    "r2_train = r2_score(y_train, y_train_pred)\n",
    "r2_test = r2_score(y_test, y_test_pred)\n",
    "\n",
    "# Menghitung RMSE (Root Mean Squared Error)\n",
    "rmse_train = np.sqrt(mean_squared_error(y_train, y_train_pred))\n",
    "rmse_test = np.sqrt(mean_squared_error(y_test, y_test_pred))\n",
    "\n",
    "# Menampilkan hasil\n",
    "print('MAE - Train set:', mae_train)\n",
    "print('MAE - Test set:', mae_test)\n",
    "print('---'*50)\n",
    "print('R-squared - Train set:', r2_train)\n",
    "print('R-squared - Test set:', r2_test)\n",
    "print('---'*50)\n",
    "print('RMSE - Train set:', rmse_train)\n",
    "print('RMSE - Test set:', rmse_test)\n",
    "print('---'*50)\n",
    "print(\"MSE - Train Set\",mean_squared_error(y_train,y_train_pred))\n",
    "print(\"MSE - Test Set\",mean_squared_error(y_test,y_test_pred))"
   ]
  },
  {
   "cell_type": "markdown",
   "metadata": {},
   "source": [
    "**INSIGHT :**\n",
    "\n",
    "-   MAE (Mean Absolute Error):\n",
    "\n",
    "    -   Train Set: 42544.51\n",
    "\n",
    "    -   Test Set: 108451.28\n",
    "\n",
    "    -   MAE mengukur rata-rata nilai absolut dari selisih antara prediksi dan nilai aktual. Semakin rendah MAE, semakin baik model Anda dalam melakukan prediksi. Dalam hal ini, hasil hyperparameter tuning menghasilkan MAE yang lebih rendah pada data train dan data test, yang menunjukkan peningkatan kualitas prediksi model.\n",
    "\n",
    "-   R-squared:\n",
    "\n",
    "    -   Train Set: 0.95899\n",
    "\n",
    "    -   Test Set: 0.75951\n",
    "\n",
    "    -   R-squared mengukur sejauh mana variasi dalam variabel target yang dapat dijelaskan oleh model. Nilai R-squared berkisar antara 0 dan 1, dengan nilai lebih tinggi menunjukkan model yang lebih baik dalam menjelaskan variasi dalam data. Dalam hal ini, nilai R-squared pada data train meningkat setelah hyperparameter tuning, tetapi pada data test, hasilnya sedikit menurun. Ini mungkin menunjukkan model overfitting, di mana model terlalu kompleks untuk data test.\n",
    "\n",
    "-   RMSE (Root Mean Square Error):\n",
    "\n",
    "    -   Train Set: 71722.18\n",
    "\n",
    "    -   Test Set: 177665.65\n",
    "\n",
    "    -   RMSE adalah akar dari MSE dan mengukur seberapa baik model mendekati nilai aktual. Semakin rendah RMSE, semakin baik model Anda dalam melakukan prediksi. Dalam hal ini, hasil hyperparameter tuning menghasilkan RMSE yang lebih rendah pada data train, tetapi lebih tinggi pada data test , menunjukkan potensi overfitting.\n",
    "\n",
    "-   MSE (Mean Squared Error):\n",
    "\n",
    "    -   Train Set: 5144070643.82\n",
    "\n",
    "    -   Test Set: 31565082140.79\n",
    "\n",
    "    -   MSE mengukur rata-rata dari kuadrat selisih antara prediksi dan nilai aktual. Semakin rendah MSE, semakin baik model Anda dalam melakukan prediksi. Dalam hal ini, hasil hyperparameter tuning menghasilkan MSE yang lebih rendah pada data pelatihan, tetapi lebih tinggi pada data pengujian, menunjukkan potensi overfitting.\n",
    "\n",
    "Alasan mengapa nilai metriks setelah dilakukan hyperparameter tuning berbeda dengan base model adalah karena proses tuning membantu model untuk menyesuaikan model dengan data menggunakan cara yang lebih baik. Namun, jika terlalu banyak parameter diatur dan model menjadi terlalu kompleks, itu dapat mengakibatkan overfitting pada data pengujian, yang mengarah pada penurunan kinerja pada data yang belum pernah dilihat sebelumnya. disini saya menggunakan parameter 'regressor__max_depth': None, 'regressor__min_samples_split': 3, 'regressor__n_estimators': 300 tetapi hasil nya tidak terlalu berbeda jauh dengan basemodel walaupun terjadi peningkatan kinerja pada model yang dilakukan hyperparameter tuning\n",
    "\n",
    "\n",
    "\n",
    "\n",
    "\n"
   ]
  },
  {
   "cell_type": "markdown",
   "metadata": {},
   "source": [
    "## Membandingkan Hasil Random Forest Reggeresor Default dengan Hypertunning Random Forest Reggeresor"
   ]
  },
  {
   "cell_type": "code",
   "execution_count": 71,
   "metadata": {},
   "outputs": [
    {
     "data": {
      "text/html": [
       "<div>\n",
       "<style scoped>\n",
       "    .dataframe tbody tr th:only-of-type {\n",
       "        vertical-align: middle;\n",
       "    }\n",
       "\n",
       "    .dataframe tbody tr th {\n",
       "        vertical-align: top;\n",
       "    }\n",
       "\n",
       "    .dataframe thead th {\n",
       "        text-align: right;\n",
       "    }\n",
       "</style>\n",
       "<table border=\"1\" class=\"dataframe\">\n",
       "  <thead>\n",
       "    <tr style=\"text-align: right;\">\n",
       "      <th></th>\n",
       "      <th>Model Default RFR Regressor</th>\n",
       "      <th>Model RFR Regressor Hasil Hyper Parameter Tuning</th>\n",
       "    </tr>\n",
       "  </thead>\n",
       "  <tbody>\n",
       "    <tr>\n",
       "      <th>test - r2</th>\n",
       "      <td>7.548757e-01</td>\n",
       "      <td>7.595075e-01</td>\n",
       "    </tr>\n",
       "    <tr>\n",
       "      <th>test - MAE</th>\n",
       "      <td>1.094724e+05</td>\n",
       "      <td>1.084513e+05</td>\n",
       "    </tr>\n",
       "    <tr>\n",
       "      <th>test - MSE</th>\n",
       "      <td>3.217302e+10</td>\n",
       "      <td>3.156508e+10</td>\n",
       "    </tr>\n",
       "    <tr>\n",
       "      <th>test - RMSE</th>\n",
       "      <td>1.793684e+05</td>\n",
       "      <td>1.776656e+05</td>\n",
       "    </tr>\n",
       "    <tr>\n",
       "      <th>train - r2</th>\n",
       "      <td>9.639943e-01</td>\n",
       "      <td>9.589941e-01</td>\n",
       "    </tr>\n",
       "    <tr>\n",
       "      <th>train - MAE</th>\n",
       "      <td>4.027804e+04</td>\n",
       "      <td>4.254451e+04</td>\n",
       "    </tr>\n",
       "    <tr>\n",
       "      <th>train - MSE</th>\n",
       "      <td>4.516802e+09</td>\n",
       "      <td>5.144071e+09</td>\n",
       "    </tr>\n",
       "    <tr>\n",
       "      <th>train - RMSE</th>\n",
       "      <td>6.720716e+04</td>\n",
       "      <td>7.172218e+04</td>\n",
       "    </tr>\n",
       "  </tbody>\n",
       "</table>\n",
       "</div>"
      ],
      "text/plain": [
       "              Model Default RFR Regressor  \\\n",
       "test - r2                    7.548757e-01   \n",
       "test - MAE                   1.094724e+05   \n",
       "test - MSE                   3.217302e+10   \n",
       "test - RMSE                  1.793684e+05   \n",
       "train - r2                   9.639943e-01   \n",
       "train - MAE                  4.027804e+04   \n",
       "train - MSE                  4.516802e+09   \n",
       "train - RMSE                 6.720716e+04   \n",
       "\n",
       "              Model RFR Regressor Hasil Hyper Parameter Tuning  \n",
       "test - r2                                         7.595075e-01  \n",
       "test - MAE                                        1.084513e+05  \n",
       "test - MSE                                        3.156508e+10  \n",
       "test - RMSE                                       1.776656e+05  \n",
       "train - r2                                        9.589941e-01  \n",
       "train - MAE                                       4.254451e+04  \n",
       "train - MSE                                       5.144071e+09  \n",
       "train - RMSE                                      7.172218e+04  "
      ]
     },
     "execution_count": 71,
     "metadata": {},
     "output_type": "execute_result"
    }
   ],
   "source": [
    "all_reports = {}  # Dictionary untuk menyimpan laporan kinerja\n",
    "\n",
    "# Fungsi untuk membuat laporan kinerja\n",
    "def performance_report(all_reports, y_test, y_test_rfr, y_train, y_train_rfr, name):\n",
    "    score_reports = {\n",
    "        'test - r2': r2_score(y_test, y_test_rfr),\n",
    "        'test - MAE': mean_absolute_error(y_test, y_test_rfr),\n",
    "        'test - MSE': mean_squared_error(y_test, y_test_rfr),\n",
    "        'test - RMSE': np.sqrt(mean_squared_error(y_test, y_test_rfr)),\n",
    "        'train - r2': r2_score(y_train,y_train_rfr),\n",
    "        'train - MAE': mean_absolute_error(y_train,y_train_rfr),\n",
    "        'train - MSE': mean_squared_error(y_train,y_train_rfr),\n",
    "        'train - RMSE': np.sqrt(mean_squared_error(y_train,y_train_rfr))\n",
    "    }\n",
    "    all_reports[name] = score_reports\n",
    "    return all_reports\n",
    "\n",
    "# Memanggil fungsi \n",
    "reports_default = performance_report(all_reports,y_test, y_test_rfr, y_train, y_train_rfr, 'Model Default RFR Regressor')\n",
    "# Memanggil fungsi \n",
    "reports_default = performance_report(all_reports,y_test, y_test_pred,y_train,y_train_pred, 'Model RFR Regressor Hasil Hyper Parameter Tuning')\n",
    "\n",
    "# Menampilkan laporan kinerja dalam bentuk DataFrame\n",
    "pd.DataFrame(reports_default)"
   ]
  },
  {
   "cell_type": "markdown",
   "metadata": {},
   "source": [
    "**INSIGHT**\n",
    "\n",
    "-   Mean Absolute Error (MAE):\n",
    "\n",
    "    - Dapat dilihat nilai MAE data train pada model Default FRF Reggressor mengalami kenaikan yang tidak terlalu signifikan saat dilakukan Hyperparameter Tunning dari 4.02 Menjadi 4.24\n",
    "\n",
    "    - Dapat dilihat nilai MAE data test pada model Default FRF Reggressor mengalami penurunan yang tidak telalu signifikan saat dilakukan Hyperparameter Tunning dari 1.09 Menjadi 1.08\n",
    "\n",
    "-  Root Mean Squared Error (RMSE):\n",
    "\n",
    "    - Dapat dilihat nilai RMSE data train pada model Default FRF Reggressor mengalami kenaikan yang  signifikan saat dilakukan Hyperparameter Tunning dari 6.70 Menjadi 7.14\n",
    "\n",
    "    - Dapat dilihat nilai RMSE data test pada model Default FRF Reggressor mengalami penurunan yang tidak telalu signifikan saat dilakukan Hyperparameter Tunning dari 1.78 Menjadi 1.77\n",
    "\n",
    "-   Mean Squared Error (MSE):\n",
    "\n",
    "    - Dapat dilihat nilai MSE data train pada model Default FRF Reggressor mengalami kenaikan yang  signifikan saat dilakukan Hyperparameter Tunning dari 4.49 Menjadi 5.10\n",
    "\n",
    "    - Dapat dilihat nilai MSE data test pada model Default FRF Reggressor mengalami penurunan yang tidak telalu signifikan saat dilakukan Hyperparameter Tunning dari 3.19 Menjadi 3.16\n",
    "\n",
    "-   Coefficient of Determination (R-squared):\n",
    "\n",
    "    - Dapat dilihat nilai R-squared data train pada model Default FRF Reggressor mengalami penurunan yang  signifikan saat dilakukan Hyperparameter Tunning dari 9.64 Menjadi 9.59\n",
    "\n",
    "    - Dapat dilihat nilai R-squared data test pada model Default FRF Reggressor mengalami kenaikan yang tidak telalu signifikan saat dilakukan Hyperparameter Tunning dari 7.56 Menjadi 7.58\n",
    "\n",
    "-   Jika diperhatikan, nilai pada data train dengan default RFR Reggresor dibandingkan dengan hyperparameter tunning mengalami penurunan peforma pada data train. Berbanding terbalik dengan nilai data test default RFR Rerggresorf dengan Hypertunning RFR Rerggresor  dimana data test mengalami kenaikan pada r-squared, serta penurunan pada MAE, MSE, dan RMSE. Hal ini disebabkan oleh parameter-parameter yang digunakan pada saat melakukan GridSearchCv. Dimana mendapatkan parameter terbaik  dengan \n",
    "    \n",
    "    -   regressor__max_depth: None, \n",
    "\n",
    "    -   regressor__min_samples_split: 3, \n",
    "\n",
    "    -   regressor__n_estimators: 300\n",
    "\n",
    "- Selain itu, model ini juga bisa dikatakan model yang overfit dimana hasil pada data test memiliki perbandingan yang sangat jauh pada data train."
   ]
  },
  {
   "cell_type": "markdown",
   "metadata": {},
   "source": [
    "## SHAP Value"
   ]
  },
  {
   "cell_type": "code",
   "execution_count": 72,
   "metadata": {},
   "outputs": [],
   "source": [
    "import shap"
   ]
  },
  {
   "cell_type": "code",
   "execution_count": 73,
   "metadata": {},
   "outputs": [
    {
     "data": {
      "image/png": "[encoded data removed]",
      "text/plain": [
       "<Figure size 800x350 with 2 Axes>"
      ]
     },
     "metadata": {},
     "output_type": "display_data"
    }
   ],
   "source": [
    "\n",
    "# Inisialisasi objek Explainer untuk model terbaik\n",
    "explainer = shap.Explainer(model_rfr_best.named_steps['regressor'])\n",
    "\n",
    "# Menghitung SHAP values untuk set data uji\n",
    "shap_values = explainer(X_test)  # Ubah X_test sesuai dengan data uji Anda\n",
    "\n",
    "# Menampilkan plot summary SHAP values\n",
    "shap.summary_plot(shap_values, X_test, feature_names=X_test.columns, show=False)"
   ]
  },
  {
   "cell_type": "code",
   "execution_count": 74,
   "metadata": {},
   "outputs": [
    {
     "name": "stdout",
     "output_type": "stream",
     "text": [
      "Feature Importance:\n",
      "AREA: 0.0919\n",
      "NEAREST_STN_DIST: 0.2868\n",
      "CBD_DIST: 0.3876\n",
      "FLOOR_AREA: 0.0816\n",
      "LAND_AREA: 0.1521\n"
     ]
    }
   ],
   "source": [
    "feature_importance = model_rfr_best.named_steps['regressor'].feature_importances_\n",
    "\n",
    "# Nama-nama fitur\n",
    "feature_names = X_train.columns\n",
    "sorted_idx = np.argsort(feature_importance)[::-1]\n",
    "\n",
    "# Mengurutkan feature importance dan nama-nama fitur\n",
    "sorted_feature_importance = feature_importance[sorted_idx]\n",
    "sorted_feature_names = np.array(feature_names)[sorted_idx]\n",
    "\n",
    "# Menampilkan feature importance\n",
    "print(\"Feature Importance:\")\n",
    "for feature, importance in zip(X_train.columns, feature_importance):\n",
    "    print(f\"{feature}: {importance:.4f}\")"
   ]
  },
  {
   "cell_type": "code",
   "execution_count": 75,
   "metadata": {},
   "outputs": [
    {
     "data": {
      "image/png": "[encoded data removed]",
      "text/plain": [
       "<Figure size 1000x600 with 1 Axes>"
      ]
     },
     "metadata": {},
     "output_type": "display_data"
    }
   ],
   "source": [
    "plt.figure(figsize=(10, 6))\n",
    "plt.barh(sorted_feature_names, sorted_feature_importance, align='center')\n",
    "plt.xlabel('Feature Importance')\n",
    "plt.ylabel('Feature Names')\n",
    "plt.title('Random Forest Regression Feature Importance (Sorted)')\n",
    "plt.show()"
   ]
  },
  {
   "cell_type": "markdown",
   "metadata": {},
   "source": [
    "**INSIGHT:**\n",
    "-   Dapat dilihat pada hasil SHAP Value, bahwa model yang saya miliki belum bagus atau belum siap untuk dilakukan publish. Dikarenakan hasil dari variabel-variabel feature yang saya pilih terlihat pengaruhnya terhadap variabel target (price) di kondisi yang stagnan. Hal ini bisa dijelaskan jika variabel CBD_DIST mengalami perubahan, maka dampak terhadap price juga akan sama saja dengan hasil perubahannya yaitu price tetap berada pada 300.000 AUD.\n",
    "\n",
    "-   Sedangkan jika melihat dari feature importance. \n",
    "\n",
    "    -   Variabel CBD_DIST memiliki nilai feature yang paling tinggi dibandingkan dengan variabel lain yaitu sebesar 0.3864 hal ini menandakan bahwa CBD_DIST memiliki kontribusi yang besar terhadap model.\n",
    "\n",
    "    -   Variabel NEAREST_STN_DIST dengan nilai 0.2882\n",
    "\n",
    "    -   Variabel LAND_AREA dengan nilai 0.1522\n",
    "\n",
    "    -   Variabel AREA dengan nilai 0.0921\n",
    "\n",
    "    -   dan Variabel FLOOR_AREA dengan nilai 0.0811\n",
    "    "
   ]
  },
  {
   "cell_type": "markdown",
   "metadata": {},
   "source": [
    "# 9. Model Saving"
   ]
  },
  {
   "cell_type": "markdown",
   "metadata": {},
   "source": [
    "> Pada bagian ini, dilakukan proses penyimpanan model dan file-file lain yang terkait dengan hasil proses pembuatan model."
   ]
  },
  {
   "cell_type": "code",
   "execution_count": 76,
   "metadata": {},
   "outputs": [
    {
     "data": {
      "text/html": [
       "<style>#sk-container-id-5 {color: black;background-color: white;}#sk-container-id-5 pre{padding: 0;}#sk-container-id-5 div.sk-toggleable {background-color: white;}#sk-container-id-5 label.sk-toggleable__label {cursor: pointer;display: block;width: 100%;margin-bottom: 0;padding: 0.3em;box-sizing: border-box;text-align: center;}#sk-container-id-5 label.sk-toggleable__label-arrow:before {content: \"▸\";float: left;margin-right: 0.25em;color: #696969;}#sk-container-id-5 label.sk-toggleable__label-arrow:hover:before {color: black;}#sk-container-id-5 div.sk-estimator:hover label.sk-toggleable__label-arrow:before {color: black;}#sk-container-id-5 div.sk-toggleable__content {max-height: 0;max-width: 0;overflow: hidden;text-align: left;background-color: #f0f8ff;}#sk-container-id-5 div.sk-toggleable__content pre {margin: 0.2em;color: black;border-radius: 0.25em;background-color: #f0f8ff;}#sk-container-id-5 input.sk-toggleable__control:checked~div.sk-toggleable__content {max-height: 200px;max-width: 100%;overflow: auto;}#sk-container-id-5 input.sk-toggleable__control:checked~label.sk-toggleable__label-arrow:before {content: \"▾\";}#sk-container-id-5 div.sk-estimator input.sk-toggleable__control:checked~label.sk-toggleable__label {background-color: #d4ebff;}#sk-container-id-5 div.sk-label input.sk-toggleable__control:checked~label.sk-toggleable__label {background-color: #d4ebff;}#sk-container-id-5 input.sk-hidden--visually {border: 0;clip: rect(1px 1px 1px 1px);clip: rect(1px, 1px, 1px, 1px);height: 1px;margin: -1px;overflow: hidden;padding: 0;position: absolute;width: 1px;}#sk-container-id-5 div.sk-estimator {font-family: monospace;background-color: #f0f8ff;border: 1px dotted black;border-radius: 0.25em;box-sizing: border-box;margin-bottom: 0.5em;}#sk-container-id-5 div.sk-estimator:hover {background-color: #d4ebff;}#sk-container-id-5 div.sk-parallel-item::after {content: \"\";width: 100%;border-bottom: 1px solid gray;flex-grow: 1;}#sk-container-id-5 div.sk-label:hover label.sk-toggleable__label {background-color: #d4ebff;}#sk-container-id-5 div.sk-serial::before {content: \"\";position: absolute;border-left: 1px solid gray;box-sizing: border-box;top: 0;bottom: 0;left: 50%;z-index: 0;}#sk-container-id-5 div.sk-serial {display: flex;flex-direction: column;align-items: center;background-color: white;padding-right: 0.2em;padding-left: 0.2em;position: relative;}#sk-container-id-5 div.sk-item {position: relative;z-index: 1;}#sk-container-id-5 div.sk-parallel {display: flex;align-items: stretch;justify-content: center;background-color: white;position: relative;}#sk-container-id-5 div.sk-item::before, #sk-container-id-5 div.sk-parallel-item::before {content: \"\";position: absolute;border-left: 1px solid gray;box-sizing: border-box;top: 0;bottom: 0;left: 50%;z-index: -1;}#sk-container-id-5 div.sk-parallel-item {display: flex;flex-direction: column;z-index: 1;position: relative;background-color: white;}#sk-container-id-5 div.sk-parallel-item:first-child::after {align-self: flex-end;width: 50%;}#sk-container-id-5 div.sk-parallel-item:last-child::after {align-self: flex-start;width: 50%;}#sk-container-id-5 div.sk-parallel-item:only-child::after {width: 0;}#sk-container-id-5 div.sk-dashed-wrapped {border: 1px dashed gray;margin: 0 0.4em 0.5em 0.4em;box-sizing: border-box;padding-bottom: 0.4em;background-color: white;}#sk-container-id-5 div.sk-label label {font-family: monospace;font-weight: bold;display: inline-block;line-height: 1.2em;}#sk-container-id-5 div.sk-label-container {text-align: center;}#sk-container-id-5 div.sk-container {/* jupyter's `normalize.less` sets `[hidden] { display: none; }` but bootstrap.min.css set `[hidden] { display: none !important; }` so we also need the `!important` here to be able to override the default hidden behavior on the sphinx rendered scikit-learn.org. See: https://github.com/scikit-learn/scikit-learn/issues/21755 */display: inline-block !important;position: relative;}#sk-container-id-5 div.sk-text-repr-fallback {display: none;}</style><div id=\"sk-container-id-5\" class=\"sk-top-container\"><div class=\"sk-text-repr-fallback\"><pre>Pipeline(steps=[(&#x27;transormer&#x27;,\n",
       "                 ColumnTransformer(transformers=[(&#x27;Numerical&#x27;,\n",
       "                                                  Pipeline(steps=[(&#x27;winsorizer &#x27;\n",
       "                                                                   &#x27;iqr&#x27;,\n",
       "                                                                   Winsorizer(capping_method=&#x27;iqr&#x27;,\n",
       "                                                                              tail=&#x27;both&#x27;,\n",
       "                                                                              variables=[&#x27;NEAREST_STN_DIST&#x27;,\n",
       "                                                                                         &#x27;CBD_DIST&#x27;,\n",
       "                                                                                         &#x27;FLOOR_AREA&#x27;,\n",
       "                                                                                         &#x27;LAND_AREA&#x27;])),\n",
       "                                                                  (&#x27;scaler&#x27;,\n",
       "                                                                   MinMaxScaler())]),\n",
       "                                                  [&#x27;NEAREST_STN_DIST&#x27;,\n",
       "                                                   &#x27;CBD_DIST&#x27;, &#x27;FLOOR_AREA&#x27;,\n",
       "                                                   &#x27;LAND_AREA&#x27;]),\n",
       "                                                 (&#x27;Categorical&#x27;, &#x27;passthrough&#x27;,\n",
       "                                                  [&#x27;AREA&#x27;])])),\n",
       "                (&#x27;regressor&#x27;, RandomForestRegressor())])</pre><b>In a Jupyter environment, please rerun this cell to show the HTML representation or trust the notebook. <br />On GitHub, the HTML representation is unable to render, please try loading this page with nbviewer.org.</b></div><div class=\"sk-container\" hidden><div class=\"sk-item sk-dashed-wrapped\"><div class=\"sk-label-container\"><div class=\"sk-label sk-toggleable\"><input class=\"sk-toggleable__control sk-hidden--visually\" id=\"sk-estimator-id-32\" type=\"checkbox\" ><label for=\"sk-estimator-id-32\" class=\"sk-toggleable__label sk-toggleable__label-arrow\">Pipeline</label><div class=\"sk-toggleable__content\"><pre>Pipeline(steps=[(&#x27;transormer&#x27;,\n",
       "                 ColumnTransformer(transformers=[(&#x27;Numerical&#x27;,\n",
       "                                                  Pipeline(steps=[(&#x27;winsorizer &#x27;\n",
       "                                                                   &#x27;iqr&#x27;,\n",
       "                                                                   Winsorizer(capping_method=&#x27;iqr&#x27;,\n",
       "                                                                              tail=&#x27;both&#x27;,\n",
       "                                                                              variables=[&#x27;NEAREST_STN_DIST&#x27;,\n",
       "                                                                                         &#x27;CBD_DIST&#x27;,\n",
       "                                                                                         &#x27;FLOOR_AREA&#x27;,\n",
       "                                                                                         &#x27;LAND_AREA&#x27;])),\n",
       "                                                                  (&#x27;scaler&#x27;,\n",
       "                                                                   MinMaxScaler())]),\n",
       "                                                  [&#x27;NEAREST_STN_DIST&#x27;,\n",
       "                                                   &#x27;CBD_DIST&#x27;, &#x27;FLOOR_AREA&#x27;,\n",
       "                                                   &#x27;LAND_AREA&#x27;]),\n",
       "                                                 (&#x27;Categorical&#x27;, &#x27;passthrough&#x27;,\n",
       "                                                  [&#x27;AREA&#x27;])])),\n",
       "                (&#x27;regressor&#x27;, RandomForestRegressor())])</pre></div></div></div><div class=\"sk-serial\"><div class=\"sk-item sk-dashed-wrapped\"><div class=\"sk-label-container\"><div class=\"sk-label sk-toggleable\"><input class=\"sk-toggleable__control sk-hidden--visually\" id=\"sk-estimator-id-33\" type=\"checkbox\" ><label for=\"sk-estimator-id-33\" class=\"sk-toggleable__label sk-toggleable__label-arrow\">transormer: ColumnTransformer</label><div class=\"sk-toggleable__content\"><pre>ColumnTransformer(transformers=[(&#x27;Numerical&#x27;,\n",
       "                                 Pipeline(steps=[(&#x27;winsorizer iqr&#x27;,\n",
       "                                                  Winsorizer(capping_method=&#x27;iqr&#x27;,\n",
       "                                                             tail=&#x27;both&#x27;,\n",
       "                                                             variables=[&#x27;NEAREST_STN_DIST&#x27;,\n",
       "                                                                        &#x27;CBD_DIST&#x27;,\n",
       "                                                                        &#x27;FLOOR_AREA&#x27;,\n",
       "                                                                        &#x27;LAND_AREA&#x27;])),\n",
       "                                                 (&#x27;scaler&#x27;, MinMaxScaler())]),\n",
       "                                 [&#x27;NEAREST_STN_DIST&#x27;, &#x27;CBD_DIST&#x27;, &#x27;FLOOR_AREA&#x27;,\n",
       "                                  &#x27;LAND_AREA&#x27;]),\n",
       "                                (&#x27;Categorical&#x27;, &#x27;passthrough&#x27;, [&#x27;AREA&#x27;])])</pre></div></div></div><div class=\"sk-parallel\"><div class=\"sk-parallel-item\"><div class=\"sk-item\"><div class=\"sk-label-container\"><div class=\"sk-label sk-toggleable\"><input class=\"sk-toggleable__control sk-hidden--visually\" id=\"sk-estimator-id-34\" type=\"checkbox\" ><label for=\"sk-estimator-id-34\" class=\"sk-toggleable__label sk-toggleable__label-arrow\">Numerical</label><div class=\"sk-toggleable__content\"><pre>[&#x27;NEAREST_STN_DIST&#x27;, &#x27;CBD_DIST&#x27;, &#x27;FLOOR_AREA&#x27;, &#x27;LAND_AREA&#x27;]</pre></div></div></div><div class=\"sk-serial\"><div class=\"sk-item\"><div class=\"sk-serial\"><div class=\"sk-item\"><div class=\"sk-estimator sk-toggleable\"><input class=\"sk-toggleable__control sk-hidden--visually\" id=\"sk-estimator-id-35\" type=\"checkbox\" ><label for=\"sk-estimator-id-35\" class=\"sk-toggleable__label sk-toggleable__label-arrow\">Winsorizer</label><div class=\"sk-toggleable__content\"><pre>Winsorizer(capping_method=&#x27;iqr&#x27;, tail=&#x27;both&#x27;,\n",
       "           variables=[&#x27;NEAREST_STN_DIST&#x27;, &#x27;CBD_DIST&#x27;, &#x27;FLOOR_AREA&#x27;,\n",
       "                      &#x27;LAND_AREA&#x27;])</pre></div></div></div><div class=\"sk-item\"><div class=\"sk-estimator sk-toggleable\"><input class=\"sk-toggleable__control sk-hidden--visually\" id=\"sk-estimator-id-36\" type=\"checkbox\" ><label for=\"sk-estimator-id-36\" class=\"sk-toggleable__label sk-toggleable__label-arrow\">MinMaxScaler</label><div class=\"sk-toggleable__content\"><pre>MinMaxScaler()</pre></div></div></div></div></div></div></div></div><div class=\"sk-parallel-item\"><div class=\"sk-item\"><div class=\"sk-label-container\"><div class=\"sk-label sk-toggleable\"><input class=\"sk-toggleable__control sk-hidden--visually\" id=\"sk-estimator-id-37\" type=\"checkbox\" ><label for=\"sk-estimator-id-37\" class=\"sk-toggleable__label sk-toggleable__label-arrow\">Categorical</label><div class=\"sk-toggleable__content\"><pre>[&#x27;AREA&#x27;]</pre></div></div></div><div class=\"sk-serial\"><div class=\"sk-item\"><div class=\"sk-estimator sk-toggleable\"><input class=\"sk-toggleable__control sk-hidden--visually\" id=\"sk-estimator-id-38\" type=\"checkbox\" ><label for=\"sk-estimator-id-38\" class=\"sk-toggleable__label sk-toggleable__label-arrow\">passthrough</label><div class=\"sk-toggleable__content\"><pre>passthrough</pre></div></div></div></div></div></div></div></div><div class=\"sk-item\"><div class=\"sk-estimator sk-toggleable\"><input class=\"sk-toggleable__control sk-hidden--visually\" id=\"sk-estimator-id-39\" type=\"checkbox\" ><label for=\"sk-estimator-id-39\" class=\"sk-toggleable__label sk-toggleable__label-arrow\">RandomForestRegressor</label><div class=\"sk-toggleable__content\"><pre>RandomForestRegressor()</pre></div></div></div></div></div></div></div>"
      ],
      "text/plain": [
       "Pipeline(steps=[('transormer',\n",
       "                 ColumnTransformer(transformers=[('Numerical',\n",
       "                                                  Pipeline(steps=[('winsorizer '\n",
       "                                                                   'iqr',\n",
       "                                                                   Winsorizer(capping_method='iqr',\n",
       "                                                                              tail='both',\n",
       "                                                                              variables=['NEAREST_STN_DIST',\n",
       "                                                                                         'CBD_DIST',\n",
       "                                                                                         'FLOOR_AREA',\n",
       "                                                                                         'LAND_AREA'])),\n",
       "                                                                  ('scaler',\n",
       "                                                                   MinMaxScaler())]),\n",
       "                                                  ['NEAREST_STN_DIST',\n",
       "                                                   'CBD_DIST', 'FLOOR_AREA',\n",
       "                                                   'LAND_AREA']),\n",
       "                                                 ('Categorical', 'passthrough',\n",
       "                                                  ['AREA'])])),\n",
       "                ('regressor', RandomForestRegressor())])"
      ]
     },
     "execution_count": 76,
     "metadata": {},
     "output_type": "execute_result"
    }
   ],
   "source": [
    "pipe_rfr"
   ]
  },
  {
   "cell_type": "code",
   "execution_count": 77,
   "metadata": {},
   "outputs": [],
   "source": [
    "# Menyimpan model menggunakan pickle\n",
    "with open('final_pipeline1.pkl', 'wb') as file_1:\n",
    "    pickle.dump((pipe_rfr), file_1)\n"
   ]
  },
  {
   "cell_type": "markdown",
   "metadata": {},
   "source": [
    "# 10. Model Inference"
   ]
  },
  {
   "cell_type": "markdown",
   "metadata": {},
   "source": [
    "> Model yang sudah dilatih akan dicoba pada data yang bukan termasuk ke dalam train-set. Data ini harus dalam format yang asli, bukan data yang sudah di-scaled"
   ]
  },
  {
   "cell_type": "markdown",
   "metadata": {},
   "source": [
    "dilakukan pada `P1M2_Guardian_inf.ipynb`"
   ]
  },
  {
   "cell_type": "markdown",
   "metadata": {},
   "source": [
    "# 11. Kesimpulan"
   ]
  },
  {
   "cell_type": "markdown",
   "metadata": {},
   "source": [
    "> Pada bagian terakhir ini, **harus berisi** kesimpulan yang mencerminkan hasil yang didapat dengan *objective* yang sudah ditulis di bagian pengenalan."
   ]
  },
  {
   "cell_type": "markdown",
   "metadata": {},
   "source": [
    "-   **BUSSINES:**\n",
    "\n",
    "    - Setelah dicek keterhubungannya dengan Harga rumah di Perth Australia, ternyata ada beberapa faktor yang secara signifikan berpengaruh untuk terhadap harga rumah tersebut. Diantara lain adalah Area, Luas tanah, Luas lantai, Jarak Ke pusat Bisnis, Jarak ke stasiun terdekat.\n",
    "    \n",
    "    - Jarak rumah terhadap sekolah tidak mempengaruhi harga rumah tetapi jarak rumah ke stasiun terdekat mempengaruhi harga. Hal ini bisa terjadi dikarenakan untuk menempuh jarak rumah ke skolah sudah terdapat banyak transportasi-transportasi umum atau kendaraan pribadi yang dimiliki oleh tiap orang. Sehingga jarak rumah tidak mempengaruhi harga rumah melainkan bagaimana kondisi rumah tersebut yang mempengaruhi harga. Sehingga perusahaan pada property tidak perlu khawatir untuk membangun rumah di berbagai kawasan. Mereka harus tetap berfokus untuk memperindah dan memperluas kondisi dari rumah tersebut untuk meningkatkan value harganya. Tetapi perlu memperhatian jarak rumah terhadap stasiun terdekat.\n",
    "\n",
    "    - Rumah Yang berada pada sub-urban Daiketh, Peppermint Grove, City Beach, Nedlands, Cottesloe memiliki rata-rata harga rumah yang tinggi. Sehingga bisnis property rumah yang bisa menguntungkan perusahaan adalah dengan membangun property rumah di kawasan tersebut. Hal ini bisa didukung karena daerah Daiketh, Peppermint Grove, City Beach, Nedlands, Cottesloe jarak yang dekat dengan pusat perbelanjaan atau bisnis.\n",
    "\n",
    "    - Usia rumah yang sudah tua bisa saja memiliki harga lebih tinggi dari rumah baru bila keaslian rumah nya tetap terjaga, biasanya target konsumen nya adalah orang-orang yang menyukai hal hal yang sudah berumur.\n",
    "\n",
    "-   **ABOUT MODEL (Kelebihan dan Kekurangan Model)** \n",
    "\n",
    "    - Dari semua model, digunakan model Random Forest Regressor yang memiliki R-squared score tertinggi dari model lainnya. Selain itu nilai Mean Absolute Error (MAE),Mean Squared Error (MSE), dan Root Mean Squared Error (RMSE) memiliki nilai yang lebih kecil dari pada model lainnya.\n",
    "\n",
    "    - Model SVR memiliki nilai r2 yang negatif. Menunjukan tidak cocok untuk melakukan regressi terutama pada data ini.\n",
    "\n",
    "    - Permodelan yang dibuat disini sudah dapat memprediksi dengan akurat harga dengan berdasarkan faktor - faktor yang sudah disebutkan diatas. Dapat dikatakan akurat nilai r2 nya 75%. Walaupun dengan nilai nilai Mean Absolute Error (MAE),Mean Squared Error (MSE), dan Root Mean Squared Error (RMSE) yang bisa dikatakan tinggi untuk mengukur harga rumah.\n",
    "\n",
    "    - Tetapi jika dilihat dari SHAP Values, model ini bisa dikatakan tidak bagus dan belum siap untuk dilakukan deployment. Hal ini dikarenakan model pada variabel-variabel yang dijadikan feature tidak memiliki pengaruh yang besar terhadap harga rumah. Bahkan bisa dikatakan jika variabel-variabel feature nilainya berubah prediksi perubahan harga rumah hanya stagnan pada 1 harga saja.\n",
    "\n",
    "    - Hasil permodelan juga dapat dikatakan overfit , belum bisa digunakan untuk keperluan bussiness apalagi berskala besar.\n",
    "\n",
    "-   **Kinerja Buruk**: Model memiliki kinerja yang kurang memuaskan dalam menjelaskan pengaruh feature-feature selection terhadap harga rumah.\n",
    "\n",
    "-   **Harus Diperbaiki**: Perlu dilakukan evaluasi lebih lanjut terhadap model untuk mengidentifikasi faktor-faktor yang memengaruhi performa buruknya.\n",
    "\n",
    "-   **Penyesuaian Model**: Diperlukan penyesuaian pada model, seperti penambahan fitur yang lebih relevan (dikarenakan pada saat melakukan VIF banyak variabel yang dibuang karena memiliki multikolinearitas yang tinggi), tuning parameter, atau penggunaan model yang lebih kompleks.\n",
    "\n",
    "-   **Langkah-langkah yang Dapat Diambil**:\n",
    "\n",
    "    - Analisis Faktor-Faktor: Identifikasi faktor-faktor yang memiliki dampak signifikan terhadap prediksi harga dan pastikan model memperhitungkannya dengan benar.\n",
    "\n",
    "    - Pengembangan Fitur: Pertimbangkan untuk menambahkan fitur tambahan yang mungkin memberikan informasi lebih lanjut terkait harga rumah.\n",
    "\n",
    "    - Tuning Hyperparameter: Lakukan tuning pada hyperparameter model untuk meningkatkan r-squared prediksi dengan nilai Mean Absolute Error (MAE),Mean Squared Error (MSE), dan Root Mean Squared Error (RMSE) yang kecil.\n",
    "\n",
    "    - Penggunaan Model Lain: Pertimbangkan untuk menggunakan model regresi yang lebih kompleks atau menggabungkan beberapa model (ensemble) untuk meningkatkan kinerja"
   ]
  },
  {
   "cell_type": "markdown",
   "metadata": {},
   "source": [
    "# CONCEPTUAL PROBLEM"
   ]
  },
  {
   "cell_type": "markdown",
   "metadata": {},
   "source": [
    "## 1. Jelaskan latar belakang adanya bagging dan cara kerja bagging !"
   ]
  },
  {
   "cell_type": "markdown",
   "metadata": {},
   "source": [
    "- Latar belakang : merupakan teknik ensemble learning untuk meningkatkan kinerja model dengan menggabungkan prediksi dari beberapa model yang dibangun secara independen. Pendekatan ini digunakan untuk mengatasi overfitting, meningkatkan stabilitas model, dan mengurangi varians kesalahan prediksi.\n",
    "\n",
    "- Cara kerja : \n",
    "\n",
    "**Bootstrap Sampling**:\n",
    "\n",
    "Membangun beberapa set data pelatihan baru dengan melakukan bootstrap sampling. Bootstrap sampling melibatkan pengambilan sampel dengan penggantian dari data pelatihan asli. Sehingga setiap set data pelatihan baru dapat memiliki beberapa data yang sama dan beberapa data yang tidak termasuk.\n",
    "\n",
    "**Model Independen**:\n",
    "\n",
    "Untuk setiap set data pelatihan yang baru, model dibangun secara independen. Dalam konteks ini, model dapat berupa model yang sama (misalnya, pohon keputusan) atau jenis model yang berbeda.\n",
    "\n",
    "**Prediksi Individual**:\n",
    "\n",
    "Setiap model memberikan prediksi pada data pengujian yang belum pernah dilihat sebelumnya.\n",
    "\n",
    "**Aggregasi Prediksi**:\n",
    "\n",
    "Prediksi dari semua model diagregasi untuk menghasilkan prediksi akhir. Agregasi dapat dilakukan dengan cara seperti mengambil rata-rata (untuk regresi) atau melakukan voting (untuk klasifikasi)."
   ]
  },
  {
   "cell_type": "markdown",
   "metadata": {},
   "source": [
    "## 2. Jelaskan perbedaan cara kerja algoritma Random Forest dengan algoritma boosting yang Anda pilih !"
   ]
  },
  {
   "cell_type": "markdown",
   "metadata": {},
   "source": [
    "A. Random forest :\n",
    "Random Forest menggunakan teknik bagging dengan bootstrap sampling. Setiap pohon (model) dibangun pada subset acak dari data pelatihan dengan penggantian.\n",
    "Keuntungannya adalah  membantu mengurangi overfitting dan variabilitas model dengan memastikan bahwa setiap pohon melihat variasi yang berbeda dari data.\n",
    "\n",
    "B. AdaBoost Regression :\n",
    "Pada setiap iterasi, bobot diberikan pada data yang salah klasifikasi oleh model sebelumnya. Oleh karena itu, model berikutnya lebih fokus pada data yang sulit diklasifikasikan. Keuntungannya dapat memberikan perhatian lebih kepada data yang sulit, meningkatkan kinerja model pada kasus yang sulit.\n",
    "\n",
    "- Perbedaan Utama:\n",
    "\n",
    "**Cara Membangun Model**:\n",
    "\n",
    "Random Forest: Membangun model secara paralel dan independen pada subset data.\n",
    "\n",
    "AdaBoost: Membangun model secara berurutan, dengan memberikan lebih banyak perhatian pada data yang salah klasifikasi.\n",
    "\n",
    "**Bobot Data**:\n",
    "\n",
    "Random Forest: Tidak menggunakan bobot pada data, setiap pohon memiliki kontribusi yang sama.\n",
    "\n",
    "AdaBoost: Memberikan bobot pada data yang salah klasifikasi untuk memfokuskan perhatian model pada kasus sulit."
   ]
  },
  {
   "cell_type": "markdown",
   "metadata": {},
   "source": [
    "## 3. Jelaskan apa yang dimaksud dengan Cross Validation !"
   ]
  },
  {
   "cell_type": "markdown",
   "metadata": {},
   "source": [
    "Cross-validation adalah sebuah teknik yang digunakan dalam machine learning untuk mengevaluasi kinerja model secara objektif. Tujuannya adalah untuk memahami seberapa baik model akan berperforma pada data yang belum pernah dilihat sebelumnya. Dalam cross-validation, data dibagi menjadi beberapa subset (fold) dan model dilatih serta diuji beberapa kali menggunakan kombinasi berbeda dari subset tersebut.\n",
    "\n",
    "Keuntungan : Menghindari Overfitting, Evaluasi yang Stabil, Pemilihan Model yang Optimal."
   ]
  }
 ],
 "metadata": {
  "kernelspec": {
   "display_name": "base",
   "language": "python",
   "name": "python3"
  },
  "language_info": {
   "codemirror_mode": {
    "name": "ipython",
    "version": 3
   },
   "file_extension": ".py",
   "mimetype": "text/x-python",
   "name": "python",
   "nbconvert_exporter": "python",
   "pygments_lexer": "ipython3",
   "version": "3.11.4"
  }
 },
 "nbformat": 4,
 "nbformat_minor": 2
}
